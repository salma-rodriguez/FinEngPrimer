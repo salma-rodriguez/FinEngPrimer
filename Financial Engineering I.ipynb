{
 "cells": [
  {
   "cell_type": "code",
   "execution_count": 1,
   "metadata": {},
   "outputs": [
    {
     "data": {
      "text/plain": [
       "* (generic function with 362 methods)"
      ]
     },
     "execution_count": 1,
     "metadata": {},
     "output_type": "execute_result"
    }
   ],
   "source": [
    "⋅ = *"
   ]
  },
  {
   "cell_type": "markdown",
   "metadata": {},
   "source": [
    "# Lemma 1.2"
   ]
  },
  {
   "cell_type": "markdown",
   "metadata": {},
   "source": [
    "$$\n",
    "    \\int_{a}^{b} f(x)\\ dx = \\int_{g^{-1}(a)}^{g^{-1}(b)} f(g(u))g'(u)\\ du \\tag{p. 5}\n",
    "$$"
   ]
  },
  {
   "cell_type": "markdown",
   "metadata": {},
   "source": [
    "but this is not what the lemma on p. $7$ is saying. The lemma is saying that, given limits of integration a(t) and b(t)\n",
    "\n",
    "$$\n",
    "    \\frac{d}{dt} \\left( \\int_{a(t)}^{b(t)} f(x)\\ dx \\right) = f(b(t))b'(t) - f(a(t))a'(t)\n",
    "$$\n",
    "\n",
    "which can be proven using the Fundamental Theorem of Calculus."
   ]
  },
  {
   "cell_type": "markdown",
   "metadata": {},
   "source": [
    "# Payoff of Call and Put Options"
   ]
  },
  {
   "cell_type": "markdown",
   "metadata": {},
   "source": [
    "$$\n",
    "    C(T) = \\max(S(T) - K, 0) =\n",
    "    \\begin{cases}\n",
    "        S(T) - K & S(T) \\gt K \\\\\n",
    "        0        & S(T) \\leq K\n",
    "    \\end{cases}\n",
    "    \\\\~\\\\\n",
    "    P(T) = \\max(K - S(T), 0) =\n",
    "    \\begin{cases}\n",
    "        0        & S(T) \\geq K \\\\\n",
    "        K - S(T) & S(T) \\lt K\n",
    "    \\end{cases}\n",
    "$$"
   ]
  },
  {
   "cell_type": "markdown",
   "metadata": {},
   "source": [
    "# Put-Call Parity"
   ]
  },
  {
   "cell_type": "markdown",
   "metadata": {},
   "source": [
    "The Put-Call Parity usually goes as follows:\n",
    "$$\n",
    "    P(t) + S(t) - C(t) = K\\ e^{-r(T-t)} \\tag{1}\n",
    "$$\n",
    "\n",
    "The **Law of One Price** can be used to prove this important theorem (cf. page 19). It is important to note that any violation of the Put-Call parity would present an **arbitrage opportunity**. It is worth reviewing the **Fundamental Theorem of Asset Pricing**."
   ]
  },
  {
   "cell_type": "markdown",
   "metadata": {},
   "source": [
    "# Forward and Futures Contracts"
   ]
  },
  {
   "cell_type": "markdown",
   "metadata": {},
   "source": [
    "## Lemma 1.7 from Book"
   ]
  },
  {
   "cell_type": "markdown",
   "metadata": {},
   "source": [
    "If the value $V(T)$ of a portfolio at time $T$ in the future is independent of the state of the market at time $T$, then"
   ]
  },
  {
   "cell_type": "markdown",
   "metadata": {},
   "source": [
    "$$\n",
    "    V(t) = V(T)\\ e^{-r(T - t)} \\tag{2}\n",
    "$$"
   ]
  },
  {
   "cell_type": "markdown",
   "metadata": {},
   "source": [
    "## Non-Dividend Paying Asset"
   ]
  },
  {
   "cell_type": "markdown",
   "metadata": {},
   "source": [
    "$$\n",
    "    F = S(0)\\ e^{rT} \\tag{3}\n",
    "$$"
   ]
  },
  {
   "cell_type": "markdown",
   "metadata": {},
   "source": [
    "## Dividend Paying Asset"
   ]
  },
  {
   "cell_type": "markdown",
   "metadata": {},
   "source": [
    "$$\n",
    "    F = S(0)\\ e^{(r - q)T} \\tag{4}\n",
    "$$"
   ]
  },
  {
   "cell_type": "markdown",
   "metadata": {},
   "source": [
    "The future contract has a similar structure as above, the only difference being that the underlying asset wold require delivery for the futures price. Forward contracts can be **settled in cash** without delivery of any physical asset at maturity."
   ]
  },
  {
   "cell_type": "markdown",
   "metadata": {},
   "source": [
    "\n",
    "## Other Take Home Results"
   ]
  },
  {
   "cell_type": "markdown",
   "metadata": {},
   "source": [
    "$$\n",
    "    F(t) = S(t) - K\\ e^{-r(T - t)} \\\\\n",
    "    \\ \\ \\ \\ \\ \\ \\ \\ \\ \\ \\ \\ \\ F(t) = S(t)\\ e^{-q(T-t)} - K\\ e^{-r(T - t)}\n",
    "$$"
   ]
  },
  {
   "cell_type": "markdown",
   "metadata": {},
   "source": [
    "# Forward Contracts and the Put-Call Parity"
   ]
  },
  {
   "cell_type": "markdown",
   "metadata": {},
   "source": [
    "$\n",
    "    C(T) - P(T) = \\max((S(T) - K), 0) - \\max((K - S(T)), 0) \\\\~\\\\\n",
    "    \\ \\ \\ \\ \\ \\ \\ \\ \\ \\ \\ \\ \\ \\ \\ \\ \\ \\ \\ \\ \\ =\n",
    "    \\begin{cases}\n",
    "        0 - (K - S(T)) = S(T) - K & S(T) \\leq K \\\\\n",
    "        (S(T) - K) - 0 = S(T) - K & S(T) \\geq K\n",
    "    \\end{cases} \\\\~\\\\\n",
    "    \\ \\ \\ \\ \\ \\ \\ \\ \\ \\ \\ \\ \\ \\ \\ \\ \\ \\ \\ \\ \\ = S(T) - K \\\\\n",
    "    \\ \\ \\ \\ \\ \\ \\ \\ \\ \\ \\ \\ \\ \\ \\ \\ \\ \\ \\ \\ \\ = F(T)\n",
    "$"
   ]
  },
  {
   "cell_type": "markdown",
   "metadata": {},
   "source": [
    "# Numerical Integration Methods (Riemann)"
   ]
  },
  {
   "cell_type": "markdown",
   "metadata": {},
   "source": [
    "We start by defining $n$ to be the number of **partition intervals**. Then, for $I = \\int_{a}^{b}f(x)\\ dx$, we have $h = \\frac{b - a}{n}\\ \\forall\\ a_i = a + ih \\in [a, b]$."
   ]
  },
  {
   "cell_type": "markdown",
   "metadata": {},
   "source": [
    "## Midpoint Rule"
   ]
  },
  {
   "cell_type": "markdown",
   "metadata": {},
   "source": [
    "$$\n",
    "    I^M_n = \\sum^n_{i = 1}\\int_{a_{i - 1}}^{a_i} c_i(x)\\ dx = h\\sum^n_{i = 1} f(x_i),\\ \\mathrm{where}\\ x_i = \\frac{a_{i - 1} + a_{i}}{2} \\tag{5}\n",
    "$$"
   ]
  },
  {
   "cell_type": "code",
   "execution_count": 18,
   "metadata": {},
   "outputs": [
    {
     "data": {
      "text/plain": [
       "Midpoint (generic function with 1 method)"
      ]
     },
     "execution_count": 18,
     "metadata": {},
     "output_type": "execute_result"
    }
   ],
   "source": [
    "function Midpoint(a, b, n, f_int)::Float64\n",
    "    h = (b - a) / n\n",
    "    I_midpoint = 0\n",
    "    for i in 1:n\n",
    "        I_midpoint += f_int(a + (i - 0.5) ⋅ h)\n",
    "    end\n",
    "    return h ⋅ I_midpoint\n",
    "end"
   ]
  },
  {
   "cell_type": "markdown",
   "metadata": {},
   "source": [
    "## Trapezoidal Rule"
   ]
  },
  {
   "cell_type": "markdown",
   "metadata": {},
   "source": [
    "$$\n",
    "    I^T_n = \\sum^n_{i = 1}\\int_{a_{i - 1}}^{a_i} l_i(x) dx  = \\frac{h}{2} \\left(f(a_0) + 2\\sum_{i = 1}^{n - 1} f(a_i) + f(a_n) \\right) \\tag{6}\n",
    "$$"
   ]
  },
  {
   "cell_type": "code",
   "execution_count": 19,
   "metadata": {},
   "outputs": [
    {
     "data": {
      "text/plain": [
       "Trapezoidal (generic function with 1 method)"
      ]
     },
     "execution_count": 19,
     "metadata": {},
     "output_type": "execute_result"
    }
   ],
   "source": [
    "function Trapezoidal(a, b, n, f_int)::Float64\n",
    "    h = (b - a) / n\n",
    "    I_trap = f_int(a) / 2 + f_int(b) / 2\n",
    "    for i in 1:n\n",
    "        I_trap += f_int(a + i ⋅ h)\n",
    "    end\n",
    "    return h * I_trap\n",
    "end"
   ]
  },
  {
   "cell_type": "markdown",
   "metadata": {},
   "source": [
    "## Simpson's Rule"
   ]
  },
  {
   "cell_type": "markdown",
   "metadata": {},
   "source": [
    "$$\n",
    "    I^S_n = \\sum_{i = 1}^n \\int_{a_{i - 1}}^{a_i} q_i(x) dx = \\frac{h}{6}\\left(f(a_0) + 2\\sum_{i = 1}^{n - 1} f(a_i) + f(a_n) + 4\\sum_{i = 1}^nf(x_i)\\right) \\tag{7}\n",
    "$$"
   ]
  },
  {
   "cell_type": "code",
   "execution_count": 20,
   "metadata": {},
   "outputs": [
    {
     "data": {
      "text/plain": [
       "Simpson (generic function with 1 method)"
      ]
     },
     "execution_count": 20,
     "metadata": {},
     "output_type": "execute_result"
    }
   ],
   "source": [
    "function Simpson(a, b, n, f_int)::Float64\n",
    "    h = (b - a) / n\n",
    "    I_simpson = f_int(a) / 6 + f_int(b) / 6\n",
    "    for i in 1:(n - 1)\n",
    "        I_simpson += f_int(a + i ⋅ h) / 3\n",
    "    end\n",
    "    for i in 1:n\n",
    "        I_simpson += 2 ⋅ f_int(a + (i - 0.5) ⋅ h) / 3\n",
    "    end\n",
    "    return h ⋅ I_simpson\n",
    "end"
   ]
  },
  {
   "cell_type": "markdown",
   "metadata": {},
   "source": [
    "## Numerical Approximation for Any Method"
   ]
  },
  {
   "cell_type": "code",
   "execution_count": 7,
   "metadata": {},
   "outputs": [
    {
     "data": {
      "text/plain": [
       "I_numerical (generic function with 1 method)"
      ]
     },
     "execution_count": 7,
     "metadata": {},
     "output_type": "execute_result"
    }
   ],
   "source": [
    "function I_numerical(a, b, f_int, method, tol)\n",
    "    no_intervals = []\n",
    "    n = 4; I_old = method(a, b, n, f_int)\n",
    "    append!(no_intervals, n)\n",
    "    n = 2n; I_new = method(a, b, n, f_int)\n",
    "    append!(no_intervals, n)\n",
    "    I_approx = [I_old]\n",
    "    while(abs(I_new - I_old) > tol)\n",
    "        I_old = I_new\n",
    "        n = 2n\n",
    "        append!(no_intervals, n)\n",
    "        append!(I_approx, I_new)\n",
    "        I_new = method(a, b, n, f_int)\n",
    "    end\n",
    "    append!(I_approx, I_new)\n",
    "    return no_intervals, I_approx\n",
    "end"
   ]
  },
  {
   "cell_type": "markdown",
   "metadata": {},
   "source": [
    "## Relationship between Simpson's, Midpoint and Trapezoidal Rules"
   ]
  },
  {
   "cell_type": "markdown",
   "metadata": {},
   "source": [
    "$$\n",
    "    I^S_n = \\frac{2}{3} I^M_n + \\frac{1}{3} I^T_n \\tag{8}\n",
    "$$"
   ]
  },
  {
   "cell_type": "markdown",
   "metadata": {},
   "source": [
    "## Example"
   ]
  },
  {
   "cell_type": "code",
   "execution_count": 21,
   "metadata": {},
   "outputs": [
    {
     "data": {
      "text/html": [
       "<table class=\"data-frame\"><thead><tr><th></th><th>Intervals</th><th>Midpoint</th><th>Trapezoidal</th><th>Simpson</th></tr><tr><th></th><th>Int64</th><th>Float64</th><th>Float64</th><th>Float64</th></tr></thead><tbody><p>15 rows × 4 columns</p><tr><th>1</th><td>4</td><td>0.882789</td><td>0.889776</td><td>0.882066</td></tr><tr><th>2</th><td>8</td><td>0.882269</td><td>0.886283</td><td>0.88208</td></tr><tr><th>3</th><td>16</td><td>0.882129</td><td>0.884276</td><td>0.882081</td></tr><tr><th>4</th><td>32</td><td>0.882093</td><td>0.883202</td><td>0.0</td></tr><tr><th>5</th><td>64</td><td>0.882084</td><td>0.882648</td><td>0.0</td></tr><tr><th>6</th><td>128</td><td>0.882082</td><td>0.882366</td><td>0.0</td></tr><tr><th>7</th><td>256</td><td>0.882082</td><td>0.882224</td><td>0.0</td></tr><tr><th>8</th><td>512</td><td>0.0</td><td>0.882153</td><td>0.0</td></tr><tr><th>9</th><td>1024</td><td>0.0</td><td>0.882117</td><td>0.0</td></tr><tr><th>10</th><td>2048</td><td>0.0</td><td>0.882099</td><td>0.0</td></tr><tr><th>11</th><td>4096</td><td>0.0</td><td>0.88209</td><td>0.0</td></tr><tr><th>12</th><td>8192</td><td>0.0</td><td>0.882086</td><td>0.0</td></tr><tr><th>13</th><td>16384</td><td>0.0</td><td>0.882084</td><td>0.0</td></tr><tr><th>14</th><td>32768</td><td>0.0</td><td>0.882083</td><td>0.0</td></tr><tr><th>15</th><td>65536</td><td>0.0</td><td>0.882082</td><td>0.0</td></tr></tbody></table>"
      ],
      "text/latex": [
       "\\begin{tabular}{r|cccc}\n",
       "\t& Intervals & Midpoint & Trapezoidal & Simpson\\\\\n",
       "\t\\hline\n",
       "\t& Int64 & Float64 & Float64 & Float64\\\\\n",
       "\t\\hline\n",
       "\t1 & 4 & 0.882789 & 0.889776 & 0.882066 \\\\\n",
       "\t2 & 8 & 0.882269 & 0.886283 & 0.88208 \\\\\n",
       "\t3 & 16 & 0.882129 & 0.884276 & 0.882081 \\\\\n",
       "\t4 & 32 & 0.882093 & 0.883202 & 0.0 \\\\\n",
       "\t5 & 64 & 0.882084 & 0.882648 & 0.0 \\\\\n",
       "\t6 & 128 & 0.882082 & 0.882366 & 0.0 \\\\\n",
       "\t7 & 256 & 0.882082 & 0.882224 & 0.0 \\\\\n",
       "\t8 & 512 & 0.0 & 0.882153 & 0.0 \\\\\n",
       "\t9 & 1024 & 0.0 & 0.882117 & 0.0 \\\\\n",
       "\t10 & 2048 & 0.0 & 0.882099 & 0.0 \\\\\n",
       "\t11 & 4096 & 0.0 & 0.88209 & 0.0 \\\\\n",
       "\t12 & 8192 & 0.0 & 0.882086 & 0.0 \\\\\n",
       "\t13 & 16384 & 0.0 & 0.882084 & 0.0 \\\\\n",
       "\t14 & 32768 & 0.0 & 0.882083 & 0.0 \\\\\n",
       "\t15 & 65536 & 0.0 & 0.882082 & 0.0 \\\\\n",
       "\\end{tabular}\n"
      ],
      "text/plain": [
       "15×4 DataFrame\n",
       "│ Row │ Intervals │ Midpoint │ Trapezoidal │ Simpson  │\n",
       "│     │ \u001b[90mInt64\u001b[39m     │ \u001b[90mFloat64\u001b[39m  │ \u001b[90mFloat64\u001b[39m     │ \u001b[90mFloat64\u001b[39m  │\n",
       "├─────┼───────────┼──────────┼─────────────┼──────────┤\n",
       "│ 1   │ 4         │ 0.882789 │ 0.889776    │ 0.882066 │\n",
       "│ 2   │ 8         │ 0.882269 │ 0.886283    │ 0.88208  │\n",
       "│ 3   │ 16        │ 0.882129 │ 0.884276    │ 0.882081 │\n",
       "│ 4   │ 32        │ 0.882093 │ 0.883202    │ 0.0      │\n",
       "│ 5   │ 64        │ 0.882084 │ 0.882648    │ 0.0      │\n",
       "│ 6   │ 128       │ 0.882082 │ 0.882366    │ 0.0      │\n",
       "│ 7   │ 256       │ 0.882082 │ 0.882224    │ 0.0      │\n",
       "│ 8   │ 512       │ 0.0      │ 0.882153    │ 0.0      │\n",
       "│ 9   │ 1024      │ 0.0      │ 0.882117    │ 0.0      │\n",
       "│ 10  │ 2048      │ 0.0      │ 0.882099    │ 0.0      │\n",
       "│ 11  │ 4096      │ 0.0      │ 0.88209     │ 0.0      │\n",
       "│ 12  │ 8192      │ 0.0      │ 0.882086    │ 0.0      │\n",
       "│ 13  │ 16384     │ 0.0      │ 0.882084    │ 0.0      │\n",
       "│ 14  │ 32768     │ 0.0      │ 0.882083    │ 0.0      │\n",
       "│ 15  │ 65536     │ 0.0      │ 0.882082    │ 0.0      │"
      ]
     },
     "execution_count": 21,
     "metadata": {},
     "output_type": "execute_result"
    }
   ],
   "source": [
    "using DataFrames\n",
    "\n",
    "f(x) = exp(-x^2)\n",
    "# numericals = Array{Float64, 2}(undef, 15, 4)\n",
    "numericals = zeros(15, 4)\n",
    "no_intervals, I_midpoint = I_numerical(0, 2, f, Midpoint, 1e-6)\n",
    "no_intervals, I_trap = I_numerical(0, 2, f, Trapezoidal, 1e-6)\n",
    "no_intervals, I_simpson = I_numerical(0, 2, f, Simpson, 1e-6)\n",
    "\n",
    "no_intervals = [4 ⋅ 2^i for i in 0:max(size(I_midpoint)[1], size(I_trap)[1], size(I_simpson)[1])-1]\n",
    "\n",
    "for i in 1:max(size(I_midpoint)[1], size(I_trap)[1], size(I_simpson)[1])\n",
    "    numericals[i, 1] = no_intervals[i]\n",
    "end\n",
    "\n",
    "for i in 1:size(I_midpoint)[1]\n",
    "    numericals[i, 2] = I_midpoint[i]\n",
    "end\n",
    "\n",
    "for i in 1:size(I_trap)[1]\n",
    "    numericals[i, 3] = I_trap[i]\n",
    "end\n",
    "\n",
    "for i in 1:size(I_simpson)[1]\n",
    "    numericals[i, 4] = I_simpson[i]\n",
    "end\n",
    "\n",
    "df = DataFrame(Intervals = no_intervals, Midpoint = numericals[:, 2], Trapezoidal = numericals[:, 3], Simpson = numericals[:, 4])"
   ]
  },
  {
   "cell_type": "markdown",
   "metadata": {},
   "source": [
    "## Approximation Errors"
   ]
  },
  {
   "cell_type": "markdown",
   "metadata": {},
   "source": [
    "$$\n",
    "    O\\left(\\frac{1}{n^2}\\right) = |I - I_{n}^M| \\leq \\frac{h^2}{24}(b - a)\\ \\max_{a \\leq x \\leq b}|f''(x)| = \\frac{1}{n^2}\\frac{(b - a)^3 M_2}{24}, \\ \\ \\ \\ \\ \\ \\ \\ \\ \\ \\ \\ \\ \\ \\ \\ \\ \\ \\ \\ \\ \\ \\ \\ \\ \\ \\ \\ \\ \\ \\ \\ \\ \\textrm{where}\\ M_2 = \\max_{a \\leq x \\leq b}|f''(x)| \\lt \\infty \\tag{9}\n",
    "$$"
   ]
  },
  {
   "cell_type": "markdown",
   "metadata": {},
   "source": [
    "$$\n",
    "    O\\left(\\frac{1}{n^2}\\right) = |I - I_{n}^T| \\leq \\frac{h^2}{12}(b - a)\\ \\max_{a \\leq x \\leq b}|f''(x)| = \\frac{1}{n^2}\\frac{(b - a)^3 M_2}{12}, \\ \\ \\ \\ \\ \\ \\ \\ \\ \\ \\ \\ \\ \\ \\ \\ \\ \\ \\ \\ \\ \\ \\ \\ \\ \\ \\ \\ \\ \\ \\ \\ \\ \\textrm{where}\\ M_2 = \\max_{a \\leq x \\leq b}|f''(x)| \\lt \\infty \\tag{10}\n",
    "$$"
   ]
  },
  {
   "cell_type": "markdown",
   "metadata": {},
   "source": [
    "$$\n",
    "    O\\left(\\frac{1}{n^4}\\right) = |I - I_{n}^S| \\leq \\frac{h^4}{2880}(b - a)\\ \\max_{a \\leq x \\leq b}|f^{(4)}(x)| = \\frac{1}{n^4}\\frac{(b - a)^5 M_4}{2880}, \\ \\ \\ \\ \\ \\ \\ \\ \\ \\ \\ \\ \\ \\ \\ \\ \\ \\ \\ \\ \\ \\ \\ \\ \\ \\ \\ \\ \\ \\textrm{where}\\ M_4 = \\max_{a \\leq x \\leq b}|f^{(4)}(x)| \\lt \\infty \\tag{11}\n",
    "$$"
   ]
  },
  {
   "cell_type": "code",
   "execution_count": 14,
   "metadata": {},
   "outputs": [
    {
     "data": {
      "text/plain": [
       "#1 (generic function with 1 method)"
      ]
     },
     "execution_count": 14,
     "metadata": {},
     "output_type": "execute_result"
    }
   ],
   "source": [
    "using QuadGK\n",
    "approx_error = function(f, M, T, S)\n",
    "    F = quadgk(f, 0, 2, rtol=1e-7)[1]\n",
    "    return (abs(int(F - M)), abs(int(F - T)), abs(int(F - S)))\n",
    "end"
   ]
  },
  {
   "cell_type": "markdown",
   "metadata": {},
   "source": [
    "# Bond Pricing, Duration and Convexity"
   ]
  },
  {
   "cell_type": "markdown",
   "metadata": {},
   "source": [
    "The following are results from the **Fundamental Theorem of Asset Pricing**. The assumption here is that asset distributions are lognormal. A Jarque-Bera Normality Test would prove worthy here for price $\\Delta$'s."
   ]
  },
  {
   "cell_type": "markdown",
   "metadata": {},
   "source": [
    "## Interest rate curves"
   ]
  },
  {
   "cell_type": "markdown",
   "metadata": {},
   "source": [
    "The values of $B(0)$ currency units and $B(t)$ currency units, are"
   ]
  },
  {
   "cell_type": "markdown",
   "metadata": {},
   "source": [
    "$$\n",
    "    B(t) = \\exp{(t r(0, t)}\\ B(0) \\tag{12}\n",
    "$$"
   ]
  },
  {
   "cell_type": "markdown",
   "metadata": {},
   "source": [
    "$$\n",
    "    \\ \\ \\ B(0) = \\exp{(-t r(0, t))}\\ B(t) \\tag{13}\n",
    "$$"
   ]
  },
  {
   "cell_type": "markdown",
   "metadata": {},
   "source": [
    "for times $t$ and $0$, respectively."
   ]
  },
  {
   "cell_type": "markdown",
   "metadata": {},
   "source": [
    "## Zero rates and instantaneous rates."
   ]
  },
  {
   "cell_type": "markdown",
   "metadata": {},
   "source": [
    "$$\n",
    "    r(t) = \\lim_{dt \\rightarrow 0}\\ \\frac{1}{dt} \\cdot \\frac{B(t + dt) - B(t)}{B(t)} = \\frac{B'(t)}{B(t)} \\tag{14}\n",
    "$$"
   ]
  },
  {
   "cell_type": "markdown",
   "metadata": {},
   "source": [
    "$\\therefore$ $B(t)$ satisfies the ordinary differential equation"
   ]
  },
  {
   "cell_type": "markdown",
   "metadata": {},
   "source": [
    "$$\n",
    "    \\frac{B'(τ)}{B(τ)} = r(τ),\\ \\forall\\ τ > 0 \\tag{15}\n",
    "$$"
   ]
  },
  {
   "cell_type": "markdown",
   "metadata": {},
   "source": [
    "with $B(τ) = B(0)$ at time $τ = 0$. It follows that"
   ]
  },
  {
   "cell_type": "markdown",
   "metadata": {},
   "source": [
    "$$\n",
    "    \\int^{t}_{0}{r(\\tau)}\\ d\\tau = \\int^{t}_{0} \\frac{B'(\\tau)}{B(\\tau)}d\\tau = \\ln(B(\\tau))|_{\\tau = 0}^{\\tau = t} = \\ln(B(t)) - \\ln(B(0)) = \\ln \\left(\\frac{B(t)}{B(0)}\\right) \\tag{16}\n",
    "$$"
   ]
  },
  {
   "cell_type": "markdown",
   "metadata": {},
   "source": [
    "We then have that"
   ]
  },
  {
   "cell_type": "markdown",
   "metadata": {},
   "source": [
    "$$\n",
    "    B(t) = B(0)\\ \\exp\\left(\\int_{0}^{t}\\ r(\\tau)\\ d\\tau\\right),\\ \\forall\\ t \\gt 0 \\tag{17}\n",
    "$$"
   ]
  },
  {
   "cell_type": "markdown",
   "metadata": {},
   "source": [
    "$$\n",
    "    B(0) = B(t)\\ \\exp\\left(-\\int_{0}^{t}\\ r(\\tau)\\ d\\tau\\right),\\ \\forall\\ t \\gt 0 \\tag{18}\n",
    "$$"
   ]
  },
  {
   "cell_type": "markdown",
   "metadata": {},
   "source": [
    "It follows that"
   ]
  },
  {
   "cell_type": "markdown",
   "metadata": {},
   "source": [
    "$$\n",
    "    r(0, t) = \\frac{1}{t}\\ \\int_{0}^{t} r(τ)\\ dτ \\tag{19}\n",
    "$$"
   ]
  },
  {
   "cell_type": "markdown",
   "metadata": {},
   "source": [
    "If $r(t)$ is continuous, then $r(t)$ is $\\textbf{uniquely}$ determined if the zero rate $r(0, t)$ is known. From $(19)$, we obtain that"
   ]
  },
  {
   "cell_type": "markdown",
   "metadata": {},
   "source": [
    "$$\n",
    "    \\int_{0}^{t}\\ r(\\tau)\\ d\\tau = t\\ r(0, t) \\tag{20}\n",
    "$$"
   ]
  },
  {
   "cell_type": "markdown",
   "metadata": {},
   "source": [
    "From $(20)$, we find that (using the **Product Rule** and **Lemma 1.2** above)"
   ]
  },
  {
   "cell_type": "markdown",
   "metadata": {},
   "source": [
    "$$\n",
    "    r(t) = r(0, t) + t\\ \\frac{d}{dt}(r(0, t)) \\tag{21}\n",
    "$$"
   ]
  },
  {
   "cell_type": "markdown",
   "metadata": {},
   "source": [
    "Finally,"
   ]
  },
  {
   "cell_type": "markdown",
   "metadata": {},
   "source": [
    "$$\n",
    "    B(t_2) = B(t_1)\\ \\exp\\left(\\int_{t_1}^{t_2}\\ r(\\tau)\\ d\\tau\\right),\\ \\ \\ \\ \\forall\\ 0 \\lt t_1 \\lt t_2 \\tag{22}\n",
    "$$"
   ]
  },
  {
   "cell_type": "markdown",
   "metadata": {},
   "source": [
    "$$\n",
    "    B(t_1) = B(t_2)\\ \\exp\\left(-\\int_{t_1}^{t_2}\\ r(\\tau)\\ d\\tau\\right),\\ \\forall\\ 0 \\ \\lt t_1 \\lt t_2 \\tag{23}\n",
    "$$"
   ]
  },
  {
   "cell_type": "markdown",
   "metadata": {},
   "source": [
    "## Constant interest rates"
   ]
  },
  {
   "cell_type": "markdown",
   "metadata": {},
   "source": [
    "If interest rates are constant and equal to $r$, the future value and present value formulas become"
   ]
  },
  {
   "cell_type": "markdown",
   "metadata": {},
   "source": [
    "$$\n",
    "    B(t) = e^{rt}\\ B(0),\\ \\forall\\ {t \\gt 0} \\ \\ \\ \\ \\ \\ \\ \\ \\ \\ \\ \\ \\ \\ \\ \\ \\tag{24}\n",
    "$$"
   ]
  },
  {
   "cell_type": "markdown",
   "metadata": {},
   "source": [
    "$$\n",
    "    B(t_2) = e^{r(t_2 - t_1)}\\ B(t_1),\\ \\forall\\ {0 \\lt t_1 \\lt t_2} \\ \\tag{25}\n",
    "$$"
   ]
  },
  {
   "cell_type": "markdown",
   "metadata": {},
   "source": [
    "$$    \n",
    "    B(0) = e^{-rt}\\ B(t),\\ \\forall\\ {t \\gt 0} \\ \\ \\ \\ \\ \\ \\ \\ \\ \\ \\ \\ \\ \\ \\ \\ \\ \\tag{26}\n",
    "$$"
   ]
  },
  {
   "cell_type": "markdown",
   "metadata": {},
   "source": [
    "$$\n",
    "    B(t_1) = e^{-r(t_2 - t_1)}\\ B(t_2),\\ \\forall\\ 0 \\lt t_1 \\lt t_2 \\tag{27}\n",
    "$$"
   ]
  },
  {
   "cell_type": "markdown",
   "metadata": {},
   "source": [
    "**Review $\\S$ 2.5.1 on pp. 52-53 for more on _constant interest rates_.**"
   ]
  },
  {
   "cell_type": "markdown",
   "metadata": {},
   "source": [
    "## Forward rates"
   ]
  },
  {
   "cell_type": "markdown",
   "metadata": {},
   "source": [
    "To determine the forward rate at $t_2$ of a coupon bond that has accumulated value up to time $t_1$, with a continuation deposit at $t_1$, we use the following"
   ]
  },
  {
   "cell_type": "markdown",
   "metadata": {},
   "source": [
    "$$\n",
    "    r(0; t_1, t_2) = \\frac{t_2\\ r(0, t_2) - t_1\\ r(0, t_1)}{t_2 - t_1} \\tag{28}\n",
    "$$"
   ]
  },
  {
   "cell_type": "markdown",
   "metadata": {},
   "source": [
    "In the text, they mention that, by the **Law of One Price**, this would yield the same value as depositing $B(0)$ at time $0$; i.e., for"
   ]
  },
  {
   "cell_type": "markdown",
   "metadata": {},
   "source": [
    "$$\n",
    "    V_1(t_2) = V_1(t_1)\\ \\exp(\\ (t_2 - t_1)\\ r(0; t_1, t_2)\\ )\n",
    "    = B(0)\\ \\exp(\\ t_1\\ r(0, t_1) + (t_2 - t_1)\\ r(0; t_1, t_2)\\ ). \\tag{29}\n",
    "$$"
   ]
  },
  {
   "cell_type": "markdown",
   "metadata": {},
   "source": [
    "and"
   ]
  },
  {
   "cell_type": "markdown",
   "metadata": {},
   "source": [
    "$$\n",
    "    V_2(t_2) = B(0)\\ \\exp(t_2\\ r(0, t_2)). \\tag{30}\n",
    "$$"
   ]
  },
  {
   "cell_type": "markdown",
   "metadata": {},
   "source": [
    "both investment strategies are risk free and the cash amount invested at time $0$ is the same, equal to $B(0)$ for both strategies."
   ]
  },
  {
   "cell_type": "markdown",
   "metadata": {},
   "source": [
    "$$\n",
    "    \\therefore\\ V_1(t_2) = V_2(t_2) \\tag{31}\n",
    "$$"
   ]
  },
  {
   "cell_type": "markdown",
   "metadata": {},
   "source": [
    "**Review $\\S 2.5.2$ (pp. 53-54) for more details on _Forward rates_.**"
   ]
  },
  {
   "cell_type": "markdown",
   "metadata": {},
   "source": [
    "## Bond pricing. Yield of a bond."
   ]
  },
  {
   "cell_type": "markdown",
   "metadata": {},
   "source": [
    "If the **zero rate cuve** is known, the discount factor corresponding to time $t_i$ is $e^{-r(0, t_i)t_i}$."
   ]
  },
  {
   "cell_type": "markdown",
   "metadata": {},
   "source": [
    "$$\n",
    "    ∴ B = \\sum_{i = 1}^n c_ie^{-r(0, t_i)t_i} \\tag{32}\n",
    "$$"
   ]
  },
  {
   "cell_type": "markdown",
   "metadata": {},
   "source": [
    "If the **instantaneous interest rate curve $r(t)$** is known, we can replace $e^{-r(0, t_i)t_i}$ with $\\exp{\\left(-\\int_0^{t_i}r(τ)\\ dτ\\right)}$ in (32), which then gives us"
   ]
  },
  {
   "cell_type": "markdown",
   "metadata": {},
   "source": [
    "$$\n",
    "    ∴ B = \\sum_{i = 1}^n c_i\\ \\exp{\\left(-\\int_0^{t_i}r(τ)\\ dτ\\right)} = F\\ \\exp{\\left(-\\int_0^Tr(\\tau)d\\tau\\right)} \\tag{33}\n",
    "$$"
   ]
  },
  {
   "cell_type": "markdown",
   "metadata": {},
   "source": [
    "where $F$ is the face value of the Bond (see $\\S 2.9$ for a discussion on how this is the case and also on how $B = Fe^{-yT}$ if the yield of the bond is given, as well as modified duration $\\left(D = -\\frac{1}{Fe^{-yT}} = T\\right)$ and convexity $\\left(C = \\frac{1}{Fe^{-yT}}(T^2 Fe^{-yT}) = T^2\\right)$."
   ]
  },
  {
   "cell_type": "markdown",
   "metadata": {},
   "source": [
    "An **annual-based, periodic coupon bond** with face value $F$, coupon rate $C$ and maturity $T$ (usually measured in years) pays the holder of the bond a coupon payment equal to $\\frac{C}{m} F$ (except at maturity), where $m$ is the coupon divisor. The final payment at maturity is equal to the face value of the bond plus one coupon payment, i.e., $F\\left(1 + \\frac{C}{m}\\right)$. The total cashflows would then be"
   ]
  },
  {
   "cell_type": "markdown",
   "metadata": {},
   "source": [
    "$$\n",
    "    C_{total} = F \\sum_{i = 1}^n \\frac{C}{m} + F \\tag{34}\n",
    "$$"
   ]
  },
  {
   "cell_type": "markdown",
   "metadata": {},
   "source": [
    "where $n$ is the number of payments. This is true for coupon payments and final payment"
   ]
  },
  {
   "cell_type": "markdown",
   "metadata": {},
   "source": [
    "$$\n",
    "    \\left[F\\overbrace{\\left[\\frac{C}{m}, \\frac{C}{m},\\ldots,\\frac{C}{m}\\right]}^\\text{$n-1$ times},\\ F + \\frac{C}{m}F\\right] \\tag{35}\n",
    "$$"
   ]
  },
  {
   "cell_type": "markdown",
   "metadata": {},
   "source": [
    "and months"
   ]
  },
  {
   "cell_type": "markdown",
   "metadata": {},
   "source": [
    "$$\n",
    "    \\left[T - m(n - 1), \\ldots, T - \\left\\lfloor{\\frac{T}{n}}\\right\\rfloor, T\\right] \\tag{36}\n",
    "$$"
   ]
  },
  {
   "cell_type": "markdown",
   "metadata": {},
   "source": [
    "## Zero rate algorithm"
   ]
  },
  {
   "cell_type": "code",
   "execution_count": 22,
   "metadata": {},
   "outputs": [
    {
     "data": {
      "text/plain": [
       "bond_price_zero_rate (generic function with 1 method)"
      ]
     },
     "execution_count": 22,
     "metadata": {},
     "output_type": "execute_result"
    }
   ],
   "source": [
    "function bond_price_zero_rate(n, t_cash_flow, v_cash_flow, r_zero)\n",
    "    disc = zeros(n)\n",
    "    B = 0\n",
    "    for i in 1:n\n",
    "        disc[i] = exp(-t_cash_flow[i] ⋅ r_zero(t_cash_flow[i]))\n",
    "        B = B + v_cash_flow[i] ⋅ disc[i]\n",
    "    end\n",
    "    return disc, B\n",
    "end"
   ]
  },
  {
   "cell_type": "markdown",
   "metadata": {},
   "source": [
    "## Instantaneous rate algorithm"
   ]
  },
  {
   "cell_type": "code",
   "execution_count": 23,
   "metadata": {},
   "outputs": [
    {
     "data": {
      "text/plain": [
       "bond_price_inst_rate (generic function with 1 method)"
      ]
     },
     "execution_count": 23,
     "metadata": {},
     "output_type": "execute_result"
    }
   ],
   "source": [
    "function bond_price_inst_rate(n, t_cash_flow, v_cash_flow, r_inst, tol)\n",
    "    B = 0\n",
    "    I_num = zeros(n)\n",
    "    disc = zeros(n)\n",
    "    for i in 1:n\n",
    "        no_intervals, I_approx = I_numerical(0, t_cash_flow[i], r_inst, Simpson, tol[i])\n",
    "        I_num[i] = I_approx[end]\n",
    "        disc[i] = exp(-I_num[i])\n",
    "        B = B + v_cash_flow[i] ⋅ disc[i]\n",
    "    end\n",
    "    return disc, B\n",
    "end"
   ]
  },
  {
   "cell_type": "markdown",
   "metadata": {},
   "source": [
    "## Example"
   ]
  },
  {
   "cell_type": "markdown",
   "metadata": {},
   "source": [
    "Consider a semiannual coupon bond with coupon rate $6\\%$ and maturity $20$ months. Assume that the face value of the bond is $100$, and that the interest is compounded continuously."
   ]
  },
  {
   "cell_type": "markdown",
   "metadata": {},
   "source": [
    "**(I) Given zero rate**"
   ]
  },
  {
   "cell_type": "markdown",
   "metadata": {},
   "source": [
    "$$\n",
    "    r(0, t) = 0.0525 + \\frac{\\ln(1 + 2t)}{200}\n",
    "$$"
   ]
  },
  {
   "cell_type": "markdown",
   "metadata": {},
   "source": [
    "compute the price of the bond."
   ]
  },
  {
   "cell_type": "markdown",
   "metadata": {},
   "source": [
    "**Solution** We count backwards from $20$ months, i.e., $20$, $14$, $8$ and $2$, and get coupon payments for `[2, 8, 14, 20]`, i.e., `[3, 3, 3, 103]` for $\\left[\\frac{2}{12},\\frac{8}{12},\\frac{14}{12},\\frac{20}{12}\\right]$. In fact, the following function should take care of doing that for us."
   ]
  },
  {
   "cell_type": "code",
   "execution_count": 24,
   "metadata": {},
   "outputs": [
    {
     "data": {
      "text/plain": [
       "get_cash_flow (generic function with 1 method)"
      ]
     },
     "execution_count": 24,
     "metadata": {},
     "output_type": "execute_result"
    }
   ],
   "source": [
    "function get_cash_flow(n, m, T, F, C, M)\n",
    "    t_cash_flow = zeros(n)\n",
    "    v_cash_flow = zeros(n)\n",
    "    I = n; t = T\n",
    "    while (I > 0)\n",
    "        t_cash_flow[I] = t / M\n",
    "        t = T - (M / m) ⋅ (n - I + 1) # (n - (I - 1))\n",
    "        I -= 1\n",
    "    end\n",
    "    I = 1\n",
    "    while (I < n)\n",
    "        v_cash_flow[I] = F ⋅ (C / m)\n",
    "        I += 1\n",
    "    end\n",
    "    v_cash_flow[n] = F ⋅ (1 + C / m)\n",
    "    return t_cash_flow, v_cash_flow\n",
    "end"
   ]
  },
  {
   "cell_type": "markdown",
   "metadata": {},
   "source": [
    "Then we have"
   ]
  },
  {
   "cell_type": "code",
   "execution_count": 25,
   "metadata": {},
   "outputs": [
    {
     "data": {
      "text/plain": [
       "([0.166667, 0.666667, 1.16667, 1.66667], [3.0, 3.0, 3.0, 103.0])"
      ]
     },
     "execution_count": 25,
     "metadata": {},
     "output_type": "execute_result"
    }
   ],
   "source": [
    "t_cash_flow, v_cash_flow = get_cash_flow(4, 2, 20, 100, 0.06, 12)"
   ]
  },
  {
   "cell_type": "markdown",
   "metadata": {},
   "source": [
    "and"
   ]
  },
  {
   "cell_type": "code",
   "execution_count": 27,
   "metadata": {},
   "outputs": [
    {
     "data": {
      "text/plain": [
       "([0.991051, 0.962882, 0.934005, 0.905091], 101.88821588120076)"
      ]
     },
     "execution_count": 27,
     "metadata": {},
     "output_type": "execute_result"
    }
   ],
   "source": [
    "f(t) = 0.0525 + log(1 + 2t) / 200\n",
    "bond_price_zero_rate(4, t_cash_flow, v_cash_flow, f)"
   ]
  },
  {
   "cell_type": "markdown",
   "metadata": {},
   "source": [
    "**(II) Given instantaneous rate**"
   ]
  },
  {
   "cell_type": "markdown",
   "metadata": {},
   "source": [
    "$$\n",
    "    r(t) = 0.0525 + \\frac{1}{100(1 + e^{-t^2})}\n",
    "$$"
   ]
  },
  {
   "cell_type": "markdown",
   "metadata": {},
   "source": [
    "compute the price of the bond (see $\\text{p.}\\ 68$ for a discussion)."
   ]
  },
  {
   "cell_type": "markdown",
   "metadata": {},
   "source": [
    "**Solution** Since the integral $\\int r(τ) d\\tau$ does not have a closed formula, it cannot be computed exactly. Therefore, we use Simpson's rule, and get the following discount factors and bond price for tolerance vector $ tol = [10^{-4}\\ 10^{-4}\\ 10^{-4}\\ 10^{-6}]$."
   ]
  },
  {
   "cell_type": "code",
   "execution_count": 28,
   "metadata": {},
   "outputs": [
    {
     "data": {
      "text/plain": [
       "([0.990459, 0.962156, 0.933954, 0.905775], 101.9545638832744)"
      ]
     },
     "execution_count": 28,
     "metadata": {},
     "output_type": "execute_result"
    }
   ],
   "source": [
    "tol = [10e-4, 10e-4, 10e-4, 10e-6]\n",
    "g(t) = 0.0525 + 1 / (100(1 + exp(-t^2)))\n",
    "bond_price_inst_rate(4, t_cash_flow, v_cash_flow, g, tol)"
   ]
  },
  {
   "cell_type": "markdown",
   "metadata": {},
   "source": [
    "**(III) Given instantaneous rate**"
   ]
  },
  {
   "cell_type": "markdown",
   "metadata": {},
   "source": [
    "$$\n",
    "    r(t) = 0.0525 + \\frac{\\ln(1 + 2t)}{200} + \\frac{t}{100(1 + 2t)}\n",
    "$$"
   ]
  },
  {
   "cell_type": "markdown",
   "metadata": {},
   "source": [
    "compute the price of the bond."
   ]
  },
  {
   "cell_type": "markdown",
   "metadata": {},
   "source": [
    "**Solution** Using the instantaneous bond pricing algorithm `bond_price_inst_rate` and Simpson's rule, we get the following bond prices (and respective discount factors) for two different tolerance vectors $tol_1 = [10^{-4} 10^{-4} 10^{-4} 10^{-6}]$ and $tol_2 = [10^{-4} 10^{-4} 10^{-4} 10^{-4}]$. "
   ]
  },
  {
   "cell_type": "code",
   "execution_count": 33,
   "metadata": {},
   "outputs": [
    {
     "data": {
      "text/plain": [
       "4-element Array{Any,1}:\n",
       " 101.8882338846292867629017564468085765838623046875 \n",
       " 101.8882338846292867629017564468085765838623046875 \n",
       "    BigFloat[0.991051, 0.962882, 0.934005, 0.905091]\n",
       "    BigFloat[0.991051, 0.962882, 0.934005, 0.905091]"
      ]
     },
     "execution_count": 33,
     "metadata": {},
     "output_type": "execute_result"
    }
   ],
   "source": [
    "tol_1 = [10e-4, 10e-4, 10e-4, 10e-6]; tol_2 = [10e-4, 10e-4, 10e-4, 10e-4]\n",
    "h(t) = 0.0525 + log(1 + 2t) / 200 + t / (100(1 + 2t))\n",
    "b1 = bond_price_inst_rate(4, t_cash_flow, v_cash_flow, h, tol_1);\n",
    "b2 = bond_price_inst_rate(4, t_cash_flow, v_cash_flow, h, tol_2);\n",
    "[BigFloat(b1[2]), BigFloat(b2[2]), BigFloat.(b1[1]), BigFloat.(b2[1])]"
   ]
  },
  {
   "cell_type": "markdown",
   "metadata": {},
   "source": [
    "I used `BigFloat`, since I wanted to have more accurate approximations of `b1` and `b2`, but I am still disatisfied with the outcome. Are not these two bond prices supposed to be different, given the two tolerance vectors?"
   ]
  },
  {
   "cell_type": "markdown",
   "metadata": {},
   "source": [
    "The **yield of a bond** is the internal rate of return of the bond. After the accumulation of $n$ discounted future cash flows, we have the bond price $B$ as follows:"
   ]
  },
  {
   "cell_type": "markdown",
   "metadata": {},
   "source": [
    "$$\n",
    "    B = \\sum_{i = 1}^n c_ie^{-yt_i} \\tag{37}\n",
    "$$"
   ]
  },
  {
   "cell_type": "markdown",
   "metadata": {},
   "source": [
    "The price of the bond $B(y)$ is a decreasing function of the yield $y$:"
   ]
  },
  {
   "cell_type": "markdown",
   "metadata": {},
   "source": [
    "$$\n",
    "    \\frac{\\partial B}{\\partial y} = B'(y) = -\\sum_{i = 1}^{n}t_ic_ie^{-yt_i} \\lt 0 \\tag{38}\n",
    "$$"
   ]
  },
  {
   "cell_type": "markdown",
   "metadata": {},
   "source": [
    "In the text, one is invited to visit $\\S 5.3$ of the book for details on computing bond yields, which goes as follows:"
   ]
  },
  {
   "cell_type": "markdown",
   "metadata": {},
   "source": [
    "$$\n",
    "    f(y) = 0, \\ \\ \\ \\ \\ \\ \\ \\ \\textrm{where}\\ f(y) = \\sum_{i = 1}^nc_ie^{yt_i} - B \\tag{39}\n",
    "$$"
   ]
  },
  {
   "cell_type": "markdown",
   "metadata": {},
   "source": [
    "where $y$ is a solution (may or may not be unique) to the nonlinear equation $f(y) = 0$. Review $\\S 2.6$ (pp. 56-57) for more details on **yield** and something known as **par yield**."
   ]
  },
  {
   "cell_type": "markdown",
   "metadata": {},
   "source": [
    "## Bond duration and convexity"
   ]
  },
  {
   "cell_type": "markdown",
   "metadata": {},
   "source": [
    "For a more elaborate discussion on bond duration and convexity, refer to $\\S 2.7\\ (\\text{pp.}\\ 57-59)$."
   ]
  },
  {
   "cell_type": "markdown",
   "metadata": {},
   "source": [
    "The **modified duration** of a bond is defined as follows:"
   ]
  },
  {
   "cell_type": "markdown",
   "metadata": {},
   "source": [
    "$$\n",
    "    D = -\\frac{1}{B}\\frac{\\partial B}{\\partial y} \\tag{40}\n",
    "$$"
   ]
  },
  {
   "cell_type": "markdown",
   "metadata": {},
   "source": [
    "Using equation $(40)$, we can work the modified duration to be"
   ]
  },
  {
   "cell_type": "markdown",
   "metadata": {},
   "source": [
    "$$\n",
    "    D = \\frac{1}{B}\\sum_{i = 1}^nt_ic_ie^{-yt_i} \\tag{41}\n",
    "$$"
   ]
  },
  {
   "cell_type": "markdown",
   "metadata": {},
   "source": [
    "The Macaulay duration of a bond is defined to be the weighted average of the cash flow times, with weights equal to the value of the corresponding cash flow discounted with respect to the ield of the bond; i.e.,"
   ]
  },
  {
   "cell_type": "markdown",
   "metadata": {},
   "source": [
    "$$\n",
    "    D_{Mac} = \\frac{1}{B}\\sum_{i = 1}^nt_ic_iDisc(t_i, y) \\tag{42}\n",
    "$$"
   ]
  },
  {
   "cell_type": "markdown",
   "metadata": {},
   "source": [
    "For continuously compounded discounted cash flows, the Maclaury duration converges to the modified duration; i.e.,"
   ]
  },
  {
   "cell_type": "markdown",
   "metadata": {},
   "source": [
    "$$\n",
    "    D_{Mac} = \\frac{1}{B}\\sum_{i = 1}^nt_ic_ie^{-yt_i} \\rightarrow D \\approx -\\frac{1}{B}\\frac{\\Delta B}{\\Delta y} \\tag{43}\n",
    "$$"
   ]
  },
  {
   "cell_type": "markdown",
   "metadata": {},
   "source": [
    "Terms could be rearranged in (22) to yield $\\frac{\\Delta B}{B} \\approx -\\Delta y\\ D$. More discussion on p. 58 in text."
   ]
  },
  {
   "cell_type": "markdown",
   "metadata": {},
   "source": [
    "The **convexity** $C$ of a bond with price $B$ and yield $y$ is"
   ]
  },
  {
   "cell_type": "markdown",
   "metadata": {},
   "source": [
    "$$\n",
    "    C = \\frac{1}{B}\\ \\frac{\\partial^2 B}{\\partial y^2} = \\frac{1}{B}\\sum_{i = 1}^{n}t_i^2c_ie^{-yt_i} \\tag{44}\n",
    "$$"
   ]
  },
  {
   "cell_type": "markdown",
   "metadata": {},
   "source": [
    "Using Taylor expansion (see $\\S 6.6$ for the proof), it can be shown that the following approximation for the return of a bond is more accurate."
   ]
  },
  {
   "cell_type": "markdown",
   "metadata": {},
   "source": [
    "$$\n",
    "    \\frac{\\Delta B}{B} \\approx -D\\Delta y + \\frac{1}{2}C(\\Delta y)^2 \\tag{45}\n",
    "$$"
   ]
  },
  {
   "cell_type": "markdown",
   "metadata": {},
   "source": [
    "**Review $\\text{pp.}\\ 59-64$ and $\\text{pp.}\\ 64-65$ for discussions on _discretely compounded interest_ and _zero coupon_ bonds respectively.**"
   ]
  },
  {
   "cell_type": "code",
   "execution_count": 55,
   "metadata": {},
   "outputs": [
    {
     "data": {
      "text/plain": [
       "bond_PrDuCv (generic function with 1 method)"
      ]
     },
     "execution_count": 55,
     "metadata": {},
     "output_type": "execute_result"
    }
   ],
   "source": [
    "function bond_PrDuCv(T, n, t_cash_flow, v_cash_flow, y)\n",
    "    B = 0; D = 0; C = 0\n",
    "    disc = zeros(n)\n",
    "    for i in 1:n\n",
    "        disc[i] = exp(-t_cash_flow[i]y)\n",
    "        B = B + v_cash_flow[i]disc[i]\n",
    "        D = D + t_cash_flow[i]v_cash_flow[i]disc[i]\n",
    "        C = C + t_cash_flow[i]^2 * v_cash_flow[i] * disc[i]\n",
    "    end\n",
    "    D = D / B; C = C / B\n",
    "    return B, D, C\n",
    "end"
   ]
  },
  {
   "cell_type": "markdown",
   "metadata": {},
   "source": [
    "## Example"
   ]
  },
  {
   "cell_type": "markdown",
   "metadata": {},
   "source": [
    "This one is similar to the above example, except that instead of an interest rate we are given yield $6.50\\%$ and we are asked to compute the bond price, duration and convexity."
   ]
  },
  {
   "cell_type": "markdown",
   "metadata": {},
   "source": [
    "**Solution** Using the code in `bond_PrDuCv` we use the same input as in the previous example and obtain"
   ]
  },
  {
   "cell_type": "code",
   "execution_count": 56,
   "metadata": {},
   "outputs": [
    {
     "data": {
      "text/plain": [
       "(101.04619291323598, 1.5804215018374828, 2.5916858802726863)"
      ]
     },
     "execution_count": 56,
     "metadata": {},
     "output_type": "execute_result"
    }
   ],
   "source": [
    "bond_PrDuCv(20, 4, t_cash_flow, v_cash_flow, 0.065)"
   ]
  },
  {
   "cell_type": "markdown",
   "metadata": {},
   "source": [
    "# Black-Scholes Formulas"
   ]
  },
  {
   "cell_type": "markdown",
   "metadata": {},
   "source": [
    "**Note: the Black-Scholes Formulas takes an heavy-weight assumption that assets have a log-normal distribution of prices.**\n",
    "\n",
    "Using the Black-Scholes formulas below, we can derive the following `P` and `C` positions for European-style options, with volatility $\\sigma$, paying dividends continuously at a rate $q$, with constant risk-free rate $r$, spot price $S$ (assumed to be real), strike $K$ (instantaneous wrt the position taken) and maturity $T$:"
   ]
  },
  {
   "cell_type": "markdown",
   "metadata": {},
   "source": [
    "$$\n",
    "    C(S, t) = Se^{-q(T\\ -\\ t)}N(d_1)\\ -\\ Ke^{-r(T - t)}N(d_2); \\tag{46}\n",
    "$$"
   ]
  },
  {
   "cell_type": "markdown",
   "metadata": {},
   "source": [
    "$$\n",
    "    \\ \\ \\ \\ P(S, t) = Ke^{-r(T\\ -\\ t)}N(-d_2)\\ -\\ Se^{-q(T - t)}N(-d_1) \\tag{47}\n",
    "$$"
   ]
  },
  {
   "cell_type": "markdown",
   "metadata": {},
   "source": [
    "where the drift terms, $d_1$ and $d_2$ are defined as:"
   ]
  },
  {
   "cell_type": "markdown",
   "metadata": {},
   "source": [
    "$$\n",
    "    \\ \\ \\ \\ \\ \\ d_{1} = \\frac{\\ln\\left(\\frac{S}{K}\\right)\\ +\\ \\left(r\\ -\\ q\\ +\\ \\frac{\\sigma^2}{2}\\right)(T\\ -\\ t)}{\\sigma \\sqrt{T\\ -\\ t}} \\tag{48}\n",
    "$$"
   ]
  },
  {
   "cell_type": "markdown",
   "metadata": {},
   "source": [
    "$$\n",
    "    \\ \\ \\ \\ \\ \\ d_{2} = d_1 - \\sigma \\sqrt{T - t}\\ =\\ \\frac{\\ln\\left(\\frac{S}{K}\\right)\\ +\\ \\left(r\\ -\\ q\\ -\\ \\frac{\\sigma^2}{2}\\right)(T\\ -\\ t)}{\\sigma \\sqrt{T\\ -\\ t}} \\ \\ \\ \\ \\ \\ \\ \\ \\ \\ \\ \\ \\ \\ \\ \\ \\ \\ \\ \\ \\ \\ \\ \\ \\ \\ \\ \\ \\tag{49}\n",
    "$$"
   ]
  },
  {
   "cell_type": "markdown",
   "metadata": {},
   "source": [
    "with cummulative normal densities defined as"
   ]
  },
  {
   "cell_type": "markdown",
   "metadata": {},
   "source": [
    "$$\n",
    "    N'(d_1) = \\frac{1}{\\sqrt{2\\pi}} e^{-\\frac{d_1^2}{2}} \\tag{50}\n",
    "$$"
   ]
  },
  {
   "cell_type": "markdown",
   "metadata": {},
   "source": [
    "$$\n",
    "    N'(d_2) = \\frac{1}{\\sqrt{2\\pi}} e^{-\\frac{d_2^2}{2}} \\tag{51}\n",
    "$$"
   ]
  },
  {
   "cell_type": "markdown",
   "metadata": {},
   "source": [
    "## Black-Scholes Implementation"
   ]
  },
  {
   "cell_type": "code",
   "execution_count": 12,
   "metadata": {},
   "outputs": [],
   "source": [
    "include(\"./aux.jl\");"
   ]
  },
  {
   "cell_type": "code",
   "execution_count": 37,
   "metadata": {},
   "outputs": [
    {
     "data": {
      "text/plain": [
       "d1 (generic function with 1 method)"
      ]
     },
     "execution_count": 37,
     "metadata": {},
     "output_type": "execute_result"
    }
   ],
   "source": [
    "function d1(t, S, K, T, σ, r, q)\n",
    "    return (log(S / K) + (r - q + σ^2 / 2) ⋅ (T - t)) / (σ ⋅ sqrt(T - t))\n",
    "end"
   ]
  },
  {
   "cell_type": "code",
   "execution_count": 39,
   "metadata": {},
   "outputs": [
    {
     "data": {
      "text/plain": [
       "d2 (generic function with 1 method)"
      ]
     },
     "execution_count": 39,
     "metadata": {},
     "output_type": "execute_result"
    }
   ],
   "source": [
    "function d2(t, S, K, T, σ, r, q)\n",
    "    return d1(t, S, K, T, σ, r, q) - σ ⋅ sqrt(T - t)\n",
    "end"
   ]
  },
  {
   "cell_type": "code",
   "execution_count": 34,
   "metadata": {},
   "outputs": [
    {
     "data": {
      "text/plain": [
       "cum_dist_normal (generic function with 1 method)"
      ]
     },
     "execution_count": 34,
     "metadata": {},
     "output_type": "execute_result"
    }
   ],
   "source": [
    "function cum_dist_normal(t)\n",
    "    z = abs(t)\n",
    "    y = 1 / (1 + 0.2316419z)\n",
    "    a1 = 0.319381530; a2 = -0.356563782; a3 = 1.781477937; a4 = -1.821255978; a5 = 1.330274429\n",
    "    \n",
    "    m = 1 - exp(-t^2 / 2) * (a1 * y + a2 * y^2 + a3 * y^3 + a4 * y^4 + a5 * y^5) / √(2 * π)\n",
    "    if t > 0\n",
    "        nn = m\n",
    "    else\n",
    "        nn = 1 - m\n",
    "    end\n",
    "    return nn\n",
    "end"
   ]
  },
  {
   "cell_type": "code",
   "execution_count": 35,
   "metadata": {},
   "outputs": [
    {
     "data": {
      "text/plain": [
       "black_scholes_approx (generic function with 1 method)"
      ]
     },
     "execution_count": 35,
     "metadata": {},
     "output_type": "execute_result"
    }
   ],
   "source": [
    "function black_scholes_approx(t, S, K, T, σ, r, q)\n",
    "    d_1 = d1(t, S, K, T, σ, r, q); d_2 = d2(t, S, K, T, σ, r, q)\n",
    "    C = S * exp(-q * (T - t)) * cum_dist_normal(d_1) - K * exp(-r * (T - t)) * cum_dist_normal(d_2)\n",
    "    P = K * exp(-r * (T - t)) * cum_dist_normal(-d_2) - S * exp(-q * (T - t)) * cum_dist_normal(-d_1)\n",
    "    return [d_1, d_2], [C, P]\n",
    "end"
   ]
  },
  {
   "cell_type": "markdown",
   "metadata": {},
   "source": [
    "## Example"
   ]
  },
  {
   "cell_type": "code",
   "execution_count": 9,
   "metadata": {},
   "outputs": [
    {
     "data": {
      "text/plain": [
       "([0.383206, 0.171073], [4.70533, 2.34302])"
      ]
     },
     "execution_count": 9,
     "metadata": {},
     "output_type": "execute_result"
    }
   ],
   "source": [
    "t = 0; S = 42; K = 40; T = 0.5; σ = 0.3; q = 0.03; r = 0.05\n",
    "d1d2, CP = black_scholes_approx(t, S, K, T, σ, r, q)"
   ]
  },
  {
   "cell_type": "markdown",
   "metadata": {},
   "source": [
    "# The Greeks of European Call and Put Options"
   ]
  },
  {
   "cell_type": "markdown",
   "metadata": {},
   "source": [
    "$$\n",
    "    \\Delta(V) = \\frac{\\partial V}{\\partial S} \\ \\ \\tag{52}\n",
    "$$"
   ]
  },
  {
   "cell_type": "markdown",
   "metadata": {},
   "source": [
    "$$\n",
    "    \\Gamma(V) = \\frac{\\partial^{2} V}{\\partial S^2} \\tag{53}\n",
    "$$"
   ]
  },
  {
   "cell_type": "markdown",
   "metadata": {},
   "source": [
    "$$\n",
    "    \\Theta(V) = \\frac{\\partial V}{\\partial t} \\ \\ \\tag{54}\n",
    "$$"
   ]
  },
  {
   "cell_type": "markdown",
   "metadata": {},
   "source": [
    "$$\n",
    "    \\rho(V) = \\frac{\\partial V}{\\partial r} \\ \\tag{55}\n",
    "$$"
   ]
  },
  {
   "cell_type": "markdown",
   "metadata": {},
   "source": [
    "$$\n",
    "    \\textrm{vega}(V) = \\frac{\\partial V}{\\partial \\sigma} \\ \\ \\ \\ \\ \\ \\tag{56}\n",
    "$$"
   ]
  },
  {
   "cell_type": "markdown",
   "metadata": {},
   "source": [
    "$$\n",
    "    \\textrm{volga}(V) = \\frac{\\partial(\\textrm{vega(V)})}{\\partial \\sigma} = \\frac{\\partial^2 V}{\\partial \\sigma^2} \\ \\ \\ \\ \\ \\ \\ \\ \\ \\ \\ \\ \\ \\ \\ \\ \\ \\ \\ \\ \\ \\ \\ \\ \\ \\ \\ \\ \\ \\ \\ \\tag{57}\n",
    "$$"
   ]
  },
  {
   "cell_type": "markdown",
   "metadata": {},
   "source": [
    "$$\n",
    "    \\textrm{vanna}(V) = \\frac{\\partial(\\textrm{vega(V)})}{\\partial S} = \\frac{\\partial^2 V}{\\partial S \\partial \\sigma} \\ \\ \\ \\ \\ \\ \\ \\ \\ \\ \\ \\ \\ \\ \\ \\ \\ \\ \\ \\ \\ \\ \\ \\ \\ \\ \\ \\ \\ \\ \\tag{58}\n",
    "$$"
   ]
  },
  {
   "cell_type": "markdown",
   "metadata": {},
   "source": [
    "## Magic of the Greeks"
   ]
  },
  {
   "cell_type": "markdown",
   "metadata": {},
   "source": [
    "Given"
   ]
  },
  {
   "cell_type": "markdown",
   "metadata": {},
   "source": [
    "$$\n",
    "    d_1 = \\frac{\\ln\\left(\\frac{S}{K}\\right) + (r - q)(T - t)}{σ\\sqrt{T - t}} + \\frac{σ\\sqrt{T - t}}{2};\\ d_2 = d_1 - \\sqrt{T - t} \\tag{59}\n",
    "$$"
   ]
  },
  {
   "cell_type": "markdown",
   "metadata": {},
   "source": [
    "we have that"
   ]
  },
  {
   "cell_type": "markdown",
   "metadata": {},
   "source": [
    "$$\n",
    "    Se^{q(T - t)}N'(d_1) = Ke^{-r(T - t)}N'(d_2) \\tag{cf. Lemma 3.15 on p. 94; 60}\n",
    "$$"
   ]
  },
  {
   "cell_type": "markdown",
   "metadata": {},
   "source": [
    "where $N'(d_1) = \\frac{1}{\\sqrt{2π}}e^{-\\frac{d_1^2}{2}}$ and $N'(d_2) = \\frac{1}{\\sqrt{2π}}e^{-\\frac{d_2^2}{2}}$."
   ]
  },
  {
   "cell_type": "markdown",
   "metadata": {},
   "source": [
    "## Greeks for Call and Put Options"
   ]
  },
  {
   "cell_type": "markdown",
   "metadata": {},
   "source": [
    "Again, one would use the Black-Scholes formulas to prove the following."
   ]
  },
  {
   "cell_type": "markdown",
   "metadata": {},
   "source": [
    "$$\n",
    "    \\Delta(C) = e^{-q(T\\ -\\ t)}N(d_1) \\ \\ \\ \\ \\ \\tag{61}\n",
    "$$"
   ]
  },
  {
   "cell_type": "code",
   "execution_count": 15,
   "metadata": {},
   "outputs": [
    {
     "data": {
      "text/plain": [
       "Delta_C (generic function with 2 methods)"
      ]
     },
     "execution_count": 15,
     "metadata": {},
     "output_type": "execute_result"
    }
   ],
   "source": [
    "function Delta_C(t, S, K, T, σ, r, q)\n",
    "    d_1 = d1(t, S, K, T, σ, r, q)\n",
    "    return exp(-q(T - t)) * cum_dist_normal(d_1)\n",
    "end"
   ]
  },
  {
   "cell_type": "markdown",
   "metadata": {},
   "source": [
    "$$\n",
    "    \\Delta(P) = -e^{-q(T\\ -\\ t)}N(-d_1) \\tag{62}\n",
    "$$"
   ]
  },
  {
   "cell_type": "code",
   "execution_count": 16,
   "metadata": {
    "scrolled": true
   },
   "outputs": [
    {
     "data": {
      "text/plain": [
       "Delta_P (generic function with 1 method)"
      ]
     },
     "execution_count": 16,
     "metadata": {},
     "output_type": "execute_result"
    }
   ],
   "source": [
    "function Delta_P(t, S, K, T, σ, r, q)\n",
    "    d_1 = d1(t, S, K, T, σ, r, q)\n",
    "    return -exp(-q(T - t)) * cum_dist_normal(-d_1)\n",
    "end"
   ]
  },
  {
   "cell_type": "markdown",
   "metadata": {},
   "source": [
    "$$\n",
    "    \\Gamma(C) = \\frac{e^{-q(T\\ -\\ t)}}{S\\sigma\\sqrt{T\\ -\\ t}}\\frac{1}{\\sqrt{2\\pi}}e^{-\\frac{d_1^2}{2}} \\tag{63}\n",
    "$$"
   ]
  },
  {
   "cell_type": "code",
   "execution_count": 17,
   "metadata": {},
   "outputs": [
    {
     "data": {
      "text/plain": [
       "Gamma_C (generic function with 1 method)"
      ]
     },
     "execution_count": 17,
     "metadata": {},
     "output_type": "execute_result"
    }
   ],
   "source": [
    "function Gamma_C(t, S, K, T, σ, r, q)\n",
    "    d_1 = d1(t, S, K, T, σ, r, q)\n",
    "    return exp(-q(T - t)) / (S * σ * √(T - t)) * (1 / √(2π)) * exp(-d_1^2) / 2\n",
    "end"
   ]
  },
  {
   "cell_type": "markdown",
   "metadata": {},
   "source": [
    "$$\n",
    "    \\Gamma(P) = \\Gamma(C) \\ \\ \\ \\ \\ \\ \\ \\ \\ \\ \\ \\ \\ \\ \\ \\ \\ \\ \\ \\ \\ \\ \\ \\ \\ \\ \\ \\ \\ \\tag{64}\n",
    "$$"
   ]
  },
  {
   "cell_type": "code",
   "execution_count": 18,
   "metadata": {},
   "outputs": [
    {
     "data": {
      "text/plain": [
       "Gamma_P (generic function with 1 method)"
      ]
     },
     "execution_count": 18,
     "metadata": {},
     "output_type": "execute_result"
    }
   ],
   "source": [
    "function Gamma_P(t, S, K, T, σ, r, q)\n",
    "    return Gamma_C(t, S, K, T, σ, r, q)\n",
    "end"
   ]
  },
  {
   "cell_type": "markdown",
   "metadata": {},
   "source": [
    "$$\n",
    "\\Theta(C) = -\\frac{S\\sigma e^{-q(T\\ -\\ t)}}{2\\sqrt{2\\pi(T\\ -\\ t)}}\\ +\\ qSe^{-q(T\\ -\\ t)}N(d_1)\\ -\\ rKe^{-r(T\\ -\\ t)}N(d_2) \\ \\ \\ \\ \\tag{65}\n",
    "$$"
   ]
  },
  {
   "cell_type": "code",
   "execution_count": 23,
   "metadata": {},
   "outputs": [
    {
     "data": {
      "text/plain": [
       "Theta_C (generic function with 1 method)"
      ]
     },
     "execution_count": 23,
     "metadata": {},
     "output_type": "execute_result"
    }
   ],
   "source": [
    "function Theta_C(t, S, K, T, σ, r, q)\n",
    "    d_1 = d1(t, S, K, T, σ, r, q); d_2 = d2(t, S, K, T, σ, r, q)\n",
    "    return -(S * σ * exp(-q * (T - t))) / (2 * √(2 * π * (T - t))) + q * S * exp(-q * (T - t)) * cum_dist_normal(d_1) - r * K * exp(-r * (T - t)) * cum_dist_normal(d_2)\n",
    "end"
   ]
  },
  {
   "cell_type": "markdown",
   "metadata": {},
   "source": [
    "$$\n",
    "    \\Theta(P) = -\\frac{S\\sigma e^{-q(T\\ -\\ t)}}{2\\sqrt{2\\pi(T\\ -\\ t)}}\\ -\\ qSe^{-q(T\\ -\\ t)} N(-d_1)\\ +\\ rKe^{-r(T\\ -\\ t)} N(-d_2) \\tag{66}\n",
    "$$"
   ]
  },
  {
   "cell_type": "code",
   "execution_count": 24,
   "metadata": {},
   "outputs": [
    {
     "data": {
      "text/plain": [
       "Theta_P (generic function with 1 method)"
      ]
     },
     "execution_count": 24,
     "metadata": {},
     "output_type": "execute_result"
    }
   ],
   "source": [
    "function Theta_P(t, S, K, T, σ, r, q)\n",
    "    d_1 = d1(t, S, K, T, σ, r, q); d_2 = d2(t, S, K, T, σ, r, q)\n",
    "    return -(S * σ * exp(-q * (T - t))) / (2 * √(2 * π * (T - t))) - q * S * exp(-q * (T - t)) * cum_dist_normal(-d_1) + r * K * exp(-r * (T - t)) * cum_dist_normal(-d_2)\n",
    "end"
   ]
  },
  {
   "cell_type": "markdown",
   "metadata": {},
   "source": [
    "$$\n",
    "    \\rho(C) = K(T\\ -\\ t)e^{-r(T\\ -\\ t)}N(d_2) \\ \\ \\ \\ \\ \\ \\tag{67}\n",
    "$$"
   ]
  },
  {
   "cell_type": "code",
   "execution_count": 25,
   "metadata": {},
   "outputs": [
    {
     "data": {
      "text/plain": [
       "Rho_C (generic function with 1 method)"
      ]
     },
     "execution_count": 25,
     "metadata": {},
     "output_type": "execute_result"
    }
   ],
   "source": [
    "function Rho_C(t, S, K, T, σ, r, q)\n",
    "    d_2 = d2(t, S, K, T, σ, r, q)\n",
    "    return K * (T - t) * exp(-r * (T - t)) * cum_dist_normal(d_2)\n",
    "end"
   ]
  },
  {
   "cell_type": "markdown",
   "metadata": {},
   "source": [
    "$$\n",
    "    \\rho(P) = -K(T\\ -\\ t)e^{-r(T\\ -\\ t)}N(-d_2) \\tag{68}\n",
    "$$"
   ]
  },
  {
   "cell_type": "code",
   "execution_count": 26,
   "metadata": {},
   "outputs": [
    {
     "data": {
      "text/plain": [
       "Rho_P (generic function with 1 method)"
      ]
     },
     "execution_count": 26,
     "metadata": {},
     "output_type": "execute_result"
    }
   ],
   "source": [
    "function Rho_P(t, S, K, T, σ, r, q)\n",
    "    d_2 = d2(t, S, K, T, σ, r, q)\n",
    "    return -1 * K * (T - t) * exp(-r * (T - t)) * cum_dist_normal(-d_2)\n",
    "end"
   ]
  },
  {
   "cell_type": "markdown",
   "metadata": {},
   "source": [
    "$$\n",
    "    \\textrm{vega}(C) = Se^{-q(T\\ -\\ t)}\\sqrt{T\\ -\\ t}\\frac{1}{\\sqrt{2\\pi}}e^{-\\frac{d_1^2}{2}} \\tag{69}\n",
    "$$"
   ]
  },
  {
   "cell_type": "code",
   "execution_count": 27,
   "metadata": {},
   "outputs": [
    {
     "data": {
      "text/plain": [
       "Vega_C (generic function with 1 method)"
      ]
     },
     "execution_count": 27,
     "metadata": {},
     "output_type": "execute_result"
    }
   ],
   "source": [
    "function Vega_C(t, S, K, T, σ, r, q)\n",
    "    d_1 = d1(t, S, K, T, σ, r, q)\n",
    "    return S * exp(-q(T - t)) * √(T - t) * (1 / √(2π)) * exp(-d_1^2 / 2)\n",
    "end"
   ]
  },
  {
   "cell_type": "markdown",
   "metadata": {},
   "source": [
    "$$\n",
    "    \\textrm{vega}(P) = \\textrm{vega}(C) \\ \\ \\ \\ \\ \\ \\ \\ \\ \\ \\ \\ \\ \\ \\ \\ \\ \\ \\ \\ \\ \\ \\ \\ \\ \\ \\ \\ \\ \\ \\ \\ \\ \\tag{70}\n",
    "$$"
   ]
  },
  {
   "cell_type": "code",
   "execution_count": 29,
   "metadata": {},
   "outputs": [
    {
     "data": {
      "text/plain": [
       "Vega_P (generic function with 1 method)"
      ]
     },
     "execution_count": 29,
     "metadata": {},
     "output_type": "execute_result"
    }
   ],
   "source": [
    "function Vega_P(t, S, K, T, σ, r, q)\n",
    "    return Vega_C(t, S, K, T, σ, r, q)\n",
    "end"
   ]
  },
  {
   "cell_type": "markdown",
   "metadata": {},
   "source": [
    "$$\n",
    "    \\textrm{volga}(C) = Se^{-q(T\\ -\\ t)}\\sqrt{T\\ -\\ t}\\frac{1}{\\sqrt{2\\pi}}e^{-\\frac{d_1^2}{2}}\\frac{d_1 d_2}{\\sigma} \\tag{71}\n",
    "$$"
   ]
  },
  {
   "cell_type": "code",
   "execution_count": 31,
   "metadata": {},
   "outputs": [
    {
     "data": {
      "text/plain": [
       "Volga_C (generic function with 1 method)"
      ]
     },
     "execution_count": 31,
     "metadata": {},
     "output_type": "execute_result"
    }
   ],
   "source": [
    "function Volga_C(t, S, K, T, σ, r, q)\n",
    "    d_1 = d1(t, S, K, T, σ, r, q); d_2 = d2(t, S, K, T, σ, r, q)\n",
    "    return S * exp(-q * (T - t)) * √(T - t) * (1 / √(2π)) * exp(-d_1^2 / 2) * (d_1 * d_2 / σ)\n",
    "end"
   ]
  },
  {
   "cell_type": "markdown",
   "metadata": {},
   "source": [
    "$$\n",
    "    \\textrm{volga}(P) = \\textrm{volga}(C) \\ \\ \\ \\ \\ \\ \\ \\ \\ \\ \\ \\ \\ \\ \\ \\ \\ \\ \\ \\ \\ \\ \\ \\ \\ \\ \\ \\ \\ \\ \\ \\ \\ \\ \\ \\ \\ \\ \\ \\tag{72}\n",
    "$$"
   ]
  },
  {
   "cell_type": "code",
   "execution_count": 32,
   "metadata": {},
   "outputs": [
    {
     "data": {
      "text/plain": [
       "Volga_P (generic function with 1 method)"
      ]
     },
     "execution_count": 32,
     "metadata": {},
     "output_type": "execute_result"
    }
   ],
   "source": [
    "function Volga_P(t, S, K, T, σ, r, q)\n",
    "    return Volga_C(t, S, K, T, σ, r, q)\n",
    "end"
   ]
  },
  {
   "cell_type": "markdown",
   "metadata": {},
   "source": [
    "$$\n",
    "    \\textrm{vanna}(C) = -e^{-q(T\\ -\\ t)}\\frac{1}{\\sqrt{2\\pi}}e^{-\\frac{{d_1}^2}{2}} \\frac{d_2}{\\sigma} \\tag{73}\n",
    "$$"
   ]
  },
  {
   "cell_type": "code",
   "execution_count": 33,
   "metadata": {},
   "outputs": [
    {
     "data": {
      "text/plain": [
       "Vanna_C (generic function with 1 method)"
      ]
     },
     "execution_count": 33,
     "metadata": {},
     "output_type": "execute_result"
    }
   ],
   "source": [
    "function Vanna_C(t, S, K, T, σ, r, q)\n",
    "    d_1 = d1(t, S, K, T, σ, r, q); d_2 = d2(t, S, K, T, σ, r, q)\n",
    "    return -exp(-q(T - t)) * (1 / √(2π)) * exp(-d_1^2 / 2) * (d_2 / σ)\n",
    "end"
   ]
  },
  {
   "cell_type": "markdown",
   "metadata": {},
   "source": [
    "$$\n",
    "    \\textrm{vanna}(P) = \\textrm{vanna}(C) \\ \\ \\ \\ \\ \\ \\ \\ \\ \\ \\ \\ \\ \\ \\ \\ \\ \\ \\ \\ \\ \\ \\ \\tag{74}\n",
    "$$"
   ]
  },
  {
   "cell_type": "code",
   "execution_count": 34,
   "metadata": {},
   "outputs": [
    {
     "data": {
      "text/plain": [
       "Vanna_P (generic function with 1 method)"
      ]
     },
     "execution_count": 34,
     "metadata": {},
     "output_type": "execute_result"
    }
   ],
   "source": [
    "function Vanna_P(t, S, K, T, σ, r, q)\n",
    "    return Vanna_C(t, S, K, T, σ, r, q)\n",
    "end"
   ]
  },
  {
   "cell_type": "markdown",
   "metadata": {},
   "source": [
    "## Example"
   ]
  },
  {
   "cell_type": "markdown",
   "metadata": {},
   "source": [
    "(I) Using the Black-Scholes formula, we want to price a six month ($6\\ \\text{mo}$) European call option with strike 40, on an underlying asset with spot price $42$ and volatility $30\\%$, which pays dividends **continuously**, with dividend rate $3\\%$. Assume that interest rates are constant at $5\\%$. (Also compute Greeks)."
   ]
  },
  {
   "cell_type": "markdown",
   "metadata": {},
   "source": [
    "(II) Price a six month ($6\\ \\text{mo}$) European put option with strike 40 on the same asset, using the Black-Scholes formula. Check whether the Put-Call parity is satisfied (and check the Greeks)."
   ]
  },
  {
   "cell_type": "code",
   "execution_count": 40,
   "metadata": {},
   "outputs": [
    {
     "data": {
      "text/plain": [
       "([0.383206, 0.171073], [4.70533, 2.34302])"
      ]
     },
     "execution_count": 40,
     "metadata": {},
     "output_type": "execute_result"
    }
   ],
   "source": [
    "# cum_dist_normal(t)\n",
    "t = 0; S = 42; K = 40; T = 0.5; σ = 0.30; r = 0.05; q = 0.03\n",
    "d1d2, CP = black_scholes_approx(t, S, K, T, σ, r, q)"
   ]
  }
 ],
 "metadata": {
  "@webio": {
   "lastCommId": null,
   "lastKernelId": null
  },
  "kernelspec": {
   "display_name": "Julia 1.5.3",
   "language": "julia",
   "name": "julia-1.5"
  },
  "language_info": {
   "file_extension": ".jl",
   "mimetype": "application/julia",
   "name": "julia",
   "version": "1.5.3"
  }
 },
 "nbformat": 4,
 "nbformat_minor": 4
}
