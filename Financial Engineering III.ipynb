{
 "cells": [
  {
   "cell_type": "code",
   "execution_count": 3,
   "metadata": {},
   "outputs": [
    {
     "name": "stderr",
     "output_type": "stream",
     "text": [
      "\u001b[32m\u001b[1m    Updating\u001b[22m\u001b[39m registry at `~/.julia/registries/General`\n",
      "\u001b[32m\u001b[1m   Resolving\u001b[22m\u001b[39m package versions...\n",
      "\u001b[32m\u001b[1mUpdating\u001b[22m\u001b[39m `~/.julia/environments/v1.6/Project.toml`\n",
      " \u001b[90m [1fd47b50] \u001b[39m\u001b[92m+ QuadGK v2.4.1\u001b[39m\n",
      "\u001b[32m\u001b[1mNo Changes\u001b[22m\u001b[39m to `~/.julia/environments/v1.6/Manifest.toml`\n",
      "\u001b[32m\u001b[1mPrecompiling\u001b[22m\u001b[39m project... (tip: to disable auto-precompilation set ENV[\"JULIA_PKG_PRECOMPILE_AUTO\"]=0)\n",
      "\u001b[32m  ✓ \u001b[39m\u001b[90mHTTP\u001b[39m\n",
      "\u001b[32m  ✓ \u001b[39m\u001b[90mGR\u001b[39m\n",
      "\u001b[32m  ✓ \u001b[39mPlots\n",
      "\u001b[32m  ✓ \u001b[39mStatsPlots\n",
      "4 dependencies successfully precompiled (167 already precompiled)\n"
     ]
    }
   ],
   "source": [
    "] add \"QuadGK\""
   ]
  },
  {
   "cell_type": "code",
   "execution_count": 6,
   "metadata": {},
   "outputs": [
    {
     "name": "stderr",
     "output_type": "stream",
     "text": [
      "\u001b[32m\u001b[1m   Resolving\u001b[22m\u001b[39m package versions...\n",
      "\u001b[32m\u001b[1m   Installed\u001b[22m\u001b[39m Calculus ─ v0.5.1\n",
      "\u001b[32m\u001b[1mUpdating\u001b[22m\u001b[39m `~/.julia/environments/v1.6/Project.toml`\n",
      " \u001b[90m [49dc2e85] \u001b[39m\u001b[92m+ Calculus v0.5.1\u001b[39m\n",
      "\u001b[32m\u001b[1mUpdating\u001b[22m\u001b[39m `~/.julia/environments/v1.6/Manifest.toml`\n",
      " \u001b[90m [49dc2e85] \u001b[39m\u001b[92m+ Calculus v0.5.1\u001b[39m\n",
      "\u001b[32m\u001b[1mPrecompiling\u001b[22m\u001b[39m project... (tip: to disable auto-precompilation set ENV[\"JULIA_PKG_PRECOMPILE_AUTO\"]=0)\n",
      "\u001b[32m  ✓ \u001b[39mCalculus\n",
      "1 dependency successfully precompiled (171 already precompiled)\n"
     ]
    }
   ],
   "source": [
    "] add \"Calculus\""
   ]
  },
  {
   "cell_type": "code",
   "execution_count": 8,
   "metadata": {},
   "outputs": [
    {
     "name": "stderr",
     "output_type": "stream",
     "text": [
      "\u001b[32m\u001b[1m   Resolving\u001b[22m\u001b[39m package versions...\n",
      "\u001b[32m\u001b[1mUpdating\u001b[22m\u001b[39m `~/.julia/environments/v1.6/Project.toml`\n",
      " \u001b[90m [f6369f11] \u001b[39m\u001b[92m+ ForwardDiff v0.10.12\u001b[39m\n",
      "\u001b[32m\u001b[1mNo Changes\u001b[22m\u001b[39m to `~/.julia/environments/v1.6/Manifest.toml`\n"
     ]
    }
   ],
   "source": [
    "] add \"ForwardDiff\""
   ]
  },
  {
   "cell_type": "code",
   "execution_count": 1,
   "metadata": {},
   "outputs": [],
   "source": [
    "include(\"./aux.jl\")\n",
    "include(\"./a2x.jl\")\n",
    "include(\"./a3x.jl\");"
   ]
  },
  {
   "cell_type": "markdown",
   "metadata": {},
   "source": [
    "# Finite Differences. Black-Scholes PDE."
   ]
  },
  {
   "cell_type": "markdown",
   "metadata": {},
   "source": [
    "## $\\S 7.2$ Exercises"
   ]
  },
  {
   "cell_type": "markdown",
   "metadata": {},
   "source": [
    "**Problem 10**: Asked to consider the following second order ODE:\n",
    "\n",
    "$$\n",
    "    3x^2y''(x) - xy'(x) + y(x) = 0, \\forall x \\in [0, 1] \\tag{7.2.1} \\\\\n",
    "    y(0) = 1;\\qquad y(1) = \\frac{1}{2}\\qquad\\qquad\\qquad\n",
    "$$\n",
    "\n",
    "I.$\\qquad$ Asked to partition the interval [0, 1] into $n$ equal intervals, corresponding to nodes $x_i = ih, i = 0 : n$, where $h = \\frac{1}{n}$. Asked to write the finite difference discretization of the ODE at each node, $x_i, i = 1 : (n - 1)$, using central finite difference approximations for both $y'(x)$ and $y''(x)$.\n",
    "\n",
    "II.$\\qquad$ If $n = 6$, from the boundary conditions, $y_0 = 1$ and $y_6 = \\frac{1}{2}$. The finite difference discretization scheme will have five equations, which can be written as a $5 \\times 5$ linear system $AY = b$. Asked to find $A$ and $b$."
   ]
  },
  {
   "cell_type": "markdown",
   "metadata": {},
   "source": [
    "**Solution**:\n",
    "\n",
    "I.$\\qquad$ Asked to let $x_i = ih, i = 0 : n$, where $h = \\frac{1}{n}$. Searching for $y_0, y_1, \\ldots, y_n$ such that $y_i$ is an approximate value of $y(x_i), \\forall\\ i \\in [0, n]$.\n",
    "\n",
    "Writing the ODE (7.2.1) at each interior node $x_i = ih$, $i = 1 : (n - 1)$, to obtain\n",
    "\n",
    "$$\n",
    "    3x^2y''(x_i) - x_iy'(x_i) + y(x_i) = 0, \\forall\\ i = 1 : (n - 1)\\tag{7.2.2}.\n",
    "$$\n",
    "\n",
    "Substituting the second order central difference approximations for $y''(x_i)$ and $y'(x_i)$, respectively; i.e.,\n",
    "\n",
    "$$\n",
    "    y''(x_i)\\quad = \\quad \\frac{y(x_{i + 1}) - 2y(x_i) + y(x_{i - 1})}{h^2} + O(h^2) \\\\\n",
    "    y'(x_i)\\quad = \\quad \\frac{y(x_{i+1}) - y(x_{i-1})}{2h} + O(h^2)\\qquad\\quad\n",
    "$$\n",
    "\n",
    "into (7.2.2), to obtain the following second order finite difference discretization of (7.2.1), using the approximate values $y_i$ for the exact values $y(x_i)$, for $i = 0 : n$, and ignoring the $O(h^2)$ term:\n",
    "\n",
    "$$\n",
    "    3i^2h^2\\ \\frac{y_{i+1} - 2y_i + y_{i-1}}{h^2} - ih\\frac{y_{i+1} - y_{i-1}}{2hy} + y_i = 0, \\forall\\ i = 1 : (n - 1),\n",
    "$$\n",
    "\n",
    "From the boundary conditions, we find that $y_0 = 1$ and $y_n = \\frac{1}{2}$."
   ]
  },
  {
   "cell_type": "markdown",
   "metadata": {},
   "source": [
    "II.$\\qquad$ For $n = 6$, the finite difference discretization above of the ODE (7.2.1) can be written in matrix form as\n",
    "\n",
    "$$\n",
    "    A\\ Y = b,\n",
    "$$\n",
    "\n",
    "where $A$ is a tridiagonal $5 \\times 5$ matrix given by\n",
    "\n",
    "$$\n",
    "    \\qquad A(i, i)\\qquad = -(6^2 - 1),\\ \\forall\\ i = 1 : 5; \\\\\n",
    "    A(i, i-1)\\qquad = 3i^2 + \\frac{i}{2},\\ \\forall\\ i = 2 : 5; \\\\\n",
    "    A(i, i+1)\\qquad = 3i^2 - \\frac{1}{2},\\ \\forall\\ i = 1 : 4,\n",
    "$$\n",
    "\n",
    "i.e.,"
   ]
  },
  {
   "cell_type": "code",
   "execution_count": 2,
   "metadata": {},
   "outputs": [
    {
     "data": {
      "text/plain": [
       "5×5 Array{Float64,2}:\n",
       " -5.0    2.5    0.0    0.0     0.0\n",
       " 13.0  -23.0   11.0    0.0     0.0\n",
       "  0.0   28.5  -53.0   25.5     0.0\n",
       "  0.0    0.0   50.0  -95.0    46.0\n",
       "  0.0    0.0    0.0   77.5  -149.0"
      ]
     },
     "execution_count": 2,
     "metadata": {},
     "output_type": "execute_result"
    }
   ],
   "source": [
    "A = reshape(zeros(25), 5, 5)\n",
    "[A[i, i] = -(6i^2 - 1) for i in 1:5]; [A[i, i - 1] = 3i^2 + i / 2 for i in 2:5]; [A[i, i + 1] = 3i^2 - i / 2 for i in 1:4]; A"
   ]
  },
  {
   "cell_type": "markdown",
   "metadata": {},
   "source": [
    "or\n",
    "\n",
    "$$\n",
    "    \\left(\\begin{matrix}\n",
    "        -5 & 2.5 & 0 & 0 & 0 \\\\\n",
    "        13 & -23 & 11 & 0 & 0 \\\\\n",
    "        0 & 28.5 & -53 & 25.5 & 0 \\\\\n",
    "        0 & 0 & 50 & -95 & 46 \\\\\n",
    "        0 & 0 & 0 & 77.5 & -149\n",
    "    \\end{matrix}\\right),\n",
    "$$"
   ]
  },
  {
   "cell_type": "markdown",
   "metadata": {},
   "source": [
    "(I found this easier to do in Julia, to be honest.)"
   ]
  },
  {
   "cell_type": "markdown",
   "metadata": {},
   "source": [
    "and $Y$ and $b$ are the following column vectors:\n",
    "\n",
    "$$\n",
    "    Y = \\left(\\begin{matrix}\n",
    "                        y_1 \\\\\n",
    "                        y_2 \\\\\n",
    "                        y_3 \\\\\n",
    "                        y_4 \\\\\n",
    "                        y_5\n",
    "        \\end{matrix}\\right);\\qquad b = \\left(\\begin{matrix}\n",
    "                                                        -3.5 \\\\\n",
    "                                                        0 \\\\\n",
    "                                                        0 \\\\\n",
    "                                                        0 \\\\\n",
    "                                                        -36.25\n",
    "                                              \\end{matrix}\\right)\n",
    "$$"
   ]
  },
  {
   "cell_type": "markdown",
   "metadata": {},
   "source": [
    "I took the exercise further by solving for $Y$."
   ]
  },
  {
   "cell_type": "code",
   "execution_count": 7,
   "metadata": {},
   "outputs": [
    {
     "data": {
      "text/plain": [
       "5-element Array{Float64,1}:\n",
       " 1.3853112213946492\n",
       " 1.3706224427892995\n",
       " 1.2286609369112227\n",
       " 1.0218152955607753\n",
       " 0.7747697007111416"
      ]
     },
     "execution_count": 7,
     "metadata": {},
     "output_type": "execute_result"
    }
   ],
   "source": [
    "b = [-3.5, 0, 0, 0, -36.25]; A \\ b"
   ]
  },
  {
   "cell_type": "markdown",
   "metadata": {},
   "source": [
    "# Multivariable Calculus. Extremum Points. Barrier Options. Optimality."
   ]
  },
  {
   "cell_type": "markdown",
   "metadata": {},
   "source": [
    "## $\\S 8.2$ Exercises"
   ]
  },
  {
   "cell_type": "markdown",
   "metadata": {},
   "source": [
    "**Problem 3**: Asked to compute the integral of the function $f(x, y) = x^2 - 2y$ on the region bounded by the parabola $y = (x + 1)^2 and the line $y = 5x - 1$.\n",
    "\n",
    "**Solution**: The integration domain $D$ is defined within ${(x + 1)^2, 5x - 1}$. The points where the parabola $(x + 1)^2$ and the line $5x - 1$ meet are at $x = 1$ and $x = 2$, while $(x + 1)^2 \\leq 5x - 1$ at $x \\in (1, 2)$ as per the following:\n",
    "\n",
    "$(x + 1)^2 = 5x - 1 => x^2 + 2x + 1 = 5x - 1 => x^2 - 3x + 2 = 0 => (x - 1)(x - 2) = 0$\n",
    "\n",
    "Then we solve for the $0$-intercepts, and get $1$ and $2$. Something similar is done for the $\\leq$ case. I solved this using the double integral:\n",
    "\n",
    "$$\n",
    "    \\int\\int_D f(x, y)dxdy = \\int_1^2 \\left(\\int_{(x + 1)^2}^{5x - 1} (x^2 - 2y)dy\\right) dx\n",
    "$$"
   ]
  },
  {
   "cell_type": "markdown",
   "metadata": {},
   "source": [
    "I realized I needed to add `QuadGK`, since I did not have it in the package collection somehow."
   ]
  },
  {
   "cell_type": "code",
   "execution_count": 2,
   "metadata": {},
   "outputs": [
    {
     "name": "stderr",
     "output_type": "stream",
     "text": [
      "\u001b[32m\u001b[1m   Updating\u001b[22m\u001b[39m registry at `~/.julia/registries/General`\n"
     ]
    },
    {
     "name": "stdout",
     "output_type": "stream",
     "text": [
      "\u001b[?25l    "
     ]
    },
    {
     "name": "stderr",
     "output_type": "stream",
     "text": [
      "\u001b[32m\u001b[1m   Updating\u001b[22m\u001b[39m git-repo `https://github.com/JuliaRegistries/General.git`\n"
     ]
    },
    {
     "name": "stdout",
     "output_type": "stream",
     "text": [
      "\u001b[2K\u001b[?25h[1mFetching:\u001b[22m\u001b[39m [========================================>]  100.0 %"
     ]
    },
    {
     "name": "stderr",
     "output_type": "stream",
     "text": [
      "\u001b[32m\u001b[1m  Resolving\u001b[22m\u001b[39m package versions...\n",
      "\u001b[32m\u001b[1m  Installed\u001b[22m\u001b[39m Compat ───────────── v3.14.0\n",
      "\u001b[32m\u001b[1m  Installed\u001b[22m\u001b[39m QuadGK ───────────── v2.4.1\n",
      "\u001b[32m\u001b[1m  Installed\u001b[22m\u001b[39m OrderedCollections ─ v1.3.0\n",
      "\u001b[32m\u001b[1m  Installed\u001b[22m\u001b[39m DataStructures ───── v0.18.2\n",
      "\u001b[32m\u001b[1m   Updating\u001b[22m\u001b[39m `~/.julia/environments/v1.5/Project.toml`\n",
      "\u001b[90m   1fd47b50 \u001b[39m\u001b[92m+ QuadGK v2.4.1\u001b[39m\n",
      "\u001b[32m\u001b[1m   Updating\u001b[22m\u001b[39m `~/.julia/environments/v1.5/Manifest.toml`\n",
      "\u001b[90m   34da2185 \u001b[39m\u001b[92m+ Compat v3.14.0\u001b[39m\n",
      "\u001b[90m   864edb3b \u001b[39m\u001b[92m+ DataStructures v0.18.2\u001b[39m\n",
      "\u001b[90m   bac558e1 \u001b[39m\u001b[92m+ OrderedCollections v1.3.0\u001b[39m\n",
      "\u001b[90m   1fd47b50 \u001b[39m\u001b[92m+ QuadGK v2.4.1\u001b[39m\n",
      "\u001b[90m   8bb1440f \u001b[39m\u001b[92m+ DelimitedFiles\u001b[39m\n",
      "\u001b[90m   37e2e46d \u001b[39m\u001b[92m+ LinearAlgebra\u001b[39m\n",
      "\u001b[90m   1a1011a3 \u001b[39m\u001b[92m+ SharedArrays\u001b[39m\n",
      "\u001b[90m   2f01184e \u001b[39m\u001b[92m+ SparseArrays\u001b[39m\n",
      "\u001b[90m   10745b16 \u001b[39m\u001b[92m+ Statistics\u001b[39m\n"
     ]
    }
   ],
   "source": [
    "] add QuadGK"
   ]
  },
  {
   "cell_type": "code",
   "execution_count": 4,
   "metadata": {
    "scrolled": false
   },
   "outputs": [
    {
     "name": "stdout",
     "output_type": "stream",
     "text": [
      "search: \u001b[0m\u001b[1mq\u001b[22m\u001b[0m\u001b[1mu\u001b[22m\u001b[0m\u001b[1ma\u001b[22m\u001b[0m\u001b[1md\u001b[22m\u001b[0m\u001b[1mg\u001b[22m\u001b[0m\u001b[1mk\u001b[22m \u001b[0m\u001b[1mq\u001b[22m\u001b[0m\u001b[1mu\u001b[22m\u001b[0m\u001b[1ma\u001b[22m\u001b[0m\u001b[1md\u001b[22m\u001b[0m\u001b[1mg\u001b[22m\u001b[0m\u001b[1mk\u001b[22m! \u001b[0m\u001b[1mQ\u001b[22m\u001b[0m\u001b[1mu\u001b[22m\u001b[0m\u001b[1ma\u001b[22m\u001b[0m\u001b[1md\u001b[22m\u001b[0m\u001b[1mG\u001b[22m\u001b[0m\u001b[1mK\u001b[22m\n",
      "\n"
     ]
    },
    {
     "data": {
      "text/latex": [
       "\\begin{verbatim}\n",
       "quadgk(f, a,b,c...; rtol=sqrt(eps), atol=0, maxevals=10^7, order=7, norm=norm)\n",
       "\\end{verbatim}\n",
       "Numerically integrate the function \\texttt{f(x)} from \\texttt{a} to \\texttt{b}, and optionally over additional intervals \\texttt{b} to \\texttt{c} and so on. Keyword options include a relative error tolerance \\texttt{rtol} (if \\texttt{atol==0}, defaults to \\texttt{sqrt(eps)} in the precision of the endpoints), an absolute error tolerance \\texttt{atol} (defaults to 0), a maximum number of function evaluations \\texttt{maxevals} (defaults to \\texttt{10\\^{}7}), and the \\texttt{order} of the integration rule (defaults to 7).\n",
       "\n",
       "Returns a pair \\texttt{(I,E)} of the estimated integral \\texttt{I} and an estimated upper bound on the absolute error \\texttt{E}. If \\texttt{maxevals} is not exceeded then \\texttt{E <= max(atol, rtol*norm(I))} will hold. (Note that it is useful to specify a positive \\texttt{atol} in cases where \\texttt{norm(I)} may be zero.)\n",
       "\n",
       "The endpoints \\texttt{a} et cetera can also be complex (in which case the integral is performed over straight-line segments in the complex plane). If the endpoints are \\texttt{BigFloat}, then the integration will be performed in \\texttt{BigFloat} precision as well.\n",
       "\n",
       "\\begin{quote}\n",
       "\\textbf{note}\n",
       "\n",
       "Note\n",
       "\n",
       "It is advisable to increase the integration \\texttt{order} in rough proportion to the precision, for smooth integrands.\n",
       "\n",
       "\\end{quote}\n",
       "More generally, the precision is set by the precision of the integration endpoints (promoted to floating-point types).\n",
       "\n",
       "The integrand \\texttt{f(x)} can return any numeric scalar, vector, or matrix type, or in fact any type supporting \\texttt{+}, \\texttt{-}, multiplication by real values, and a \\texttt{norm} (i.e., any normed vector space). Alternatively, a different norm can be specified by passing a \\texttt{norm}-like function as the \\texttt{norm} keyword argument (which defaults to \\texttt{norm}).\n",
       "\n",
       "\\begin{quote}\n",
       "\\textbf{note}\n",
       "\n",
       "Note\n",
       "\n",
       "Only one-dimensional integrals are provided by this function. For multi-dimensional integration (cubature), there are many different algorithms (often much better than simple nested 1d integrals) and the optimal choice tends to be very problem-dependent. See the Julia external-package listing for available algorithms for multidimensional integration or other specialized tasks (such as integrals of highly oscillatory or singular functions).\n",
       "\n",
       "\\end{quote}\n",
       "The algorithm is an adaptive Gauss-Kronrod integration technique: the integral in each interval is estimated using a Kronrod rule (\\texttt{2*order+1} points) and the error is estimated using an embedded Gauss rule (\\texttt{order} points). The interval with the largest error is then subdivided into two intervals and the process is repeated until the desired error tolerance is achieved.\n",
       "\n",
       "These quadrature rules work best for smooth functions within each interval, so if your function has a known discontinuity or other singularity, it is best to subdivide your interval to put the singularity at an endpoint. For example, if \\texttt{f} has a discontinuity at \\texttt{x=0.7} and you want to integrate from 0 to 1, you should use \\texttt{quadgk(f, 0,0.7,1)} to subdivide the interval at the point of discontinuity. The integrand is never evaluated exactly at the endpoints of the intervals, so it is possible to integrate functions that diverge at the endpoints as long as the singularity is integrable (for example, a \\texttt{log(x)} or \\texttt{1/sqrt(x)} singularity).\n",
       "\n",
       "For real-valued endpoints, the starting and/or ending points may be infinite. (A coordinate transformation is performed internally to map the infinite interval to a finite one.)\n",
       "\n"
      ],
      "text/markdown": [
       "```\n",
       "quadgk(f, a,b,c...; rtol=sqrt(eps), atol=0, maxevals=10^7, order=7, norm=norm)\n",
       "```\n",
       "\n",
       "Numerically integrate the function `f(x)` from `a` to `b`, and optionally over additional intervals `b` to `c` and so on. Keyword options include a relative error tolerance `rtol` (if `atol==0`, defaults to `sqrt(eps)` in the precision of the endpoints), an absolute error tolerance `atol` (defaults to 0), a maximum number of function evaluations `maxevals` (defaults to `10^7`), and the `order` of the integration rule (defaults to 7).\n",
       "\n",
       "Returns a pair `(I,E)` of the estimated integral `I` and an estimated upper bound on the absolute error `E`. If `maxevals` is not exceeded then `E <= max(atol, rtol*norm(I))` will hold. (Note that it is useful to specify a positive `atol` in cases where `norm(I)` may be zero.)\n",
       "\n",
       "The endpoints `a` et cetera can also be complex (in which case the integral is performed over straight-line segments in the complex plane). If the endpoints are `BigFloat`, then the integration will be performed in `BigFloat` precision as well.\n",
       "\n",
       "!!! note\n",
       "    It is advisable to increase the integration `order` in rough proportion to the precision, for smooth integrands.\n",
       "\n",
       "\n",
       "More generally, the precision is set by the precision of the integration endpoints (promoted to floating-point types).\n",
       "\n",
       "The integrand `f(x)` can return any numeric scalar, vector, or matrix type, or in fact any type supporting `+`, `-`, multiplication by real values, and a `norm` (i.e., any normed vector space). Alternatively, a different norm can be specified by passing a `norm`-like function as the `norm` keyword argument (which defaults to `norm`).\n",
       "\n",
       "!!! note\n",
       "    Only one-dimensional integrals are provided by this function. For multi-dimensional integration (cubature), there are many different algorithms (often much better than simple nested 1d integrals) and the optimal choice tends to be very problem-dependent. See the Julia external-package listing for available algorithms for multidimensional integration or other specialized tasks (such as integrals of highly oscillatory or singular functions).\n",
       "\n",
       "\n",
       "The algorithm is an adaptive Gauss-Kronrod integration technique: the integral in each interval is estimated using a Kronrod rule (`2*order+1` points) and the error is estimated using an embedded Gauss rule (`order` points). The interval with the largest error is then subdivided into two intervals and the process is repeated until the desired error tolerance is achieved.\n",
       "\n",
       "These quadrature rules work best for smooth functions within each interval, so if your function has a known discontinuity or other singularity, it is best to subdivide your interval to put the singularity at an endpoint. For example, if `f` has a discontinuity at `x=0.7` and you want to integrate from 0 to 1, you should use `quadgk(f, 0,0.7,1)` to subdivide the interval at the point of discontinuity. The integrand is never evaluated exactly at the endpoints of the intervals, so it is possible to integrate functions that diverge at the endpoints as long as the singularity is integrable (for example, a `log(x)` or `1/sqrt(x)` singularity).\n",
       "\n",
       "For real-valued endpoints, the starting and/or ending points may be infinite. (A coordinate transformation is performed internally to map the infinite interval to a finite one.)\n"
      ],
      "text/plain": [
       "\u001b[36m  quadgk(f, a,b,c...; rtol=sqrt(eps), atol=0, maxevals=10^7, order=7, norm=norm)\u001b[39m\n",
       "\n",
       "  Numerically integrate the function \u001b[36mf(x)\u001b[39m from \u001b[36ma\u001b[39m to \u001b[36mb\u001b[39m, and optionally over\n",
       "  additional intervals \u001b[36mb\u001b[39m to \u001b[36mc\u001b[39m and so on. Keyword options include a relative\n",
       "  error tolerance \u001b[36mrtol\u001b[39m (if \u001b[36matol==0\u001b[39m, defaults to \u001b[36msqrt(eps)\u001b[39m in the precision of\n",
       "  the endpoints), an absolute error tolerance \u001b[36matol\u001b[39m (defaults to 0), a maximum\n",
       "  number of function evaluations \u001b[36mmaxevals\u001b[39m (defaults to \u001b[36m10^7\u001b[39m), and the \u001b[36morder\u001b[39m of\n",
       "  the integration rule (defaults to 7).\n",
       "\n",
       "  Returns a pair \u001b[36m(I,E)\u001b[39m of the estimated integral \u001b[36mI\u001b[39m and an estimated upper\n",
       "  bound on the absolute error \u001b[36mE\u001b[39m. If \u001b[36mmaxevals\u001b[39m is not exceeded then \u001b[36mE <=\n",
       "  max(atol, rtol*norm(I))\u001b[39m will hold. (Note that it is useful to specify a\n",
       "  positive \u001b[36matol\u001b[39m in cases where \u001b[36mnorm(I)\u001b[39m may be zero.)\n",
       "\n",
       "  The endpoints \u001b[36ma\u001b[39m et cetera can also be complex (in which case the integral is\n",
       "  performed over straight-line segments in the complex plane). If the\n",
       "  endpoints are \u001b[36mBigFloat\u001b[39m, then the integration will be performed in \u001b[36mBigFloat\u001b[39m\n",
       "  precision as well.\n",
       "\n",
       "\u001b[36m\u001b[1m  │ \u001b[22m\u001b[39m\u001b[36m\u001b[1mNote\u001b[22m\u001b[39m\n",
       "\u001b[36m\u001b[1m  │\u001b[22m\u001b[39m\n",
       "\u001b[36m\u001b[1m  │\u001b[22m\u001b[39m  It is advisable to increase the integration \u001b[36morder\u001b[39m in rough\n",
       "\u001b[36m\u001b[1m  │\u001b[22m\u001b[39m  proportion to the precision, for smooth integrands.\n",
       "\n",
       "  More generally, the precision is set by the precision of the integration\n",
       "  endpoints (promoted to floating-point types).\n",
       "\n",
       "  The integrand \u001b[36mf(x)\u001b[39m can return any numeric scalar, vector, or matrix type, or\n",
       "  in fact any type supporting \u001b[36m+\u001b[39m, \u001b[36m-\u001b[39m, multiplication by real values, and a \u001b[36mnorm\u001b[39m\n",
       "  (i.e., any normed vector space). Alternatively, a different norm can be\n",
       "  specified by passing a \u001b[36mnorm\u001b[39m-like function as the \u001b[36mnorm\u001b[39m keyword argument\n",
       "  (which defaults to \u001b[36mnorm\u001b[39m).\n",
       "\n",
       "\u001b[36m\u001b[1m  │ \u001b[22m\u001b[39m\u001b[36m\u001b[1mNote\u001b[22m\u001b[39m\n",
       "\u001b[36m\u001b[1m  │\u001b[22m\u001b[39m\n",
       "\u001b[36m\u001b[1m  │\u001b[22m\u001b[39m  Only one-dimensional integrals are provided by this function. For\n",
       "\u001b[36m\u001b[1m  │\u001b[22m\u001b[39m  multi-dimensional integration (cubature), there are many different\n",
       "\u001b[36m\u001b[1m  │\u001b[22m\u001b[39m  algorithms (often much better than simple nested 1d integrals) and\n",
       "\u001b[36m\u001b[1m  │\u001b[22m\u001b[39m  the optimal choice tends to be very problem-dependent. See the\n",
       "\u001b[36m\u001b[1m  │\u001b[22m\u001b[39m  Julia external-package listing for available algorithms for\n",
       "\u001b[36m\u001b[1m  │\u001b[22m\u001b[39m  multidimensional integration or other specialized tasks (such as\n",
       "\u001b[36m\u001b[1m  │\u001b[22m\u001b[39m  integrals of highly oscillatory or singular functions).\n",
       "\n",
       "  The algorithm is an adaptive Gauss-Kronrod integration technique: the\n",
       "  integral in each interval is estimated using a Kronrod rule (\u001b[36m2*order+1\u001b[39m\n",
       "  points) and the error is estimated using an embedded Gauss rule (\u001b[36morder\u001b[39m\n",
       "  points). The interval with the largest error is then subdivided into two\n",
       "  intervals and the process is repeated until the desired error tolerance is\n",
       "  achieved.\n",
       "\n",
       "  These quadrature rules work best for smooth functions within each interval,\n",
       "  so if your function has a known discontinuity or other singularity, it is\n",
       "  best to subdivide your interval to put the singularity at an endpoint. For\n",
       "  example, if \u001b[36mf\u001b[39m has a discontinuity at \u001b[36mx=0.7\u001b[39m and you want to integrate from 0\n",
       "  to 1, you should use \u001b[36mquadgk(f, 0,0.7,1)\u001b[39m to subdivide the interval at the\n",
       "  point of discontinuity. The integrand is never evaluated exactly at the\n",
       "  endpoints of the intervals, so it is possible to integrate functions that\n",
       "  diverge at the endpoints as long as the singularity is integrable (for\n",
       "  example, a \u001b[36mlog(x)\u001b[39m or \u001b[36m1/sqrt(x)\u001b[39m singularity).\n",
       "\n",
       "  For real-valued endpoints, the starting and/or ending points may be\n",
       "  infinite. (A coordinate transformation is performed internally to map the\n",
       "  infinite interval to a finite one.)"
      ]
     },
     "execution_count": 4,
     "metadata": {},
     "output_type": "execute_result"
    }
   ],
   "source": [
    "?quadgk"
   ]
  },
  {
   "cell_type": "markdown",
   "metadata": {},
   "source": [
    "I could not figure out how to integrate over \"variable limits of integration\". Maybe `SymPy`, the computer algebra system, may have a solution, since `QuadGK` requires fixed limits of integration, and integrating over a domain is not working in Julia."
   ]
  },
  {
   "cell_type": "code",
   "execution_count": 21,
   "metadata": {},
   "outputs": [
    {
     "name": "stderr",
     "output_type": "stream",
     "text": [
      "\u001b[32m\u001b[1m  Resolving\u001b[22m\u001b[39m package versions...\n",
      "\u001b[32m\u001b[1m  Installed\u001b[22m\u001b[39m CompilerSupportLibraries_jll ─ v0.3.3+0\n",
      "\u001b[32m\u001b[1m  Installed\u001b[22m\u001b[39m OpenSpecFun_jll ────────────── v0.5.3+3\n",
      "\u001b[32m\u001b[1m  Installed\u001b[22m\u001b[39m RecipesBase ────────────────── v1.0.2\n",
      "\u001b[32m\u001b[1m  Installed\u001b[22m\u001b[39m SpecialFunctions ───────────── v0.10.3\n",
      "\u001b[32m\u001b[1m  Installed\u001b[22m\u001b[39m PyCall ─────────────────────── v1.91.4\n",
      "\u001b[32m\u001b[1m  Installed\u001b[22m\u001b[39m MacroTools ─────────────────── v0.5.5\n",
      "\u001b[32m\u001b[1m  Installed\u001b[22m\u001b[39m SymPy ──────────────────────── v1.0.27\n",
      "######################################################################### 100.0%#################                                  57.3%\n",
      "######################################################################### 100.0%\n",
      "\u001b[32m\u001b[1m   Updating\u001b[22m\u001b[39m `~/.julia/environments/v1.5/Project.toml`\n",
      "\u001b[90m   24249f21 \u001b[39m\u001b[92m+ SymPy v1.0.27\u001b[39m\n",
      "\u001b[32m\u001b[1m   Updating\u001b[22m\u001b[39m `~/.julia/environments/v1.5/Manifest.toml`\n",
      "\u001b[90m   e66e0078 \u001b[39m\u001b[92m+ CompilerSupportLibraries_jll v0.3.3+0\u001b[39m\n",
      "\u001b[90m   1914dd2f \u001b[39m\u001b[92m+ MacroTools v0.5.5\u001b[39m\n",
      "\u001b[90m   efe28fd5 \u001b[39m\u001b[92m+ OpenSpecFun_jll v0.5.3+3\u001b[39m\n",
      "\u001b[90m   438e738f \u001b[39m\u001b[92m+ PyCall v1.91.4\u001b[39m\n",
      "\u001b[90m   3cdcf5f2 \u001b[39m\u001b[92m+ RecipesBase v1.0.2\u001b[39m\n",
      "\u001b[90m   276daf66 \u001b[39m\u001b[92m+ SpecialFunctions v0.10.3\u001b[39m\n",
      "\u001b[90m   24249f21 \u001b[39m\u001b[92m+ SymPy v1.0.27\u001b[39m\n",
      "\u001b[32m\u001b[1m   Building\u001b[22m\u001b[39m PyCall → `~/.julia/packages/PyCall/zqDXB/deps/build.log`\n"
     ]
    }
   ],
   "source": [
    "] add SymPy"
   ]
  },
  {
   "cell_type": "markdown",
   "metadata": {},
   "source": [
    "In case I need `PyCall`, also adding this package."
   ]
  },
  {
   "cell_type": "code",
   "execution_count": 38,
   "metadata": {},
   "outputs": [
    {
     "name": "stderr",
     "output_type": "stream",
     "text": [
      "\u001b[32m\u001b[1m  Resolving\u001b[22m\u001b[39m package versions...\n",
      "\u001b[32m\u001b[1m   Updating\u001b[22m\u001b[39m `~/.julia/environments/v1.5/Project.toml`\n",
      "\u001b[90m   438e738f \u001b[39m\u001b[92m+ PyCall v1.91.4\u001b[39m\n",
      "\u001b[32m\u001b[1m   Updating\u001b[22m\u001b[39m `~/.julia/environments/v1.5/Manifest.toml`\n",
      "\u001b[32m\u001b[1m   Updating\u001b[22m\u001b[39m empty diff\n"
     ]
    }
   ],
   "source": [
    "] add PyCall"
   ]
  },
  {
   "cell_type": "code",
   "execution_count": 43,
   "metadata": {},
   "outputs": [
    {
     "ename": "ArgumentError",
     "evalue": "ArgumentError: ref of NULL PyObject",
     "output_type": "error",
     "traceback": [
      "ArgumentError: ref of NULL PyObject",
      "",
      "Stacktrace:",
      " [1] getproperty(::PyObject, ::String) at /root/.julia/packages/PyCall/zqDXB/src/PyCall.jl:296",
      " [2] getproperty at /root/.julia/packages/PyCall/zqDXB/src/PyCall.jl:306 [inlined]",
      " [3] show(::IOContext{Base.GenericIOBuffer{Array{UInt8,1}}}, ::MIME{Symbol(\"text/plain\")}, ::Sym) at /root/.julia/packages/SymPy/u5t7C/src/types.jl:73",
      " [4] limitstringmime(::MIME{Symbol(\"text/plain\")}, ::Sym) at /root/.julia/packages/IJulia/tOM8L/src/inline.jl:43",
      " [5] display_mimestring at /root/.julia/packages/IJulia/tOM8L/src/display.jl:71 [inlined]",
      " [6] display_dict(::Sym) at /root/.julia/packages/IJulia/tOM8L/src/display.jl:102",
      " [7] #invokelatest#1 at ./essentials.jl:710 [inlined]",
      " [8] invokelatest at ./essentials.jl:709 [inlined]",
      " [9] execute_request(::ZMQ.Socket, ::IJulia.Msg) at /root/.julia/packages/IJulia/tOM8L/src/execute_request.jl:112",
      " [10] #invokelatest#1 at ./essentials.jl:710 [inlined]",
      " [11] invokelatest at ./essentials.jl:709 [inlined]",
      " [12] eventloop(::ZMQ.Socket) at /root/.julia/packages/IJulia/tOM8L/src/eventloop.jl:8",
      " [13] (::IJulia.var\"#15#18\")() at ./task.jl:358"
     ]
    }
   ],
   "source": [
    "using PyCall, SymPy\n",
    "\n",
    "@vars h\n",
    "f(x) = x^2 + 2y\n",
    "ex1 = SymPy.exp((z + 1)^2)\n",
    "ex2 = SymPy.exp(5z - 1)\n",
    "ex = integrate(z^2 - 2y, y, ex1, ex2)"
   ]
  },
  {
   "cell_type": "markdown",
   "metadata": {},
   "source": [
    "This would not work either. I found an `R` tool called `pracma` which might work, but before using it, I must install `RCall`."
   ]
  },
  {
   "cell_type": "code",
   "execution_count": 48,
   "metadata": {
    "scrolled": false
   },
   "outputs": [
    {
     "name": "stderr",
     "output_type": "stream",
     "text": [
      "\u001b[32m\u001b[1m  Resolving\u001b[22m\u001b[39m package versions...\n",
      "\u001b[32m\u001b[1m  Installed\u001b[22m\u001b[39m SortingAlgorithms ─────────── v0.3.1\n",
      "\u001b[32m\u001b[1m  Installed\u001b[22m\u001b[39m Requires ──────────────────── v1.0.1\n",
      "\u001b[32m\u001b[1m  Installed\u001b[22m\u001b[39m Reexport ──────────────────── v0.2.0\n",
      "\u001b[32m\u001b[1m  Installed\u001b[22m\u001b[39m ShiftedArrays ─────────────── v1.0.0\n",
      "\u001b[32m\u001b[1m  Installed\u001b[22m\u001b[39m StatsModels ───────────────── v0.6.13\n",
      "\u001b[32m\u001b[1m  Installed\u001b[22m\u001b[39m CategoricalArrays ─────────── v0.8.1\n",
      "\u001b[32m\u001b[1m  Installed\u001b[22m\u001b[39m RCall ─────────────────────── v0.13.7\n",
      "\u001b[32m\u001b[1m  Installed\u001b[22m\u001b[39m InvertedIndices ───────────── v1.0.0\n",
      "\u001b[32m\u001b[1m  Installed\u001b[22m\u001b[39m DataAPI ───────────────────── v1.3.0\n",
      "\u001b[32m\u001b[1m  Installed\u001b[22m\u001b[39m Rmath ─────────────────────── v0.6.1\n",
      "\u001b[32m\u001b[1m  Installed\u001b[22m\u001b[39m TableTraits ───────────────── v1.0.0\n",
      "\u001b[32m\u001b[1m  Installed\u001b[22m\u001b[39m Tables ────────────────────── v1.0.5\n",
      "\u001b[32m\u001b[1m  Installed\u001b[22m\u001b[39m StatsFuns ─────────────────── v0.9.5\n",
      "\u001b[32m\u001b[1m  Installed\u001b[22m\u001b[39m DataFrames ────────────────── v0.21.7\n",
      "\u001b[32m\u001b[1m  Installed\u001b[22m\u001b[39m Distributions ─────────────── v0.23.10\n",
      "\u001b[32m\u001b[1m  Installed\u001b[22m\u001b[39m IteratorInterfaceExtensions ─ v1.0.0\n",
      "\u001b[32m\u001b[1m  Installed\u001b[22m\u001b[39m Missings ──────────────────── v0.4.4\n",
      "\u001b[32m\u001b[1m  Installed\u001b[22m\u001b[39m DataValueInterfaces ───────── v1.0.0\n",
      "\u001b[32m\u001b[1m  Installed\u001b[22m\u001b[39m Rmath_jll ─────────────────── v0.2.2+1\n",
      "\u001b[32m\u001b[1m  Installed\u001b[22m\u001b[39m PooledArrays ──────────────── v0.5.3\n",
      "\u001b[32m\u001b[1m  Installed\u001b[22m\u001b[39m PDMats ────────────────────── v0.10.0\n",
      "\u001b[32m\u001b[1m  Installed\u001b[22m\u001b[39m StatsBase ─────────────────── v0.33.1\n",
      "\u001b[32m\u001b[1m  Installed\u001b[22m\u001b[39m FillArrays ────────────────── v0.9.5\n",
      "\u001b[32m\u001b[1m  Installed\u001b[22m\u001b[39m WinReg ────────────────────── v0.3.1\n",
      "######################################################################### 100.0%\n",
      "\u001b[32m\u001b[1m   Updating\u001b[22m\u001b[39m `~/.julia/environments/v1.5/Project.toml`\n",
      "\u001b[90m   6f49c342 \u001b[39m\u001b[92m+ RCall v0.13.7\u001b[39m\n",
      "\u001b[32m\u001b[1m   Updating\u001b[22m\u001b[39m `~/.julia/environments/v1.5/Manifest.toml`\n",
      "\u001b[90m   324d7699 \u001b[39m\u001b[92m+ CategoricalArrays v0.8.1\u001b[39m\n",
      "\u001b[90m   9a962f9c \u001b[39m\u001b[92m+ DataAPI v1.3.0\u001b[39m\n",
      "\u001b[90m   a93c6f00 \u001b[39m\u001b[92m+ DataFrames v0.21.7\u001b[39m\n",
      "\u001b[90m   e2d170a0 \u001b[39m\u001b[92m+ DataValueInterfaces v1.0.0\u001b[39m\n",
      "\u001b[90m   31c24e10 \u001b[39m\u001b[92m+ Distributions v0.23.10\u001b[39m\n",
      "\u001b[90m   1a297f60 \u001b[39m\u001b[92m+ FillArrays v0.9.5\u001b[39m\n",
      "\u001b[90m   41ab1584 \u001b[39m\u001b[92m+ InvertedIndices v1.0.0\u001b[39m\n",
      "\u001b[90m   82899510 \u001b[39m\u001b[92m+ IteratorInterfaceExtensions v1.0.0\u001b[39m\n",
      "\u001b[90m   e1d29d7a \u001b[39m\u001b[92m+ Missings v0.4.4\u001b[39m\n",
      "\u001b[90m   90014a1f \u001b[39m\u001b[92m+ PDMats v0.10.0\u001b[39m\n",
      "\u001b[90m   2dfb63ee \u001b[39m\u001b[92m+ PooledArrays v0.5.3\u001b[39m\n",
      "\u001b[90m   6f49c342 \u001b[39m\u001b[92m+ RCall v0.13.7\u001b[39m\n",
      "\u001b[90m   189a3867 \u001b[39m\u001b[92m+ Reexport v0.2.0\u001b[39m\n",
      "\u001b[90m   ae029012 \u001b[39m\u001b[92m+ Requires v1.0.1\u001b[39m\n",
      "\u001b[90m   79098fc4 \u001b[39m\u001b[92m+ Rmath v0.6.1\u001b[39m\n",
      "\u001b[90m   f50d1b31 \u001b[39m\u001b[92m+ Rmath_jll v0.2.2+1\u001b[39m\n",
      "\u001b[90m   1277b4bf \u001b[39m\u001b[92m+ ShiftedArrays v1.0.0\u001b[39m\n",
      "\u001b[90m   a2af1166 \u001b[39m\u001b[92m+ SortingAlgorithms v0.3.1\u001b[39m\n",
      "\u001b[90m   2913bbd2 \u001b[39m\u001b[92m+ StatsBase v0.33.1\u001b[39m\n",
      "\u001b[90m   4c63d2b9 \u001b[39m\u001b[92m+ StatsFuns v0.9.5\u001b[39m\n",
      "\u001b[90m   3eaba693 \u001b[39m\u001b[92m+ StatsModels v0.6.13\u001b[39m\n",
      "\u001b[90m   3783bdb8 \u001b[39m\u001b[92m+ TableTraits v1.0.0\u001b[39m\n",
      "\u001b[90m   bd369af6 \u001b[39m\u001b[92m+ Tables v1.0.5\u001b[39m\n",
      "\u001b[90m   1b915085 \u001b[39m\u001b[92m+ WinReg v0.3.1\u001b[39m\n",
      "\u001b[90m   9fa8497b \u001b[39m\u001b[92m+ Future\u001b[39m\n",
      "\u001b[90m   4607b0f0 \u001b[39m\u001b[92m+ SuiteSparse\u001b[39m\n",
      "\u001b[32m\u001b[1m   Building\u001b[22m\u001b[39m RCall → `~/.julia/packages/RCall/Qzssx/deps/build.log`\n"
     ]
    }
   ],
   "source": [
    "] add RCall"
   ]
  },
  {
   "cell_type": "markdown",
   "metadata": {},
   "source": [
    "Using `RCall` and installing `pracma`."
   ]
  },
  {
   "cell_type": "code",
   "execution_count": 51,
   "metadata": {
    "scrolled": true
   },
   "outputs": [
    {
     "name": "stderr",
     "output_type": "stream",
     "text": [
      "┌ Warning: RCall.jl: Installing package into ‘/usr/local/lib/R/site-library’\n",
      "│ (as ‘lib’ is unspecified)\n",
      "│ Warning: unable to access index for repository https://cloud.r-project.org/src/contrib:\n",
      "│   cannot open URL 'https://cloud.r-project.org/src/contrib/PACKAGES'\n",
      "│ Warning: package ‘pracma’ is not available (for R version 3.6.3)\n",
      "└ @ RCall /root/.julia/packages/RCall/Qzssx/src/io.jl:160\n"
     ]
    },
    {
     "data": {
      "text/plain": [
       "RObject{NilSxp}\n",
       "NULL\n"
      ]
     },
     "execution_count": 51,
     "metadata": {},
     "output_type": "execute_result"
    }
   ],
   "source": [
    "using RCall\n",
    "\n",
    "R\"\"\"\n",
    "    install.packages('pracma')\n",
    "\"\"\""
   ]
  },
  {
   "cell_type": "markdown",
   "metadata": {},
   "source": [
    "Something happened. `pracma` seems to be unavailable in the current repository. It is unlikely to be a problem with version, since the package is unavailble in the first place, but this is what I tried doing earlier."
   ]
  },
  {
   "cell_type": "code",
   "execution_count": 58,
   "metadata": {
    "scrolled": true
   },
   "outputs": [
    {
     "ename": "LoadError",
     "evalue": "REvalError: Warning: unable to access index for repository https://cloud.r-project.org/src/contrib:\n  cannot open URL 'https://cloud.r-project.org/src/contrib/PACKAGES'\nError in package_find_repo(package, repos) : \n  couldn't find package 'pracma'\nCalls: install_version -> download_version_url -> package_find_repo",
     "output_type": "error",
     "traceback": [
      "REvalError: Warning: unable to access index for repository https://cloud.r-project.org/src/contrib:\n  cannot open URL 'https://cloud.r-project.org/src/contrib/PACKAGES'\nError in package_find_repo(package, repos) : \n  couldn't find package 'pracma'\nCalls: install_version -> download_version_url -> package_find_repo",
      "",
      "Stacktrace:",
      " [1] handle_eval_stderr(; as_warning::Bool) at /root/.julia/packages/RCall/Qzssx/src/io.jl:162",
      " [2] reval_p(::Ptr{LangSxp}, ::Ptr{EnvSxp}) at /root/.julia/packages/RCall/Qzssx/src/eval.jl:99",
      " [3] reval_p(::Ptr{RCall.ExprSxp}, ::Ptr{EnvSxp}) at /root/.julia/packages/RCall/Qzssx/src/eval.jl:115",
      " [4] reval(::String, ::RObject{EnvSxp}) at /root/.julia/packages/RCall/Qzssx/src/eval.jl:132",
      " [5] top-level scope at /root/.julia/packages/RCall/Qzssx/src/macros.jl:71",
      " [6] include_string(::Function, ::Module, ::String, ::String) at ./loading.jl:1090"
     ]
    }
   ],
   "source": [
    "R\"\"\"\n",
    "    library(remotes)\n",
    "    install_version('pracma', \"2.2.9\")\n",
    "\"\"\""
   ]
  },
  {
   "cell_type": "markdown",
   "metadata": {},
   "source": [
    "See? The same **couldn't find package `pracma`** error. Trying to install from `git` with my `user` `pass` credentials."
   ]
  },
  {
   "cell_type": "code",
   "execution_count": 70,
   "metadata": {},
   "outputs": [
    {
     "ename": "LoadError",
     "evalue": "REvalError: Error: Failed to install 'unknown package' from Git:\n  Error in 'git2r_remote_ls': the SSL certificate is invalid",
     "output_type": "error",
     "traceback": [
      "REvalError: Error: Failed to install 'unknown package' from Git:\n  Error in 'git2r_remote_ls': the SSL certificate is invalid",
      "",
      "Stacktrace:",
      " [1] handle_eval_stderr(; as_warning::Bool) at /root/.julia/packages/RCall/Qzssx/src/io.jl:162",
      " [2] reval_p(::Ptr{LangSxp}, ::Ptr{EnvSxp}) at /root/.julia/packages/RCall/Qzssx/src/eval.jl:99",
      " [3] reval_p(::Ptr{RCall.ExprSxp}, ::Ptr{EnvSxp}) at /root/.julia/packages/RCall/Qzssx/src/eval.jl:115",
      " [4] reval(::String, ::RObject{EnvSxp}) at /root/.julia/packages/RCall/Qzssx/src/eval.jl:132",
      " [5] top-level scope at /root/.julia/packages/RCall/Qzssx/src/macros.jl:71",
      " [6] include_string(::Function, ::Module, ::String, ::String) at ./loading.jl:1090"
     ]
    }
   ],
   "source": [
    "R\"\"\"\n",
    "    remotes::install_git(\"https://github.com/salma-rodriguez/pracma.git\",\n",
    "                     credentials=git2r::cred_user_pass(\"salma-rodriguez\", \"c@trp1ll@r5\"))\n",
    "\"\"\""
   ]
  },
  {
   "cell_type": "markdown",
   "metadata": {},
   "source": [
    "I do not know what happened here. I tried fixing the error. The package returned to be *unknown* and the SSL certificate was found to be invalid. Maybe the credentials need to be declared outside?"
   ]
  },
  {
   "cell_type": "code",
   "execution_count": 72,
   "metadata": {},
   "outputs": [
    {
     "ename": "LoadError",
     "evalue": "REvalError: Error in getClass(Class, where = topenv(parent.frame())) : \n  “cred_user_pass” is not a defined class\nCalls: new -> getClass",
     "output_type": "error",
     "traceback": [
      "REvalError: Error in getClass(Class, where = topenv(parent.frame())) : \n  “cred_user_pass” is not a defined class\nCalls: new -> getClass",
      "",
      "Stacktrace:",
      " [1] handle_eval_stderr(; as_warning::Bool) at /root/.julia/packages/RCall/Qzssx/src/io.jl:162",
      " [2] reval_p(::Ptr{LangSxp}, ::Ptr{EnvSxp}) at /root/.julia/packages/RCall/Qzssx/src/eval.jl:99",
      " [3] reval_p(::Ptr{RCall.ExprSxp}, ::Ptr{EnvSxp}) at /root/.julia/packages/RCall/Qzssx/src/eval.jl:115",
      " [4] reval(::String, ::RObject{EnvSxp}) at /root/.julia/packages/RCall/Qzssx/src/eval.jl:132",
      " [5] top-level scope at /root/.julia/packages/RCall/Qzssx/src/macros.jl:71",
      " [6] include_string(::Function, ::Module, ::String, ::String) at ./loading.jl:1090"
     ]
    }
   ],
   "source": [
    "R\"\"\"\n",
    "    library(git2r)\n",
    "    creds <- new(\"cred_user_pass\", username = \"salma-rodriguez\", password = \"c@trp1ll@r5\")\n",
    "    remotes::install_git(\"https://github.com/salma-rodriguez/pracma.git\",\n",
    "                     credentials=creds)\n",
    "\"\"\""
   ]
  },
  {
   "cell_type": "markdown",
   "metadata": {},
   "source": [
    "See? This did not work either. `cred_user_pass` not a defined class, eh? Let us try calling the `available.packages()` function, and see what happens."
   ]
  },
  {
   "cell_type": "code",
   "execution_count": 76,
   "metadata": {},
   "outputs": [
    {
     "name": "stderr",
     "output_type": "stream",
     "text": [
      "┌ Warning: RCall.jl: Warning: unable to access index for repository https://cloud.r-project.org/src/contrib:\n",
      "│   cannot open URL 'https://cloud.r-project.org/src/contrib/PACKAGES'\n",
      "└ @ RCall /root/.julia/packages/RCall/Qzssx/src/io.jl:160\n"
     ]
    },
    {
     "data": {
      "text/plain": [
       "0×17 Array{String,2}"
      ]
     },
     "execution_count": 76,
     "metadata": {},
     "output_type": "execute_result"
    }
   ],
   "source": [
    "R\"\"\"\n",
    "    ap <- available.packages()\n",
    "    # install_github(\"https://github.com/salma-rodriguez/pracma\")\n",
    "\"\"\"\n",
    "@rget ap"
   ]
  },
  {
   "cell_type": "markdown",
   "metadata": {},
   "source": [
    "There seems to be a problem with `https://cloud.r-project.org/src/contrib`. I will have to fix this later. As a last resort, I am trying to install `pracma` via `R-Forge`."
   ]
  },
  {
   "cell_type": "code",
   "execution_count": 78,
   "metadata": {
    "scrolled": false
   },
   "outputs": [
    {
     "name": "stderr",
     "output_type": "stream",
     "text": [
      "* installing *source* package ‘pracma’ ...\n",
      "** using staged installation\n",
      "** R\n",
      "** data\n",
      "*** moving datasets to lazyload DB\n",
      "** demo\n",
      "** byte-compile and prepare package for lazy loading\n",
      "** help\n",
      "*** installing help indices\n",
      "** building package indices\n",
      "** testing if installed package can be loaded from temporary location\n",
      "** testing if installed package can be loaded from final location\n",
      "** testing if installed package keeps a record of temporary installation path\n",
      "* DONE (pracma)\n",
      "┌ Warning: RCall.jl: Installing package into ‘/usr/local/lib/R/site-library’\n",
      "│ (as ‘lib’ is unspecified)\n",
      "│ trying URL 'http://R-Forge.R-project.org/src/contrib/pracma_2.3.0.tar.gz'\n",
      "│ Content type 'application/x-gzip' length 372667 bytes (363 KB)\n",
      "│ ==================================================\n",
      "│ downloaded 363 KB\n",
      "│ \n",
      "│ \n",
      "│ The downloaded source packages are in\n",
      "│ \t‘/tmp/RtmpuENBnb/downloaded_packages’\n",
      "└ @ RCall /root/.julia/packages/RCall/Qzssx/src/io.jl:160\n"
     ]
    },
    {
     "data": {
      "text/plain": [
       "RObject{NilSxp}\n",
       "NULL\n"
      ]
     },
     "execution_count": 78,
     "metadata": {},
     "output_type": "execute_result"
    }
   ],
   "source": [
    "R\"\"\"\n",
    "    install.packages(\"pracma\", repos=\"http://R-Forge.R-project.org\")\n",
    "\"\"\""
   ]
  },
  {
   "cell_type": "markdown",
   "metadata": {},
   "source": [
    "This seems to have worked. Now to run some code."
   ]
  },
  {
   "cell_type": "code",
   "execution_count": 132,
   "metadata": {
    "scrolled": true
   },
   "outputs": [
    {
     "data": {
      "text/plain": [
       "-1.7500000000000016"
      ]
     },
     "execution_count": 132,
     "metadata": {},
     "output_type": "execute_result"
    }
   ],
   "source": [
    "R\"\"\"\n",
    "    library(pracma)\n",
    "    f <- function(x, y) x^2 - 2 * y\n",
    "    xmin <- 1; xmax <- 2\n",
    "    ymin <- function(x) (x + 1)^2; ymax = function(x) 5 * x - 1\n",
    "    I <- integral2(f, xmin, xmax, ymin, ymax)\n",
    "    MyQ <- I$Q\n",
    "\"\"\"\n",
    "I = @rget(MyQ)"
   ]
  },
  {
   "cell_type": "markdown",
   "metadata": {},
   "source": [
    "And this is the double integral within the region $R$ specified in the beginning of the problem."
   ]
  },
  {
   "cell_type": "markdown",
   "metadata": {},
   "source": [
    "**Problem 14**: The price of a non-dividend-paying asset is lognormally distributed. Asked to assume that the spot price is $40$, the volatility is $30 \\%$, and the interest rates are constant at $5\\%$. Asked to fill in the Black-Scholes values of the ITM put options in a table. I choose to create an `R` data frame."
   ]
  },
  {
   "cell_type": "code",
   "execution_count": 4,
   "metadata": {},
   "outputs": [
    {
     "name": "stderr",
     "output_type": "stream",
     "text": [
      "\u001b[32m\u001b[1m   Updating\u001b[22m\u001b[39m registry at `~/.julia/registries/General`\n"
     ]
    },
    {
     "name": "stdout",
     "output_type": "stream",
     "text": [
      "\u001b[?25l    "
     ]
    },
    {
     "name": "stderr",
     "output_type": "stream",
     "text": [
      "\u001b[32m\u001b[1m   Updating\u001b[22m\u001b[39m git-repo `https://github.com/JuliaRegistries/General.git`\n"
     ]
    },
    {
     "name": "stdout",
     "output_type": "stream",
     "text": [
      "\u001b[36m\u001b[1mFetching:\u001b[22m\u001b[39m [>                                        ]  0.0 %\r",
      "    \u001b[36m\u001b[1mFetching:\u001b[22m\u001b[39m [=>                                       ]  0.1 %\r",
      "    \u001b[36m\u001b[1mFetching:\u001b[22m\u001b[39m [=>                                       ]  0.3 %\r",
      "    \u001b[36m\u001b[1mFetching:\u001b[22m\u001b[39m [=>                                       ]  0.4 %\r",
      "    \u001b[36m\u001b[1mFetching:\u001b[22m\u001b[39m [=>                                       ]  0.5 %\r",
      "    \u001b[36m\u001b[1mFetching:\u001b[22m\u001b[39m [=>                                       ]  0.6 %\r",
      "    \u001b[36m\u001b[1mFetching:\u001b[22m\u001b[39m [=>                                       ]  0.8 %\r",
      "    \u001b[36m\u001b[1mFetching:\u001b[22m\u001b[39m [=>                                       ]  0.9 %\r",
      "    \u001b[36m\u001b[1mFetching:\u001b[22m\u001b[39m [=>                                       ]  1.0 %\r",
      "    \u001b[36m\u001b[1mFetching:\u001b[22m\u001b[39m [=>                                       ]  1.1 %\r",
      "    \u001b[36m\u001b[1mFetching:\u001b[22m\u001b[39m [=>                                       ]  1.3 %\r",
      "    \u001b[36m\u001b[1mFetching:\u001b[22m\u001b[39m [=>                                       ]  1.4 %\r",
      "    \u001b[36m\u001b[1mFetching:\u001b[22m\u001b[39m [=>                                       ]  1.5 %\r",
      "    \u001b[36m\u001b[1mFetching:\u001b[22m\u001b[39m [=>                                       ]  1.7 %\r",
      "    \u001b[36m\u001b[1mFetching:\u001b[22m\u001b[39m [=>                                       ]  1.8 %\r",
      "    \u001b[36m\u001b[1mFetching:\u001b[22m\u001b[39m [=>                                       ]  1.9 %\r",
      "    \u001b[36m\u001b[1mFetching:\u001b[22m\u001b[39m [=>                                       ]  2.0 %\r",
      "    \u001b[36m\u001b[1mFetching:\u001b[22m\u001b[39m [=>                                       ]  2.2 %\r",
      "    \u001b[36m\u001b[1mFetching:\u001b[22m\u001b[39m [=>                                       ]  2.3 %\r",
      "    \u001b[36m\u001b[1mFetching:\u001b[22m\u001b[39m [=>                                       ]  2.4 %\r",
      "    \u001b[36m\u001b[1mFetching:\u001b[22m\u001b[39m [==>                                      ]  2.5 %\r",
      "    \u001b[36m\u001b[1mFetching:\u001b[22m\u001b[39m [==>                                      ]  2.7 %\r",
      "    \u001b[36m\u001b[1mFetching:\u001b[22m\u001b[39m [==>                                      ]  2.8 %\r",
      "    \u001b[36m\u001b[1mFetching:\u001b[22m\u001b[39m [==>                                      ]  2.9 %\r",
      "    \u001b[36m\u001b[1mFetching:\u001b[22m\u001b[39m [==>                                      ]  3.1 %\r",
      "    \u001b[36m\u001b[1mFetching:\u001b[22m\u001b[39m [==>                                      ]  3.2 %\r",
      "    \u001b[36m\u001b[1mFetching:\u001b[22m\u001b[39m [==>                                      ]  3.3 %\r",
      "    \u001b[36m\u001b[1mFetching:\u001b[22m\u001b[39m [==>                                      ]  3.4 %\r",
      "    \u001b[36m\u001b[1mFetching:\u001b[22m\u001b[39m [==>                                      ]  3.6 %\r",
      "    \u001b[36m\u001b[1mFetching:\u001b[22m\u001b[39m [==>                                      ]  3.7 %\r",
      "    \u001b[36m\u001b[1mFetching:\u001b[22m\u001b[39m [==>                                      ]  3.8 %\r",
      "    \u001b[36m\u001b[1mFetching:\u001b[22m\u001b[39m [==>                                      ]  3.9 %\r",
      "    \u001b[36m\u001b[1mFetching:\u001b[22m\u001b[39m [==>                                      ]  4.1 %\r",
      "    \u001b[36m\u001b[1mFetching:\u001b[22m\u001b[39m [==>                                      ]  4.2 %\r",
      "    \u001b[36m\u001b[1mFetching:\u001b[22m\u001b[39m [==>                                      ]  4.3 %\r",
      "    \u001b[36m\u001b[1mFetching:\u001b[22m\u001b[39m [==>                                      ]  4.5 %\r",
      "    \u001b[36m\u001b[1mFetching:\u001b[22m\u001b[39m [==>                                      ]  4.6 %\r",
      "    \u001b[36m\u001b[1mFetching:\u001b[22m\u001b[39m [==>                                      ]  4.7 %\r",
      "    \u001b[36m\u001b[1mFetching:\u001b[22m\u001b[39m [==>                                      ]  4.8 %\r",
      "    \u001b[36m\u001b[1mFetching:\u001b[22m\u001b[39m [==>                                      ]  5.0 %\r",
      "    \u001b[36m\u001b[1mFetching:\u001b[22m\u001b[39m [===>                                     ]  5.1 %\r",
      "    \u001b[36m\u001b[1mFetching:\u001b[22m\u001b[39m [===>                                     ]  5.2 %\r",
      "    \u001b[36m\u001b[1mFetching:\u001b[22m\u001b[39m [===>                                     ]  5.4 %\r",
      "    \u001b[36m\u001b[1mFetching:\u001b[22m\u001b[39m [===>                                     ]  5.5 %\r",
      "    \u001b[36m\u001b[1mFetching:\u001b[22m\u001b[39m [===>                                     ]  5.6 %\r",
      "    \u001b[36m\u001b[1mFetching:\u001b[22m\u001b[39m [===>                                     ]  5.7 %\r",
      "    \u001b[36m\u001b[1mFetching:\u001b[22m\u001b[39m [===>                                     ]  5.9 %\r",
      "    \u001b[36m\u001b[1mFetching:\u001b[22m\u001b[39m [===>                                     ]  6.0 %\r",
      "    \u001b[36m\u001b[1mFetching:\u001b[22m\u001b[39m [===>                                     ]  6.1 %\r",
      "    \u001b[36m\u001b[1mFetching:\u001b[22m\u001b[39m [===>                                     ]  6.2 %\r",
      "    \u001b[36m\u001b[1mFetching:\u001b[22m\u001b[39m [===>                                     ]  6.4 %\r",
      "    \u001b[36m\u001b[1mFetching:\u001b[22m\u001b[39m [===>                                     ]  6.5 %\r",
      "    \u001b[36m\u001b[1mFetching:\u001b[22m\u001b[39m [===>                                     ]  6.6 %\r",
      "    \u001b[36m\u001b[1mFetching:\u001b[22m\u001b[39m [===>                                     ]  6.8 %\r",
      "    \u001b[36m\u001b[1mFetching:\u001b[22m\u001b[39m [===>                                     ]  6.9 %\r",
      "    \u001b[36m\u001b[1mFetching:\u001b[22m\u001b[39m [===>                                     ]  7.0 %\r",
      "    \u001b[36m\u001b[1mFetching:\u001b[22m\u001b[39m [===>                                     ]  7.1 %\r",
      "    \u001b[36m\u001b[1mFetching:\u001b[22m\u001b[39m [===>                                     ]  7.3 %\r",
      "    \u001b[36m\u001b[1mFetching:\u001b[22m\u001b[39m [===>                                     ]  7.4 %\r",
      "    \u001b[36m\u001b[1mFetching:\u001b[22m\u001b[39m [====>                                    ]  7.5 %\r",
      "    \u001b[36m\u001b[1mFetching:\u001b[22m\u001b[39m [====>                                    ]  7.6 %\r",
      "    \u001b[36m\u001b[1mFetching:\u001b[22m\u001b[39m [====>                                    ]  7.8 %\r",
      "    \u001b[36m\u001b[1mFetching:\u001b[22m\u001b[39m [====>                                    ]  7.9 %\r",
      "    \u001b[36m\u001b[1mFetching:\u001b[22m\u001b[39m [====>                                    ]  8.0 %\r",
      "    \u001b[36m\u001b[1mFetching:\u001b[22m\u001b[39m [====>                                    ]  8.2 %\r",
      "    \u001b[36m\u001b[1mFetching:\u001b[22m\u001b[39m [====>                                    ]  8.3 %\r",
      "    \u001b[36m\u001b[1mFetching:\u001b[22m\u001b[39m [====>                                    ]  8.4 %\r",
      "    \u001b[36m\u001b[1mFetching:\u001b[22m\u001b[39m [====>                                    ]  8.5 %\r",
      "    \u001b[36m\u001b[1mFetching:\u001b[22m\u001b[39m [====>                                    ]  8.7 %\r",
      "    \u001b[36m\u001b[1mFetching:\u001b[22m\u001b[39m [====>                                    ]  8.8 %\r",
      "    \u001b[36m\u001b[1mFetching:\u001b[22m\u001b[39m [====>                                    ]  8.9 %\r",
      "    \u001b[36m\u001b[1mFetching:\u001b[22m\u001b[39m [====>                                    ]  9.0 %\r",
      "    \u001b[36m\u001b[1mFetching:\u001b[22m\u001b[39m [====>                                    ]  9.2 %\r",
      "    \u001b[36m\u001b[1mFetching:\u001b[22m\u001b[39m [====>                                    ]  9.3 %\r",
      "    \u001b[36m\u001b[1mFetching:\u001b[22m\u001b[39m [====>                                    ]  9.4 %\r",
      "    \u001b[36m\u001b[1mFetching:\u001b[22m\u001b[39m [====>                                    ]  9.6 %\r",
      "    \u001b[36m\u001b[1mFetching:\u001b[22m\u001b[39m [====>                                    ]  9.7 %\r",
      "    \u001b[36m\u001b[1mFetching:\u001b[22m\u001b[39m [====>                                    ]  9.8 %\r",
      "    \u001b[36m\u001b[1mFetching:\u001b[22m\u001b[39m [====>                                    ]  9.9 %\r",
      "    \u001b[36m\u001b[1mFetching:\u001b[22m\u001b[39m [=====>                                   ]  10.1 %\r",
      "    \u001b[36m\u001b[1mFetching:\u001b[22m\u001b[39m [=====>                                   ]  10.2 %\r",
      "    \u001b[36m\u001b[1mFetching:\u001b[22m\u001b[39m [=====>                                   ]  10.3 %\r",
      "    \u001b[36m\u001b[1mFetching:\u001b[22m\u001b[39m [=====>                                   ]  10.4 %\r",
      "    \u001b[36m\u001b[1mFetching:\u001b[22m\u001b[39m [=====>                                   ]  10.6 %\r",
      "    \u001b[36m\u001b[1mFetching:\u001b[22m\u001b[39m [=====>                                   ]  10.7 %\r",
      "    \u001b[36m\u001b[1mFetching:\u001b[22m\u001b[39m [=====>                                   ]  10.8 %\r",
      "    \u001b[36m\u001b[1mFetching:\u001b[22m\u001b[39m [=====>                                   ]  11.0 %\r",
      "    \u001b[36m\u001b[1mFetching:\u001b[22m\u001b[39m [=====>                                   ]  11.1 %\r",
      "    \u001b[36m\u001b[1mFetching:\u001b[22m\u001b[39m [=====>                                   ]  11.2 %\r",
      "    \u001b[36m\u001b[1mFetching:\u001b[22m\u001b[39m [=====>                                   ]  11.3 %\r",
      "    \u001b[36m\u001b[1mFetching:\u001b[22m\u001b[39m [=====>                                   ]  11.5 %\r",
      "    \u001b[36m\u001b[1mFetching:\u001b[22m\u001b[39m [=====>                                   ]  11.6 %\r",
      "    \u001b[36m\u001b[1mFetching:\u001b[22m\u001b[39m [=====>                                   ]  11.7 %\r",
      "    \u001b[36m\u001b[1mFetching:\u001b[22m\u001b[39m [=====>                                   ]  11.8 %\r",
      "    \u001b[36m\u001b[1mFetching:\u001b[22m\u001b[39m [=====>                                   ]  12.0 %\r",
      "    \u001b[36m\u001b[1mFetching:\u001b[22m\u001b[39m [=====>                                   ]  12.1 %\r",
      "    \u001b[36m\u001b[1mFetching:\u001b[22m\u001b[39m [=====>                                   ]  12.2 %\r",
      "    \u001b[36m\u001b[1mFetching:\u001b[22m\u001b[39m [=====>                                   ]  12.4 %\r",
      "    \u001b[36m\u001b[1mFetching:\u001b[22m\u001b[39m [=====>                                   ]  12.5 %\r",
      "    \u001b[36m\u001b[1mFetching:\u001b[22m\u001b[39m [======>                                  ]  12.6 %\r",
      "    \u001b[36m\u001b[1mFetching:\u001b[22m\u001b[39m [======>                                  ]  12.7 %\r",
      "    \u001b[36m\u001b[1mFetching:\u001b[22m\u001b[39m [======>                                  ]  12.9 %\r",
      "    \u001b[36m\u001b[1mFetching:\u001b[22m\u001b[39m [======>                                  ]  13.0 %\r",
      "    \u001b[36m\u001b[1mFetching:\u001b[22m\u001b[39m [======>                                  ]  13.1 %\r",
      "    \u001b[36m\u001b[1mFetching:\u001b[22m\u001b[39m [======>                                  ]  13.2 %\r",
      "    \u001b[36m\u001b[1mFetching:\u001b[22m\u001b[39m [======>                                  ]  13.4 %\r",
      "    \u001b[36m\u001b[1mFetching:\u001b[22m\u001b[39m [======>                                  ]  13.5 %\r",
      "    \u001b[36m\u001b[1mFetching:\u001b[22m\u001b[39m [======>                                  ]  13.6 %\r",
      "    \u001b[36m\u001b[1mFetching:\u001b[22m\u001b[39m [======>                                  ]  13.8 %\r",
      "    \u001b[36m\u001b[1mFetching:\u001b[22m\u001b[39m [======>                                  ]  13.9 %\r",
      "    \u001b[36m\u001b[1mFetching:\u001b[22m\u001b[39m [======>                                  ]  14.0 %\r",
      "    \u001b[36m\u001b[1mFetching:\u001b[22m\u001b[39m [======>                                  ]  14.1 %\r",
      "    \u001b[36m\u001b[1mFetching:\u001b[22m\u001b[39m [======>                                  ]  14.3 %\r",
      "    \u001b[36m\u001b[1mFetching:\u001b[22m\u001b[39m [======>                                  ]  14.4 %\r",
      "    \u001b[36m\u001b[1mFetching:\u001b[22m\u001b[39m [======>                                  ]  14.5 %\r",
      "    \u001b[36m\u001b[1mFetching:\u001b[22m\u001b[39m [======>                                  ]  14.6 %\r",
      "    \u001b[36m\u001b[1mFetching:\u001b[22m\u001b[39m [======>                                  ]  14.8 %\r",
      "    \u001b[36m\u001b[1mFetching:\u001b[22m\u001b[39m [======>                                  ]  14.9 %\r",
      "    \u001b[36m\u001b[1mFetching:\u001b[22m\u001b[39m [=======>                                 ]  15.0 %\r",
      "    \u001b[36m\u001b[1mFetching:\u001b[22m\u001b[39m [=======>                                 ]  15.2 %\r",
      "    \u001b[36m\u001b[1mFetching:\u001b[22m\u001b[39m [=======>                                 ]  15.3 %\r",
      "    \u001b[36m\u001b[1mFetching:\u001b[22m\u001b[39m [======="
     ]
    },
    {
     "name": "stdout",
     "output_type": "stream",
     "text": [
      "\u001b[2K\u001b[?25h[1mFetching:\u001b[22m\u001b[39m [========================================>]  100.0 %                       ]  39.2 %]  50.6 %===========================>             ]  66.0 %8 %>   ]  90.2 %"
     ]
    },
    {
     "name": "stderr",
     "output_type": "stream",
     "text": [
      "\u001b[32m\u001b[1m  Resolving\u001b[22m\u001b[39m package versions...\n",
      "\u001b[32m\u001b[1m   Updating\u001b[22m\u001b[39m `~/.julia/environments/v1.5/Project.toml`\n",
      "\u001b[90m   a93c6f00 \u001b[39m\u001b[92m+ DataFrames v0.21.7\u001b[39m\n",
      "\u001b[32m\u001b[1m   Updating\u001b[22m\u001b[39m `~/.julia/environments/v1.5/Manifest.toml`\n",
      "\u001b[32m\u001b[1m   Updating\u001b[22m\u001b[39m empty diff\n"
     ]
    }
   ],
   "source": [
    "] add DataFrames"
   ]
  },
  {
   "cell_type": "code",
   "execution_count": 30,
   "metadata": {},
   "outputs": [
    {
     "data": {
      "text/html": [
       "<table class=\"data-frame\"><thead><tr><th></th><th>Option_Type</th><th>Strike</th><th>Maturity</th><th>Value</th><th>KminusS</th></tr><tr><th></th><th>String</th><th>Int64</th><th>Int64</th><th>Float64</th><th>Int64</th></tr></thead><tbody><p>6 rows × 5 columns</p><tr><th>1</th><td>PUT</td><td>40</td><td>6</td><td>5.81958</td><td>5</td></tr><tr><th>2</th><td>PUT</td><td>40</td><td>3</td><td>5.3403</td><td>5</td></tr><tr><th>3</th><td>PUT</td><td>40</td><td>6</td><td>8.03253</td><td>8</td></tr><tr><th>4</th><td>PUT</td><td>40</td><td>3</td><td>7.8234</td><td>8</td></tr><tr><th>5</th><td>PUT</td><td>40</td><td>6</td><td>10.4862</td><td>11</td></tr><tr><th>6</th><td>PUT</td><td>40</td><td>3</td><td>10.5476</td><td>11</td></tr></tbody></table>"
      ],
      "text/latex": [
       "\\begin{tabular}{r|ccccc}\n",
       "\t& Option\\_Type & Strike & Maturity & Value & KminusS\\\\\n",
       "\t\\hline\n",
       "\t& String & Int64 & Int64 & Float64 & Int64\\\\\n",
       "\t\\hline\n",
       "\t1 & PUT & 40 & 6 & 5.81958 & 5 \\\\\n",
       "\t2 & PUT & 40 & 3 & 5.3403 & 5 \\\\\n",
       "\t3 & PUT & 40 & 6 & 8.03253 & 8 \\\\\n",
       "\t4 & PUT & 40 & 3 & 7.8234 & 8 \\\\\n",
       "\t5 & PUT & 40 & 6 & 10.4862 & 11 \\\\\n",
       "\t6 & PUT & 40 & 3 & 10.5476 & 11 \\\\\n",
       "\\end{tabular}\n"
      ],
      "text/plain": [
       "6×5 DataFrame\n",
       "│ Row │ Option_Type │ Strike │ Maturity │ Value   │ KminusS │\n",
       "│     │ \u001b[90mString\u001b[39m      │ \u001b[90mInt64\u001b[39m  │ \u001b[90mInt64\u001b[39m    │ \u001b[90mFloat64\u001b[39m │ \u001b[90mInt64\u001b[39m   │\n",
       "├─────┼─────────────┼────────┼──────────┼─────────┼─────────┤\n",
       "│ 1   │ PUT         │ 40     │ 6        │ 5.81958 │ 5       │\n",
       "│ 2   │ PUT         │ 40     │ 3        │ 5.3403  │ 5       │\n",
       "│ 3   │ PUT         │ 40     │ 6        │ 8.03253 │ 8       │\n",
       "│ 4   │ PUT         │ 40     │ 3        │ 7.8234  │ 8       │\n",
       "│ 5   │ PUT         │ 40     │ 6        │ 10.4862 │ 11      │\n",
       "│ 6   │ PUT         │ 40     │ 3        │ 10.5476 │ 11      │"
      ]
     },
     "execution_count": 30,
     "metadata": {},
     "output_type": "execute_result"
    }
   ],
   "source": [
    "using DataFrames\n",
    "\n",
    "t = 0; S = 40; K = [45, 45, 48, 48, 51, 51]; T = [6, 3, 6, 3, 6, 3]; σ = 0.30; r = 0.05; q = 0\n",
    "\n",
    "df = DataFrame(\n",
    "    Option_Type = [\"PUT\" for I in 1:6],\n",
    "    Strike = S,\n",
    "    Maturity = T,\n",
    "    Value = [black_scholes_approx(t, S, K[I], T[I] / 12, σ, r, q)[2][2] for I in 1:size(df)[1]],\n",
    "    KminusS = [K[I] - S for I in 1:6]\n",
    ")"
   ]
  },
  {
   "cell_type": "markdown",
   "metadata": {},
   "source": [
    "The purpose of this exercise was to show that **deep-in-the money** European put options are lower than the premium $K - S$ (the put options with higher $K - S$ are deep-in-the money). If the spot price is $0$, the value of the option would be $Ke^{-rT}$, which shows that longer dated puts are worth less than short dated ones (one cannot wait until the spot price goes to $0$, because then you have a discounted strike anyway)."
   ]
  },
  {
   "cell_type": "markdown",
   "metadata": {},
   "source": [
    "# Lagrange Multipliers. Portfolio Optimization"
   ]
  },
  {
   "cell_type": "markdown",
   "metadata": {},
   "source": [
    "## Minimum Variance Portfolio\n",
    "\n",
    "**Note**: the following **minimum variance portfolio** example was finished after the **maximum return portfolio** example, but since I must conserve the order of chronology, I am including this one first.\n",
    "\n",
    "**Example 1**: Find a minimum variance portfolio with $11.5\\%$ expected rate of return, if four assets can be traded to set up the portfolio, given the following data on the rates of return of the assets.\n",
    "\n",
    "**Solution**: Let\n",
    "\n",
    "$$\n",
    "    \\mu = \\left(\\begin{matrix}\n",
    "              0.09\\\\ 0.12\\\\ 0.15\\\\ 0.06\n",
    "          \\end{matrix}\\right)\\hspace{1em} \\text{and}\\hspace{1em} M = \\left(\\begin{matrix}\n",
    "                                                                               0.04 & -0.03 & 0.02450 & 0 \\\\\n",
    "                                                                               -0.03 & 0.09 & 0.02625 & 0 \\\\\n",
    "                                                                               0.0245 & 0.02625 & 0.1225 & 0 \\\\\n",
    "                                                                               0 & 0 & 0 & 0.0225\n",
    "                                                                      \\end{matrix}\\right)\n",
    "$$\n",
    "\n",
    "be the vector of expected values of the rates of return and the covariance matrix of the rates of return of the assets, respectively and as computed below."
   ]
  },
  {
   "cell_type": "code",
   "execution_count": 2,
   "metadata": {},
   "outputs": [],
   "source": [
    "μp = 0.115\n",
    "μ = [0.09, 0.12, 0.15, 0.06]\n",
    "σ = [0.20, 0.30, 0.35, 0.15];\n",
    "ρ = [\n",
    "        +1.00, -0.50, 0.35, 0.00,\n",
    "        -0.50, +1.00, 0.25, 0.00,\n",
    "        +0.35, +0.25, 1.00, 0.00,\n",
    "        +0.00, +0.00, 0.00, 1.00\n",
    "]; ρ = reshape(ρ, 4, 4);"
   ]
  },
  {
   "cell_type": "code",
   "execution_count": 3,
   "metadata": {},
   "outputs": [
    {
     "data": {
      "text/plain": [
       "4×4 Array{Float64,2}:\n",
       "  0.04    -0.03     0.0245   0.0\n",
       " -0.03     0.09     0.02625  0.0\n",
       "  0.0245   0.02625  0.1225   0.0\n",
       "  0.0      0.0      0.0      0.0225"
      ]
     },
     "execution_count": 3,
     "metadata": {},
     "output_type": "execute_result"
    }
   ],
   "source": [
    "M = VarCov2(μ, σ, ρ)"
   ]
  },
  {
   "cell_type": "markdown",
   "metadata": {},
   "source": [
    "I solve the linear system\n",
    "\n",
    "$$\n",
    "    \\left(\\begin{matrix}\n",
    "        2M & \\textbf{1} & \\mu \\\\ \\textbf{1}^t & 0 & 0 \\\\ \\mu^t & 0 & 0\n",
    "    \\end{matrix}\\right)\\ \\left( \\begin{matrix} w \\\\ \\lambda_1 \\\\ \\lambda_2\\end{matrix} \\right)\\ = \\left(\\begin{matrix} 0 \\\\ 1 \\\\ \\mu_p \\end{matrix}\\right)\n",
    "$$\n",
    "\n",
    "to obtain the weights of the minimum variance portfolio, implemented as `__nablaF`, which gives me the solution"
   ]
  },
  {
   "cell_type": "code",
   "execution_count": 8,
   "metadata": {},
   "outputs": [
    {
     "data": {
      "text/plain": [
       "6-element Array{Float64,1}:\n",
       "  0.5474522427456003\n",
       "  0.4403771370834482\n",
       "  0.135042272140279\n",
       " -0.12287165196932762\n",
       "  0.06456891807488878\n",
       " -0.9839948956044839"
      ]
     },
     "execution_count": 8,
     "metadata": {},
     "output_type": "execute_result"
    }
   ],
   "source": [
    "μ0 = μ; λ0 = [1, μp]; x = [μ0; λ0]\n",
    "xp = __nablaF(x, M) \\ [0, 0, 0, 0, 1, μp]"
   ]
  },
  {
   "cell_type": "markdown",
   "metadata": {},
   "source": [
    "The standard deviation of the portfolio, $σ_p = \\sqrt{w_0^tM\\ w_0}$, is then"
   ]
  },
  {
   "cell_type": "code",
   "execution_count": 9,
   "metadata": {},
   "outputs": [
    {
     "data": {
      "text/plain": [
       "0.15586932815603413"
      ]
     },
     "execution_count": 9,
     "metadata": {},
     "output_type": "execute_result"
    }
   ],
   "source": [
    "sqrt(xp[1:4]'M * xp[1:4])"
   ]
  },
  {
   "cell_type": "markdown",
   "metadata": {},
   "source": [
    "or $15.586933\\%$"
   ]
  },
  {
   "cell_type": "markdown",
   "metadata": {},
   "source": [
    "## Maximum Return Portfolio\n",
    "\n",
    "**Example 2**: Find a maximum return portfolio with $25\\%$ standard deviation of the rate of return, if four assets can be traded to set up the portfolio, given by the following data on the rates of return of the assets:\n",
    "\n",
    "$$\n",
    "    \\begin{matrix}\n",
    "        \\mu_1 = 0.09; & \\sigma_1 = 0.20; & \\rho_{1,2} = -0.5; \\\\\n",
    "        \\mu_2 = 0.12; & \\sigma_2 = 0.30; & \\rho_{2,3} = 0.25; \\\\\n",
    "        \\mu_3 = 0.15; & \\sigma_3 = 0.35; & \\rho_{1,3} = 0.35; \\\\\n",
    "        \\mu_4 = 0.06; & \\sigma_4 = 0.15; & \\rho_{i,4} = 0,\\ \\forall\\ i = 1 : 3\n",
    "    \\end{matrix}\n",
    "$$\n",
    "\n",
    "**Solution**: Let"
   ]
  },
  {
   "cell_type": "code",
   "execution_count": 3,
   "metadata": {
    "scrolled": true
   },
   "outputs": [],
   "source": [
    "σp = 0.25\n",
    "μ = [0.09, 0.12, 0.15, 0.06]\n",
    "σ = [0.20, 0.30, 0.35, 0.15]\n",
    "ρ = [\n",
    "        +1.00, -0.50, 0.35, 0.00,\n",
    "        -0.50, +1.00, 0.25, 0.00,\n",
    "        +0.35, +0.25, 1.00, 0.00,\n",
    "        +0.00, +0.00, 0.00, 1.00\n",
    "]; ρ = reshape(ρ, 4, 4);"
   ]
  },
  {
   "cell_type": "markdown",
   "metadata": {},
   "source": [
    "and the variance-covariance matrix, which would be computed as on page $283$ of text, i.e.,\n",
    "\n",
    "$$\n",
    "    M = \\left(\\begin{matrix}\n",
    "        \\sigma_1^2 & \\sigma_1\\sigma_2\\rho_{1,2} & \\sigma_1\\sigma_3\\rho_{1,3} & \\cdots & \\sigma_1\\sigma_n\\rho_{1,n} \\\\\n",
    "        \\sigma_1\\sigma_2\\rho_{1,2} & \\sigma_2^2 & \\sigma_2\\sigma_3\\rho_{2,3} & \\cdots & \\sigma_2\\sigma_n\\rho_{2,n} \\\\\n",
    "        \\sigma_1\\sigma_3\\rho_{1,3} & \\sigma_2\\sigma_3\\rho_{2,3} & \\sigma_3^2 & \\cdots & \\sigma_3\\sigma_n\\rho_{3,n} \\\\\n",
    "        \\vdots & \\vdots & \\vdots & \\ddots & \\vdots \\\\\n",
    "        \\sigma_1\\sigma_n\\rho_{1,n} & \\sigma_2\\sigma_n\\rho_{2,n} & \\sigma_3\\sigma_n\\rho_{3,n} & \\cdots & \\sigma_n^2\n",
    "    \\end{matrix}\\right)\n",
    "$$\n",
    "\n",
    "be"
   ]
  },
  {
   "cell_type": "code",
   "execution_count": 4,
   "metadata": {
    "scrolled": true
   },
   "outputs": [
    {
     "data": {
      "text/plain": [
       "4×4 Matrix{Float64}:\n",
       "  0.04    -0.03     0.0245   0.0\n",
       " -0.03     0.09     0.02625  0.0\n",
       "  0.0245   0.02625  0.1225   0.0\n",
       "  0.0      0.0      0.0      0.0225"
      ]
     },
     "execution_count": 4,
     "metadata": {},
     "output_type": "execute_result"
    }
   ],
   "source": [
    "M = VarCov2(μ, σ, ρ)"
   ]
  },
  {
   "cell_type": "markdown",
   "metadata": {},
   "source": [
    "$\\mu$ is the vector of expected returns of the Assets Under Management (AUM) and $M$ is the covariance matrix of the rates of return of the assets, respectively.\n",
    "\n",
    "Recall that the following condition must be satisfied, to find the maximum return portfolio using the Lagrange multiplier method: $\\textbf{1}^tM^{-1}\\textbf{1} \\neq \\frac{1}{\\sigma_p^2}$.\n",
    "\n",
    "Checking whether or not $\\textbf{1}^tM^{-1}\\textbf{1} \\neq \\frac{1}{\\sigma_p^2}$ is satisfied, assuring that the Lagrange Multiplier Method can be used for this constrained maximization example."
   ]
  },
  {
   "cell_type": "code",
   "execution_count": 48,
   "metadata": {},
   "outputs": [
    {
     "data": {
      "text/plain": [
       "true"
      ]
     },
     "execution_count": 48,
     "metadata": {},
     "output_type": "execute_result"
    }
   ],
   "source": [
    "ones(4)' * M ^ -1 * ones(4) != 1 / σp^2"
   ]
  },
  {
   "cell_type": "markdown",
   "metadata": {},
   "source": [
    "The weights of the maximum return portfolio can be found by solving $G(w, \\lambda_1, \\lambda_2) = 0$, where the function $G(w, \\lambda_1, \\lambda_2)$ is the transpose of the gradient of the Langrangian function associated to this constrained optimization problem. We obtain that the function $G: \\cal R^6 \\rightarrow \\cal R^6$ is given by"
   ]
  },
  {
   "cell_type": "markdown",
   "metadata": {},
   "source": [
    "$$\n",
    "    G(w, \\lambda_1, \\lambda_2) = \\left(\\begin{matrix}\n",
    "                                 \\mu + \\lambda_1\\textbf{1} + 2\\lambda_2M\\ w \\\\\n",
    "                                 \\textbf{1}^tw - 1 \\\\\n",
    "                                 w^tM\\ w - \\sigma_p^2 \\end{matrix} \\right)\n",
    "$$"
   ]
  },
  {
   "cell_type": "code",
   "execution_count": 125,
   "metadata": {
    "scrolled": true
   },
   "outputs": [
    {
     "data": {
      "text/plain": [
       "G (generic function with 1 method)"
      ]
     },
     "execution_count": 125,
     "metadata": {},
     "output_type": "execute_result"
    }
   ],
   "source": [
    "σp = 0.25;\n",
    "G(x) = [μ + x[5] * ones(size(x[1:end-2])[1]) + 2x[6] * M * x[1:end-2]; \n",
    "    ones(size(x[1:end-2])[1])'x[1:end-2] - 1; x[1:end-2]'M * x[1:end-2] - 0.625]"
   ]
  },
  {
   "cell_type": "code",
   "execution_count": 126,
   "metadata": {},
   "outputs": [
    {
     "data": {
      "text/plain": [
       "0.9407916666666666"
      ]
     },
     "execution_count": 126,
     "metadata": {},
     "output_type": "execute_result"
    }
   ],
   "source": [
    "x0 \\ G(x0)"
   ]
  },
  {
   "cell_type": "markdown",
   "metadata": {},
   "source": [
    "$\\nabla_{(w, \\lambda))}\\ G(w, \\lambda_1, \\lambda_2)$ is a function, giving the $6 \\times 6$ matrix"
   ]
  },
  {
   "cell_type": "markdown",
   "metadata": {},
   "source": [
    "$$\n",
    "    \\nabla_{(w, \\lambda)}\\ G(w, \\lambda_1, \\lambda_2) = \\left(\\begin{matrix}\n",
    "                                                            2\\lambda_2 M & \\textbf{1} & 2M\\ w \\\\\n",
    "                                                            \\textbf{1}^t & 0 & 0 \\\\\n",
    "                                                            2(M\\ w)^t & 0 & 0\n",
    "                                                        \\end{matrix}\\right)\n",
    "$$"
   ]
  },
  {
   "cell_type": "markdown",
   "metadata": {},
   "source": [
    "I tried taking the gradient of $G$ using the standard linear algebra method, but this obviously would not work, due to having nonlinear components. I learned that I must always use **Lagrange Multiplier** method for nonlinear problems. `nDimNewton` needs to be modified for this exercise."
   ]
  },
  {
   "cell_type": "code",
   "execution_count": 121,
   "metadata": {},
   "outputs": [
    {
     "ename": "LoadError",
     "evalue": "MethodError: no method matching size(::typeof(G))\nClosest candidates are:\n  size(!Matched::BitArray{1}) at bitarray.jl:99\n  size(!Matched::BitArray{1}, !Matched::Integer) at bitarray.jl:102\n  size(!Matched::Core.Compiler.StmtRange) at show.jl:1846\n  ...",
     "output_type": "error",
     "traceback": [
      "MethodError: no method matching size(::typeof(G))\nClosest candidates are:\n  size(!Matched::BitArray{1}) at bitarray.jl:99\n  size(!Matched::BitArray{1}, !Matched::Integer) at bitarray.jl:102\n  size(!Matched::Core.Compiler.StmtRange) at show.jl:1846\n  ...",
      "",
      "Stacktrace:",
      " [1] nDimNewton(::Array{Float64,1}, ::Function; tol_approx::Float64, tol_consec::Float64) at /home/chrx/Documents/Financial Economics/Financial Engineering/a3x.jl:23",
      " [2] nDimNewton(::Array{Float64,1}, ::Function) at /home/chrx/Documents/Financial Economics/Financial Engineering/a3x.jl:23",
      " [3] top-level scope at In[121]:1",
      " [4] include_string(::Function, ::Module, ::String, ::String) at ./loading.jl:1090"
     ]
    }
   ],
   "source": [
    "nDimNewton(w0, G)"
   ]
  },
  {
   "cell_type": "markdown",
   "metadata": {},
   "source": [
    "To implement the gradient function above, I wrote a helper function called `__nablaG`."
   ]
  },
  {
   "cell_type": "code",
   "execution_count": 122,
   "metadata": {},
   "outputs": [
    {
     "data": {
      "text/plain": [
       "6×6 Array{Float64,2}:\n",
       "  0.08    -0.06     0.049    0.0     1.0  0.0345\n",
       " -0.06     0.18     0.0525   0.0     1.0  0.08625\n",
       "  0.049    0.0525   0.245    0.0     1.0  0.17325\n",
       "  0.0      0.0      0.0      0.045   1.0  0.0225\n",
       "  1.0      1.0      1.0      1.0     0.0  0.0\n",
       "  0.0345   0.08625  0.17325  0.0225  0.0  0.0"
      ]
     },
     "execution_count": 122,
     "metadata": {},
     "output_type": "execute_result"
    }
   ],
   "source": [
    "__nablaG(x0, M)"
   ]
  },
  {
   "cell_type": "markdown",
   "metadata": {},
   "source": [
    "To get the Lagrange Multiplier method to work for `nDimNewton`, I wrote a new function called `nDimNewtonLagrange`.\n",
    "\n",
    "As of Thursday, September 24, 2020, I detected a bug in my implementation of `G`.\n",
    "\n",
    "$\\sigma_p$ is the standard deviation of the portfolio, not of the individual assets. $\\sigma_p$ is, therefore, the **target risk** that I should have written for `G` above.\n",
    "\n",
    "I am leaving the output of my previous implementation of `G`, to be kindly reminded of this naive implementation error later."
   ]
  },
  {
   "cell_type": "code",
   "execution_count": 127,
   "metadata": {},
   "outputs": [
    {
     "data": {
      "text/plain": [
       "(9, [1.0401698927536367, 1.3492142023807232, 1.2530895030648683, -2.6424735981992287], [-0.07953920252137467, -0.16431744134393278])"
      ]
     },
     "execution_count": 127,
     "metadata": {},
     "output_type": "execute_result"
    }
   ],
   "source": [
    "w0 = [0.5, 0.5, 0.5, 0.5]\n",
    "\n",
    "nDimNewtonLagrange(w0, G, M)"
   ]
  },
  {
   "cell_type": "markdown",
   "metadata": {},
   "source": [
    "This is what I should have gotten, had I implemented the `G` function correctly, as I am doing now."
   ]
  },
  {
   "cell_type": "code",
   "execution_count": 12,
   "metadata": {},
   "outputs": [
    {
     "data": {
      "text/plain": [
       "(7, [0.6268544356233006, 0.5868376017165989, 0.31521727069125743, -0.528909308031157], [-0.07317766900846581, -0.5536621962035316])"
      ]
     },
     "execution_count": 12,
     "metadata": {},
     "output_type": "execute_result"
    }
   ],
   "source": [
    "G(x) = [μ + x[end-1] * ones(size(x[1:end-2])[1]) + 2x[end] * M * x[1:end-2]; \n",
    "    ones(size(x[1:end-2])[1])'x[1:end-2] - 1; x[1:end-2]'M * x[1:end-2] - σp^2]\n",
    "\n",
    "w0 = [0.5, 0.5, 0.5, 0.5]; λ1 = 1; λ2 = 1\n",
    "\n",
    "n, w0, λ0 = nDimNewtonLagrange(w0, G, M, λ1 = 1, λ2 = 1)"
   ]
  },
  {
   "cell_type": "markdown",
   "metadata": {},
   "source": [
    "The expected return of the portfolio is $\\mu_p = \\mu^tw_0$ or"
   ]
  },
  {
   "cell_type": "code",
   "execution_count": 14,
   "metadata": {},
   "outputs": [
    {
     "data": {
      "text/plain": [
       "0.14238544353390814"
      ]
     },
     "execution_count": 14,
     "metadata": {},
     "output_type": "execute_result"
    }
   ],
   "source": [
    "μp = μ'w0"
   ]
  },
  {
   "cell_type": "markdown",
   "metadata": {},
   "source": [
    "### **G** \"Implementation\" Given in Text\n",
    "\n",
    "This implementation is directly from the code on page $290$. Again, I got $\\sigma$ wrong the first time, but I am including for reference."
   ]
  },
  {
   "cell_type": "code",
   "execution_count": 214,
   "metadata": {},
   "outputs": [],
   "source": [
    "G(x) = [\n",
    "    0.09 + x[5] + 0.080 * x[6] * x[1] - 0.0600 * x[6] * x[2] + 0.0450 * x[6] * x[3],\n",
    "    0.12 + x[5] - 0.060 * x[6] * x[1] + 0.1800 * x[6] * x[2] + 0.0525 * x[6] * x[3],\n",
    "    0.15 + x[5] + 0.049 * x[6] * x[1] + 0.0525 * x[6] * x[2] + 0.2450 * x[6] * x[3],\n",
    "    0.06 + x[5] + 0.090 * x[6] * x[4],\n",
    "    x[1] + x[2] + x[3] + x[4] - 1,\n",
    "    0.04 * x[1]^2 + 0.09 * x[2]^2 + 0.1255 * x[3]^2 + 0.0225 * x[4]^2 - 0.06 * x[1] * x[2] + 0.049 * x[1] * x[3] + 0.0525 * x[2] * x[3] - 0.625\n",
    "];"
   ]
  },
  {
   "cell_type": "code",
   "execution_count": 217,
   "metadata": {
    "scrolled": true
   },
   "outputs": [
    {
     "data": {
      "text/plain": [
       "(34, [0.3238585926615457, 1.0439844372601506, 1.6379648130738014, -2.0058078429954973, -0.08489959959938345, -0.1379305288223673])"
      ]
     },
     "execution_count": 217,
     "metadata": {},
     "output_type": "execute_result"
    }
   ],
   "source": [
    "nDimNewtonLagrange(x0, G, M)"
   ]
  },
  {
   "cell_type": "markdown",
   "metadata": {},
   "source": [
    "Implementation with the \"correct\" value of $\\sigma$ in $G$."
   ]
  },
  {
   "cell_type": "code",
   "execution_count": 250,
   "metadata": {},
   "outputs": [],
   "source": [
    "G(x) = [\n",
    "    0.09 + x[5] + 0.080 * x[6] * x[1] - 0.0600 * x[6] * x[2] + 0.0450 * x[6] * x[3],\n",
    "    0.12 + x[5] - 0.060 * x[6] * x[1] + 0.1800 * x[6] * x[2] + 0.0525 * x[6] * x[3],\n",
    "    0.15 + x[5] + 0.049 * x[6] * x[1] + 0.0525 * x[6] * x[2] + 0.2450 * x[6] * x[3],\n",
    "    0.06 + x[5] + 0.090 * x[6] * x[4],\n",
    "    x[1] + x[2] + x[3] + x[4] - 1,\n",
    "    0.04 * x[1]^2 + 0.09 * x[2]^2 + 0.1255 * x[3]^2 + 0.0225 * x[4]^2 - 0.06 * x[1] * x[2] + 0.049 * x[1] * x[3] + 0.0525 * x[2] * x[3] - 0.0625\n",
    "];"
   ]
  },
  {
   "cell_type": "markdown",
   "metadata": {},
   "source": [
    "I got a different result this time. It is not remotely close to the result I was expecting."
   ]
  },
  {
   "cell_type": "code",
   "execution_count": 252,
   "metadata": {},
   "outputs": [
    {
     "data": {
      "text/plain": [
       "(24, [0.4854920217534955, 0.5271124216975402, 0.39365568587610794, -0.4062601293271437], [-0.07783855289915374, -0.48788011363771805])"
      ]
     },
     "execution_count": 252,
     "metadata": {},
     "output_type": "execute_result"
    }
   ],
   "source": [
    "w0 = [0.5, 0.5, 0.5, 0.5]\n",
    "nDimNewtonLagrange(w0, G, M)"
   ]
  },
  {
   "cell_type": "markdown",
   "metadata": {},
   "source": [
    "## $\\S 9.2$ Exercises"
   ]
  },
  {
   "cell_type": "markdown",
   "metadata": {},
   "source": [
    "**Problem 3**: Asked to consider five tradable assets with the following expected values and standard deviations of the rates of return of the assets:\n",
    "\n",
    "\\begin{matrix}\n",
    "    \\mu_1 = 0.08 & \\mu_2 = 0.10 & \\mu_3 = 0.13 & \\mu_4 = 0.15 & \\mu_5 = 0.20 \\\\\n",
    "    \\sigma_1 = 0.14 & \\sigma_2 = 0.18 & \\sigma_3 = 0.23 & \\sigma_4 = 0.25 & \\sigma_5 = 0.35\n",
    "\\end{matrix}\n",
    "\n",
    "The correlation matrix of the rates of return is\n",
    "\n",
    "$$\\Omega = \\left(\\begin{matrix}\n",
    "    1 & -0.3 & 0.4 & 0.25 & -0.2 \\\\\n",
    "    -0.3 & 1 & -0.1 & -0.2 & 0.15 \\\\\n",
    "    0.4 & -0.1 & 1 & 0.35 & 0.25 \\\\\n",
    "    0.25 & -0.2 & 0.35 & 1 & -0.15 \\\\\n",
    "    -0.2 & 0.15 & 0.25 & -0.15 & 1\n",
    "\\end{matrix}\\right)$$\n",
    "\n",
    "Assume that it is possible to take both long and short positions of arbitrary size in these assets.\n",
    "\n",
    "(i) Find the asset allocation for a minimal variance portfolio with $15\\%$ expected rate of return and the corresponding minimal standard deviation of the rate of return of the portfolio.\n",
    "\n",
    "(ii) Find the asset allocation for a maximum expected return portfolio with $25\\%$ standard deviation of the rate of return and the corresponding maximal expected rate of return of the portfolio."
   ]
  },
  {
   "cell_type": "markdown",
   "metadata": {},
   "source": [
    "**Solution**: Let"
   ]
  },
  {
   "cell_type": "code",
   "execution_count": 20,
   "metadata": {},
   "outputs": [
    {
     "data": {
      "text/plain": [
       "5×5 Matrix{Float64}:\n",
       "  1.0   -0.3    0.4    0.25  -0.2\n",
       " -0.3    1.0   -0.1   -0.2    0.15\n",
       "  0.4   -0.1    1.0    0.35   0.25\n",
       "  0.25  -0.2    0.35   1.0   -0.15\n",
       " -0.2    0.15   0.25  -0.15   1.0"
      ]
     },
     "execution_count": 20,
     "metadata": {},
     "output_type": "execute_result"
    }
   ],
   "source": [
    "μp = 0.15\n",
    "μ = [0.08, 0.10, 0.13, 0.15, 0.20]; σ = [0.14, 0.18, 0.23, 0.25, 0.35];\n",
    "ρ = [\n",
    "    1, -0.3, 0.4, 0.25, -0.2,\n",
    "    -0.3, 1, -0.1, -0.2, 0.15,\n",
    "    0.4, -0.1, 1, 0.35, 0.25,\n",
    "    0.25, -0.2, 0.35, 1, -0.15,\n",
    "    -0.2, 0.15, 0.25, -0.15, 1\n",
    "]; ρ = reshape(ρ, 5, 5)"
   ]
  },
  {
   "cell_type": "markdown",
   "metadata": {},
   "source": [
    "be the vectors of expected rates of return and of the standard deviation of the rates of return of the given assets, respectively. The correlation matrix, $\\rho$, is also given."
   ]
  },
  {
   "cell_type": "markdown",
   "metadata": {},
   "source": [
    "The covariance matrix $M$ of the rates of return of the assets is given by $M(i, j) = \\sigma(i)\\sigma(j)\\rho_{i, j}, \\forall i, j = 1:5$, where $\\rho = \\omega(i, j)$ is the correlation of the rates of return of the assets $i$ and $j$. Basically, the matrix $M = \\text{diag}(\\sigma)\\ \\Omega\\ \\text{diag}({\\sigma})$. Then,"
   ]
  },
  {
   "cell_type": "code",
   "execution_count": 35,
   "metadata": {},
   "outputs": [
    {
     "data": {
      "text/plain": [
       "5×5 Matrix{Float64}:\n",
       "  0.0196   -0.00756   0.01288   0.00875  -0.0098\n",
       " -0.00756   0.0324   -0.00414  -0.009     0.00945\n",
       "  0.01288  -0.00414   0.0529    0.02012   0.02012\n",
       "  0.00875  -0.009     0.02012   0.0625   -0.01312\n",
       " -0.0098    0.00945   0.02012  -0.01312   0.1225"
      ]
     },
     "execution_count": 35,
     "metadata": {},
     "output_type": "execute_result"
    }
   ],
   "source": [
    "M = VarCov2(μ, σ, ρ)"
   ]
  },
  {
   "cell_type": "markdown",
   "metadata": {},
   "source": [
    "#### For the minimum variance portfolio..."
   ]
  },
  {
   "cell_type": "code",
   "execution_count": 36,
   "metadata": {},
   "outputs": [
    {
     "data": {
      "text/plain": [
       "7-element Vector{Float64}:\n",
       "  0.0672828417168285\n",
       "  0.21731272173207297\n",
       " -0.002110778934250173\n",
       "  0.406850826923416\n",
       "  0.3106643885619327\n",
       "  0.04488000427746616\n",
       " -0.5651027138772067"
      ]
     },
     "execution_count": 36,
     "metadata": {},
     "output_type": "execute_result"
    }
   ],
   "source": [
    "μ0 = μ; λ0 = [1, μp]; x = [μ0; λ0]\n",
    "xp = __nablaF(x, M) \\ [0, 0, 0, 0, 0, 1, μp]"
   ]
  },
  {
   "cell_type": "markdown",
   "metadata": {},
   "source": [
    "and remember that $σ_p = \\sqrt{w_0^tMw_0}$"
   ]
  },
  {
   "cell_type": "code",
   "execution_count": 34,
   "metadata": {},
   "outputs": [
    {
     "data": {
      "text/plain": [
       "0.1412186297981163"
      ]
     },
     "execution_count": 34,
     "metadata": {},
     "output_type": "execute_result"
    }
   ],
   "source": [
    "σp = √(xp[1:end-2]'M * xp[1:end-2])"
   ]
  },
  {
   "cell_type": "markdown",
   "metadata": {},
   "source": [
    "#### For the maximum return portfolio..."
   ]
  },
  {
   "cell_type": "code",
   "execution_count": 38,
   "metadata": {},
   "outputs": [
    {
     "data": {
      "text/plain": [
       "G (generic function with 1 method)"
      ]
     },
     "execution_count": 38,
     "metadata": {},
     "output_type": "execute_result"
    }
   ],
   "source": [
    "σp = 0.25; G(x) = [μ + x[end-1] * ones(size(x[1:end-2])[1]) + 2x[end] * M * x[1:end-2]; \n",
    "                   ones(size(x[1:end-2])[1])'x[1:end-2] - 1; \n",
    "                   x[1:end-2]'M * x[1:end-2] - σp^2]"
   ]
  },
  {
   "cell_type": "markdown",
   "metadata": {},
   "source": [
    "Is the **Lagrange Multiplier Method (LMM)** condition met?"
   ]
  },
  {
   "cell_type": "code",
   "execution_count": 39,
   "metadata": {},
   "outputs": [
    {
     "data": {
      "text/plain": [
       "true"
      ]
     },
     "execution_count": 39,
     "metadata": {},
     "output_type": "execute_result"
    }
   ],
   "source": [
    "ones(5)' * M ^ -1 * ones(5) != 1 / σp"
   ]
  },
  {
   "cell_type": "markdown",
   "metadata": {},
   "source": [
    "We may continue."
   ]
  },
  {
   "cell_type": "code",
   "execution_count": 40,
   "metadata": {},
   "outputs": [
    {
     "data": {
      "text/plain": [
       "(7, [-0.39559845940111615, 0.09609158418614616, 0.04606428037709733, 0.7097907315309685, 0.5436518633069043], [-0.09200673706952392, -0.8571350674962558])"
      ]
     },
     "execution_count": 40,
     "metadata": {},
     "output_type": "execute_result"
    }
   ],
   "source": [
    "w0 = [0.5, 0.5, 0.5, 0.5, 0.5];\n",
    "\n",
    "n, w0, λ0 = nDimNewtonLagrange(w0, G, M, λ1 = 1, λ2 = 1)"
   ]
  },
  {
   "cell_type": "markdown",
   "metadata": {},
   "source": [
    "**Final Note**: Although I did not get the results precisely as written in the text, I did find a few errors in my original code. I was using the portfolio weights as if it was $4$, giving me $\\lambda_1$ at position $5$ in the $x_0$ array and $\\lambda_2$ at position $6$. **Reminder to generalize each and every function!**"
   ]
  },
  {
   "cell_type": "markdown",
   "metadata": {},
   "source": [
    "The expected return of the portfolio is given by $μ^tw_0$"
   ]
  },
  {
   "cell_type": "code",
   "execution_count": 18,
   "metadata": {},
   "outputs": [
    {
     "data": {
      "text/plain": [
       "0.19914862050657411"
      ]
     },
     "execution_count": 18,
     "metadata": {},
     "output_type": "execute_result"
    }
   ],
   "source": [
    "μ'w0"
   ]
  }
 ],
 "metadata": {
  "kernelspec": {
   "display_name": "Julia 1.6.0-DEV",
   "language": "julia",
   "name": "julia-1.6"
  },
  "language_info": {
   "file_extension": ".jl",
   "mimetype": "application/julia",
   "name": "julia",
   "version": "1.6.0"
  }
 },
 "nbformat": 4,
 "nbformat_minor": 2
}
