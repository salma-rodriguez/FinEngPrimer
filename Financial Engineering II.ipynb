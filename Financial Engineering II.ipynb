{
 "cells": [
  {
   "cell_type": "code",
   "execution_count": 2,
   "metadata": {},
   "outputs": [
    {
     "name": "stderr",
     "output_type": "stream",
     "text": [
      "\u001b[32m\u001b[1m   Updating\u001b[22m\u001b[39m registry at `C:\\Users\\Owner\\.julia\\registries\\General`"
     ]
    },
    {
     "name": "stdout",
     "output_type": "stream",
     "text": [
      "\u001b[?25l"
     ]
    },
    {
     "name": "stderr",
     "output_type": "stream",
     "text": [
      "\n",
      "\u001b[32m\u001b[1m   Updating\u001b[22m\u001b[39m git-repo `https://github.com/JuliaRegistries/General.git`\n"
     ]
    },
    {
     "name": "stdout",
     "output_type": "stream",
     "text": [
      "\u001b[2K\u001b[?25h[1mFetching:\u001b[22m\u001b[39m [========================================>]  100.0 %"
     ]
    },
    {
     "name": "stderr",
     "output_type": "stream",
     "text": [
      "\u001b[32m\u001b[1m  Resolving\u001b[22m\u001b[39m package versions...\n",
      "\u001b[32m\u001b[1m  Installed\u001b[22m\u001b[39m Compat ───────────── v3.25.0\n",
      "\u001b[32m\u001b[1m  Installed\u001b[22m\u001b[39m OrderedCollections ─ v1.4.0\n",
      "\u001b[32m\u001b[1m  Installed\u001b[22m\u001b[39m DataStructures ───── v0.18.9\n",
      "\u001b[32m\u001b[1mUpdating\u001b[22m\u001b[39m `C:\\Users\\Owner\\.julia\\environments\\v1.5\\Project.toml`\n",
      " \u001b[90m [864edb3b] \u001b[39m\u001b[92m+ DataStructures v0.18.9\u001b[39m\n",
      "\u001b[32m\u001b[1mUpdating\u001b[22m\u001b[39m `C:\\Users\\Owner\\.julia\\environments\\v1.5\\Manifest.toml`\n",
      " \u001b[90m [34da2185] \u001b[39m\u001b[92m+ Compat v3.25.0\u001b[39m\n",
      " \u001b[90m [864edb3b] \u001b[39m\u001b[92m+ DataStructures v0.18.9\u001b[39m\n",
      " \u001b[90m [bac558e1] \u001b[39m\u001b[92m+ OrderedCollections v1.4.0\u001b[39m\n",
      " \u001b[90m [8bb1440f] \u001b[39m\u001b[92m+ DelimitedFiles\u001b[39m\n",
      " \u001b[90m [37e2e46d] \u001b[39m\u001b[92m+ LinearAlgebra\u001b[39m\n",
      " \u001b[90m [1a1011a3] \u001b[39m\u001b[92m+ SharedArrays\u001b[39m\n",
      " \u001b[90m [2f01184e] \u001b[39m\u001b[92m+ SparseArrays\u001b[39m\n",
      " \u001b[90m [10745b16] \u001b[39m\u001b[92m+ Statistics\u001b[39m\n"
     ]
    }
   ],
   "source": [
    "] add DataStructures"
   ]
  },
  {
   "cell_type": "code",
   "execution_count": 4,
   "metadata": {},
   "outputs": [
    {
     "name": "stderr",
     "output_type": "stream",
     "text": [
      "\u001b[32m\u001b[1m  Resolving\u001b[22m\u001b[39m package versions...\n",
      "\u001b[32m\u001b[1m  Installed\u001b[22m\u001b[39m QuadGK ─ v2.4.1\n",
      "\u001b[32m\u001b[1mUpdating\u001b[22m\u001b[39m `C:\\Users\\Owner\\.julia\\environments\\v1.5\\Project.toml`\n",
      " \u001b[90m [1fd47b50] \u001b[39m\u001b[92m+ QuadGK v2.4.1\u001b[39m\n",
      "\u001b[32m\u001b[1mUpdating\u001b[22m\u001b[39m `C:\\Users\\Owner\\.julia\\environments\\v1.5\\Manifest.toml`\n",
      " \u001b[90m [1fd47b50] \u001b[39m\u001b[92m+ QuadGK v2.4.1\u001b[39m\n"
     ]
    }
   ],
   "source": [
    "] add QuadGK"
   ]
  },
  {
   "cell_type": "code",
   "execution_count": 6,
   "metadata": {},
   "outputs": [
    {
     "name": "stderr",
     "output_type": "stream",
     "text": [
      "\u001b[32m\u001b[1m  Resolving\u001b[22m\u001b[39m package versions...\n",
      "\u001b[32m\u001b[1m  Installed\u001b[22m\u001b[39m Calculus ─ v0.5.1\n",
      "\u001b[32m\u001b[1mUpdating\u001b[22m\u001b[39m `C:\\Users\\Owner\\.julia\\environments\\v1.5\\Project.toml`\n",
      " \u001b[90m [49dc2e85] \u001b[39m\u001b[92m+ Calculus v0.5.1\u001b[39m\n",
      "\u001b[32m\u001b[1mUpdating\u001b[22m\u001b[39m `C:\\Users\\Owner\\.julia\\environments\\v1.5\\Manifest.toml`\n",
      " \u001b[90m [49dc2e85] \u001b[39m\u001b[92m+ Calculus v0.5.1\u001b[39m\n"
     ]
    }
   ],
   "source": [
    "] add Calculus"
   ]
  },
  {
   "cell_type": "code",
   "execution_count": 8,
   "metadata": {},
   "outputs": [
    {
     "name": "stderr",
     "output_type": "stream",
     "text": [
      "\u001b[32m\u001b[1m  Resolving\u001b[22m\u001b[39m package versions...\n",
      "\u001b[32m\u001b[1m  Installed\u001b[22m\u001b[39m OpenSpecFun_jll ────────────── v0.5.3+4\n",
      "\u001b[32m\u001b[1m  Installed\u001b[22m\u001b[39m NaNMath ────────────────────── v0.3.5\n",
      "\u001b[32m\u001b[1m  Installed\u001b[22m\u001b[39m DiffResults ────────────────── v1.0.3\n",
      "\u001b[32m\u001b[1m  Installed\u001b[22m\u001b[39m CommonSubexpressions ───────── v0.3.0\n",
      "\u001b[32m\u001b[1m  Installed\u001b[22m\u001b[39m DiffRules ──────────────────── v1.0.2\n",
      "\u001b[32m\u001b[1m  Installed\u001b[22m\u001b[39m CompilerSupportLibraries_jll ─ v0.3.4+0\n",
      "\u001b[32m\u001b[1m  Installed\u001b[22m\u001b[39m ForwardDiff ────────────────── v0.10.16\n",
      "\u001b[32m\u001b[1m  Installed\u001b[22m\u001b[39m StaticArrays ───────────────── v1.0.1\n",
      "\u001b[32m\u001b[1m  Installed\u001b[22m\u001b[39m MacroTools ─────────────────── v0.5.6\n",
      "\u001b[32m\u001b[1m  Installed\u001b[22m\u001b[39m ChainRulesCore ─────────────── v0.9.29\n",
      "\u001b[32m\u001b[1m  Installed\u001b[22m\u001b[39m SpecialFunctions ───────────── v1.3.0\n",
      "\u001b[32m\u001b[1mUpdating\u001b[22m\u001b[39m `C:\\Users\\Owner\\.julia\\environments\\v1.5\\Project.toml`\n",
      " \u001b[90m [f6369f11] \u001b[39m\u001b[92m+ ForwardDiff v0.10.16\u001b[39m\n",
      "\u001b[32m\u001b[1mUpdating\u001b[22m\u001b[39m `C:\\Users\\Owner\\.julia\\environments\\v1.5\\Manifest.toml`\n",
      " \u001b[90m [d360d2e6] \u001b[39m\u001b[92m+ ChainRulesCore v0.9.29\u001b[39m\n",
      " \u001b[90m [bbf7d656] \u001b[39m\u001b[92m+ CommonSubexpressions v0.3.0\u001b[39m\n",
      " \u001b[90m [e66e0078] \u001b[39m\u001b[92m+ CompilerSupportLibraries_jll v0.3.4+0\u001b[39m\n",
      " \u001b[90m [163ba53b] \u001b[39m\u001b[92m+ DiffResults v1.0.3\u001b[39m\n",
      " \u001b[90m [b552c78f] \u001b[39m\u001b[92m+ DiffRules v1.0.2\u001b[39m\n",
      " \u001b[90m [f6369f11] \u001b[39m\u001b[92m+ ForwardDiff v0.10.16\u001b[39m\n",
      " \u001b[90m [1914dd2f] \u001b[39m\u001b[92m+ MacroTools v0.5.6\u001b[39m\n",
      " \u001b[90m [77ba4419] \u001b[39m\u001b[92m+ NaNMath v0.3.5\u001b[39m\n",
      " \u001b[90m [efe28fd5] \u001b[39m\u001b[92m+ OpenSpecFun_jll v0.5.3+4\u001b[39m\n",
      " \u001b[90m [276daf66] \u001b[39m\u001b[92m+ SpecialFunctions v1.3.0\u001b[39m\n",
      " \u001b[90m [90137ffa] \u001b[39m\u001b[92m+ StaticArrays v1.0.1\u001b[39m\n"
     ]
    }
   ],
   "source": [
    "] add ForwardDiff"
   ]
  },
  {
   "cell_type": "code",
   "execution_count": 11,
   "metadata": {},
   "outputs": [
    {
     "name": "stderr",
     "output_type": "stream",
     "text": [
      "┌ Info: Precompiling ForwardDiff [f6369f11-7733-5829-9624-2563aa707210]\n",
      "└ @ Base loading.jl:1278\n"
     ]
    }
   ],
   "source": [
    "include(\"a1x.jl\")\n",
    "include(\"a2x.jl\")\n",
    "include(\"a3x.jl\");"
   ]
  },
  {
   "cell_type": "markdown",
   "metadata": {},
   "source": [
    "# LogNormal Variables and Risk Neutral (RN) Valuation"
   ]
  },
  {
   "cell_type": "markdown",
   "metadata": {},
   "source": [
    "## Change of Density Function"
   ]
  },
  {
   "cell_type": "markdown",
   "metadata": {},
   "source": [
    "For $X \\sim f(x)$ and $g: \\mathcal R \\rightarrow \\mathcal R$, where $\\int_{-\\infty}^{\\infty}|g(x)|dx < \\infty$, $Y = g(X)$ is a random variable. Under certain assumption the density of $Y$ can be computed from the density of $X$."
   ]
  },
  {
   "cell_type": "markdown",
   "metadata": {},
   "source": [
    "## Lemma 4.1"
   ]
  },
  {
   "cell_type": "markdown",
   "metadata": {},
   "source": [
    "For $g$ **invertible** and **differentiable**"
   ]
  },
  {
   "cell_type": "markdown",
   "metadata": {},
   "source": [
    "If $g(x + \\delta x) > g(x)$\n",
    "\n",
    "$$h(y) = \\frac{f(g^{-1}(y))}{g'(g^{-1}(y))} \\tag{Lemma 4.1}$$\n",
    "\n",
    "If $g(x + \\delta x) < g(x)$\n",
    "\n",
    "$$h(y) = -\\frac{f(g^{-1}(y))}{g'(g^{-1}(y))} \\tag{Lemma 4.1}$$"
   ]
  },
  {
   "cell_type": "markdown",
   "metadata": {},
   "source": [
    "## Note on Computing the Expected Value and Variance of Random Variable $Y = g(x)$"
   ]
  },
  {
   "cell_type": "markdown",
   "metadata": {},
   "source": [
    "$$\n",
    "    E[Y] = E[g(X)] = \\int_{-\\infty}^{\\infty}g(x)\\ f(x)\\ dx \\\\\n",
    "    \\text{var}(Y) = E[Y^2] - (E[Y])^2 = \\int_{-\\infty}^{\\infty}g^2(x)f(x)\\ dx - \\left(\\int_{-\\infty}^{\\infty}g(x)f(x)\\ dx\\right)^2\n",
    "$$\n",
    "\n",
    "**Compare this result to Lemma 4.1 and match with example in Lemma 4.3.**"
   ]
  },
  {
   "cell_type": "markdown",
   "metadata": {},
   "source": [
    "## Lognormal Random Variables"
   ]
  },
  {
   "cell_type": "markdown",
   "metadata": {},
   "source": [
    "**For Black Scholes derivation**,"
   ]
  },
  {
   "cell_type": "markdown",
   "metadata": {},
   "source": [
    "$$\n",
    "    \\ln\\left(\\frac{S(t_2)}{S(t_1)}\\right) = \\left(\\mu-q-\\frac{\\sigma^2}{2}\\right)(t_2-t_1) + \\sigma\\sqrt{t_2-t_1}Z, \\forall\\ 0 \\leq t_1 < t_2 \\leq T\n",
    "$$"
   ]
  },
  {
   "cell_type": "markdown",
   "metadata": {},
   "source": [
    "For $X = ln(Y)$ and $Y \\sim \\text{Lognormal}(\\mu, \\sigma^2)$,\n",
    "\n",
    "$$\n",
    "    \\ln(Y) = \\mu + \\sigma Z\n",
    "$$"
   ]
  },
  {
   "cell_type": "markdown",
   "metadata": {},
   "source": [
    "## $\\text{PDF}$ of $Y \\sim \\text{Lognormal}(\\mu, \\sigma^2)$"
   ]
  },
  {
   "cell_type": "markdown",
   "metadata": {},
   "source": [
    "## Lemma 4.2"
   ]
  },
  {
   "cell_type": "markdown",
   "metadata": {},
   "source": [
    "For $Y \\sim \\text{Lognormal}(\\mu, \\sigma^2)$"
   ]
  },
  {
   "cell_type": "markdown",
   "metadata": {},
   "source": [
    "$$\n",
    "    h(y) = \\begin{cases}\n",
    "        \\frac{1}{y|\\sigma|\\sqrt{2\\pi}}\\exp(-\\frac{(\\ln(y)-\\mu)^2}{2\\sigma^2}), & y \\gt 0 \\\\\n",
    "        0, & y \\leq 0\n",
    "    \\end{cases}\n",
    "$$"
   ]
  },
  {
   "cell_type": "markdown",
   "metadata": {},
   "source": [
    "## $E[Y]$ and $var(Y)$ for $Y \\sim \\text{Lognormal}(\\mu, \\sigma^2)$"
   ]
  },
  {
   "cell_type": "markdown",
   "metadata": {},
   "source": [
    "## Lemma 4.3"
   ]
  },
  {
   "cell_type": "markdown",
   "metadata": {},
   "source": [
    "For $Y \\sim \\text{Lognormal}(\\mu, \\sigma^2)$"
   ]
  },
  {
   "cell_type": "markdown",
   "metadata": {},
   "source": [
    "$$\n",
    "    E[Y] = \\exp\\left(\\mu + \\frac{\\sigma^2}{2}\\right); \\\\\n",
    "    var(Y) = e^{2\\mu + \\sigma^2}\\left(e^{\\sigma^2} - 1\\right).\n",
    "$$"
   ]
  },
  {
   "cell_type": "markdown",
   "metadata": {},
   "source": [
    "## Independent Random Variable"
   ]
  },
  {
   "cell_type": "markdown",
   "metadata": {},
   "source": [
    "For the following definitions and lemmas, we assume to have the same **probability space**."
   ]
  },
  {
   "cell_type": "markdown",
   "metadata": {},
   "source": [
    "## Definitions"
   ]
  },
  {
   "cell_type": "markdown",
   "metadata": {},
   "source": [
    "$$\n",
    "    P(\\cap_{i = 1}^{n}{\\left(a_i\\leq X_i \\leq b_i\\right)}) = \\prod_{i=1}^{n}{a_i \\leq X_i \\leq b_i} \\\\~\\\\\n",
    "    P(a_i \\leq X_i \\leq b_i | a_j \\leq X_j \\leq b_j) = P(a_i \\leq X_i \\leq b_i),\\ \\forall\\ a_i \\leq b_i,\\ i \\in (1,n) \\\\~\\\\\n",
    "    P(A | B) = \\frac{P(A \\cap B)}{P(B)} \\\\~\\\\\n",
    "    P(\\cap_{i=1}^{n}(a_i \\leq X_i \\leq b_i) = \\int_{a_n}^{b_n}\\int_{a_{n-1}}^{b_{n-1}}\\cdots\\int_{a_1}^{b_1}f(x_1,x_2,\\ldots,x_n)\\ dx_1\\ dx_2\\ \\cdots\\ dx_n\\ \\forall\\ a_i \\leq b_i\n",
    "$$"
   ]
  },
  {
   "cell_type": "markdown",
   "metadata": {},
   "source": [
    "## Lemma 4.5"
   ]
  },
  {
   "cell_type": "markdown",
   "metadata": {},
   "source": [
    "Random variables $x_1,x_2,\\ldots,x_n$ are independent $\\iff$ the joint distribution function $f(x_1, x_2, \\ldots, x_n)$ of $X_1, X_2, \\ldots, X_n$ is"
   ]
  },
  {
   "cell_type": "markdown",
   "metadata": {},
   "source": [
    "$$\n",
    "    f(x_1, x_2, \\cdots, x_n) = \\prod_{i=1}^{n}f(x_i)\n",
    "$$"
   ]
  },
  {
   "cell_type": "markdown",
   "metadata": {},
   "source": [
    "## Lemma 4.6"
   ]
  },
  {
   "cell_type": "markdown",
   "metadata": {},
   "source": [
    "For independent random variables $X_1$, $X_2$, $\\cdots$, $X_n$ and continuous functions $h_1:\\mathcal R \\rightarrow \\mathcal R$, $h_2:\\mathcal R \\rightarrow \\mathcal R$, $\\cdots$, $h_n: \\mathcal R \\rightarrow \\mathcal R$,"
   ]
  },
  {
   "cell_type": "markdown",
   "metadata": {},
   "source": [
    "$$\n",
    "    E[h_1(X_1)h_2(X_2)\\cdots h_n(X_n)] = E[h_1(X_1)]\\ E[h_2(X_2)]\\cdots E[h_n(X_n)]\n",
    "$$"
   ]
  },
  {
   "cell_type": "markdown",
   "metadata": {},
   "source": [
    "## Lemma 4.7"
   ]
  },
  {
   "cell_type": "markdown",
   "metadata": {},
   "source": [
    "For independent random variables $X_1, X_2, \\ldots, X_n$,"
   ]
  },
  {
   "cell_type": "markdown",
   "metadata": {},
   "source": [
    "$$\n",
    "    cov(X_1, X_2, \\ldots, X_n) = corr(X_1, X_2, \\ldots, X_n) = 0\n",
    "$$"
   ]
  },
  {
   "cell_type": "markdown",
   "metadata": {},
   "source": [
    "and therefore"
   ]
  },
  {
   "cell_type": "markdown",
   "metadata": {},
   "source": [
    "$$\n",
    "    var(X_1 + X_2 + \\cdots + X_n) = var(X_1) + var(X_2) + \\cdots + var(X_n)\n",
    "$$"
   ]
  },
  {
   "cell_type": "markdown",
   "metadata": {},
   "source": [
    "## Lemma 4.8"
   ]
  },
  {
   "cell_type": "markdown",
   "metadata": {},
   "source": [
    "For independent random variables $X_1$, $X_2$, $\\ldots$, $X_n$ and continuous functions $h_1:\\mathcal R \\rightarrow \\mathcal R$, $h_2:\\mathcal R \\rightarrow \\mathcal R$, $\\ldots$, $h_n: \\mathcal R \\rightarrow \\mathcal R$,"
   ]
  },
  {
   "cell_type": "markdown",
   "metadata": {},
   "source": [
    "$$\n",
    "    cov(h_1(X_1), h_2(X_2), \\ldots, h_n(X_n)) = corr(h_1(X_1), h_2(X_2), \\ldots, h_n(X_n)) = 0\n",
    "$$"
   ]
  },
  {
   "cell_type": "markdown",
   "metadata": {},
   "source": [
    "and"
   ]
  },
  {
   "cell_type": "markdown",
   "metadata": {},
   "source": [
    "$$\n",
    "    var(h_1(X_1) + h_2(X_2) + \\cdots + h_n(X_n)) = var(h_1(X_1)) + var(h_2(X_2)) + \\cdots + var(h_n(X_n)).\n",
    "$$"
   ]
  },
  {
   "cell_type": "markdown",
   "metadata": {},
   "source": [
    "$\\therefore h_1(X_1), h_2(X_2), \\ldots, h_n(X_n)$ are independent."
   ]
  },
  {
   "cell_type": "markdown",
   "metadata": {},
   "source": [
    "## Theorem 4.1"
   ]
  },
  {
   "cell_type": "markdown",
   "metadata": {},
   "source": [
    "For independent random variables $X_1$ and $X_2$, with $\\text{PDFs}\\ f_1(X_1)$ and $f_2(X_2)$, respectively, if $X_1$ and $X_2$ are independent random variables, then the $\\text{PDF}$ of the random variable $X_1 + X_2$ is the convolution function,"
   ]
  },
  {
   "cell_type": "markdown",
   "metadata": {},
   "source": [
    "$$\n",
    "    (f_1 * f_2)(x) = \\int_{-\\infty}^{\\infty}f_1(z)f_2(x - z)\\ dz = \\int_{-\\infty}^{\\infty}f_1(x - z)f_2(z)\\ dz\n",
    "$$"
   ]
  },
  {
   "cell_type": "markdown",
   "metadata": {},
   "source": [
    "## Independent Normal Random Variables"
   ]
  },
  {
   "cell_type": "markdown",
   "metadata": {},
   "source": [
    "The sum of two normal random variables is not always random, but when they are *independent*..."
   ]
  },
  {
   "cell_type": "markdown",
   "metadata": {},
   "source": [
    "## Theorem 4.2"
   ]
  },
  {
   "cell_type": "markdown",
   "metadata": {},
   "source": [
    "$$\n",
    "    X_1 + X_2 \\sim f(z) = \\cal{N}\\left(\\mu_1 + \\mu_2, \\sigma_1^2 + \\sigma_2^2\\right)\n",
    "$$"
   ]
  },
  {
   "cell_type": "markdown",
   "metadata": {},
   "source": [
    "where\n",
    "\n",
    "$$\n",
    "    f(z) = \\frac{1}{\\sqrt{2\\pi\\left(\\sigma_1^2 + \\sigma_2^2\\right)}}\\ \\exp\\left(-\\frac{(z - (\\mu_1 + \\mu_2))^2}{2\\left(\\sigma_1^2 + \\sigma_2^2\\right)}\\right)\n",
    "$$"
   ]
  },
  {
   "cell_type": "markdown",
   "metadata": {},
   "source": [
    "and\n",
    "\n",
    "$$\n",
    "    X_1 + X_2 = \\mu_1 + \\mu_2 + \\sqrt{\\sigma_1^2 + \\sigma_2^2}Z\n",
    "$$"
   ]
  },
  {
   "cell_type": "markdown",
   "metadata": {},
   "source": [
    "## Independent Lognormal Random Variables"
   ]
  },
  {
   "cell_type": "markdown",
   "metadata": {},
   "source": [
    "$$\n",
    "    Y_1Y_2 \\sim \\text{Lognormal}\\left(\\mu_1 + \\mu_2, \\sqrt{\\sigma_1^2 + \\sigma_2^2}\\right)\n",
    "$$"
   ]
  },
  {
   "cell_type": "markdown",
   "metadata": {},
   "source": [
    "where\n",
    "\n",
    "$$\n",
    "    \\ln(Y_1Y_2) = \\ln(Y_1) + \\ln(Y_2) = X_1 + X_2 = (\\mu_1 + \\mu_2) + \\sqrt{\\sigma_1^2 + \\sigma_2^2}Z\n",
    "$$"
   ]
  },
  {
   "cell_type": "markdown",
   "metadata": {},
   "source": [
    "## Lognormal evolution of asset prices"
   ]
  },
  {
   "cell_type": "markdown",
   "metadata": {},
   "source": [
    "Assume spot price, $S(0)$, at time $t = 0$, then"
   ]
  },
  {
   "cell_type": "markdown",
   "metadata": {},
   "source": [
    "$$\n",
    "    \\frac{S(t + \\delta t)-S(t)}{\\delta t\\ S(t)}\\tag{rate of return on $[t, t + \\delta t]$}\n",
    "$$"
   ]
  },
  {
   "cell_type": "markdown",
   "metadata": {},
   "source": [
    "If $\\mu$ exists, then the price S(t) would be an exponential function with"
   ]
  },
  {
   "cell_type": "markdown",
   "metadata": {},
   "source": [
    "$$\n",
    "    \\frac{S(t + \\delta t)-S(t)}{\\delta t\\ S(t)} = \\mu \\tag{4.1.1}\n",
    "$$"
   ]
  },
  {
   "cell_type": "markdown",
   "metadata": {},
   "source": [
    "$$\n",
    "    \\frac{dS}{dt} = \\mu S, \\forall\\ 0 \\lt t \\lt T \\tag{$t\\rightarrow 0$},\n",
    "$$"
   ]
  },
  {
   "cell_type": "markdown",
   "metadata": {},
   "source": [
    "$$\n",
    "    S(t) = S(0)\\ e^{\\mu t}\\tag{solution to ODE above}\n",
    "$$"
   ]
  },
  {
   "cell_type": "markdown",
   "metadata": {},
   "source": [
    "$$\n",
    "    \\frac{S(t + \\delta t) - S(t)}{S(t)\\ \\delta t} = \\mu + \\sigma\\frac{1}{\\sqrt{\\delta t}}Z\\Longrightarrow S(t + \\delta t) - S(t) = \\mu S(t)\\delta t + \\sigma S(t)\\sqrt{\\delta t}Z \\tag{better model than (1)}\n",
    "$$"
   ]
  },
  {
   "cell_type": "markdown",
   "metadata": {},
   "source": [
    "Based on the equation above, which represents the **expected value** ($\\mu$) and **standard deviation of asset returns** on the order of $\\left(\\frac{1}{\\sqrt{\\delta t}}\\right)$, namely $\\left(\\frac{\\sigma}{\\sqrt{\\delta t}}\\right)$, it says on page 124 of the book that the instantaneous price of the underlying asset is required to follow the following stochastic differential equation (SDE):"
   ]
  },
  {
   "cell_type": "markdown",
   "metadata": {},
   "source": [
    "$$\n",
    "    dS = \\mu Sdt + \\sigma SdX\n",
    "$$"
   ]
  },
  {
   "cell_type": "markdown",
   "metadata": {},
   "source": [
    "with $t = 0$ given by $S(0)$. Here, $X(t)\\ \\forall\\ t \\geq 0$, is a **Weiner process**."
   ]
  },
  {
   "cell_type": "markdown",
   "metadata": {},
   "source": [
    "If dividend paying asset\n",
    "\n",
    "$$\n",
    "    dS = (\\mu - q)Sdt + \\sigma SdX\n",
    "$$"
   ]
  },
  {
   "cell_type": "markdown",
   "metadata": {},
   "source": [
    "The solution is $S(t)\\ \\forall\\ t \\geq 0 \\iff S(t)$ satisfies the following lognormal model:"
   ]
  },
  {
   "cell_type": "markdown",
   "metadata": {},
   "source": [
    "$$\n",
    "    \\ln{\\left(\\frac{S(t_2)}{S(t_1)}\\right)} = \\left(\\mu - q - \\frac{\\sigma^2}{2}\\right)(t_2 - t_1) + \\sigma\\sqrt{t_2 - t_1}Z, \\forall\\ 0 \\leq t_1 \\leq t_2 \\tag{4.1.2}\n",
    "$$"
   ]
  },
  {
   "cell_type": "markdown",
   "metadata": {},
   "source": [
    "where $Z$ is the standard normal variable."
   ]
  },
  {
   "cell_type": "markdown",
   "metadata": {},
   "source": [
    "## Risk-neutral derivation of the Black-Scholes formula"
   ]
  },
  {
   "cell_type": "markdown",
   "metadata": {},
   "source": [
    "A derivative security with payoff $V(T)$ at maturity $T$ given by risk-neutral valuation has value"
   ]
  },
  {
   "cell_type": "markdown",
   "metadata": {},
   "source": [
    "$$\n",
    "    V(0) = e^{rT}\\ E_{RN}[V(T)]\\tag{4.1.3}\n",
    "$$"
   ]
  },
  {
   "cell_type": "markdown",
   "metadata": {},
   "source": [
    "where the expected value is computed with respect to the value of $S(T)$ given by $(2)$ for $\\mu = r$, $t_1 = 0$, $t_2 = T$, i.e.,"
   ]
  },
  {
   "cell_type": "markdown",
   "metadata": {},
   "source": [
    "$$\n",
    "    \\ln{\\left(\\frac{S(T)}{S(0)}\\right)} = \\left(r - q - \\frac{\\sigma^2}{2}\\right)T + \\sigma\\sqrt{T}Z\n",
    "$$"
   ]
  },
  {
   "cell_type": "markdown",
   "metadata": {},
   "source": [
    "which is equivalent to "
   ]
  },
  {
   "cell_type": "markdown",
   "metadata": {},
   "source": [
    "$$\n",
    "    S(T) = S(0)\\ \\exp\\left({\\left(r - q - \\frac{\\sigma^2}{2}\\right)T + \\sigma\\sqrt{T}Z}\\right)\\tag{4.1.4}\n",
    "$$"
   ]
  },
  {
   "cell_type": "markdown",
   "metadata": {},
   "source": [
    "Equation (3) is used to compute risk-neutral pricing for European Call and Put options, as below,\n",
    "\n",
    "$$\n",
    "    C(0) = e^{rT}\\ E_{RN}[\\max(S(T) - K, 0)]\\\\\n",
    "    P(0) = e^{rT}\\ E_{RN}[\\max(K - S(T), 0)]\n",
    "$$\n",
    "\n",
    "where the expected value is computed with respect to $S(T)$ given by (4)."
   ]
  },
  {
   "cell_type": "markdown",
   "metadata": {},
   "source": [
    "By definition\n",
    "\n",
    "$$\n",
    "    C(T) = \\max(S(T) - K, 0) =\n",
    "    \\begin{cases}\n",
    "        S(T) - K & S(T) \\geq K \\\\\n",
    "        0 & S(T) \\lt K\n",
    "    \\end{cases}\n",
    "    \\\\~\\\\\n",
    "    P(T) = \\max(K - S(T), 0) =\n",
    "    \\begin{cases}\n",
    "        0 & S(T) \\gt K \\\\\n",
    "        K - S(T) & S(T) \\leq K\n",
    "    \\end{cases}\n",
    "$$"
   ]
  },
  {
   "cell_type": "markdown",
   "metadata": {},
   "source": [
    "From (4), it follows that\n",
    "\n",
    "$$\n",
    "    S(T) \\geq K \\iff Z \\geq \\frac{\\ln{\\left(\\frac{K}{S(0)}\\right)}-\\left(r - q - \\frac{\\sigma^2}{2}\\right)\\ T}{\\sigma\\sqrt{T}} = -d_2\n",
    "$$\n",
    "\n",
    "where\n",
    "\n",
    "$$\n",
    "    d_2 = \\frac{\\ln\\left(\\frac{S(0)}{K}\\right) + \\left(r - q - \\frac{\\sigma^2}{2}\\right)\\ T}{\\sigma\\sqrt{T}}\n",
    "$$"
   ]
  },
  {
   "cell_type": "markdown",
   "metadata": {},
   "source": [
    "$\\therefore$\n",
    "\n",
    "$$\n",
    "    C(T) = max(S(T) - K, 0) = \\begin{cases}\n",
    "        S(0)\\ \\exp{\\left[\\left(r - q - \\frac{\\sigma^2}{2}\\right)T+\\sigma\\sqrt{T}Z\\right]} - K & Z \\geq -d_2 \\\\\n",
    "        0 & Z \\lt -d_2\n",
    "    \\end{cases}\n",
    "    \\\\~\\\\\n",
    "    P(T) = max(K - S(T), 0) = \\begin{cases}\n",
    "        0 & Z \\gt -d_2 \\\\\n",
    "        K - S(0)\\ \\exp{\\left[\\left(r - q - \\frac{\\sigma^2}{2}\\right)T+\\sigma\\sqrt{T}Z\\right]} & Z \\leq -d_2\n",
    "    \\end{cases}\n",
    "$$"
   ]
  },
  {
   "cell_type": "markdown",
   "metadata": {},
   "source": [
    "An argument is given, starting on pp. $125-126$, proving that the value of C(0) is as follows (worth noting the exercize that follows):\n",
    "\n",
    "$$\n",
    "    C(0) = S(0)e^{-qT}N(d_1) - Ke^{-rT}N(d_2)\n",
    "$$"
   ]
  },
  {
   "cell_type": "markdown",
   "metadata": {},
   "source": [
    "## Probability that an European option expires in the money (ITM)\n",
    "\n",
    "For a **call option**, the probability of expiring in the money is as follows:\n",
    "\n",
    "$$\n",
    "    P(S(T) > K) = P\\left(\\frac{S(T)}{S(0)} \\gt \\frac{K}{S(0)}\\right) = P\\left(\\ln{\\left(\\frac{S(T)}{S(0)}\\right)} \\gt \\ln{\\left(\\frac{K}{S(0)}\\right)}\\right) \\\\\n",
    "    \\ \\ \\ \\ \\ \\ \\ \\ \\ \\ \\ = P\\left(\\left(\\mu - q - \\frac{\\sigma^2}{2}\\right)T + \\sigma\\sqrt{T}Z \\gt \\ln{\\left(\\frac{K}{S(0)}\\right)}\\right) \\\\\n",
    "    = P\\left(Z \\gt \\frac{\\ln{\\left(\\frac{K}{S(0)}\\right)} - \\left(\\mu - q - \\frac{\\sigma^2}{2}\\right)T}{\\sigma\\sqrt{T}}\\right) \\ \\ \\\\\n",
    "    = P(Z > a) \\ \\ \\ \\ \\ \\ \\ \\ \\ \\ \\ \\ \\ \\ \\ \\ \\ \\ \\ \\ \\ \\ \\ \\ \\ \\ \\ \\ \\ \\ \\ \\ \\ \\ \\ \\ \\ \\ \\ \\ \\ \\ \\ \\ \\ \\ \\ \\ \\\n",
    "$$\n",
    "\n",
    "where\n",
    "\n",
    "$$\n",
    "    a = \\frac{\\ln{\\left(\\frac{K}{S(0)}\\right)} - \\left(\\mu - q - \\frac{\\sigma^2}{2}\\right)T}{\\sigma\\sqrt{T}}\n",
    "$$"
   ]
  },
  {
   "cell_type": "markdown",
   "metadata": {},
   "source": [
    "**Discussion continues on p. $129$, which shows that**"
   ]
  },
  {
   "cell_type": "markdown",
   "metadata": {},
   "source": [
    "$$\n",
    "    P(S(T) \\gt K) = N(d_{2,\\mu}) = N\\ \\left(\\frac{\\ln{\\left(\\frac{S(0)}{K}\\right)} + \\left(\\mu - \\frac{\\sigma^2}{2}\\right)T}{\\sigma\\sqrt{T}}\\right) \\tag{for call option}\n",
    "$$"
   ]
  },
  {
   "cell_type": "markdown",
   "metadata": {},
   "source": [
    "For a **put option**, the probability of expiring in the money is then,\n",
    "\n",
    "$$\n",
    "    P(S(T) < K) = 1 - P(S(T) > K) = 1 - N(d_{2,\\mu}) = N(-d_{2,\\mu}).\\tag{for put option}\n",
    "$$"
   ]
  },
  {
   "cell_type": "markdown",
   "metadata": {},
   "source": [
    "In practice, use algorithm `a2x.cum_dist_normal` to approximate the two probabilities above. Also, remember that $\\mu = r \\rightarrow d_{2,\\mu} = d_{2}$ from `a2x.d2`."
   ]
  },
  {
   "cell_type": "markdown",
   "metadata": {},
   "source": [
    "## Financial interpretation of $N(d_1)$ and $N(d_2)$ from the Black-Scholes formulas"
   ]
  },
  {
   "cell_type": "markdown",
   "metadata": {},
   "source": [
    "To reiterate from earlier discussions, the Black-Scholes formula for a **call option** is\n",
    "\n",
    "$$\n",
    "    C = S(0)e^{-q(T -t)}N(d_1) - Ke^{-r(T -t)}N(d_2),\n",
    "$$\n",
    "\n",
    "and the **Delta of a call option** is $\\Delta{C} = e^{-q(T - t)}N(d_1)$. For $q = 0$,\n",
    "\n",
    "$$\n",
    "    N(d_1) = \\Delta(C),\n",
    "$$\n",
    "\n",
    "which is not true for dividend paying assets, since in that case $\\Delta{C} = e^{-qT}N(d_1)$."
   ]
  },
  {
   "cell_type": "markdown",
   "metadata": {},
   "source": [
    "The Black-Scholes formula for the **put option** is\n",
    "\n",
    "$$\n",
    "    P = Ke^{-r(T - t}N(-d_2) - Se^{-q(T - t)}N(-d_1).\n",
    "$$"
   ]
  },
  {
   "cell_type": "markdown",
   "metadata": {},
   "source": [
    "Remember that the **Delta of a put option** is $\\Delta{P} = -e^{-q(T - t)}N(-d_1)$. Then, for q = 0,\n",
    "\n",
    "$$\n",
    "    \\Delta{P} = -N(-d_1).\n",
    "$$"
   ]
  },
  {
   "cell_type": "markdown",
   "metadata": {},
   "source": [
    "The term $N(-d_2)$ represents the risk-neutral probability that a **put option** expires ITM. Remember,\n",
    "\n",
    "$$\n",
    "    \\text{put option expires ITM} \\iff \\text{call option with same strike and maturity expires OTM}.\n",
    "$$"
   ]
  },
  {
   "cell_type": "markdown",
   "metadata": {},
   "source": [
    "## $\\S 4.2$ Exercises"
   ]
  },
  {
   "cell_type": "markdown",
   "metadata": {},
   "source": [
    "**Problem 11**: If the underlying asset of a plain vanilla European put option follows a lognormal distribution, the value $S(T)$ of the underlying asset at maturity is a lognormal variable given by"
   ]
  },
  {
   "cell_type": "markdown",
   "metadata": {},
   "source": [
    "$$\n",
    "    \\ln(S(T)) = \\ln(S(0)) + \\left(r - q - \\frac{\\sigma}{2}\\right)T + \\sigma\\sqrt{T}Z \\tag{4.2.1}\n",
    "$$"
   ]
  },
  {
   "cell_type": "markdown",
   "metadata": {},
   "source": [
    "where σ is the volatility of the underlying asset. Then, the probability density function $h(y)$ of $S(T)$ is"
   ]
  },
  {
   "cell_type": "markdown",
   "metadata": {},
   "source": [
    "$$\n",
    "    h(y) = \\frac{1}{yσ\\sqrt{2\\pi T}}\\exp{\\left( -\\frac{\\left(\\ln y - \\ln(S(0)) - \\left(r - q - \\frac{\\sigma^2}{2}\\right)T\\right)^2}{2\\sigma^2T} \\right)}\n",
    "$$"
   ]
  },
  {
   "cell_type": "markdown",
   "metadata": {},
   "source": [
    "if $y \\gt 0$, and $h(y) = 0$ if $y \\leq 0$."
   ]
  },
  {
   "cell_type": "markdown",
   "metadata": {},
   "source": [
    "Using risk-neutral valuation, we find that the value of the put is given by"
   ]
  },
  {
   "cell_type": "markdown",
   "metadata": {},
   "source": [
    "$$\n",
    "    P = e^{-rT}E_{RN}[\\max(K - S(T), 0)] \\tag{4.2.2}\n",
    "$$"
   ]
  },
  {
   "cell_type": "markdown",
   "metadata": {},
   "source": [
    "$$\n",
    "    = e^{-rT}\\int_{0}^{K}(K - y)h(y)\\ dy \\ \\ \\\n",
    "$$"
   ]
  },
  {
   "cell_type": "markdown",
   "metadata": {},
   "source": [
    "where $h(y)$ is given by (1)."
   ]
  },
  {
   "cell_type": "markdown",
   "metadata": {},
   "source": [
    "The Black-Scholes value of the put is $P_{BS} = 4.863603$. To compute the numerical approximation of the integral (2), we start with a partition of the interval $[0, K]$ into $4$ intervals, and double the numbers of intervals up to 8192 intervals. We report the Midpoint Rule and Simpson's Rule approximation to (2) and the corresponding approximation errors to the Black-Scholes value $P_{BS}$."
   ]
  },
  {
   "cell_type": "code",
   "execution_count": 6,
   "metadata": {},
   "outputs": [
    {
     "ename": "MethodError",
     "evalue": "MethodError: objects of type Float64 are not callable",
     "output_type": "error",
     "traceback": [
      "MethodError: objects of type Float64 are not callable",
      "",
      "Stacktrace:",
      " [1] Midpoint(::Int64, ::Int64, ::Int64, ::Float64) at /home/chrx/Documents/Financial Economics/Financial Engineering/a2x.jl:7",
      " [2] I_numerical(::Int64, ::Int64, ::Float64, ::typeof(Midpoint), ::Float64) at /home/chrx/Documents/Financial Economics/Financial Engineering/a2x.jl:26",
      " [3] top-level scope at In[6]:20"
     ]
    }
   ],
   "source": [
    "using DataFrames\n",
    "\n",
    "t = 0\n",
    "S = exp(1)\n",
    "K = 50\n",
    "T = 0.5\n",
    "σ = 1\n",
    "r = 0.04\n",
    "q = 0.02\n",
    "\n",
    "nd1(s) = -1 ⋅ d1(t, s, K, T, σ, r, q)\n",
    "nd2(s) = -1 ⋅ d2(t, s, K, T, σ, r, q)\n",
    "\n",
    "N(z) = 1 / sqrt(2*π) ⋅ exp(-(z ^ 2 / 2))\n",
    "\n",
    "# h(y) = 1 / (y*σ*\\sqrt(2πT))\n",
    "# f(x) = exp(-rT)*(K - y)h(y)\n",
    "# numericals = Array{Float64, 2}(undef, 15, 4)\n",
    "numericals = zeros(15, 4)\n",
    "no_intervals, I_midpoint = I_numerical(0, 2, N(nd1), Midpoint, 1e-6)\n",
    "no_intervals, I_midpoint = I_numerical(0, 2, N(nd2), Midpoint, 1e-6)\n",
    "\n",
    "no_intervals, I_simpson = I_numerical(0, 2, N(nd1), Simpson, 1e-6)\n",
    "no_intervals, I_simpson = I_numerical(0, 2, N(nd1), Simpson, 1e-6)\n",
    "\n",
    "no_intervals = [4 ⋅ 2^i for i in 0:max(size(I_midpoint)[1], size(I_simpson)[1])-1]\n",
    "\n",
    "for i in 1:max(size(I_midpoint)[1], size(I_simpson)[1])\n",
    "    numericals[i, 1] = no_intervals[i]\n",
    "end\n",
    "\n",
    "for i in 1:size(I_midpoint)[1]\n",
    "    numericals[i, 2] = I_midpoint[i]\n",
    "end\n",
    "\n",
    "for i in 1:size(I_simpson)[1]\n",
    "    numericals[i, 3] = I_simpson[i]\n",
    "end\n",
    "\n",
    "# Pbs = K ⋅ exp(-r(T - t)) ⋅ N(nd2) - S ⋅ exp(-q(T - t)) ⋅ N(nd1)b\n",
    "\n",
    "df = DataFrame(Intervals = no_intervals, Midpoint = numericals[:, 2], Simpson = numericals[:, 4])"
   ]
  },
  {
   "cell_type": "markdown",
   "metadata": {},
   "source": [
    "## Note: Problem #11 in Ch 4 Needs Reviewing"
   ]
  },
  {
   "cell_type": "markdown",
   "metadata": {},
   "source": [
    "# Nonlinear Solvers, N-dimensional Newton's Method, Implied Volatility & Bootstrapping"
   ]
  },
  {
   "cell_type": "markdown",
   "metadata": {},
   "source": [
    "Various methods are discussed for solving $f(x) = 0$, where $f(x)$ is nonlinear.\n",
    "\n",
    "There are several examples of nonlinear problems in financial mathematics, such as:\n",
    "\n",
    "* Computing the yield of a bond;\n",
    "* Computing implied volatility;\n",
    "* Using bootstrapping to find zero rate curves from bond prices."
   ]
  },
  {
   "cell_type": "markdown",
   "metadata": {},
   "source": [
    "## Three methods for solving one dimensional nonlinear problems: Bisection Method, Secant Method and Newton's Method."
   ]
  },
  {
   "cell_type": "markdown",
   "metadata": {},
   "source": [
    "## Bisection Method"
   ]
  },
  {
   "cell_type": "markdown",
   "metadata": {},
   "source": [
    "**This method works best for small intervals**."
   ]
  },
  {
   "cell_type": "markdown",
   "metadata": {},
   "source": [
    "This is the simplest method, where $f$ is a function $f:[a, b] \\rightarrow \\cal R$ such that **$\\textbf{f(a)}$ and $\\textbf{f(b)}$ have different signs**. From the **intermediate value theorem**, **$\\textbf{f(x) = 0}$ for at least one point**, say $x$, on $[a, b]$. The bisection method will find only one (1) trivial solution."
   ]
  },
  {
   "cell_type": "markdown",
   "metadata": {},
   "source": [
    "Interesting to note: the bisection method reminds me of the **divide and conquer** algorithm I learned in computer science, where we split the interval $[a, b]$, find a center point, $c = \\frac{a + b}{2}$ and keep searching for a value, in this case, the $f(x) = 0$ point."
   ]
  },
  {
   "cell_type": "markdown",
   "metadata": {},
   "source": [
    "The search is for different signs, e.g., f(a) and f(c) have different signs, or f(c) and f(b) have signs. Once the \"sign $\\Delta$\" is found, we search in *that* smaller interval and discard the other interval, e.g., make $c' = \\frac{a + c}{2}$ or $c' = \\frac{c + b}{2}$, so that the search narrows to $[a,c]$ or $[c, b]$ with a division at c'. Repeat the algorithm while $f(x) = 0$ is not found within the given tolerance factor."
   ]
  },
  {
   "cell_type": "code",
   "execution_count": 289,
   "metadata": {},
   "outputs": [
    {
     "data": {
      "text/plain": [
       "bisection (generic function with 1 method)"
      ]
     },
     "execution_count": 289,
     "metadata": {},
     "output_type": "execute_result"
    }
   ],
   "source": [
    "function bisection(a, b, f; tol_int = 10e-6, tol_approx = 10e-9)\n",
    "    if (f(a)f(b) >= 0)\n",
    "        return -1\n",
    "    end\n",
    "    xL = a; xR = b\n",
    "    xM = (xL + xR) / 2\n",
    "    while( (max(abs(f(xL)), abs(f(xR))) > tol_approx) || (xR - xL > tol_int) )\n",
    "        xM = (xL + xR) / 2\n",
    "        if (f(xL)f(xM) < 0)\n",
    "            xR = xM          # active interval [xL, xM]\n",
    "        else\n",
    "            xL = xM          # active interval [xM, xR]\n",
    "        end\n",
    "    end\n",
    "    return xM\n",
    "end"
   ]
  },
  {
   "cell_type": "markdown",
   "metadata": {},
   "source": [
    "## Theorem 5.1\n",
    "\n",
    "Based on the **Mean Value Theorem**, this states that if $f: [a, b] \\rightarrow \\cal R$ is a continuous function and $f(a)$ and $f(b)$ have opposite signs, then the bisection method applied on the interval $[a, b]$ converges to a solution of $f(x) = 0$.\n",
    "\n",
    "To show this result mathematically, note that must be a constant $C \\gt 0$, $\\forall\\ x \\in [a, b]$, such that\n",
    "\n",
    "$$\n",
    "    |f'(x)| \\leq C, \\forall\\ x \\in [a, b]\n",
    "$$\n",
    "\n",
    "and from the Mean Value Theorem:\n",
    "\n",
    "$$\n",
    "    \\left|\\frac{f(x_R) - f(x_L)}{x_R - x_L}\\right| = f'(\\xi),\n",
    "$$\n",
    "\n",
    "so that\n",
    "\n",
    "$$\n",
    "    |f(x_R) - f(x_L)| \\leq C\\ |x_R - x_L| = C\\frac{b - a}{2^n}.\n",
    "$$"
   ]
  },
  {
   "cell_type": "markdown",
   "metadata": {},
   "source": [
    "In the text, its also mentioned that for a $n$ large enough, the bisection method will always converge, since\n",
    "\n",
    "$$\n",
    "    \\max{f(x_L), f(x_R)} \\leq |f(x_R) - f(x_L)| \\leq C\\frac{b - a}{2^n}.\n",
    "$$\n",
    "\n",
    "$\\therefore$ provided some agreeable stopping condition, the bisection method will always converge $\\iff$ $f(a)$ and $f(b)$ have opposite signs."
   ]
  },
  {
   "cell_type": "markdown",
   "metadata": {},
   "source": [
    "**Example**: Using the bisection method on the interval [-2, 3], to find the zero of $f(x) = 0$,\n",
    "\n",
    "$$\n",
    "    f(x) = x^4 - 5x^2 + 4 - \\frac{1}{1 + e^{x^3}}\n",
    "$$"
   ]
  },
  {
   "cell_type": "code",
   "execution_count": 20,
   "metadata": {},
   "outputs": [
    {
     "data": {
      "text/plain": [
       "-0.8896418153308332"
      ]
     },
     "execution_count": 20,
     "metadata": {},
     "output_type": "execute_result"
    }
   ],
   "source": [
    "f(x) = x^4 - 5x^2 + 4 - 1 / (1 + exp(x^3))\n",
    "\n",
    "bisection(-2, 3, f)"
   ]
  },
  {
   "cell_type": "markdown",
   "metadata": {},
   "source": [
    "## Newton's Method"
   ]
  },
  {
   "cell_type": "markdown",
   "metadata": {},
   "source": [
    "Where $x_k$ is the approximation of an exact solution $x^*$ to $f(x) = 0$, after $k$ iterations, a tangent line to $f(x)$ at the point $(x_k, f(x_k))$ is approximately\n",
    "\n",
    "$$\n",
    "    x_{k+1} = x_{k} - \\frac{f(x_k)}{f'(x_k)},\\ \\forall\\ k \\geq 0. \\tag{7}\n",
    "$$\n",
    "\n",
    "It is worth noting an argument for the Taylor expansion of $f(x)$ around the point $x_{k}$, presented on pp. $138-139$ in the text, which states that $f(x_{k + 1}) \\approx f(x_k) + (x - x_k)f'(x_k)$, followed by another argument regarding the **bond yield**, which is always positive ($x_0 = 0.1$ is a good guess for the **yield**, $x_0 = 0.2$ for **implied volatility**)."
   ]
  },
  {
   "cell_type": "markdown",
   "metadata": {},
   "source": [
    "## Theorem 5.2"
   ]
  },
  {
   "cell_type": "markdown",
   "metadata": {},
   "source": [
    "Where $x^*$ is a solution to $f(x) = 0$, $f$ being twice differentiable, with $f''(x)$ continuous, if $f'(x^*) \\neq 0$ and $x_0$ is close enough to $x^*$, then the Newton's method converges quadratically (there is $M \\gt 0$ and $n_M$ positive), such that"
   ]
  },
  {
   "cell_type": "markdown",
   "metadata": {},
   "source": [
    "$$\n",
    "    \\frac{|x_{k + 1} - x^{*}|}{|x_k - x^{*}|^2} = \\left|\\frac{f''(c_k)}{2f'(x_k)}\\right| < M,\\ \\forall\\ k \\geq n_M.\n",
    "$$"
   ]
  },
  {
   "cell_type": "code",
   "execution_count": 30,
   "metadata": {},
   "outputs": [
    {
     "name": "stderr",
     "output_type": "stream",
     "text": [
      "\u001b[32m\u001b[1m   Updating\u001b[22m\u001b[39m registry at `~/.julia/registries/General`\n"
     ]
    },
    {
     "name": "stdout",
     "output_type": "stream",
     "text": [
      "\u001b[?25l    "
     ]
    },
    {
     "name": "stderr",
     "output_type": "stream",
     "text": [
      "\u001b[32m\u001b[1m   Updating\u001b[22m\u001b[39m git-repo `https://github.com/JuliaRegistries/General.git`\n"
     ]
    },
    {
     "name": "stdout",
     "output_type": "stream",
     "text": [
      "\u001b[2K\u001b[?25h[1mFetching:\u001b[22m\u001b[39m [========================================>]  100.0 %"
     ]
    },
    {
     "name": "stderr",
     "output_type": "stream",
     "text": [
      "\u001b[32m\u001b[1m  Resolving\u001b[22m\u001b[39m package versions...\n",
      "\u001b[32m\u001b[1m  Installed\u001b[22m\u001b[39m Calculus ─ v0.5.1\n",
      "\u001b[32m\u001b[1m   Updating\u001b[22m\u001b[39m `~/.julia/environments/v1.5/Project.toml`\n",
      "\u001b[90m   49dc2e85 \u001b[39m\u001b[92m+ Calculus v0.5.1\u001b[39m\n",
      "\u001b[32m\u001b[1m   Updating\u001b[22m\u001b[39m `~/.julia/environments/v1.5/Manifest.toml`\n",
      "\u001b[90m   49dc2e85 \u001b[39m\u001b[92m+ Calculus v0.5.1\u001b[39m\n"
     ]
    }
   ],
   "source": [
    "] add Calculus"
   ]
  },
  {
   "cell_type": "code",
   "execution_count": 52,
   "metadata": {},
   "outputs": [
    {
     "data": {
      "text/plain": [
       "newton (generic function with 1 method)"
      ]
     },
     "execution_count": 52,
     "metadata": {},
     "output_type": "execute_result"
    }
   ],
   "source": [
    "using Calculus\n",
    "\n",
    "function newton(x0, f; tol_approx = 10e-9, tol_consec = 10e-6)\n",
    "    n = 0 # number of iterations\n",
    "    xnew = x0; xold = x0 - 1\n",
    "    while ( abs(f(xnew)) > tol_approx || abs(xnew - xold) > tol_consec )\n",
    "        n = n + 1\n",
    "        xold = xnew\n",
    "        xnew = xold - f(xold) / derivative(f, xold)\n",
    "    end\n",
    "    return n, xnew\n",
    "end"
   ]
  },
  {
   "cell_type": "markdown",
   "metadata": {},
   "source": [
    "**Example**: Let $f(x) = x^4 - 5x^2 + 4 - \\frac{1}{1 + e^{x^3}}$. Using Newton's Method to solve $f(x) = 0$, for $x$:"
   ]
  },
  {
   "cell_type": "code",
   "execution_count": 36,
   "metadata": {},
   "outputs": [
    {
     "name": "stderr",
     "output_type": "stream",
     "text": [
      "┌ Info: Precompiling DataFrames [a93c6f00-e57d-5684-b7b6-d8193f3e46c0]\n",
      "└ @ Base loading.jl:1276\n"
     ]
    },
    {
     "data": {
      "text/html": [
       "<table class=\"data-frame\"><thead><tr><th></th><th>Iteration</th><th>Solution</th></tr><tr><th></th><th>Float64</th><th>Float64</th></tr></thead><tbody><p>4 rows × 2 columns</p><tr><th>1</th><td>6.0</td><td>-2.0743</td></tr><tr><th>2</th><td>4.0</td><td>-0.889642</td></tr><tr><th>3</th><td>4.0</td><td>0.950748</td></tr><tr><th>4</th><td>6.0</td><td>2.00003</td></tr></tbody></table>"
      ],
      "text/latex": [
       "\\begin{tabular}{r|cc}\n",
       "\t& Iteration & Solution\\\\\n",
       "\t\\hline\n",
       "\t& Float64 & Float64\\\\\n",
       "\t\\hline\n",
       "\t1 & 6.0 & -2.0743 \\\\\n",
       "\t2 & 4.0 & -0.889642 \\\\\n",
       "\t3 & 4.0 & 0.950748 \\\\\n",
       "\t4 & 6.0 & 2.00003 \\\\\n",
       "\\end{tabular}\n"
      ],
      "text/plain": [
       "4×2 DataFrame\n",
       "│ Row │ Iteration │ Solution  │\n",
       "│     │ \u001b[90mFloat64\u001b[39m   │ \u001b[90mFloat64\u001b[39m   │\n",
       "├─────┼───────────┼───────────┤\n",
       "│ 1   │ 6.0       │ -2.0743   │\n",
       "│ 2   │ 4.0       │ -0.889642 │\n",
       "│ 3   │ 4.0       │ 0.950748  │\n",
       "│ 4   │ 6.0       │ 2.00003   │"
      ]
     },
     "execution_count": 36,
     "metadata": {},
     "output_type": "execute_result"
    }
   ],
   "source": [
    "using DataFrames\n",
    "\n",
    "n = zeros(4)\n",
    "x = zeros(4)\n",
    "f(x) = x^4 - 5x^2 + 4 - 1 / (1 + exp(x^3))\n",
    "\n",
    "n[1], x[1] = newton(-3, f)\n",
    "n[2], x[2] = newton(-0.5, f)\n",
    "n[3], x[3] = newton(0.5, f)\n",
    "n[4], x[4] = newton(3, f)\n",
    "\n",
    "df = DataFrame(Iteration = n, Solution = x)"
   ]
  },
  {
   "cell_type": "markdown",
   "metadata": {},
   "source": [
    "## Secant Method"
   ]
  },
  {
   "cell_type": "markdown",
   "metadata": {},
   "source": [
    "Sometimes, a closed formula for $f(x)$, and therefore, $f'(x)$, is unknown. A **first order finite difference** approximation can be used to estimate the term $f'(x_k)$ from Newton's method in (7). This would be as follows:"
   ]
  },
  {
   "cell_type": "markdown",
   "metadata": {},
   "source": [
    "$$\n",
    "    f'(x_k) \\approx \\frac{f(x_k) - f(x_{k - 1})}{x_k - x_{k - 1}};\n",
    "$$"
   ]
  },
  {
   "cell_type": "markdown",
   "metadata": {},
   "source": [
    "for $a = x_k$, $h = x_k - x_{k - 1}$ and $a - h = x_{k - 1}$ in $f(a) \\approx \\frac{f(a) - f(a - h)}{h}$. The recursion for the secant method is"
   ]
  },
  {
   "cell_type": "markdown",
   "metadata": {},
   "source": [
    "$$\n",
    "    x_{k + 1} = x_k - \\frac{(x_k - x_{k - 1})f(x_k)}{f(x_k) - f(x_{k - 1})}, \\forall\\ k \\geq 0.\n",
    "$$"
   ]
  },
  {
   "cell_type": "code",
   "execution_count": 353,
   "metadata": {},
   "outputs": [
    {
     "data": {
      "text/plain": [
       "secant (generic function with 1 method)"
      ]
     },
     "execution_count": 353,
     "metadata": {},
     "output_type": "execute_result"
    }
   ],
   "source": [
    "function secant(xm1, x0, f; tol_approx = 10e-9, tol_consec = 10e-6)\n",
    "    n = 0 # number of iterations\n",
    "    xnew = x0; xold = xm1\n",
    "    while ( abs(f(xnew)) > tol_approx || abs(xnew - xold) > tol_consec )\n",
    "        n = n + 1\n",
    "        xoldest = xold\n",
    "        xold = xnew\n",
    "        xnew = xold - f(xold) ⋅ ((xold - xoldest) / (f(xold) - f(xoldest)))\n",
    "    end\n",
    "    return n, xnew\n",
    "end"
   ]
  },
  {
   "cell_type": "markdown",
   "metadata": {},
   "source": [
    "**Example**: similar to the previous examples, we are solving for x:\n",
    "\n",
    "$$\n",
    "    f(x) = x^4 - 5x^2 + 4 - \\frac{1}{1 + e^{x^3}}\n",
    "$$"
   ]
  },
  {
   "cell_type": "code",
   "execution_count": 35,
   "metadata": {},
   "outputs": [
    {
     "data": {
      "text/html": [
       "<table class=\"data-frame\"><thead><tr><th></th><th>SecantN</th><th>SecantX</th><th>NewtonN</th><th>NewtonX</th></tr><tr><th></th><th>Int64</th><th>Float64</th><th>Int64</th><th>Float64</th></tr></thead><tbody><p>1 rows × 4 columns</p><tr><th>1</th><td>8</td><td>-2.0743</td><td>6</td><td>-2.0743</td></tr></tbody></table>"
      ],
      "text/latex": [
       "\\begin{tabular}{r|cccc}\n",
       "\t& SecantN & SecantX & NewtonN & NewtonX\\\\\n",
       "\t\\hline\n",
       "\t& Int64 & Float64 & Int64 & Float64\\\\\n",
       "\t\\hline\n",
       "\t1 & 8 & -2.0743 & 6 & -2.0743 \\\\\n",
       "\\end{tabular}\n"
      ],
      "text/plain": [
       "1×4 DataFrame\n",
       "│ Row │ SecantN │ SecantX │ NewtonN │ NewtonX │\n",
       "│     │ \u001b[90mInt64\u001b[39m   │ \u001b[90mFloat64\u001b[39m │ \u001b[90mInt64\u001b[39m   │ \u001b[90mFloat64\u001b[39m │\n",
       "├─────┼─────────┼─────────┼─────────┼─────────┤\n",
       "│ 1   │ 8       │ -2.0743 │ 6       │ -2.0743 │"
      ]
     },
     "execution_count": 35,
     "metadata": {},
     "output_type": "execute_result"
    }
   ],
   "source": [
    "using DataFrames\n",
    "\n",
    "f(x) = x^4 - 5x^2 + 4 - 1 / (1 + exp(x^3))\n",
    "x0 = -3\n",
    "n1, x1 = secant(x0 - 0.01, x0, f)\n",
    "n2, x2 = newton(x0, f)\n",
    "\n",
    "df = DataFrame(SecantN = n1, SecantX = x1, NewtonN = n2, NewtonX = x2)"
   ]
  },
  {
   "cell_type": "markdown",
   "metadata": {},
   "source": [
    "As per above, Newton's method merges faster to the real value of $x$. **One must use Newton's method, unless one is absolutely sure that there is no closed formula for $x$, in which case, the Secant method would work as intended.**"
   ]
  },
  {
   "cell_type": "markdown",
   "metadata": {},
   "source": [
    "## Numerical methods for N-dimensional nonlinear problems"
   ]
  },
  {
   "cell_type": "markdown",
   "metadata": {},
   "source": [
    "Here, there are no practical anologs of the bisection method, but Newton's method can be extended to $N$ dimensional nonlinear problems; also, too can be extended the approximate Newton's method, using **finite difference approximations**."
   ]
  },
  {
   "cell_type": "markdown",
   "metadata": {},
   "source": [
    "## The N-dimensional Newton's Method"
   ]
  },
  {
   "cell_type": "markdown",
   "metadata": {},
   "source": [
    "Details are given in the book (pp. $144 - 145$), illustrating how to compute the gradient $DF(x)$ of $F(x)$, \n",
    "\n",
    "$$\n",
    "    DF(x) = \\left(\\begin{matrix}\n",
    "            \\frac{\\partial{F_1}}{\\partial{x_1}}(x) & \\frac{\\partial{F_1}}{\\partial{x_2}}(x) & \\cdots & \\frac{\\partial{F_1}}{\\partial{x_N}}(x) \\\\\n",
    "            \\frac{\\partial{F_2}}{\\partial{x_1}}(x) & \\frac{\\partial{F_2}}{\\partial{x_2}}(x) & \\cdots & \\frac{\\partial{F_2}}{\\partial{x_N}}(x) \\\\\n",
    "            \\vdots & \\vdots & \\vdots & \\vdots \\\\\n",
    "            \\frac{\\partial{F_N}}{\\partial{x_1}}(x) & \\frac{\\partial{F_N}}{\\partial{x_2}}(x) & \\cdots & \\frac{\\partial{F_N}}{\\partial{x_N}}(x)\n",
    "            \\end{matrix}\\right),\n",
    "$$\n",
    "\n",
    "to solve the nonlinear problem\n",
    "\n",
    "$$\n",
    "    F(x) = 0.\n",
    "$$"
   ]
  },
  {
   "cell_type": "markdown",
   "metadata": {},
   "source": [
    "The recursion for Newton's method follows from the linear Taylor expansion of $F(x)$.\n",
    "\n",
    "$$\n",
    "    F(x) \\approx F(x_k) + DF(x_k)(x - x_k)\n",
    "$$\n",
    "\n",
    "The random variable $x_{x + 1}$ (where $x_{k + 1}$ is substituted for $x$) is shown to be\n",
    "\n",
    "$$\n",
    "    x_{k + 1} = x_{k} - (DF(x_k))^{-1}F(x_k),\\ \\forall\\ k \\geq 0,\n",
    "$$\n",
    "\n",
    "but since this is computationally expensive, there has to be another way to solve the nonlinear equation $F(x) = 0$; in fact, computing the vector $v_k = DF(x_k))^{-1}F(x_k)$ is equivalent to solving the linear system\n",
    "\n",
    "$$\n",
    "    DF(x_k)v_k = F(x_k).\n",
    "$$"
   ]
  },
  {
   "cell_type": "code",
   "execution_count": 2,
   "metadata": {
    "collapsed": true,
    "jupyter": {
     "outputs_hidden": true
    }
   },
   "outputs": [
    {
     "name": "stderr",
     "output_type": "stream",
     "text": [
      "\u001b[32m\u001b[1m   Updating\u001b[22m\u001b[39m registry at `~/.julia/registries/General`\n"
     ]
    },
    {
     "name": "stdout",
     "output_type": "stream",
     "text": [
      "\u001b[?25l    "
     ]
    },
    {
     "name": "stderr",
     "output_type": "stream",
     "text": [
      "\u001b[32m\u001b[1m   Updating\u001b[22m\u001b[39m git-repo `https://github.com/JuliaRegistries/General.git`\n"
     ]
    },
    {
     "name": "stdout",
     "output_type": "stream",
     "text": [
      "    \u001b[36m\u001b[1mFetching:\u001b[22m\u001b[39m [=======>                                 ]  16.0 %\u001b[2K\u001b[?25h[1mFetching:\u001b[22m\u001b[39m [========================================>]  100.0 %===================>                    ]  49.8 %65.8 %\u001b[36m\u001b[1mFetching:\u001b[22m\u001b[39m [====================================>    ]  88.1 %"
     ]
    },
    {
     "name": "stderr",
     "output_type": "stream",
     "text": [
      "\u001b[32m\u001b[1m  Resolving\u001b[22m\u001b[39m package versions...\n",
      "\u001b[32m\u001b[1m  Installed\u001b[22m\u001b[39m DiffResults ────────── v1.0.2\n",
      "\u001b[32m\u001b[1m  Installed\u001b[22m\u001b[39m NaNMath ────────────── v0.3.4\n",
      "\u001b[32m\u001b[1m  Installed\u001b[22m\u001b[39m DiffRules ──────────── v1.0.1\n",
      "\u001b[32m\u001b[1m  Installed\u001b[22m\u001b[39m CommonSubexpressions ─ v0.3.0\n",
      "\u001b[32m\u001b[1m  Installed\u001b[22m\u001b[39m StaticArrays ───────── v0.12.4\n",
      "\u001b[32m\u001b[1m  Installed\u001b[22m\u001b[39m ForwardDiff ────────── v0.10.12\n",
      "\u001b[32m\u001b[1m   Updating\u001b[22m\u001b[39m `~/.julia/environments/v1.5/Project.toml`\n",
      "\u001b[90m   f6369f11 \u001b[39m\u001b[92m+ ForwardDiff v0.10.12\u001b[39m\n",
      "\u001b[32m\u001b[1m   Updating\u001b[22m\u001b[39m `~/.julia/environments/v1.5/Manifest.toml`\n",
      "\u001b[90m   bbf7d656 \u001b[39m\u001b[92m+ CommonSubexpressions v0.3.0\u001b[39m\n",
      "\u001b[90m   163ba53b \u001b[39m\u001b[92m+ DiffResults v1.0.2\u001b[39m\n",
      "\u001b[90m   b552c78f \u001b[39m\u001b[92m+ DiffRules v1.0.1\u001b[39m\n",
      "\u001b[90m   f6369f11 \u001b[39m\u001b[92m+ ForwardDiff v0.10.12\u001b[39m\n",
      "\u001b[90m   77ba4419 \u001b[39m\u001b[92m+ NaNMath v0.3.4\u001b[39m\n",
      "\u001b[90m   90137ffa \u001b[39m\u001b[92m+ StaticArrays v0.12.4\u001b[39m\n"
     ]
    }
   ],
   "source": [
    "] add ForwardDiff"
   ]
  },
  {
   "cell_type": "code",
   "execution_count": 4,
   "metadata": {},
   "outputs": [
    {
     "data": {
      "text/plain": [
       "nDimNewton (generic function with 1 method)"
      ]
     },
     "execution_count": 4,
     "metadata": {},
     "output_type": "execute_result"
    }
   ],
   "source": [
    "using ForwardDiff, LinearAlgebra\n",
    "\n",
    "function nDimNewton(x0, F; tol_approx = 10e-9, tol_consec = 10e-6)\n",
    "    t1 = [tol_approx for I in 1:size(F)[1]]; tol_approx = t1\n",
    "    n = 0\n",
    "    xnew = x0; xold = x0 - ones(size(x0)[1])\n",
    "    \n",
    "    while ( [norm(F[I](xnew)) for I in 1:size(F)[1]] > tol_approx  || norm(xnew - xold) > tol_consec )\n",
    "        n = n + 1\n",
    "        xold = xnew\n",
    "        DF = zeros(size(F)[1], size(F)[1])\n",
    "        for I in 1:size(F)[1]\n",
    "            DF[I, :] = ForwardDiff.gradient(F[I], xold)\n",
    "        end\n",
    "        xnew = xold - DF \\ [F[I](xold) for I in 1:size(F)[1]]\n",
    "    end\n",
    "    return (n, xnew)\n",
    "end"
   ]
  },
  {
   "cell_type": "code",
   "execution_count": 63,
   "metadata": {},
   "outputs": [
    {
     "data": {
      "text/html": [
       "<table class=\"data-frame\"><thead><tr><th></th><th>iterations</th><th>valuesOfX</th></tr><tr><th></th><th>Int64</th><th>Float64</th></tr></thead><tbody><p>3 rows × 2 columns</p><tr><th>1</th><td>9</td><td>-1.69055</td></tr><tr><th>2</th><td>9</td><td>1.98311</td></tr><tr><th>3</th><td>9</td><td>-0.884558</td></tr></tbody></table>"
      ],
      "text/latex": [
       "\\begin{tabular}{r|cc}\n",
       "\t& iterations & valuesOfX\\\\\n",
       "\t\\hline\n",
       "\t& Int64 & Float64\\\\\n",
       "\t\\hline\n",
       "\t1 & 9 & -1.69055 \\\\\n",
       "\t2 & 9 & 1.98311 \\\\\n",
       "\t3 & 9 & -0.884558 \\\\\n",
       "\\end{tabular}\n"
      ],
      "text/plain": [
       "3×2 DataFrame\n",
       "│ Row │ iterations │ valuesOfX │\n",
       "│     │ \u001b[90mInt64\u001b[39m      │ \u001b[90mFloat64\u001b[39m   │\n",
       "├─────┼────────────┼───────────┤\n",
       "│ 1   │ 9          │ -1.69055  │\n",
       "│ 2   │ 9          │ 1.98311   │\n",
       "│ 3   │ 9          │ -0.884558 │"
      ]
     },
     "execution_count": 63,
     "metadata": {},
     "output_type": "execute_result"
    }
   ],
   "source": [
    "using DataFrames\n",
    "\n",
    "f(x) = x[1]^3 + 2x[1] ⋅ x[2] + x[3]^2 - x[2] ⋅ x[3] + 9\n",
    "g(x) = 2x[1]^2 + 2x[1] ⋅ x[2]^2 + x[2]^3 ⋅ x[3]^2 - x[2]^2 ⋅ x[3] - 2\n",
    "h(x) = x[1] ⋅ x[2] ⋅ x[3] + x[1]^3 - x[3]^2 - x[1] ⋅ x[2]^2 - 4\n",
    "\n",
    "funcs = Function[]\n",
    "push!(funcs, f)\n",
    "push!(funcs, g)\n",
    "push!(funcs, h)\n",
    "\n",
    "c = Channel(41)\n",
    "function FuncCh()\n",
    "    foreach(i->put!(c, funcs[i]), 1:size(funcs)[1])\n",
    "end\n",
    "\n",
    "FuncCh()\n",
    "\n",
    "CAP = 3\n",
    "output = Function[]\n",
    "\n",
    "while(size(output)[1] < CAP)\n",
    "    push!(output, take!(c))\n",
    "end\n",
    "\n",
    "close(c)\n",
    "F = output\n",
    "\n",
    "x0 = [1, 2, 3]\n",
    "n, x = nDimNewton(x0, F)\n",
    "df = DataFrame(iterations = n, valuesOfX = x)"
   ]
  },
  {
   "cell_type": "code",
   "execution_count": 3,
   "metadata": {},
   "outputs": [
    {
     "data": {
      "text/html": [
       "<table class=\"data-frame\"><thead><tr><th></th><th>iterations</th><th>valuesOfX</th></tr><tr><th></th><th>Int64</th><th>Float64</th></tr></thead><tbody><p>3 rows × 2 columns</p><tr><th>1</th><td>40</td><td>-1.0</td></tr><tr><th>2</th><td>40</td><td>3.0</td></tr><tr><th>3</th><td>40</td><td>1.0</td></tr></tbody></table>"
      ],
      "text/latex": [
       "\\begin{tabular}{r|cc}\n",
       "\t& iterations & valuesOfX\\\\\n",
       "\t\\hline\n",
       "\t& Int64 & Float64\\\\\n",
       "\t\\hline\n",
       "\t1 & 40 & -1.0 \\\\\n",
       "\t2 & 40 & 3.0 \\\\\n",
       "\t3 & 40 & 1.0 \\\\\n",
       "\\end{tabular}\n"
      ],
      "text/plain": [
       "3×2 DataFrame\n",
       "│ Row │ iterations │ valuesOfX │\n",
       "│     │ \u001b[90mInt64\u001b[39m      │ \u001b[90mFloat64\u001b[39m   │\n",
       "├─────┼────────────┼───────────┤\n",
       "│ 1   │ 40         │ -1.0      │\n",
       "│ 2   │ 40         │ 3.0       │\n",
       "│ 3   │ 40         │ 1.0       │"
      ]
     },
     "execution_count": 3,
     "metadata": {},
     "output_type": "execute_result"
    }
   ],
   "source": [
    "x0 = [2, 2, 2]\n",
    "n, x = nDimNewton(x0, F)\n",
    "df = DataFrame(iterations = n, valuesOfX = x)"
   ]
  },
  {
   "cell_type": "markdown",
   "metadata": {},
   "source": [
    "## Theorem 5.3\n",
    "\n",
    "Where $x^*$ is a solution to $F(x) = 0$, with $F$ having continuous $2^{nd}$ order partial derivatives, if $DF(x^*)$ is a nonsingular matrix and $x_0$ is close enough to $x^*$, then Newton's method converges quadratically; there exists $M > 0$ and $n_M$\n",
    "positive, such that\n",
    "    \n",
    "$$\n",
    "    \\frac{||x_{k + 1} - x^*||}{||x_k - x^*||^2} < M,\\ \\forall k \\geq n_M.\n",
    "$$"
   ]
  },
  {
   "cell_type": "markdown",
   "metadata": {},
   "source": [
    "## The Approximate Newton's Method"
   ]
  },
  {
   "cell_type": "markdown",
   "metadata": {},
   "source": [
    "In cases where a closed formula becomes impossible or inefficient to find, one can use **finite differences approximations** as weapons of last resort, as illustrated by the following equation, where:"
   ]
  },
  {
   "cell_type": "markdown",
   "metadata": {},
   "source": [
    "$$\n",
    "    \\frac{\\partial F_i}{\\partial x_j} \\approx \\Delta_j F_i(x) = \\frac{F_i(x + he_j) - F_i(x)}{h},\n",
    "$$\n",
    "\n",
    "for the $(i, j)$th position in the DF(x) approximate matrix,"
   ]
  },
  {
   "cell_type": "markdown",
   "metadata": {},
   "source": [
    "$$\n",
    "    \\Delta F(x) = \\left(\\begin{matrix}\n",
    "            \\Delta_1F_1(x) & \\Delta_2F_1(x) & \\cdots & \\Delta_NF_1(x) \\\\\n",
    "            \\Delta_1F_2(x) & \\Delta_2F_2(x) & \\cdots & \\Delta_NF_2(x) \\\\\n",
    "            \\vdots & \\vdots & \\vdots & \\vdots \\\\\n",
    "            \\Delta_1F_N(x) & \\Delta_2F_N(x) & \\cdots & \\Delta_NF_N(x)\n",
    "            \\end{matrix}\\right).\n",
    "$$"
   ]
  },
  {
   "cell_type": "markdown",
   "metadata": {},
   "source": [
    "One basically ends up with the following recursion for the approximate Newton's method.\n",
    "\n",
    "$$\n",
    "    x_{k + 1} = x_k - (\\Delta F(x_k))^{-1}F(x_k)\n",
    "$$"
   ]
  },
  {
   "cell_type": "code",
   "execution_count": 128,
   "metadata": {},
   "outputs": [
    {
     "data": {
      "text/plain": [
       "approxNewton (generic function with 2 methods)"
      ]
     },
     "execution_count": 128,
     "metadata": {},
     "output_type": "execute_result"
    }
   ],
   "source": [
    "using ForwardDiff, LinearAlgebra\n",
    "    \n",
    "function approxNewton(x0, F; tol_approx = 10e-9, tol_consec = 10e-6)\n",
    "    t1 = [tol_approx for I in 1:size(F)[1]]; tol_approx = t1\n",
    "    n = 0\n",
    "    h = tol_consec; xnew = x0; xold = x0 - ones(size(x0)[1])\n",
    "    \n",
    "    while ( [norm(F[I](xnew)) for I in 1:size(F)[1]] > tol_approx  || norm(xnew - xold) > tol_consec )\n",
    "        n = n + 1\n",
    "        xold = xnew\n",
    "        ΔF = zeros(size(F)[1], size(F)[1])\n",
    "        # e = [K == J ? 1 : 0 for K in 1:size(F)[1], J in 1:size(F)[1]]\n",
    "        for I in 1:size(F)[1]\n",
    "            for J in 1:size(F)[1]\n",
    "                e = [K == J ? 1 : 0 for K in 1:size(F)[1]]\n",
    "                ΔF[I, J] = (F[I](xold .+ h .⋅ e) - F[I](xold)) / h\n",
    "            end\n",
    "        end\n",
    "        xnew = xold - ΔF \\ [F[I](xold) for I in 1:size(F)[1]]\n",
    "    end\n",
    "    return (n, xnew)\n",
    "end"
   ]
  },
  {
   "cell_type": "code",
   "execution_count": 129,
   "metadata": {},
   "outputs": [
    {
     "data": {
      "text/html": [
       "<table class=\"data-frame\"><thead><tr><th></th><th>iterations</th><th>valuesOfX</th></tr><tr><th></th><th>Int64</th><th>Float64</th></tr></thead><tbody><p>3 rows × 2 columns</p><tr><th>1</th><td>9</td><td>-1.69055</td></tr><tr><th>2</th><td>9</td><td>1.98311</td></tr><tr><th>3</th><td>9</td><td>-0.884558</td></tr></tbody></table>"
      ],
      "text/latex": [
       "\\begin{tabular}{r|cc}\n",
       "\t& iterations & valuesOfX\\\\\n",
       "\t\\hline\n",
       "\t& Int64 & Float64\\\\\n",
       "\t\\hline\n",
       "\t1 & 9 & -1.69055 \\\\\n",
       "\t2 & 9 & 1.98311 \\\\\n",
       "\t3 & 9 & -0.884558 \\\\\n",
       "\\end{tabular}\n"
      ],
      "text/plain": [
       "3×2 DataFrame\n",
       "│ Row │ iterations │ valuesOfX │\n",
       "│     │ \u001b[90mInt64\u001b[39m      │ \u001b[90mFloat64\u001b[39m   │\n",
       "├─────┼────────────┼───────────┤\n",
       "│ 1   │ 9          │ -1.69055  │\n",
       "│ 2   │ 9          │ 1.98311   │\n",
       "│ 3   │ 9          │ -0.884558 │"
      ]
     },
     "execution_count": 129,
     "metadata": {},
     "output_type": "execute_result"
    }
   ],
   "source": [
    "x0 = [1, 2, 3]\n",
    "n, x = approxNewton(x0, F)\n",
    "df = DataFrame(iterations = n, valuesOfX = x)"
   ]
  },
  {
   "cell_type": "code",
   "execution_count": 130,
   "metadata": {},
   "outputs": [
    {
     "data": {
      "text/html": [
       "<table class=\"data-frame\"><thead><tr><th></th><th>iterations</th><th>valuesOfX</th></tr><tr><th></th><th>Int64</th><th>Float64</th></tr></thead><tbody><p>3 rows × 2 columns</p><tr><th>1</th><td>37</td><td>-1.0</td></tr><tr><th>2</th><td>37</td><td>3.0</td></tr><tr><th>3</th><td>37</td><td>1.0</td></tr></tbody></table>"
      ],
      "text/latex": [
       "\\begin{tabular}{r|cc}\n",
       "\t& iterations & valuesOfX\\\\\n",
       "\t\\hline\n",
       "\t& Int64 & Float64\\\\\n",
       "\t\\hline\n",
       "\t1 & 37 & -1.0 \\\\\n",
       "\t2 & 37 & 3.0 \\\\\n",
       "\t3 & 37 & 1.0 \\\\\n",
       "\\end{tabular}\n"
      ],
      "text/plain": [
       "3×2 DataFrame\n",
       "│ Row │ iterations │ valuesOfX │\n",
       "│     │ \u001b[90mInt64\u001b[39m      │ \u001b[90mFloat64\u001b[39m   │\n",
       "├─────┼────────────┼───────────┤\n",
       "│ 1   │ 37         │ -1.0      │\n",
       "│ 2   │ 37         │ 3.0       │\n",
       "│ 3   │ 37         │ 1.0       │"
      ]
     },
     "execution_count": 130,
     "metadata": {},
     "output_type": "execute_result"
    }
   ],
   "source": [
    "x0 = [2, 2, 2]\n",
    "n, x = approxNewton(x0, F)\n",
    "df = DataFrame(iterations = n, valuesOfX = x)"
   ]
  },
  {
   "cell_type": "markdown",
   "metadata": {},
   "source": [
    "There is also **central finite differences** (cf. pp. $147-148$ of text); done in the exercises below. Note that central finite differences approximates the gradient more closely that if forard finite differences are used, resulting in an iteration count closer to Newton's method."
   ]
  },
  {
   "cell_type": "markdown",
   "metadata": {},
   "source": [
    "## Financial Applications"
   ]
  },
  {
   "cell_type": "markdown",
   "metadata": {},
   "source": [
    "## Computing bond yields"
   ]
  },
  {
   "cell_type": "markdown",
   "metadata": {},
   "source": [
    "If $c_i,\\ i = 1:n$ is the cash payments received by the holder of a bond with face value $B$ and $t_i$ is the time when payment $c_i$ is made, then the yield of the bond $y$ is the interest rate of return of the bond, i.e.,\n",
    "\n",
    "$$\n",
    "    B = \\sum_{i = 1}^{n}c_i\\exp{(-yt_i)}\n",
    "$$\n",
    "\n",
    "If the price of the bond $B$ and all future cash flows $c_i$ are known, this then becomes the following nonlinear problem\n",
    "\n",
    "$$\n",
    "    f(x) = 0, \\tag{8}\n",
    "$$\n",
    "\n",
    "which by setting $x = y$, the solution becomes\n",
    "\n",
    "$$\n",
    "    f(x) = \\sum_{i = 1}^{n}c_ie^{xt_i} - B \\approx 0. \\tag{9}\n",
    "$$\n",
    "\n",
    "Solving (8) using Newton's method, it is easy to see that\n",
    "\n",
    "$$\n",
    "    f'(x) = -\\sum_{i = 1}^{n}t_ic_ie^{-xt_i}. \\tag{10}\n",
    "$$\n",
    "\n",
    "Using $(9)$ and $(10)$, the recursion formula $(7)$ for solving $(8)$ becomes\n",
    "\n",
    "$$\n",
    "    x_{k + 1} = x_k - \\frac{f(x_k)}{f'(x_k)} = x_k + \\frac{\\sum_{i = 1}^nc_ie^{-x_kt_i - B}}{\\sum_{i = 1}^{n}t_ic_ie^{-x_kt_i}}.\n",
    "$$\n",
    "\n",
    "**A good initial guess for the bond yield is $10\\%$.**"
   ]
  },
  {
   "cell_type": "code",
   "execution_count": 70,
   "metadata": {},
   "outputs": [
    {
     "data": {
      "text/plain": [
       "bond_yield (generic function with 1 method)"
      ]
     },
     "execution_count": 70,
     "metadata": {},
     "output_type": "execute_result"
    }
   ],
   "source": [
    "function bond_yield(B, n, t_cash_flow, v_cash_flow; tol = 10e-6)\n",
    "    x0 = 0.1\n",
    "    xnew = x0; xold = x0 - 1\n",
    "    while (abs(xnew - xold) > tol)\n",
    "        xold = xnew\n",
    "        xnew = xold + (sum(v_cash_flow[1:n] .* exp.(-xold .* t_cash_flow[1:n])) - B) / sum(t_cash_flow[1:n] .* v_cash_flow[1:n] .* exp.(-xold .* t_cash_flow[1:n]))\n",
    "    end\n",
    "    return xnew\n",
    "end"
   ]
  },
  {
   "cell_type": "markdown",
   "metadata": {},
   "source": [
    "**Example:** A 34 months semiannual coupon bond with coupon rate $8%$ and face value $100$ is priced at $105$. The yield of the bond is"
   ]
  },
  {
   "cell_type": "code",
   "execution_count": 145,
   "metadata": {},
   "outputs": [
    {
     "data": {
      "text/plain": [
       "0.06450193139556404"
      ]
     },
     "execution_count": 145,
     "metadata": {},
     "output_type": "execute_result"
    }
   ],
   "source": [
    "t_cash_flow = [4 / 12, 10 / 12, 16 / 12, 22 / 12, 28 / 12, 34 / 12]\n",
    "v_cash_flow = [4.0, 4.0, 4.0, 4.0, 4.0, 104.0]\n",
    "bond_yield(105, 6, t_cash_flow, v_cash_flow)"
   ]
  },
  {
   "cell_type": "markdown",
   "metadata": {},
   "source": [
    "## Computing implied volatility"
   ]
  },
  {
   "cell_type": "markdown",
   "metadata": {},
   "source": [
    "Using the same $C$, $P$, $S$, $K$ and $T$ values as in $(46)$ and $(47)$ of $\\cal{FE}1$ (assuming t = 0), we solve\n",
    "\n",
    "$$\n",
    "    f(x) = 0, \\tag{11}\n",
    "$$\n",
    "\n",
    "for\n",
    "\n",
    "$$\n",
    "    f(x) = Se^{qT}N(d_1(x)) - Ke^{-rT}N(d_2(x)) - C,\n",
    "$$\n",
    "\n",
    "when $f(x)$ represents a call option and\n",
    "\n",
    "$$\n",
    "    f(x) = Ke^{rT}N(-d_2(x)) - Se^{-qT}N(-d_1(x)) - P,\n",
    "$$\n",
    "\n",
    "when $f(x)$ represents a put option. Here,\n",
    "\n",
    "$$\n",
    "    d_1(x) = \\frac{\\ln{\\left(\\frac{S}{K}\\right)} + \\left(r - q + \\frac{x^2}{2}\\right)}{x\\sqrt{T}};\\ \n",
    "    d_2(x) = \\frac{\\ln{\\left(\\frac{S}{K}\\right)} + \\left(r - q - \\frac{x^2}{2}\\right)}{x\\sqrt{T}}\n",
    "$$\n",
    "\n",
    "The value of $\\sigma$ thus computed is the implied volatility corresponding to a given option price. Since the aim is to solve ${11}$ using Newton's method, one must remember that $f'(x)$ is the vega of a plain vanilla European put or call option, where\n",
    "\n",
    "$$\n",
    "    f'(x) = \\frac{1}{2\\pi}Se^{-qT}\\sqrt{T}\\exp\\left(-\\frac{(d_1(x))^2}{2}\\right).\n",
    "$$\n",
    "\n",
    "Since $f'(x) \\geq 0\\ \\forall\\ x$, it follows that the function $f(x)$ is strictly increasing, and therefore $(11)$ has **at most** one solution. The recursion formula $(7)$ for solving $(11)$ is then\n",
    "\n",
    "$$\n",
    "    x_{k + 1} = x_k - \\frac{f(x_k)}{f'(x_k)}.\n",
    "$$\n",
    "\n",
    "**A good initial guess is $25\\%$ volatility ($x_0 = 0.25$).**"
   ]
  },
  {
   "cell_type": "code",
   "execution_count": 265,
   "metadata": {},
   "outputs": [
    {
     "data": {
      "text/plain": [
       "implied_volatility (generic function with 1 method)"
      ]
     },
     "execution_count": 265,
     "metadata": {},
     "output_type": "execute_result"
    }
   ],
   "source": [
    "using Calculus\n",
    "\n",
    "function implied_volatility(C, S, K, T, q, r; tol = 10e-6, x0 = 0.25)\n",
    "    f_BS(x) = S * exp(-q * T)cum_dist_normal(d1x(S, K, T, x, r, q)) - K * exp(-r * T)cum_dist_normal(d2x(S, K, T, x, r, q)) - C\n",
    "    vega_BS(x) = derivative(f_BS, x)\n",
    "    xnew = x0; xold = x0 - 1\n",
    "    while (abs(xnew - xold) > tol)\n",
    "        xold = xnew\n",
    "        xnew = xold - f_BS(xold) / vega_BS(xold)\n",
    "    end\n",
    "    return xnew\n",
    "end"
   ]
  },
  {
   "cell_type": "code",
   "execution_count": 268,
   "metadata": {},
   "outputs": [
    {
     "data": {
      "text/plain": [
       "0.36306322295713117"
      ]
     },
     "execution_count": 268,
     "metadata": {},
     "output_type": "execute_result"
    }
   ],
   "source": [
    "implied_volatility(7, 25, 20, 1, 0, 0.05)"
   ]
  },
  {
   "cell_type": "markdown",
   "metadata": {},
   "source": [
    "## Bootstrapping for finding zero rate curves"
   ]
  },
  {
   "cell_type": "markdown",
   "metadata": {},
   "source": [
    "The zero rate $r(0, t)$ between time $0$ and time $t$ is the rate of return of a cash deposit made at time $0$ and maturing at time $t$, for continuously compounded interest rates. The price $B$ of a bond with future cash flows $c_i$ to be paid to the holder of a bond on dates $t_i$, $i = 1:n$, is given by\n",
    "    \n",
    "$$\n",
    "    B = \\sum_{i = 1}^{n}c_ie^{-r(0, t_i)t_i} \\tag{12}\n",
    "$$\n",
    "\n",
    "If the prices of serveral different bonds are known, then there is information on the zero rates corresponding to each date when a bond makes a payment. Since it is discrete and finite, the general form of the zero rate curve $r(0,t)$ for all times $t$ smaller than the largest maturity of any of the bonds cannot be determined uniquely.\n",
    "\n",
    "The bootstrapping method provides a simplified framework in which the zero rate curve can be uniquely determined froma given set of bond prices (assuming zero credit risk, i.e., that the bonds never default), by requiring that the zero rate $r(0,t)$ is linear between any two consecutive bond maturities.\n",
    "\n",
    "**Example**: The prices and coupon rates of four semiannual coupon bonds with face value $100$ are as follows:\n",
    "\n",
    "$$\n",
    "    \\begin{matrix} \\text{Maturity} & \\text{Coupon Rate} & {Price} \\\\\n",
    "                   \\text{6 months} & 0 & 99 \\\\\n",
    "                   \\text{1 year} & 4 & 102 \\\\\n",
    "                   \\text{2 year} & 4 & 103.5 \\\\\n",
    "                   \\text{5 years} & 4 & 109\n",
    "                   \\end{matrix}\n",
    "$$\n",
    "\n",
    "Bootstrapping is used to fit a zero rate interest curve $r(0,t), 0 \\leq t \\leq 5$ to the prices of these bonds, by assuming that the zero rate curve is linear between every two consecutive maturities of the bonds. Expression (11) can be used to obtain the following formula for the price of a semiannual coupon bond\n",
    "\n",
    "$$\n",
    "    B = \\sum_{i = 1}^{n - 1}\\frac{C}{2}\\ 100\\ e^{-r(0,t_i)t_i} + \\left( 100 + \\frac{C}{2}\\ 100\\right)\\ e^{-r(0,T)T} \\tag{13}\n",
    "$$\n",
    "\n",
    "where $C$ is the coupon rate, $T$ is the maturity of the bond, and $t_i, i = 1:(n-1)$, are all the coupon dates before maturity. The solution is as follows:\n",
    "\n",
    "For the six month"
   ]
  },
  {
   "cell_type": "code",
   "execution_count": 6,
   "metadata": {},
   "outputs": [
    {
     "data": {
      "text/plain": [
       "(3, 0.020100671707002797)"
      ]
     },
     "execution_count": 6,
     "metadata": {},
     "output_type": "execute_result"
    }
   ],
   "source": [
    "e = exp(1)\n",
    "f(x) = 100e^(-0.5x) - 99\n",
    "x0 = 0.01; n, r05 = newton(x0, f)"
   ]
  },
  {
   "cell_type": "markdown",
   "metadata": {},
   "source": [
    "For the one year"
   ]
  },
  {
   "cell_type": "code",
   "execution_count": 9,
   "metadata": {},
   "outputs": [
    {
     "data": {
      "text/plain": [
       "(3, 0.0196026472935135)"
      ]
     },
     "execution_count": 9,
     "metadata": {},
     "output_type": "execute_result"
    }
   ],
   "source": [
    "f(x) = 2e^(-0.5r05) + 102e^(-x) - 102\n",
    "x0 = 0.01; n, r1 = newton(x0, f)"
   ]
  },
  {
   "cell_type": "markdown",
   "metadata": {},
   "source": [
    "For the two year"
   ]
  },
  {
   "cell_type": "code",
   "execution_count": 10,
   "metadata": {},
   "outputs": [
    {
     "data": {
      "text/plain": [
       "(3, 0.021944274303852037)"
      ]
     },
     "execution_count": 10,
     "metadata": {},
     "output_type": "execute_result"
    }
   ],
   "source": [
    "f(x) = 2e^(-0.5r05) + 2e^(-r1) + 2e^(-1.5(r1 + x) / 2) + 102e^(-2x) - 103.5\n",
    "x0 = 0.01; n, r2 = newton(x0, f)"
   ]
  },
  {
   "cell_type": "markdown",
   "metadata": {},
   "source": [
    "For $\\frac{1}{2}$ a year, we take an average, since the price at maturity $1.5$ is unknown."
   ]
  },
  {
   "cell_type": "code",
   "execution_count": 11,
   "metadata": {},
   "outputs": [
    {
     "data": {
      "text/plain": [
       "0.020773460798682766"
      ]
     },
     "execution_count": 11,
     "metadata": {},
     "output_type": "execute_result"
    }
   ],
   "source": [
    "r15 = (r1 + r2) / 2"
   ]
  },
  {
   "cell_type": "markdown",
   "metadata": {},
   "source": [
    "For the five year bond, pricing formula $(13)$ becomes\n",
    "\n",
    "$$\n",
    "    109 = 2\\sum_{i = 1}^9e^{-0.5i\\ r(0, 0.5i)} + 102\\ e^{-5r(0,5)} \\tag{14}\n",
    "$$"
   ]
  },
  {
   "cell_type": "markdown",
   "metadata": {},
   "source": [
    "Assuming $r(0,t)$ linear for $t \\in [2, 5]$, i.e.,\n",
    "\n",
    "$$\n",
    "    \\begin{matrix}\n",
    "        r(0, t) & = & \\frac{f - t}{|f - s|}r(0,s) + \\frac{t - s}{|f - s|}r(0,f), \\ \\forall\\ s\\leq t \\leq f \\\\\n",
    "        r(0, t) & = & \\frac{5 - t}{3}r(0,2) + \\frac{t - 2}{3}r(0,5),\\ \\forall\\ 2\\leq t \\leq 5\n",
    "    \\end{matrix}\n",
    "$$"
   ]
  },
  {
   "cell_type": "markdown",
   "metadata": {},
   "source": [
    "then letting $x = r(0,5)$ with\n",
    "\n",
    "\\begin{matrix}\n",
    "    r(0,2.5) & = & \\frac{x + 5r(0,2)}{6} \\\\\n",
    "    r(0, 3) & = & \\frac{x + 2r(0,2)}{3} \\\\\n",
    "    r(0, 3.5) & = & \\frac{x + r(0,2)}{2} \\\\\n",
    "    r(0, 4) & = & \\frac{2x + r(0,2)}{3} \\\\\n",
    "    r(0, 4.5) & = & \\frac{5x + r(0,2)}{6}\n",
    "\\end{matrix}\n",
    "\n",
    "formula $(14)$ becomes the following non-linear equation which can be solved using Newton's method."
   ]
  },
  {
   "cell_type": "code",
   "execution_count": 12,
   "metadata": {},
   "outputs": [
    {
     "data": {
      "text/plain": [
       "(3, 0.02080186020158749)"
      ]
     },
     "execution_count": 12,
     "metadata": {},
     "output_type": "execute_result"
    }
   ],
   "source": [
    "f(x) = 2e^(-0.5r05) + 2e^(-r1) + 2e^(-1.5(r1 + r2) / 2) + 2e^(-2r2) + 2e^(-2.5((x + 5r2) / 6)) + 2e^(-3((x + 2r2) / 3)) + 2e^(-3.5((x + r2) / 2)) + 2e^(-4((2x + r2) / 3))+ 2e^(-4.5((5x + r2) / 6)) + 102e^(-5x) - 109\n",
    "x0 = 0.01; n, r5 = newton(x0, f)"
   ]
  },
  {
   "cell_type": "markdown",
   "metadata": {},
   "source": [
    "$\\therefore\\text{ the following zero rates corresponding to the maturities of the four given bonds were found}$\n",
    "\n",
    "$$\n",
    "    \\begin{matrix}\n",
    "        r(0, 0.5) & = & 0.0201007 & = & 2.0101\\% \\\\\n",
    "        r(0, 1) & = & 0.0196026 & = & 1.9603\\% \\\\\n",
    "        r(0, 2) & = & 2.1944 & = & 2.1944\\% \\\\\n",
    "        r(0, 5) & = & 0.0208019 & = & 2.0802\\%\n",
    "    \\end{matrix}\n",
    "$$\n",
    "\n",
    "Given the overnight lending rate $r(0, 0)$, $\\forall t \\in [0.5, 5]$\n",
    "\n",
    "$$\n",
    "    \\begin{matrix}\n",
    "        2t \\cdot r(0, 0.5) & + & (1 - 2t)\\ r(0, 0) & \\hspace{2em} & \\text{if t} \\in [0.0, 0.5] \\\\\n",
    "        (2t - 1) \\cdot r(0, 1.0) & + & 2(1 - t)\\ r(0, 0.5) & \\hspace{2em} & \\text{if t} \\in [0.5, 1.0] \\\\\n",
    "        (t - 1) \\cdot r(0, 2.0) & + & (2 - t)\\ r(0, 1) & \\hspace{2em} & \\text{if t} \\in [1.0, 2.0] \\\\\n",
    "        \\frac{t - 2}{3} \\cdot r(0, 5.0) & + & \\frac{5 - t}{3}\\ r(0, 2) & \\hspace{2em} & \\text{if t} \\in [2.0, 5.0]\n",
    "    \\end{matrix}\n",
    "$$"
   ]
  },
  {
   "cell_type": "markdown",
   "metadata": {},
   "source": [
    "**Pain Points**"
   ]
  },
  {
   "cell_type": "markdown",
   "metadata": {},
   "source": [
    "I tried doing the following, but **Julia** does not allow certain uses of operators, like `*`, `^` and `+` would not work. If one is to modify the output of a function on the fly, one would have to modify the original function itself."
   ]
  },
  {
   "cell_type": "code",
   "execution_count": 14,
   "metadata": {},
   "outputs": [
    {
     "ename": "LoadError",
     "evalue": "MethodError: no method matching *(::Float64, ::typeof(r25))\nClosest candidates are:\n  *(::Any, ::Any, !Matched::Any, !Matched::Any...) at operators.jl:540\n  *(::Union{Float16, Float32, Float64}, !Matched::BigFloat) at mpfr.jl:393\n  *(::AbstractFloat, !Matched::Bool) at bool.jl:108\n  ...",
     "output_type": "error",
     "traceback": [
      "MethodError: no method matching *(::Float64, ::typeof(r25))\nClosest candidates are:\n  *(::Any, ::Any, !Matched::Any, !Matched::Any...) at operators.jl:540\n  *(::Union{Float16, Float32, Float64}, !Matched::BigFloat) at mpfr.jl:393\n  *(::AbstractFloat, !Matched::Bool) at bool.jl:108\n  ...",
      "",
      "Stacktrace:",
      "  [1] (::var\"#30#31\")(I::Int64)",
      "    @ Main ./none:0",
      "  [2] iterate",
      "    @ ./generator.jl:47 [inlined]",
      "  [3] collect(itr::Base.Generator{UnitRange{Int64}, var\"#30#31\"})",
      "    @ Base ./array.jl:686",
      "  [4] f(x::Float64)",
      "    @ Main ./In[14]:20",
      "  [5] newton(x0::Float64, f::typeof(f); tol_approx::Float64, tol_consec::Float64)",
      "    @ Main /home/chrx/Documents/Financial Economics/Financial Engineering/a3x.jl:25",
      "  [6] newton(x0::Float64, f::Function)",
      "    @ Main /home/chrx/Documents/Financial Economics/Financial Engineering/a3x.jl:23",
      "  [7] top-level scope",
      "    @ In[14]:23",
      "  [8] eval",
      "    @ ./boot.jl:360 [inlined]",
      "  [9] include_string(mapexpr::IJulia.var\"#37#38\", mod::Module, code::String, filename::String)",
      "    @ Base ./loading.jl:1106",
      " [10] execute_code(code::String, filename::String)",
      "    @ IJulia ~/.julia/packages/IJulia/a1SNk/src/execute_request.jl:27",
      " [11] execute_request(socket::ZMQ.Socket, msg::IJulia.Msg)",
      "    @ IJulia ~/.julia/packages/IJulia/a1SNk/src/execute_request.jl:86",
      " [12] #invokelatest#2",
      "    @ ./essentials.jl:707 [inlined]",
      " [13] invokelatest",
      "    @ ./essentials.jl:706 [inlined]",
      " [14] eventloop(socket::ZMQ.Socket)",
      "    @ IJulia ~/.julia/packages/IJulia/a1SNk/src/eventloop.jl:8",
      " [15] (::IJulia.var\"#15#18\")()",
      "    @ IJulia ./task.jl:395"
     ]
    }
   ],
   "source": [
    "coeff = [0.5I for I in 1:9]; R = Function[];\n",
    "\n",
    "# known\n",
    "r05 = r05\n",
    "r10 = r10\n",
    "r15= (r1 + r2) / 2\n",
    "r2 = r2; RK = r05 + r1 + r15 + r2\n",
    "\n",
    "# unknown\n",
    "r25(x) = (x + 5r2) / 6\n",
    "r3(x) = (x + 2r2) / 3\n",
    "r35(x) = (x + r2) / 2\n",
    "r4(x) = (2x + r2) / 3\n",
    "r45(x) = (5x + r2) / 6\n",
    "# r50(x) = 102e^(-5x) - 109\n",
    "\n",
    "# push!(R, r05); push!(R, r10); push!(R, r15); push!(R, r20)\n",
    "push!(R, r25); push!(R, r3); push!(R, r35); push!(R, r4); push!(R, r45)\n",
    "\n",
    "f(x) = 2 .* ( sum([e^(-coeff[I]R[I-4]) for I in 5:9]) + r05 + r1 + r15 + r2 ) + 102e^(-5x) - 109\n",
    "\n",
    "# f(x) = 2e^(-0.5r05) + 2e^(-r1) + 2e^(-1.5(r1 + r2) / 2) + 2e^(-2r2) + 2e^(-2.5((x + 5r2) / 6)) + 2e^(-3((x + 2r2) / 3)) + 2e^(-3.5((x + r2) / 2)) + 2e^(-4((2x + r2) / 3))+ 2e^(-4.5((5x + r2) / 6)) + 102e^(-5x) - 109\n",
    "x0 = 0.01; n, r5 = newton(x0, f)"
   ]
  },
  {
   "cell_type": "markdown",
   "metadata": {},
   "source": [
    "# $\\S 5.2$ Exercises"
   ]
  },
  {
   "cell_type": "markdown",
   "metadata": {},
   "source": [
    "**Problem 1**: Using Newton's method to find the yield of a five year semiannual coupon bond with $3.375\\%$ coupon rate and price $100\\frac{1}{32}$, the duration and convexity of the bond are...\n",
    "\n",
    "**From Theory**:\n",
    "\n",
    "$$\n",
    "    B = \\sum_{i = 1}^{n - 1}c_i \\ \\exp\\left(-y\\ \\frac{i}{K}\\right) \\ +\\ (100 + c_n)\\exp{(-yT)},\\hspace{2em} \\text{where}\\ c_i =  \\frac{r}{K}\\ \\forall\\ i \\leq n, K \\in {2, 4, ...}\n",
    "$$"
   ]
  },
  {
   "cell_type": "markdown",
   "metadata": {},
   "source": [
    "As per the usual, although the bond price is $100\\frac{1}{32}$, a face value of $\\$100$ is used here. Nine ($5 \\times 2 - 1$) $\\$\\left(100 \\times \\frac{0.03375}{2}\\right) = \\$1.6875$ coupon payments are made every six months, and a final payment of $\\$\\left(100 + \\frac{0.03375}{2}\\right) = \\$101.6875$ is made after five years. By writing the value of the bond in terms of its yield...\n",
    "\n",
    "$$\n",
    "    100 + \\frac{1}{32} = B = \\sum_{i = 1}^{n}1.6875\\ \\exp{\\left(-y\\ \\frac{i}{2}\\right)}\\ +\\ 101.6875\\ \\exp(-5y) \\hspace{16em}\\hspace{1ex}\n",
    "$$\n",
    "\n",
    "becomes the nonlinear equation to be solved; with initial guess $x_0 = 0.1$,"
   ]
  },
  {
   "cell_type": "code",
   "execution_count": 277,
   "metadata": {},
   "outputs": [
    {
     "data": {
      "text/plain": [
       "0.03340109853803073"
      ]
     },
     "execution_count": 277,
     "metadata": {},
     "output_type": "execute_result"
    }
   ],
   "source": [
    "B = 100.03125; n = 10\n",
    "t_cash_flow = [0.5, 1, 1.5, 2, 2.5, 3, 3.5, 4, 4.5, 5]\n",
    "v_cash_flow = [1.6875 for I in 1:9]; append!(v_cash_flow, 100 + 1.6875)\n",
    "y = bond_yield(B, n, t_cash_flow, v_cash_flow)"
   ]
  },
  {
   "cell_type": "markdown",
   "metadata": {},
   "source": [
    "To compute the bond duration and convexity, I borrow a function called `bond_PrDuCv` from $\\cal FE1$, the $\\S$ on **bond duration & convexity**, which I included in `a2x.jl`. I must make note of the fact that the duration and convexity of the bond are given by\n",
    "\n",
    "$$\n",
    "    D = \\frac{1}{B}\\left(\\sum_{i = 1}^{9}1.6875\\frac{i}{2}\\exp\\left(-y\\ \\frac{i}{2}\\right) + 101.6875 \\cdot 5\\exp(-5y)\\right) \\\\\n",
    "    C = \\frac{1}{B}\\left(\\sum_{i = 1}^{9}1.6875\\frac{i^2}{4}\\exp\\left(-y\\ \\frac{i}{2}\\right) + 101.6875 \\cdot 25\\exp(-5y)\\right),\n",
    "$$\n",
    "\n",
    "where $B = 100 + \\frac{1}{32}$ and $y \\approx 0.033401$. The duration and convexity then is..."
   ]
  },
  {
   "cell_type": "code",
   "execution_count": 278,
   "metadata": {},
   "outputs": [
    {
     "data": {
      "text/plain": [
       "(100.03125000009307, 4.642735048425559, 22.573118015851666)"
      ]
     },
     "execution_count": 278,
     "metadata": {},
     "output_type": "execute_result"
    }
   ],
   "source": [
    "B, D, C = bond_PrDuCv(5, 10, t_cash_flow, v_cash_flow, y)"
   ]
  },
  {
   "cell_type": "markdown",
   "metadata": {},
   "source": [
    "**Problem 2:** To compute the price, yield, modified duration and convexity of a two year semiannual coupon bond with face value 100 and coupon rate 8% (coupon rate given by $r(0, t) = 0.05 + 0.01\\ln (1 + \\frac{t}{2})$, I borrow functions called `get_cash_flow` and `bond_price_zero_rate`, from $\\cal FE1$ $\\S$ on **zero rate** and **instantaneous rate** curves."
   ]
  },
  {
   "cell_type": "code",
   "execution_count": 68,
   "metadata": {},
   "outputs": [
    {
     "data": {
      "text/plain": [
       "([0.5, 1.0, 1.5, 2.0], [4.0, 4.0, 4.0, 104.0])"
      ]
     },
     "execution_count": 68,
     "metadata": {},
     "output_type": "execute_result"
    }
   ],
   "source": [
    "Y = 2; m = 2; T = 12 * m; F = 100; C = 0.08; n = convert(Int64, Y / 0.5); t_cash_flow, v_cash_flow = get_cash_flow(n, Y, T, F, C)"
   ]
  },
  {
   "cell_type": "code",
   "execution_count": 69,
   "metadata": {},
   "outputs": [
    {
     "data": {
      "text/plain": [
       "([0.9742223482612451, 0.9473803297277678, 0.919988382423771, 0.8923802539163926], 104.17391064895598)"
      ]
     },
     "execution_count": 69,
     "metadata": {},
     "output_type": "execute_result"
    }
   ],
   "source": [
    "f(t) = 0.05 + 0.01 * log(1 + t / 2)\n",
    "disc, B = bond_price_zero_rate(4, t_cash_flow, v_cash_flow, f)"
   ]
  },
  {
   "cell_type": "markdown",
   "metadata": {},
   "source": [
    "**Problem 4**: Given a three month ATM call (S = K) on an underlying asset with spot price 30 paying dividends continuously at a $2\\%$ rate, worth $\\$2.5$ with constant risk-free rate of $6\\%$, (i) computing the implied volatility on $[0.0001, 1]$ using the bisection method, secant method with initial guess $0.5$ and Newton's method with initial guess $0.5$ and (ii) using the formula\n",
    "\n",
    "$$\n",
    "    \\sigma_{imp,approx} \\approx \\frac{\\sqrt{2\\pi}}{S\\sqrt{T}}\\ \\frac{C - \\frac{(r - q)T}{2}S}{1 - \\frac{(r + q)T}{2}}\n",
    "$$\n",
    "\n",
    "to compute an approximate value $\\sigma_{imp_approx}$ for the implied volatility, also computing the relative error $\\frac{|\\sigma_{imp,approx} - \\sigma_{imp}|}{\\sigma_{imp}}.$"
   ]
  },
  {
   "cell_type": "code",
   "execution_count": 396,
   "metadata": {},
   "outputs": [
    {
     "data": {
      "text/plain": [
       "0.39704818831067523"
      ]
     },
     "execution_count": 396,
     "metadata": {},
     "output_type": "execute_result"
    }
   ],
   "source": [
    "C = 2.5; S = 30; K = 30; T = 3 / 12; r = 0.06; q = 0.02\n",
    "f(x) = S * exp(-q * T)cum_dist_normal(d1x(S, K, T, x, r, q)) - (K * exp(-r * T)cum_dist_normal(d2x(S, K, T, x, r, q))) - C\n",
    "bisection(0.0001, 1, f)"
   ]
  },
  {
   "cell_type": "code",
   "execution_count": 397,
   "metadata": {},
   "outputs": [
    {
     "data": {
      "text/plain": [
       "(3, 0.39704818680444287)"
      ]
     },
     "execution_count": 397,
     "metadata": {},
     "output_type": "execute_result"
    }
   ],
   "source": [
    "n, x = secant(0.6, 0.5, f; tol_approx = 10e-9, tol_consec = 10e-6)"
   ]
  },
  {
   "cell_type": "code",
   "execution_count": 398,
   "metadata": {},
   "outputs": [
    {
     "data": {
      "text/plain": [
       "(3, 0.397048186803561)"
      ]
     },
     "execution_count": 398,
     "metadata": {},
     "output_type": "execute_result"
    }
   ],
   "source": [
    "n, x = newton(0.5, f)"
   ]
  },
  {
   "cell_type": "markdown",
   "metadata": {},
   "source": [
    "They like to use this formula for computing an approximate value for the implied volatility\n",
    "\n",
    "$$\n",
    "    \\sigma_{imp} \\approx \\frac{\\sqrt{2\\pi}}{S\\sqrt{T}}\\frac{C - \\frac{(r - q)T}{2}S}{1 - \\frac{(r + q)T}{2}},\n",
    "$$"
   ]
  },
  {
   "cell_type": "markdown",
   "metadata": {},
   "source": [
    "which gives a value of"
   ]
  },
  {
   "cell_type": "code",
   "execution_count": 399,
   "metadata": {},
   "outputs": [
    {
     "data": {
      "text/plain": [
       "0.39667181450389566"
      ]
     },
     "execution_count": 399,
     "metadata": {},
     "output_type": "execute_result"
    }
   ],
   "source": [
    "σ = √(2π) / (S * √(T)) * (C - (((r - q) * T) / 2) * S) / (1 - (r + q)T / 2)"
   ]
  },
  {
   "cell_type": "markdown",
   "metadata": {},
   "source": [
    "The relative error $\\frac{|\\sigma_{imp,approx} - \\sigma_{imp}|}{\\sigma_{imp}}$ then is"
   ]
  },
  {
   "cell_type": "code",
   "execution_count": 402,
   "metadata": {},
   "outputs": [
    {
     "data": {
      "text/plain": [
       "0.000948825416638382"
      ]
     },
     "execution_count": 402,
     "metadata": {},
     "output_type": "execute_result"
    }
   ],
   "source": [
    "abs(σ - x) / σ"
   ]
  },
  {
   "cell_type": "markdown",
   "metadata": {},
   "source": [
    "or $0.0948\\%$."
   ]
  },
  {
   "cell_type": "markdown",
   "metadata": {},
   "source": [
    "**Problem 5**: The same as done above for `nDimNewton` except that we have the **central difference approximation** replace ***forward finite differences***. Where before the **approximate gradient** was $\\Delta_j F_i(x) = \\frac{F_i(x + he_j) - F_i(x)}{h}$, with central differences, it becomes $\\Delta_j F_i(x) = \\frac{F_i(x + he_j) - F_i(x) - he_j}{2h}$."
   ]
  },
  {
   "cell_type": "code",
   "execution_count": 27,
   "metadata": {},
   "outputs": [
    {
     "data": {
      "text/plain": [
       "approxNewton (generic function with 1 method)"
      ]
     },
     "execution_count": 27,
     "metadata": {},
     "output_type": "execute_result"
    }
   ],
   "source": [
    "using ForwardDiff, LinearAlgebra\n",
    "    \n",
    "function approxNewton(x0, F; tol_approx = 10e-9, tol_consec = 10e-6)\n",
    "    t1 = [tol_approx for I in 1:size(F)[1]]; tol_approx = t1\n",
    "    n = 0\n",
    "    h = tol_consec; xnew = x0; xold = x0 - ones(size(x0)[1])\n",
    "    \n",
    "    while ( [norm(F[I](xnew)) for I in 1:size(F)[1]] > tol_approx  || norm(xnew - xold) > tol_consec )\n",
    "        n = n + 1\n",
    "        xold = xnew\n",
    "        ΔF = zeros(size(F)[1], size(F)[1])\n",
    "        # e = [K == J ? 1 : 0 for K in 1:size(F)[1], J in 1:size(F)[1]]\n",
    "        for I in 1:size(F)[1]\n",
    "            for J in 1:size(F)[1]\n",
    "                e = [K == J ? 1 : 0 for K in 1:size(F)[1]]\n",
    "                ΔF[I, J] = (F[I](xold .+ h .* e) - F[I](xold .- h .* e)) / 2h\n",
    "            end\n",
    "        end\n",
    "        xnew = xold - ΔF \\ [F[I](xold) for I in 1:size(F)[1]]\n",
    "    end\n",
    "    return (n, xnew)\n",
    "end"
   ]
  },
  {
   "cell_type": "code",
   "execution_count": 5,
   "metadata": {},
   "outputs": [
    {
     "data": {
      "text/html": [
       "<table class=\"data-frame\"><thead><tr><th></th><th>iterations</th><th>valuesOfX</th></tr><tr><th></th><th>Int64</th><th>Float64</th></tr></thead><tbody><p>3 rows × 2 columns</p><tr><th>1</th><td>9</td><td>-1.69055</td></tr><tr><th>2</th><td>9</td><td>1.98311</td></tr><tr><th>3</th><td>9</td><td>-0.884558</td></tr></tbody></table>"
      ],
      "text/latex": [
       "\\begin{tabular}{r|cc}\n",
       "\t& iterations & valuesOfX\\\\\n",
       "\t\\hline\n",
       "\t& Int64 & Float64\\\\\n",
       "\t\\hline\n",
       "\t1 & 9 & -1.69055 \\\\\n",
       "\t2 & 9 & 1.98311 \\\\\n",
       "\t3 & 9 & -0.884558 \\\\\n",
       "\\end{tabular}\n"
      ],
      "text/plain": [
       "3×2 DataFrame\n",
       "│ Row │ iterations │ valuesOfX │\n",
       "│     │ \u001b[90mInt64\u001b[39m      │ \u001b[90mFloat64\u001b[39m   │\n",
       "├─────┼────────────┼───────────┤\n",
       "│ 1   │ 9          │ -1.69055  │\n",
       "│ 2   │ 9          │ 1.98311   │\n",
       "│ 3   │ 9          │ -0.884558 │"
      ]
     },
     "execution_count": 5,
     "metadata": {},
     "output_type": "execute_result"
    }
   ],
   "source": [
    "using DataFrames\n",
    "\n",
    "f(x) = x[1]^3 + 2x[1] ⋅ x[2] + x[3]^2 - x[2] ⋅ x[3] + 9\n",
    "g(x) = 2x[1]^2 + 2x[1] ⋅ x[2]^2 + x[2]^3 ⋅ x[3]^2 - x[2]^2 ⋅ x[3] - 2\n",
    "h(x) = x[1] ⋅ x[2] ⋅ x[3] + x[1]^3 - x[3]^2 - x[1] ⋅ x[2]^2 - 4\n",
    "\n",
    "funcs = Function[]\n",
    "push!(funcs, f)\n",
    "push!(funcs, g)\n",
    "push!(funcs, h)\n",
    "\n",
    "c = Channel(41)\n",
    "function FuncCh()\n",
    "    foreach(i->put!(c, funcs[i]), 1:size(funcs)[1])\n",
    "end\n",
    "\n",
    "FuncCh()\n",
    "\n",
    "CAP = 3\n",
    "output = Function[]\n",
    "\n",
    "while(size(output)[1] < CAP)\n",
    "    push!(output, take!(c))\n",
    "end\n",
    "\n",
    "close(c)\n",
    "F = output\n",
    "\n",
    "x0 = [1, 2, 3]\n",
    "n, x = approxNewton(x0, F)\n",
    "df = DataFrame(iterations = n, valuesOfX = x)"
   ]
  },
  {
   "cell_type": "code",
   "execution_count": 6,
   "metadata": {},
   "outputs": [
    {
     "data": {
      "text/html": [
       "<table class=\"data-frame\"><thead><tr><th></th><th>iterations</th><th>valuesOfX</th></tr><tr><th></th><th>Int64</th><th>Float64</th></tr></thead><tbody><p>3 rows × 2 columns</p><tr><th>1</th><td>40</td><td>-1.0</td></tr><tr><th>2</th><td>40</td><td>3.0</td></tr><tr><th>3</th><td>40</td><td>1.0</td></tr></tbody></table>"
      ],
      "text/latex": [
       "\\begin{tabular}{r|cc}\n",
       "\t& iterations & valuesOfX\\\\\n",
       "\t\\hline\n",
       "\t& Int64 & Float64\\\\\n",
       "\t\\hline\n",
       "\t1 & 40 & -1.0 \\\\\n",
       "\t2 & 40 & 3.0 \\\\\n",
       "\t3 & 40 & 1.0 \\\\\n",
       "\\end{tabular}\n"
      ],
      "text/plain": [
       "3×2 DataFrame\n",
       "│ Row │ iterations │ valuesOfX │\n",
       "│     │ \u001b[90mInt64\u001b[39m      │ \u001b[90mFloat64\u001b[39m   │\n",
       "├─────┼────────────┼───────────┤\n",
       "│ 1   │ 40         │ -1.0      │\n",
       "│ 2   │ 40         │ 3.0       │\n",
       "│ 3   │ 40         │ 1.0       │"
      ]
     },
     "execution_count": 6,
     "metadata": {},
     "output_type": "execute_result"
    }
   ],
   "source": [
    "x0 = [2, 2, 2]\n",
    "n, x = approxNewton(x0, F)\n",
    "df = DataFrame(iterations = n, valuesOfX = x)"
   ]
  },
  {
   "cell_type": "markdown",
   "metadata": {},
   "source": [
    "As mentioned above, the **central difference approximation** has a lower iteration count, in particular for $x_0 = [2, 2, 2]$ ($40$ vs $65$ with **forward finite differences**."
   ]
  },
  {
   "cell_type": "markdown",
   "metadata": {},
   "source": [
    "**Problem 6**: Solving for $f(x) = 0$ in\n",
    "\n",
    "$$\n",
    "    f(x) = e^{xT}\\ N\\left(\\frac{(r - x)\\sqrt{T}}{\\sigma} + \\frac{\\sigma\\sqrt{T}}{2}\\right) - 0.5 \\lt 0.085 = r + \\frac{\\sigma^2}{2}\n",
    "$$\n",
    "\n",
    "the following value of q is found in three (3) iterations."
   ]
  },
  {
   "cell_type": "code",
   "execution_count": 25,
   "metadata": {},
   "outputs": [
    {
     "data": {
      "text/plain": [
       "(3, 0.06690563571881601)"
      ]
     },
     "execution_count": 25,
     "metadata": {},
     "output_type": "execute_result"
    }
   ],
   "source": [
    "T = 6 / 12; r = 0.04; σ = 0.30; x0 = 0.10\n",
    "f(x) = exp(-x * T)cum_dist_normal((r - x) * √(T) / σ + σ * √(T) / 2) - 0.5\n",
    "n, q = newton(x0, f)"
   ]
  },
  {
   "cell_type": "markdown",
   "metadata": {},
   "source": [
    "Worthwhile reading discussion on pp. $133- 134$ on solutions handbook. Also worthwhile reading problems $7-9$ on **bootstrapping**."
   ]
  },
  {
   "cell_type": "markdown",
   "metadata": {},
   "source": [
    "**Problem 7**: (i) Using bootstrapping to obtain a zero rate curve from the following prices of Treasury instruments with semiannual coupon payments:\n",
    "\n",
    "$$\n",
    "    \\begin{matrix} \\text{_} & \\text{Coupon Rate} & \\text{Price} \\\\\n",
    "                   \\text{3 --- Month T-bill} & 0 & 98.7 \\\\\n",
    "                   \\text{6 --- Month T-bill} & 0 & 97.5 \\\\\n",
    "                   \\text{2 --- Month T-bill} & 4.875 & 100\\frac{5}{32} \\\\\n",
    "                   \\text{3 --- Month T-bill} & 4.875 & 97.5\\frac{5}{32} \\\\\n",
    "                   \\text{5 --- Month T-bill} & 4.625 & 97.5\\frac{22}{32} \\\\\n",
    "                   \\text{10 --- Month T-bill} & 4.875 & 97.5\\frac{4}{32}\\end{matrix}\n",
    "$$\n",
    "\n",
    "Assume continuously compounded interest.\n",
    "\n",
    "(ii) Want to know how the zero rate curves obtained by bootstrapping from the bond prices above, one corresponding to the semi-annually compounded interest, and the other one corresponding to continuously computed interest, compare, i.e., will one of the two curves by higher or lower than the other one, and why?"
   ]
  },
  {
   "cell_type": "markdown",
   "metadata": {},
   "source": [
    "**Solution**: (i) For the Treasury bills, the zero rate can be computed directly:\n",
    "\n",
    "Recalling that $r(0, t) = \\frac{1}{t}\\int_0^t r(\\tau)\\ d\\tau$,\n",
    "\n",
    "$$\n",
    "    r(0, 0.25) = 4 \\ln \\left(\\frac{100}{98.7}\\right) = 0.052341 = 5.2341\\% \\\\\n",
    "    r(0, 0.5) = 2 \\ln \\left(\\frac{100}{97.5}\\right) = 0.050636 = 5.0636\\%\n",
    "$$\n",
    "\n",
    "because $\\int_0^t \\frac{1}{x^\\tau}\\ d\\tau \\approx \\ln(x^\\tau) \\approx \\tau\\ \\ln(x)$. Using code:"
   ]
  },
  {
   "cell_type": "code",
   "execution_count": 1,
   "metadata": {},
   "outputs": [
    {
     "data": {
      "text/plain": [
       "2-element Vector{Float64}:\n",
       " 0.0523409581946222\n",
       " 0.05063561596857951"
      ]
     },
     "execution_count": 1,
     "metadata": {},
     "output_type": "execute_result"
    }
   ],
   "source": [
    "r(p, t) = log(p^(1 / t))\n",
    "mo = [3, 6]; p = [100 / 98.7, 100 / 97.5]; t = [mo[1] / 12, mo[2] / 12]\n",
    "rp = [r(p[1], t[1]), r(p[2], t[2])]"
   ]
  },
  {
   "cell_type": "markdown",
   "metadata": {},
   "source": [
    "Bootstrapping is needed to obtain the $2$-year, $3$-year, $5$-year and $10$-year zero rates. For example, for the two year bond, if the zero rate curve is assumed to be linear between six months and two years, then\n",
    "        \n",
    "$$\n",
    "    r(0, t) = \\frac{(2 - t)r(0, 0.5) + (t - 0.5)r(0, 2)}{1.5}{1.5}, \\forall\\ t \\in [0.5, 2]\n",
    "$$"
   ]
  },
  {
   "cell_type": "markdown",
   "metadata": {},
   "source": [
    "If we let $x = r(0, 2); s = 0.5, f = 2$, then assuming $t \\in [0.5, 2]$ we find from\n",
    "$$\n",
    "    \\begin{matrix}\n",
    "        r(0, t) & = & \\frac{f - t}{|f - s|}r(0,s) + \\frac{t - s}{|f - s|}r(0,f),\\ \\forall\\ s\\leq t \\leq f \\\\\n",
    "        r(0, t) & = & \\frac{(2 - t)r(0, 0.5)\\ +\\ (t - 0.5)r(0, 2)}{1.5}\n",
    "    \\end{matrix}\n",
    "$$\n",
    "\n",
    "that\n",
    "\n",
    "$$\n",
    "    r(0, 1) = \\frac{r(0, 0.5) + 0.5x}{1.5};\\ r(0, 1.5) = \\frac{0.5r(0, 0.5) + x}{1.5}\n",
    "$$"
   ]
  },
  {
   "cell_type": "markdown",
   "metadata": {},
   "source": [
    "Recalling that the price of the two year bond is the discounted present value of all the future cash flows of the bond,\n",
    "\n",
    "$$\n",
    "    100 + \\frac{5}{32} = \\left(\\begin{matrix} 2.4375\\ e^{-0.5r(0,0.5)} + 2.4375\\ e^{-r(0,1)}\n",
    "                        + 2.4375\\ e^{-1.5r(0,1.5)} + 102.4375\\ e^{-2r(0,2)} \\\\\n",
    "                        2.4375\\ e^{-0.5r(0,0.5)} + 2.4375\\ \\exp\\left({-\\frac{r(0,0.5) + 0.5x}{1.5}}\\right)\n",
    "                        + 2.4375\\ \\exp\\left({-1.5\\frac{0.5r(0,0.5) + x}{1.5}}\\right) + 102.4375\\ e^{-2x} \\end{matrix}\\right)\n",
    "$$\n",
    "\n",
    "and using Newton's method to solve the nonlinear equation for $x$,"
   ]
  },
  {
   "cell_type": "code",
   "execution_count": 3,
   "metadata": {},
   "outputs": [
    {
     "data": {
      "text/plain": [
       "f (generic function with 1 method)"
      ]
     },
     "execution_count": 3,
     "metadata": {},
     "output_type": "execute_result"
    }
   ],
   "source": [
    "e = exp(1); \n",
    "r05 = rp[2]\n",
    "f(x) = 2.4375e^(-0.5*r05) + \n",
    "       2.4375e^(-(r05 + 0.5x) / 1.5) + \n",
    "       2.4375e^(-1.5 * ((0.5 * r05 + x) / 1.5)) + 102.4375e^(-2x) - (100 + 5 /32)"
   ]
  },
  {
   "cell_type": "code",
   "execution_count": 4,
   "metadata": {},
   "outputs": [
    {
     "data": {
      "text/plain": [
       "(3, 0.04728926180475103)"
      ]
     },
     "execution_count": 4,
     "metadata": {},
     "output_type": "execute_result"
    }
   ],
   "source": [
    "x0 = 0.01; n, r2 = newton(x0, f)"
   ]
  },
  {
   "cell_type": "markdown",
   "metadata": {},
   "source": [
    "Hence, $r(0, 2) = 4.7289\\%$.\n",
    "\n",
    "For $t \\in [0.5, 2]$\n",
    "\n",
    "$$\n",
    "    r(0, t) = \\frac{(2 - t)r(0,0.5) + (t - 0.5)r(0,2)}{1.5}\n",
    "$$"
   ]
  },
  {
   "cell_type": "markdown",
   "metadata": {},
   "source": [
    "Assuming that the zero rate curve is linear between two years and three years, $r(0, 0.5)$, $r(0, 1)$, $r(0, 1.5)$, and $r(0, 2)$ are known. If we let $x = r(0, 3)$, the price of the three year bond can be written as"
   ]
  },
  {
   "cell_type": "code",
   "execution_count": 5,
   "metadata": {},
   "outputs": [
    {
     "data": {
      "text/plain": [
       "f (generic function with 1 method)"
      ]
     },
     "execution_count": 5,
     "metadata": {},
     "output_type": "execute_result"
    }
   ],
   "source": [
    "f(x) = (r05 + 0.5x) / 1.5"
   ]
  },
  {
   "cell_type": "code",
   "execution_count": 6,
   "metadata": {},
   "outputs": [
    {
     "data": {
      "text/plain": [
       "0.04952016458063668"
      ]
     },
     "execution_count": 6,
     "metadata": {},
     "output_type": "execute_result"
    }
   ],
   "source": [
    "r1 = f(r2)"
   ]
  },
  {
   "cell_type": "code",
   "execution_count": 7,
   "metadata": {},
   "outputs": [
    {
     "data": {
      "text/plain": [
       "f (generic function with 1 method)"
      ]
     },
     "execution_count": 7,
     "metadata": {},
     "output_type": "execute_result"
    }
   ],
   "source": [
    "f(x) = (0.5r05 + x) / 1.5"
   ]
  },
  {
   "cell_type": "code",
   "execution_count": 8,
   "metadata": {},
   "outputs": [
    {
     "data": {
      "text/plain": [
       "0.048404713192693856"
      ]
     },
     "execution_count": 8,
     "metadata": {},
     "output_type": "execute_result"
    }
   ],
   "source": [
    "r15 = f(r2)"
   ]
  },
  {
   "cell_type": "markdown",
   "metadata": {},
   "source": [
    "**The following is assuming $t \\in [2, 3]$**, where\n",
    "\n",
    "$$\n",
    "    r(0, t) = \\frac{(3 - t)r(0, 2) + (t - 2)r(0, 3)}{3 - 2}, \\hspace{2em} \\forall\\ 2 \\leq t \\leq 3\n",
    "$$"
   ]
  },
  {
   "cell_type": "code",
   "execution_count": 9,
   "metadata": {},
   "outputs": [
    {
     "data": {
      "text/plain": [
       "f (generic function with 1 method)"
      ]
     },
     "execution_count": 9,
     "metadata": {},
     "output_type": "execute_result"
    }
   ],
   "source": [
    "e = exp(1); f(x) =  2.4375e^(-0.5r05) + \n",
    "                    2.4375e^(-r1) + \n",
    "                    2.4375e^(-1.5r15) + \n",
    "                    2.4375e^(-2r2) + \n",
    "                    2.4375e^(-2.5((r2 + x) / 2)) + \n",
    "                    102.4375e^(-3x) - (100 + 5 /32)"
   ]
  },
  {
   "cell_type": "code",
   "execution_count": 10,
   "metadata": {},
   "outputs": [
    {
     "data": {
      "text/plain": [
       "(4, 0.04758187545229992)"
      ]
     },
     "execution_count": 10,
     "metadata": {},
     "output_type": "execute_result"
    }
   ],
   "source": [
    "x0 = 0.01; n, r3 = newton(x0, f)"
   ]
  },
  {
   "cell_type": "markdown",
   "metadata": {},
   "source": [
    "Therefore, $r(0, 3) = 4.7582\\%$. Something similar can be done to obtain the rates for the five (5) year and $10$ year semi-annual coupon securities.\n",
    "\n",
    "For the five year zero rate curve, the assumption would be that $t$ is linear for $3 \\leq t \\leq 5$, so that\n",
    "\n",
    "$$\n",
    "    r(0, t) = \\frac{(5 - t)r(0, 3) + (t - 3)r(0, 5)}{5 - 3}, \\hspace{2em} \\forall\\ 3 \\leq t \\leq 5\n",
    "$$\n",
    "\n",
    "and\n",
    "\n",
    "$$\n",
    "    \\begin{matrix}\n",
    "        r(0, 3.5) & = & \\frac{3r(0, 3) + r(0, 5)}{4} \\\\\n",
    "        r(0, 4) & = & \\frac{r(0, 3) + r(0, 5)}{2} \\\\\n",
    "        r(0, 4.5) & = & \\frac{r(0, 3) + 3r(0, 5)}{4}\n",
    "    \\end{matrix}\n",
    "$$\n",
    "\n",
    "For the ten year zero rate curve, the assumption would be that $t$ is linear for $5 \\leq t \\leq 10$, so that\n",
    "\n",
    "$$\n",
    "    r(0, t) = \\frac{(10 - t)r(0, 5) + (t - 5)r(0, 10)}{10 - 5}, \\hspace{2em} \\forall\\ 5 \\leq t \\leq 10\n",
    "$$\n",
    "\n",
    "and\n",
    "\n",
    "$$\n",
    "    \\begin{matrix}\n",
    "        r(0, 5.5) & = & \\frac{9r5 + r10}{10} \\\\\n",
    "        r(0, 6) & = & \\frac{4r5 + r10}{5} \\\\\n",
    "        r(0, 6.5) & = & \\frac{7r5 + 3r10}{10} \\\\\n",
    "        r(0, 7) & = & \\frac{3r5 + 2r10}{5} \\\\\n",
    "        r(0, 7.5) & = & \\frac{r5 + r10}{2} \\\\\n",
    "        r(0, 8) & = & \\frac{2r5 + 3r10}{5} \\\\\n",
    "        r(0, 8.5) & = & \\frac{3r5 + 7r10}{10} \\\\\n",
    "        r(0, 9) & = & \\frac{r5 + 4r10}{5} \\\\\n",
    "        r(0, 9.5) & = & \\frac{r5 + 9r10}{10}\n",
    "    \\end{matrix}\n",
    "$$\n",
    "\n",
    "Finally, with semi-annual coupon rate $2.3125\\%$,"
   ]
  },
  {
   "cell_type": "code",
   "execution_count": 11,
   "metadata": {},
   "outputs": [
    {
     "data": {
      "text/plain": [
       "(4, 0.04630335938077369)"
      ]
     },
     "execution_count": 11,
     "metadata": {},
     "output_type": "execute_result"
    }
   ],
   "source": [
    "e = exp(1); f(x) =  2.3125e^(-0.5r05) + \n",
    "                    2.3125e^(-r1) + \n",
    "                    2.3125e^(-1.5r15) + \n",
    "                    2.3125e^(-2r2) + \n",
    "                    2.3125e^(-2.5(r2 + r3) / 2) + \n",
    "                    2.3125e^(-3r3) + \n",
    "                    2.3125e^(-3.5(3r3 + x) / 4) +\n",
    "                    2.3125e^(-4(r3 + x) / 2) + \n",
    "                    2.3125e^(-4.5(r3 + 3x) / 4) +\n",
    "                    102.3125e^(-5x) - (99 + 22 / 32)\n",
    "\n",
    "x0 = 0.01; n, r5 = newton(x0, f)"
   ]
  },
  {
   "cell_type": "markdown",
   "metadata": {},
   "source": [
    "and, with semi-annual coupon rate $2.4375\\%$,"
   ]
  },
  {
   "cell_type": "code",
   "execution_count": 12,
   "metadata": {},
   "outputs": [
    {
     "data": {
      "text/plain": [
       "(4, 0.046772065321197015)"
      ]
     },
     "execution_count": 12,
     "metadata": {},
     "output_type": "execute_result"
    }
   ],
   "source": [
    "e = exp(1); f(x) =  2.4375e^(-0.5r05) + \n",
    "                    2.4375e^(-r1) + \n",
    "                    2.4375e^(-1.5r15) + \n",
    "                    2.4375e^(-2r2) + \n",
    "                    2.4375e^(-2.5(r2 + r3) / 2) + \n",
    "                    2.4375e^(-3r3) + \n",
    "                    2.4375e^(-3.5(3r3 + r5) / 4) +\n",
    "                    2.4375e^(-4(r3 + r5) / 2) +\n",
    "                    2.4375e^(-4.5(r3 + 3r5) / 4) +\n",
    "                    2.4375e^(-5r5) +\n",
    "                    2.4375e^(-5.5(9r5 + x) / 10) +\n",
    "                    2.4375e^(-6(4r5 + x) / 5) +\n",
    "                    2.4375e^(-6.5(7r5 + 3x) / 10) +\n",
    "                    2.4375e^(-7(3r5 + 2x) / 5) +\n",
    "                    2.4375e^(-7.5(r5 + x) / 2) +\n",
    "                    2.4375e^(-8(2r5 + 3x) / 5) +\n",
    "                    2.4375e^(-8.5(3r5 + 7x) / 10) +\n",
    "                    2.4375e^(-9(r5 + 4x) / 5) +\n",
    "                    2.4375e^(-9.5(r5 + 9x) / 10) +\n",
    "                    102.4375e^(-10x) - (101 + 4 / 32)\n",
    "\n",
    "x0 = 0.01; n, r10 = newton(x0, f)"
   ]
  },
  {
   "cell_type": "markdown",
   "metadata": {},
   "source": [
    "**Problem 8**: Use bootstrapping to obtain a continuously compounded zero rate curve given the prices of the following semiannual coupon bonds:\n",
    "\n",
    "$$\n",
    "    \\begin{matrix} \\text{Maturity} & \\text{Coupon Rate} & \\text{Price} \\\\\n",
    "                   \\text{6 months} & 0 & 97.5 \\\\\n",
    "                   \\text{1 year} & 5 & 100 \\\\\n",
    "                   \\text{20 months} & 6 & 103 \\\\\n",
    "                   \\text{40 months} & 5 & 102 \\\\\n",
    "                   \\text{5 year} & 4 & 103 \\end{matrix}\n",
    "$$\n",
    "\n",
    "Assume that the overnight rate is $5\\%$ and that the zero rate curve is linear on the following time intervals:\n",
    "\n",
    "$$\n",
    "    \\begin{matrix} [0, 0.5]; & [0.5,1]; & \\left[1, \\frac{5}{3}\\right] & \\left[\\frac{5}{3}, \\frac{10}{3}\\right]; & \\left[\\frac{10}{3}, 5\\right]\n",
    "    \\end{matrix}\n",
    "$$"
   ]
  },
  {
   "cell_type": "markdown",
   "metadata": {},
   "source": [
    "**Solution**: the overnight rate, $r(0, 0) = 0.05$."
   ]
  },
  {
   "cell_type": "markdown",
   "metadata": {},
   "source": [
    "It is quite simple getting the $6$-month zero rate, which is"
   ]
  },
  {
   "cell_type": "code",
   "execution_count": 4,
   "metadata": {},
   "outputs": [
    {
     "data": {
      "text/plain": [
       "0.05063561596857957"
      ]
     },
     "execution_count": 4,
     "metadata": {},
     "output_type": "execute_result"
    }
   ],
   "source": [
    "r05 = 2 * log(100 / 97.5)"
   ]
  },
  {
   "cell_type": "markdown",
   "metadata": {},
   "source": [
    "or $5.0636\\%$"
   ]
  },
  {
   "cell_type": "markdown",
   "metadata": {},
   "source": [
    "Given the price of the one year T-note, again I use Newton's method to solve for the one year coupon bond."
   ]
  },
  {
   "cell_type": "code",
   "execution_count": 5,
   "metadata": {},
   "outputs": [
    {
     "data": {
      "text/plain": [
       "(3, 0.049369600302769254)"
      ]
     },
     "execution_count": 5,
     "metadata": {},
     "output_type": "execute_result"
    }
   ],
   "source": [
    "e = exp(1)\n",
    "x0 = 0.01\n",
    "f(x) = 2.5e^(-0.5r05) + 102.5e^(-x) - 100\n",
    "\n",
    "n, r1 = newton(x0, f)"
   ]
  },
  {
   "cell_type": "markdown",
   "metadata": {},
   "source": [
    "The third bond is a $20$-month security. Since payments are semiannual, the bond pays every"
   ]
  },
  {
   "cell_type": "code",
   "execution_count": 63,
   "metadata": {},
   "outputs": [
    {
     "data": {
      "text/plain": [
       "Queue{Int64}(Deque [[20, 14, 8, 2]])"
      ]
     },
     "execution_count": 63,
     "metadata": {},
     "output_type": "execute_result"
    }
   ],
   "source": [
    "get_periods(20, 6)"
   ]
  },
  {
   "cell_type": "markdown",
   "metadata": {},
   "source": [
    "six months, so the coupon payment arrives in $2$, $8$, $14$ and $20$ months, also paying the face value at $20$."
   ]
  },
  {
   "cell_type": "markdown",
   "metadata": {},
   "source": [
    "Then,\n",
    "\n",
    "$$\n",
    "    103 = 3\\ \\exp\\left( -\\frac{2}{12}r\\left( 0, \\frac{2}{12} \\right) \\right) + 3\\ \\exp\\left( -\\frac{8}{12}r\\left( 0, \\frac{8}{12} \\right) \\right) + 3\\ \\exp\\left(-\\frac{14}{12}r\\left( 0, \\frac{14}{12} \\right) \\right) + 103\\ \\exp\\left( -\\frac{20}{12}r\\left( 0, \\frac{20}{12} \\right) \\right)\n",
    "$$"
   ]
  },
  {
   "cell_type": "markdown",
   "metadata": {},
   "source": [
    "I follow the same equation for **linear interpolation**:\n",
    "    \n",
    "$$\n",
    "    r(0, t) = \\frac{(f - t)r(0,s) + (t - s)r(0,f)}{|f - s|}, \\ \\forall\\ s\\leq t \\leq f\n",
    "$$"
   ]
  },
  {
   "cell_type": "markdown",
   "metadata": {},
   "source": [
    "then, assuming linear $r\\left(0, \\frac{2}{12}\\right) \\in \\{[0, 0.5], [0.5, 1]\\}$"
   ]
  },
  {
   "cell_type": "code",
   "execution_count": 14,
   "metadata": {},
   "outputs": [
    {
     "data": {
      "text/plain": [
       "0.05021187198952653"
      ]
     },
     "execution_count": 14,
     "metadata": {},
     "output_type": "execute_result"
    }
   ],
   "source": [
    "r01667 = (4 * 0.05 + 2r05) / 6"
   ]
  },
  {
   "cell_type": "markdown",
   "metadata": {},
   "source": [
    "and for $r\\left(0, \\frac{8}{12}\\right)$"
   ]
  },
  {
   "cell_type": "code",
   "execution_count": 15,
   "metadata": {},
   "outputs": [
    {
     "data": {
      "text/plain": [
       "0.0502136107466428"
      ]
     },
     "execution_count": 15,
     "metadata": {},
     "output_type": "execute_result"
    }
   ],
   "source": [
    "r06667 = (4 * r05 + 2r1) / 6"
   ]
  },
  {
   "cell_type": "markdown",
   "metadata": {},
   "source": [
    "So then, if I let $x = r\\left( 0, \\frac{20}{12} \\right)$, I take note of the assumption that $r\\left(0, \\frac{14}{12}\\right)$ is linear on $\\left[1, \\frac{20}{12}\\right]$ and therefore"
   ]
  },
  {
   "cell_type": "markdown",
   "metadata": {},
   "source": [
    "$r\\left(0, \\frac{14}{12}\\right) = \\frac{20 / 12 - 14 / 12}{8 / 12}r\\left(0,\\frac{12}{12}\\right) + \\frac{14 / 12 - 12 / 12}{8 / 12}r\\left(0,\\frac{20}{12}\\right) = \\frac{6r(0, 1) + 2x}{8}$"
   ]
  },
  {
   "cell_type": "markdown",
   "metadata": {},
   "source": [
    "Following the formula (and I got an error calling `(14/12)(6r1 + 2x) / 8` because it was thinking of `14/12` as a function)"
   ]
  },
  {
   "cell_type": "code",
   "execution_count": 16,
   "metadata": {},
   "outputs": [
    {
     "data": {
      "text/plain": [
       "(3, 0.05298265375710815)"
      ]
     },
     "execution_count": 16,
     "metadata": {},
     "output_type": "execute_result"
    }
   ],
   "source": [
    "x0 = 0.01\n",
    "f(x) = 3 * exp(-(2/12)r01667) + \n",
    "       3 * exp(-(8/12)r06667) + \n",
    "       3 * exp(-(14/12) * (6r1 + 2x)/8) + \n",
    "       103 * exp(-(20/12)x) - 103\n",
    "\n",
    "n, r16667 = newton(x0, f)"
   ]
  },
  {
   "cell_type": "markdown",
   "metadata": {},
   "source": [
    "**For $r(0, t) > 20$ months** with linear interpolation\n",
    "\n",
    "$$\n",
    "    r(0, t) = \\frac{f - t}{|f - s|}r(0,s) + \\frac{t - s}{|f - s|}r(0,f), \\ \\forall\\ s\\leq t \\leq f\n",
    "$$"
   ]
  },
  {
   "cell_type": "code",
   "execution_count": 2,
   "metadata": {},
   "outputs": [
    {
     "data": {
      "text/plain": [
       "Stack{Int64}(Deque [[40, 34, 28, 22, 16, 10, 4]])"
      ]
     },
     "execution_count": 2,
     "metadata": {},
     "output_type": "execute_result"
    }
   ],
   "source": [
    "get_periods(40, 6)"
   ]
  },
  {
   "cell_type": "markdown",
   "metadata": {},
   "source": [
    "I first interpolate the $4$, $10$ and $16$ month zero rates, which are (using the correct coupon interval here):"
   ]
  },
  {
   "cell_type": "markdown",
   "metadata": {},
   "source": [
    "For $4$ months, with linear $r\\left(0, \\frac{4}{12}\\right) \\in \\left[0, \\frac{1}{2}\\right]$"
   ]
  },
  {
   "cell_type": "code",
   "execution_count": 10,
   "metadata": {},
   "outputs": [
    {
     "data": {
      "text/plain": [
       "0.05042374397905304"
      ]
     },
     "execution_count": 10,
     "metadata": {},
     "output_type": "execute_result"
    }
   ],
   "source": [
    "r03333 = (1 / 3) * 0.05 + (2 / 3) * r05"
   ]
  },
  {
   "cell_type": "markdown",
   "metadata": {},
   "source": [
    "For $10$ months, with linear $r\\left(0, \\frac{10}{12}\\right) \\in \\left[\\frac{1}{2}, 1\\right]$"
   ]
  },
  {
   "cell_type": "code",
   "execution_count": 11,
   "metadata": {},
   "outputs": [
    {
     "data": {
      "text/plain": [
       "0.049791605524706024"
      ]
     },
     "execution_count": 11,
     "metadata": {},
     "output_type": "execute_result"
    }
   ],
   "source": [
    "r08333 = (1 / 3) * r05 + (2 / 3) * r1"
   ]
  },
  {
   "cell_type": "markdown",
   "metadata": {},
   "source": [
    "For $16$ months, with linear $r\\left(0, \\frac{16}{12}\\right) \\in \\left[1, \\frac{5}{3}\\right]$"
   ]
  },
  {
   "cell_type": "code",
   "execution_count": 17,
   "metadata": {},
   "outputs": [
    {
     "data": {
      "text/plain": [
       "0.051176127029938706"
      ]
     },
     "execution_count": 17,
     "metadata": {},
     "output_type": "execute_result"
    }
   ],
   "source": [
    "r13333 = (1 / 2) * r1 + (1 / 2) * r16667"
   ]
  },
  {
   "cell_type": "markdown",
   "metadata": {},
   "source": [
    "Then, to get zero rates for $22$, $28$, $34$ and $40$ months, I first establish $x = r\\left(0, \\frac{10}{3}\\right)$, and using linear interpolation for $t \\in \\left[\\frac{5}{3}, \\frac{10}{3}\\right]$:"
   ]
  },
  {
   "cell_type": "markdown",
   "metadata": {},
   "source": [
    "$$\n",
    "    \\begin{matrix}\n",
    "        r\\left(0, \\frac{22}{12}\\right) & = & \\frac{9}{10} \\cdot r\\left(0, \\frac{5}{3} \\right) + \\frac{1}{10}x \\\\\n",
    "        r\\left(0, \\frac{28}{12}\\right) & = & \\frac{3}{5} \\cdot r\\left(0, \\frac{5}{3} \\right) + \\frac{2}{5}x \\\\\n",
    "        r\\left(0, \\frac{34}{12}\\right) & = & \\frac{3}{10} \\cdot r\\left(0, \\frac{5}{3} \\right) + \\frac{7}{10}x\n",
    "    \\end{matrix}\n",
    "$$"
   ]
  },
  {
   "cell_type": "markdown",
   "metadata": {},
   "source": [
    "then using bootstrapping and Newton's method for $x = r\\left(0, \\frac{10}{3}\\right)$:"
   ]
  },
  {
   "cell_type": "code",
   "execution_count": 19,
   "metadata": {},
   "outputs": [
    {
     "data": {
      "text/plain": [
       "(4, 0.045325682607213195)"
      ]
     },
     "execution_count": 19,
     "metadata": {},
     "output_type": "execute_result"
    }
   ],
   "source": [
    "x0 = 0.01\n",
    "f(x) = (5 / 2) * exp(-(4/12)r03333)  + \n",
    "       (5 / 2) * exp(-(10/12)r08333) + \n",
    "       (5 / 2) * exp(-(16/12)r13333) + \n",
    "       (5 / 2) * exp(-(22/12) * ((9 / 10)r16667 + (1 / 10)x)) + \n",
    "       (5 / 2) * exp(-(28/12) * ((3 / 5)r16667 + (2 / 5)x)) + \n",
    "       (5 / 2) * exp(-(34/12) * ((3 / 10)r16667 + (7/ 10)x)) +\n",
    "       (100 + (5 / 2)) * exp(-(40/12)x) - 102\n",
    "\n",
    "n, r33333 = newton(x0, f)"
   ]
  },
  {
   "cell_type": "markdown",
   "metadata": {},
   "source": [
    "**For $r(0, t) > 40$ months** with linear interpolation\n",
    "\n",
    "$$\n",
    "    r(0, t) = \\frac{f - t}{|f - s|}r(0,s) + \\frac{t - s}{|f - s|}r(0,f), \\ \\forall\\ s\\leq t \\leq f\n",
    "$$"
   ]
  },
  {
   "cell_type": "markdown",
   "metadata": {},
   "source": [
    "For $x = r(0, 5)$:"
   ]
  },
  {
   "cell_type": "code",
   "execution_count": 22,
   "metadata": {},
   "outputs": [
    {
     "data": {
      "text/plain": [
       "Stack{Int64}(Deque [[60, 54, 48, 42, 36, 30, 24, 18, 12, 6]])"
      ]
     },
     "execution_count": 22,
     "metadata": {},
     "output_type": "execute_result"
    }
   ],
   "source": [
    "get_periods(60, 6)"
   ]
  },
  {
   "cell_type": "markdown",
   "metadata": {},
   "source": [
    "I have to determine $t \\in \\left[\\frac{10}{3}, 5\\right]$, but first I interpolate for $t \\lt \\frac{10}{3}$:"
   ]
  },
  {
   "cell_type": "markdown",
   "metadata": {},
   "source": [
    "For $6$ month with linear $r\\ (0, t) \\in \\left[0, \\frac{1}{2}\\right]$"
   ]
  },
  {
   "cell_type": "code",
   "execution_count": 6,
   "metadata": {},
   "outputs": [
    {
     "data": {
      "text/plain": [
       "0.05063561596857957"
      ]
     },
     "execution_count": 6,
     "metadata": {},
     "output_type": "execute_result"
    }
   ],
   "source": [
    "r05"
   ]
  },
  {
   "cell_type": "markdown",
   "metadata": {},
   "source": [
    "For $12$ month with linear $r\\ (0, t) \\in \\left[\\frac{1}{2}, 1\\right]$"
   ]
  },
  {
   "cell_type": "code",
   "execution_count": 7,
   "metadata": {},
   "outputs": [
    {
     "data": {
      "text/plain": [
       "0.049369600302769254"
      ]
     },
     "execution_count": 7,
     "metadata": {},
     "output_type": "execute_result"
    }
   ],
   "source": [
    "r1"
   ]
  },
  {
   "cell_type": "markdown",
   "metadata": {},
   "source": [
    "For $18$ months with linear $r(0, t) \\in \\left[1, \\frac{5}{3}\\right]$"
   ]
  },
  {
   "cell_type": "markdown",
   "metadata": {},
   "source": [
    "$r\\left(0, \\frac{3}{2}\\right) = \\frac{1}{4} \\cdot r\\ (0, 1) + \\frac{3}{4} \\cdot r\\left(0, \\frac{5}{3}\\right)$"
   ]
  },
  {
   "cell_type": "code",
   "execution_count": 21,
   "metadata": {},
   "outputs": [
    {
     "data": {
      "text/plain": [
       "0.052079390393523425"
      ]
     },
     "execution_count": 21,
     "metadata": {},
     "output_type": "execute_result"
    }
   ],
   "source": [
    "r15 = (1 / 4) * r1 + (3 / 4) * r16667"
   ]
  },
  {
   "cell_type": "markdown",
   "metadata": {},
   "source": [
    "For $24$, $30$ and $36$ months with linear $r(0, t) \\in \\left[\\frac{5}{3}, \\frac{10}{3}\\right]$"
   ]
  },
  {
   "cell_type": "markdown",
   "metadata": {},
   "source": [
    "$$\n",
    "    \\begin{matrix}\n",
    "        r(0, 2) & = & \\frac{4}{5} \\cdot r\\left(0, \\frac{5}{3}\\right) + \\frac{1}{5} \\cdot r\\left(0, \\frac{10}{3}\\right) \\\\\n",
    "        r\\left(0, \\frac{5}{2}\\right) & = & \\frac{1}{2} \\cdot r\\left(0, \\frac{5}{3}\\right) + \\frac{1}{2} \\cdot r\\left(0, \\frac{10}{3}\\right) \\\\\n",
    "        r(0, 3) & = &  \\frac{1}{5} \\cdot r\\left(0, \\frac{5}{3}\\right) + \\frac{4}{5} \\cdot r\\left(0, \\frac{10}{3}\\right)\n",
    "    \\end{matrix}\n",
    "$$"
   ]
  },
  {
   "cell_type": "markdown",
   "metadata": {},
   "source": [
    "which amount to"
   ]
  },
  {
   "cell_type": "code",
   "execution_count": 20,
   "metadata": {},
   "outputs": [
    {
     "data": {
      "text/plain": [
       "3-element Vector{Float64}:\n",
       " 0.051451259527129166\n",
       " 0.049154168182160674\n",
       " 0.04685707683719219"
      ]
     },
     "execution_count": 20,
     "metadata": {},
     "output_type": "execute_result"
    }
   ],
   "source": [
    "r2 = (4 / 5) * r16667 + (1 / 5) * r33333\n",
    "r25 = (1 / 2) * r16667 + (1 / 2) * r33333\n",
    "r3 = (1 / 5) * r16667 + (4 / 5) * r33333\n",
    "[r2, r25, r3]"
   ]
  },
  {
   "cell_type": "markdown",
   "metadata": {},
   "source": [
    "Then for $42$, $48$ and $54$ months with linear $r(0, t) \\in \\left[\\frac{10}{3}, 5\\right]$:"
   ]
  },
  {
   "cell_type": "markdown",
   "metadata": {},
   "source": [
    "$$\n",
    "    \\begin{matrix}\n",
    "        r\\left(0, \\frac{7}{2}\\right) & = & \\frac{9}{10} \\cdot r\\left(0, \\frac{10}{3}\\right) + \\frac{1}{10} \\cdot r\\ (0, 5) \\\\\n",
    "        r\\ (0, 4) & = & \\frac{3}{5} \\cdot r\\left(0, \\frac{10}{3}\\right) + \\frac{2}{5} \\cdot r\\ (0, 5) \\\\\n",
    "        r\\left(0, \\frac{9}{2}\\right) & = & \\frac{3}{10} \\cdot r\\left(0, \\frac{10}{3}\\right) + \\frac{7}{10} \\cdot r\\ (0, 5)\n",
    "    \\end{matrix}\n",
    "$$"
   ]
  },
  {
   "cell_type": "markdown",
   "metadata": {},
   "source": [
    "Finally, using bootstrapping and the Newton-Raphson method "
   ]
  },
  {
   "cell_type": "code",
   "execution_count": 23,
   "metadata": {},
   "outputs": [
    {
     "data": {
      "text/plain": [
       "(4, 0.032118969698181545)"
      ]
     },
     "execution_count": 23,
     "metadata": {},
     "output_type": "execute_result"
    }
   ],
   "source": [
    "x = 0.01\n",
    "f(x) = 2 * exp(-(6/12)r05) +\n",
    "       2 * exp(-(12/12)r1) +\n",
    "       2 * exp(-(18/12)r15) + \n",
    "       2 * exp(-(24/12)r2) +\n",
    "       2 * exp(-(30/12)r25) +\n",
    "       2 * exp(-(36/12)r3) +\n",
    "       2 * exp(-(42/12) * ((9 / 10)r33333 + (1/ 10)x)) +\n",
    "       2 * exp(-(48/12) * ((3 / 5)r33333 + (2 / 5)x)) +\n",
    "       2 * exp(-(54/12) * ((3/ 10)r33333 + (7 / 10)x)) +\n",
    "       102 * exp(-(60/12)x) - 103\n",
    "\n",
    "n, r5 = newton(x0, f)"
   ]
  },
  {
   "cell_type": "markdown",
   "metadata": {},
   "source": [
    "**Problem 9**: Given Treasury instruments:\n",
    "\n",
    "$$\n",
    "    \\begin{matrix}\n",
    "        - & \\text{Coupon Rate} & \\text{Price} \\\\\n",
    "        6 - \\text{Month T-bill} & 0 & 99.4565 \\\\\n",
    "        12 - \\text{Month T-bill} & 0 & 98.6196 \\\\\n",
    "        2 - \\text{Year T-note} & 2 & 101 \\frac{17.5}{32} \\\\\n",
    "        3 - \\text{Year T-note} & 4.5 & 107 \\frac{18}{32} \\\\\n",
    "        5 - \\text{Year T-note} & 3.125 & 102 \\frac{8}{32} \\\\\n",
    "        10 - \\text{Year T-bond} & 4 & 103 \\frac{8.5}{32}\n",
    "    \\end{matrix}\n",
    "$$"
   ]
  },
  {
   "cell_type": "markdown",
   "metadata": {},
   "source": [
    "The Treasury notes and bonds pay semiannual coupons. Assume continuously compounded interest.\n",
    "\n",
    "(i) Obtain the zero rate curve from all the prices, except for the $3$ - Year T-note.\n",
    "\n",
    "(ii) For the $3$-Year T-note, asked to conpute the zero rate curve and compute the relative pricing error."
   ]
  },
  {
   "cell_type": "markdown",
   "metadata": {},
   "source": [
    "**Solution**:"
   ]
  },
  {
   "cell_type": "markdown",
   "metadata": {},
   "source": [
    "i) For the $6$-Month T-bill:"
   ]
  },
  {
   "cell_type": "code",
   "execution_count": 3,
   "metadata": {},
   "outputs": [
    {
     "data": {
      "text/plain": [
       "0.010899646693646998"
      ]
     },
     "execution_count": 3,
     "metadata": {},
     "output_type": "execute_result"
    }
   ],
   "source": [
    "r05 = 2 * log(100 / 99.4565)"
   ]
  },
  {
   "cell_type": "markdown",
   "metadata": {},
   "source": [
    "For the $12$-Month T-bill:"
   ]
  },
  {
   "cell_type": "code",
   "execution_count": 4,
   "metadata": {},
   "outputs": [
    {
     "data": {
      "text/plain": [
       "0.013900161172756222"
      ]
     },
     "execution_count": 4,
     "metadata": {},
     "output_type": "execute_result"
    }
   ],
   "source": [
    "r1 = 1 * log(100 / 98.6196)"
   ]
  },
  {
   "cell_type": "markdown",
   "metadata": {},
   "source": [
    "Next, I determine payment periods for the remaining coupons"
   ]
  },
  {
   "cell_type": "code",
   "execution_count": 5,
   "metadata": {},
   "outputs": [
    {
     "data": {
      "text/plain": [
       "Stack{Int64}(Deque [[120, 114, 108, 102, 96, 90, 84, 78, 72, 66, 60, 54, 48, 42, 36, 30, 24, 18, 12, 6]])"
      ]
     },
     "execution_count": 5,
     "metadata": {},
     "output_type": "execute_result"
    }
   ],
   "source": [
    "get_periods(120, 6)"
   ]
  },
  {
   "cell_type": "markdown",
   "metadata": {},
   "source": [
    "then, setting $x = r(0, 2)$ and using linear interpolation for $t \\in [1, 2]$,"
   ]
  },
  {
   "cell_type": "markdown",
   "metadata": {},
   "source": [
    "$$\n",
    "    r\\left(0, \\frac{18}{12}\\right) = \\frac{1}{2} \\cdot r\\left(0, 1\\right) + \\frac{1}{2}x.\n",
    "$$"
   ]
  },
  {
   "cell_type": "markdown",
   "metadata": {},
   "source": [
    "Finally, using bootstrapping and Newton's method for $r(0, 2)$:"
   ]
  },
  {
   "cell_type": "code",
   "execution_count": 6,
   "metadata": {},
   "outputs": [
    {
     "data": {
      "text/plain": [
       "(2, 0.012098547083637457)"
      ]
     },
     "execution_count": 6,
     "metadata": {},
     "output_type": "execute_result"
    }
   ],
   "source": [
    "x0 = 0.01\n",
    "f(x) = 1 * exp((-6 / 12)r05) + \n",
    "       1 * exp((-1)r1) + \n",
    "       1 * exp((-18 / 12) * ((1 / 2)r1 + (1 / 2)x)) + \n",
    "       (100 + 1) * exp(-2x) - (101 + 17.5 / 32)\n",
    "\n",
    "n, r2 = newton(x0, f)"
   ]
  },
  {
   "cell_type": "code",
   "execution_count": 7,
   "metadata": {},
   "outputs": [
    {
     "data": {
      "text/plain": [
       "0.01299935412819684"
      ]
     },
     "execution_count": 7,
     "metadata": {},
     "output_type": "execute_result"
    }
   ],
   "source": [
    "r15 = (r1 + r2) / 2"
   ]
  },
  {
   "cell_type": "markdown",
   "metadata": {},
   "source": [
    "Now setting $x = r(0, 5)$ and using linear interpolation for $t \\in [2, 5]$,"
   ]
  },
  {
   "cell_type": "markdown",
   "metadata": {},
   "source": [
    "$$\n",
    "    \\begin{matrix}\n",
    "        r\\left(0, \\frac{30}{12}\\right) & = & \\frac{5}{6} \\cdot r(0, 2) + \\frac{1}{6}x \\\\\n",
    "        r\\left(0, \\frac{36}{12}\\right) & = & \\frac{2}{3} \\cdot r(0, 2) + \\frac{1}{3}x \\\\\n",
    "        r\\left(0, \\frac{42}{12}\\right) & = & \\frac{1}{2} \\cdot r(0, 2) + \\frac{1}{2}x \\\\\n",
    "        r\\left(0, \\frac{48}{12}\\right) & = & \\frac{1}{3} \\cdot r(0, 2) + \\frac{2}{3}x \\\\\n",
    "        r\\left(0, \\frac{54}{12}\\right) & = & \\frac{1}{6} \\cdot r(0, 2) + \\frac{5}{6}x\n",
    "    \\end{matrix}\n",
    "$$"
   ]
  },
  {
   "cell_type": "markdown",
   "metadata": {},
   "source": [
    "Finally, using bootstrapping and Newton's method for $r(0, 5)$:"
   ]
  },
  {
   "cell_type": "code",
   "execution_count": 8,
   "metadata": {},
   "outputs": [
    {
     "data": {
      "text/plain": [
       "(3, 0.026823886324702104)"
      ]
     },
     "execution_count": 8,
     "metadata": {},
     "output_type": "execute_result"
    }
   ],
   "source": [
    "x0 = 0.01\n",
    "f(x) = # known\n",
    "       (3.125 / 2) * exp((-6 / 12)r05) +\n",
    "       (3.125 / 2) * exp(-1r1) +\n",
    "       (3.125 / 2) * exp((-18 / 12)r15) +\n",
    "       (3.125 / 2) * exp((-2r2)) +\n",
    "       # unkown\n",
    "       (3.125 / 2) * exp((-30 / 12) * ((5 / 6)r2 + (1 / 6)x)) +\n",
    "       (3.125 / 2) * exp((-36 / 12) * ((2 / 3)r2 + (1 / 3)x)) +\n",
    "       (3.125 / 2) * exp((-42 / 12) * ((1 / 2)r2 + (1 / 2)x)) +\n",
    "       (3.125 / 2) * exp((-48 / 12) * ((1 / 3)r2 + (2 / 3)x)) +\n",
    "       (3.125 / 2) * exp((-54 / 12) * ((1 / 6)r2 + (5 / 6)x)) +\n",
    "       (100 + (3.125 / 2)) * exp((-60 / 12)x) - (102 + (8 / 32))\n",
    "\n",
    "n, r5 = newton(x0, f)"
   ]
  },
  {
   "cell_type": "markdown",
   "metadata": {},
   "source": [
    "Finally, setting $x = r(0, 10)$ and using linear interpolation for $t \\in [5, 10]$,"
   ]
  },
  {
   "cell_type": "markdown",
   "metadata": {},
   "source": [
    "$$\n",
    "    \\begin{matrix}\n",
    "        r\\left(0, \\frac{66}{12}\\right) & = & \\frac{9}{10} \\cdot r(0, 5) + \\frac{1}{10}x \\\\\n",
    "        r\\left(0, \\frac{72}{12}\\right) & = & \\frac{4}{5} \\cdot r(0, 5) + \\frac{1}{5}x \\\\\n",
    "        r\\left(0, \\frac{78}{12}\\right) & = & \\frac{7}{10} \\cdot r(0, 5) + \\frac{3}{10}x \\\\\n",
    "        r\\left(0, \\frac{84}{12}\\right) & = & \\frac{3}{5} \\cdot r(0, 5) + \\frac{2}{5}x \\\\\n",
    "        r\\left(0, \\frac{90}{12}\\right) & = & \\frac{1}{2} \\cdot r(0, 5) + \\frac{1}{2}x \\\\\n",
    "        r\\left(0, \\frac{96}{12}\\right) & = & \\frac{2}{5} \\cdot r(0, 5) + \\frac{3}{5}x \\\\\n",
    "        r\\left(0, \\frac{102}{12}\\right) & = & \\frac{3}{10} \\cdot r(0, 5) + \\frac{7}{10}x \\\\\n",
    "        r\\left(0, \\frac{108}{12}\\right) & = & \\frac{1}{5} \\cdot r(0, 5) + \\frac{4}{5}x \\\\\n",
    "        r\\left(0, \\frac{114}{12}\\right) & = & \\frac{1}{10} \\cdot r(0, 5) + \\frac{9}{10}x\n",
    "    \\end{matrix}\n",
    "$$"
   ]
  },
  {
   "cell_type": "markdown",
   "metadata": {},
   "source": [
    "Finally, using bootstrapping and Newton's method for $r(0, 10)$:"
   ]
  },
  {
   "cell_type": "code",
   "execution_count": 9,
   "metadata": {},
   "outputs": [
    {
     "data": {
      "text/plain": [
       "(4, 0.03737166440440548)"
      ]
     },
     "execution_count": 9,
     "metadata": {},
     "output_type": "execute_result"
    }
   ],
   "source": [
    "x0 = 0.01\n",
    "f(x) = # known\n",
    "       2 * exp((-6 / 12)r05) +\n",
    "       2 * exp(-1r1) +\n",
    "       2 * exp((-18 / 12)r15) +\n",
    "       2 * exp((-2r2)) +\n",
    "       2 * exp((-30 / 12) * ((5 / 6)r2 + (1 / 6)r5)) +\n",
    "       2 * exp((-36 / 12) * ((2 / 3)r2 + (1 / 3)r5)) +\n",
    "       2 * exp((-42 / 12) * ((1 / 2)r2 + (1 / 2)r5)) +\n",
    "       2 * exp((-48 / 12) * ((1 / 3)r2 + (2 / 3)r5)) +\n",
    "       2 * exp((-54 / 12) * ((1 / 6)r2 + (5 / 6)r5)) +\n",
    "       2 * exp((-5r5)) +\n",
    "       # unknown\n",
    "       2 * exp((-66 / 12) * ((9 / 10)r5 + (1 / 10)x)) +\n",
    "       2 * exp((-72 / 12) * ((4 / 5)r5 + (1 / 5)x)) +\n",
    "       2 * exp((-78 / 12) * ((7 / 10)r5 + (3 / 10)x)) +\n",
    "       2 * exp((-84 / 12) * ((3 / 5)r5 + (2 / 5)x)) +\n",
    "       2 * exp((-90 / 12) * ((1 / 2)r5 + (1 / 2)x)) +\n",
    "       2 * exp((-96 / 12) * ((2 / 5)r5 + (3 / 5)x)) +\n",
    "       2 * exp((-102 / 12) * ((3 / 10)r5 + (7 / 10)x)) +\n",
    "       2 * exp((-108 / 12) * ((1 / 5)r5 + (4 / 5)x)) +\n",
    "       2 * exp((-114 / 12) * ((1 / 10)r5 + (9 / 10)x)) +\n",
    "       (100 + 2) * exp((-120 / 12)x) - (103 + (8.5 / 32))\n",
    "\n",
    "n, r10 = newton(x0, f)"
   ]
  },
  {
   "cell_type": "markdown",
   "metadata": {},
   "source": [
    "ii) The zero rates computed for this example correspond to the following  zero rate curve which is piecewise linear between consecutive bond maturities:\n",
    "\n",
    "$$\n",
    "    r(0, t) = \\begin{cases}\n",
    "                    2(1 - t)\\ r(0, 0.5) & + & (2t - 1)\\ r(0, 1), \\hspace{2em} & \\text{if} & \\frac{1}{2} \\leq t \\leq 1; \\\\\n",
    "                    (2 - t)\\ r(0, 1) & + & (t - 1)\\ r(0, 2), \\hspace{2em} & \\text{if} & 1 \\leq t \\leq 2; \\\\\n",
    "                    \\frac{5 - t}{3}\\ r(0, 2) & + & \\frac{t - 2}{3}\\ r(0, 5) & \\text{if} & 2 \\leq t \\leq 5; \\\\\n",
    "                    \\frac{10 - t}{5}\\ r(0, 5) & + & \\frac{t - 5}{5}\\ r(0, 10) & \\text{if} & 5 \\leq t \\leq 10;\n",
    "              \\end{cases}\n",
    "$$"
   ]
  },
  {
   "cell_type": "markdown",
   "metadata": {},
   "source": [
    "With this zero rate curve, the value of the 3-year semiannual coupon bond with $4.5$ coupon rate is"
   ]
  },
  {
   "cell_type": "code",
   "execution_count": 20,
   "metadata": {},
   "outputs": [
    {
     "data": {
      "text/plain": [
       "B (generic function with 1 method)"
      ]
     },
     "execution_count": 20,
     "metadata": {},
     "output_type": "execute_result"
    }
   ],
   "source": [
    "B(x) = 2.25 * exp(-(1 / 2)r05) +\n",
    "       2.25 * exp(-(1r1)) +\n",
    "       2.25 * exp(-(1.5)r15) +\n",
    "       2.25 * exp(-(2) * r2) +\n",
    "       2.25 * exp(-(2.5) * (r2 + x) / 2) +\n",
    "       102.25 * exp(-3x)"
   ]
  },
  {
   "cell_type": "code",
   "execution_count": 21,
   "metadata": {},
   "outputs": [
    {
     "data": {
      "text/plain": [
       "(3, 0.019157089237840604)"
      ]
     },
     "execution_count": 21,
     "metadata": {},
     "output_type": "execute_result"
    }
   ],
   "source": [
    "f(x) = # known\n",
    "       2.25 * exp(-(1 / 2)r05) +\n",
    "       2.25 * exp(-(1r1)) +\n",
    "       2.25 * exp(-(1.5)r15) +\n",
    "       2.25 * exp(-(2) * r2) +\n",
    "       # unknown\n",
    "       2.25 * exp(-(2.5) * (r2 + x) / 2) +\n",
    "       102.25 * exp(-3x) - (107 + 18 / 32)\n",
    "\n",
    "x0 = 0.01\n",
    "n, r3 = newton(x0, f)"
   ]
  },
  {
   "cell_type": "code",
   "execution_count": 22,
   "metadata": {},
   "outputs": [
    {
     "data": {
      "text/plain": [
       "107.56250000000023"
      ]
     },
     "execution_count": 22,
     "metadata": {},
     "output_type": "execute_result"
    }
   ],
   "source": [
    "B(r3)"
   ]
  },
  {
   "cell_type": "markdown",
   "metadata": {},
   "source": [
    "I have yet to figure out how they got the bond value to be $108.1930$, but anyway, following the formula"
   ]
  },
  {
   "cell_type": "markdown",
   "metadata": {},
   "source": [
    "$$\n",
    "    \\% \\text{error} = \\frac{|\\text{actual} - \\text{predicted}|}{\\text{actual}}\n",
    "$$"
   ]
  },
  {
   "cell_type": "markdown",
   "metadata": {},
   "source": [
    "the relative pricing error becomes"
   ]
  },
  {
   "cell_type": "code",
   "execution_count": 13,
   "metadata": {},
   "outputs": [
    {
     "data": {
      "text/plain": [
       "0.005861708309122583"
      ]
     },
     "execution_count": 13,
     "metadata": {},
     "output_type": "execute_result"
    }
   ],
   "source": [
    "abs(107.5625 - 108.1930) / 107.5625"
   ]
  },
  {
   "cell_type": "markdown",
   "metadata": {},
   "source": [
    "I figured I can do linear interpolation to find what $r(0, 3)$ is for $t \\in [2, 5]$. Then I get\n",
    "\n",
    "$$\n",
    "    r(0, 3) = \\frac{2}{3}r(0, 2) + \\frac{1}{3}r(0, 5)\n",
    "$$"
   ]
  },
  {
   "cell_type": "markdown",
   "metadata": {},
   "source": [
    "so then"
   ]
  },
  {
   "cell_type": "code",
   "execution_count": 24,
   "metadata": {},
   "outputs": [
    {
     "data": {
      "text/plain": [
       "0.01700699349732567"
      ]
     },
     "execution_count": 24,
     "metadata": {},
     "output_type": "execute_result"
    }
   ],
   "source": [
    "r3 = (2 / 3)r2 + (1 / 3)r5"
   ]
  },
  {
   "cell_type": "code",
   "execution_count": null,
   "metadata": {},
   "outputs": [],
   "source": [
    "so then"
   ]
  },
  {
   "cell_type": "code",
   "execution_count": 25,
   "metadata": {},
   "outputs": [
    {
     "data": {
      "text/plain": [
       "108.19304171048005"
      ]
     },
     "execution_count": 25,
     "metadata": {},
     "output_type": "execute_result"
    }
   ],
   "source": [
    "B(r3)"
   ]
  },
  {
   "cell_type": "markdown",
   "metadata": {},
   "source": [
    "In conclusion: I found an error in the following bond pricing formula (need to take **negative** values at the exponential curve):\n",
    "\n",
    "```\n",
    "B(x) = 2.25 * exp(**-**(1 / 2)r05) +\n",
    "       2.25 * exp(**-**(1r1)) +\n",
    "       2.25 * exp(**-**(1.5)r15) +\n",
    "       2.25 * exp(-(2) * r2) +\n",
    "       2.25 * exp(-(2.5) * (r2 + x) / 2) +\n",
    "       102.25 * exp(-3x)\n",
    "```\n",
    "but that being corrected, I am getting the correct price, as per the book."
   ]
  },
  {
   "cell_type": "markdown",
   "metadata": {},
   "source": [
    "# Taylor's formula and Taylor series. ATM approximation of Black-Scholes formulas."
   ]
  },
  {
   "cell_type": "markdown",
   "metadata": {},
   "source": [
    "# $\\S$ 6.2 Exercises"
   ]
  },
  {
   "cell_type": "markdown",
   "metadata": {},
   "source": [
    "**Problem 11**: The $u$ and $d$ factors and risk-neutral probability $p$ of the price going up during one time step in the Cox-Ross-Rubinstein parametrization for a binomial tree are"
   ]
  },
  {
   "cell_type": "markdown",
   "metadata": {},
   "source": [
    "$$\n",
    "    u = A + \\sqrt{A^2 - 1} \\tag{6.2.1}\n",
    "$$"
   ]
  },
  {
   "cell_type": "markdown",
   "metadata": {},
   "source": [
    "$$\n",
    "    d = A - \\sqrt{A^2 - 1} \\tag{6.2.2}\n",
    "$$"
   ]
  },
  {
   "cell_type": "markdown",
   "metadata": {},
   "source": [
    "$$\n",
    "    p = \\frac{e^{r\\delta t} - d}{u - d} \\tag{6.2.3} \\hspace{5ex}\n",
    "$$"
   ]
  },
  {
   "cell_type": "markdown",
   "metadata": {},
   "source": [
    "where\n",
    "$$\n",
    "    A = \\frac{1}{2}\\ \\left( e^{-r\\delta t} + e^{(r + \\sigma^2)\\delta t} \\right)\n",
    "$$"
   ]
  },
  {
   "cell_type": "markdown",
   "metadata": {},
   "source": [
    "Using Taylor expansions to show that, for a small time step $\\delta t$, $u$ and $p$ may be approximated by"
   ]
  },
  {
   "cell_type": "markdown",
   "metadata": {},
   "source": [
    "$$\n",
    "    u = e^{\\sigma\\sqrt{\\delta t}} \\hspace{6em} \\ \\ \\tag{6.2.4}\n",
    "$$"
   ]
  },
  {
   "cell_type": "markdown",
   "metadata": {},
   "source": [
    "$$\n",
    "    d = e^{-\\sigma\\sqrt{\\delta t}} \\hspace{6em}\\tag{6.2.5} \\ \\\\\n",
    "$$"
   ]
  },
  {
   "cell_type": "markdown",
   "metadata": {},
   "source": [
    "$$\n",
    "    p = \\frac{1}{2} + \\frac{1}{2}\\ \\left( \\frac{r}{\\sigma} - \\frac{\\sigma}{2} \\right)\\ \\sqrt{\\delta t}\\tag{6.2.6}\n",
    "$$"
   ]
  },
  {
   "cell_type": "markdown",
   "metadata": {},
   "source": [
    "writing the Taylor expansions for $(6.2.1-6.2.3)$ and for $(6.2.4-6.2.6)$, showing that they are indentical if all the terms of order $O(\\delta t)$ and smaller are neglected,"
   ]
  },
  {
   "cell_type": "markdown",
   "metadata": {},
   "source": [
    "neglecting order $O((\\delta t)^{3/2})$ and smaller, the solution to the problem is shown to be as follows (**worth reading pp. $160-162$ in literature**),"
   ]
  },
  {
   "cell_type": "markdown",
   "metadata": {},
   "source": [
    "$$\n",
    "    u = e^{\\sigma\\sqrt{\\delta t}} + O\\left((\\delta t)^{3/2}\\right)\\hspace{6em}\\hspace{2ex}\n",
    "$$"
   ]
  },
  {
   "cell_type": "markdown",
   "metadata": {},
   "source": [
    "$$\n",
    "    d = e^{-\\sigma\\sqrt{\\sigma t}} + O\\left((\\sigma t)^{3/2}\\right)\\hspace{6em}\\hspace{1ex}\n",
    "$$"
   ]
  },
  {
   "cell_type": "markdown",
   "metadata": {},
   "source": [
    "$$\n",
    "    p = \\frac{1}{3} + \\frac{1}{2\\sigma}\\left(r - \\frac{\\sigma^2}{2}\\right)\\sqrt{\\sigma t} + O\\left((\\sigma t)^{3/2}\\right)\n",
    "$$"
   ]
  },
  {
   "cell_type": "markdown",
   "metadata": {},
   "source": [
    "**Problem 12**:\n",
    "\n",
    "(i)$\\hspace{2ex}$Approximate value of ATM put option on a non-dividend-paying underlying asset with spot price $S = 60$, volaitility $\\sigma = 0.25$, and maturity $T = 1$ year, if the constant risk is $r = 0$.\n",
    "\n",
    "(ii)$\\hspace{2ex}$Compute the Black-Scholes value $P_{BS,r=0,q=0}$ of the put option, and estimate the relative approximate error\n",
    "\n",
    "$$\n",
    "    \\frac{|P_{BS,r=0.06,q=0.03} - P_{approx,r=0,q=0}|}{P_{BS,r=0,q=0}}\\tag{6.2.7}\n",
    "$$\n",
    "\n",
    "(iii)$\\hspace{2ex}$Assume that $r = 0.06$ and $q = 0.03$. Compute the approximate value $P_{approx,r=0.06,q=0.03}$ of an ATM put option and estimate the relative approximate error\n",
    "\n",
    "$$\n",
    "    \\frac{|P_{BS,r=0.06,q=0.03} - P_{approx,r=0.06,q=0.03}|}{P_{BS,r=0.06,q=0.03}}\\tag{6.2.8}\n",
    "$$\n",
    "\n",
    "where $P_{BS,r=0.06,q=0.03}$ is the Black-Scholes value of the put option."
   ]
  },
  {
   "cell_type": "markdown",
   "metadata": {},
   "source": [
    "One could answer (i) by using the approximate formula\n",
    "$$\n",
    "    P_{approx,r=0,q=0} = \\sigma S\\sqrt{\\frac{T}{2\\pi}}\n",
    "$$\n",
    "to obtain"
   ]
  },
  {
   "cell_type": "code",
   "execution_count": 25,
   "metadata": {},
   "outputs": [
    {
     "data": {
      "text/plain": [
       "5.984134206021491"
      ]
     },
     "execution_count": 25,
     "metadata": {},
     "output_type": "execute_result"
    }
   ],
   "source": [
    "D1 = Dict(\n",
    "    \"S\" => 60,\n",
    "    \"K\" => 60,\n",
    "    \"σ\" => 0.25,\n",
    "    \"T\" => 1.0,\n",
    "    \"r\" => 0,\n",
    "    \"q\" => 0,\n",
    "    \"t\" => 0,\n",
    ");\n",
    "\n",
    "P_approx = D1[\"σ\"] * D1[\"S\"] * √(D1[\"T\"] / (2π))"
   ]
  },
  {
   "cell_type": "markdown",
   "metadata": {},
   "source": [
    "For (ii) it is easy to just plug in values to `black_scholes_approx`, to obtain"
   ]
  },
  {
   "cell_type": "code",
   "execution_count": 26,
   "metadata": {},
   "outputs": [
    {
     "data": {
      "text/plain": [
       "5.96859189752395"
      ]
     },
     "execution_count": 26,
     "metadata": {},
     "output_type": "execute_result"
    }
   ],
   "source": [
    "t = D1[\"t\"]; S = D1[\"S\"]; K = S; T = D1[\"T\"]; σ = D1[\"σ\"]; r = D1[\"r\"]; q = r\n",
    "\n",
    "P = black_scholes_approx(t, S, K, T, σ, r, q)[2][2]"
   ]
  },
  {
   "cell_type": "markdown",
   "metadata": {},
   "source": [
    "and the relative approximate error is"
   ]
  },
  {
   "cell_type": "code",
   "execution_count": 27,
   "metadata": {},
   "outputs": [
    {
     "data": {
      "text/plain": [
       "0.0026040159495555426"
      ]
     },
     "execution_count": 27,
     "metadata": {},
     "output_type": "execute_result"
    }
   ],
   "source": [
    "abs(P - P_approx) / P"
   ]
  },
  {
   "cell_type": "markdown",
   "metadata": {},
   "source": [
    "Finally, for (iii) the approximate formula\n",
    "\n",
    "$$\n",
    "    P_{approx,r\\neq 0,q\\neq 0} = \\sigma S\\sqrt{\\frac{T}{2\\pi}}\\ \\left(1 - \\frac{(r + q)T}{2}\\right) - \\frac{(r - q)T}{2}S\n",
    "$$\n",
    "\n",
    "can be used along with `black_scholes_approx` to find the relative approximate error."
   ]
  },
  {
   "cell_type": "code",
   "execution_count": 28,
   "metadata": {},
   "outputs": [
    {
     "data": {
      "text/plain": [
       "0.014761018843746894"
      ]
     },
     "execution_count": 28,
     "metadata": {},
     "output_type": "execute_result"
    }
   ],
   "source": [
    "D1[\"r\"] = 0.06; D1[\"q\"] = 0.03; r = D1[\"r\"]; q = D1[\"q\"]\n",
    "P_approx = σ * S * sqrt(T / (2 * π)) * (1 - (r + q)T / 2) - ((r - q)T / 2)S; P = black_scholes_approx(t, S, K, T, σ, r, q)[2][2]\n",
    "abs(P - P_approx) / P"
   ]
  },
  {
   "cell_type": "markdown",
   "metadata": {},
   "source": [
    "$$\n",
    "    \\therefore \\frac{|P_{BS,r=0.06,q=0.03} - P_{approx,r=0.06,q=0.03}|}{P_{BS,r=0.06,q=0.03}} \\approxeq 0.014761 = 1.4761\\%.\n",
    "$$"
   ]
  },
  {
   "cell_type": "markdown",
   "metadata": {},
   "source": [
    "**Problem 13**: It is interesting to note that the approximate formulas\n",
    "\n",
    "$$\n",
    "    C \\approx \\sigma S\\sqrt{\\frac{T}{2\\pi}}\\ \\left(1 - \\frac{(r + q)T}{2}\\right) + \\frac{(r - q)T}{2}S \\\\\n",
    "    P \\approx \\sigma S\\sqrt{\\frac{T}{2\\pi}}\\ \\left(1 - \\frac{(r + q)T}{2}\\right) - \\frac{(r - q)T}{2}S\n",
    "$$\n",
    "\n",
    "for ATM call and put options do not satisfy the Put-Call parity:\n",
    "\n",
    "$$\n",
    "    P + Se^{qT} - C = S(e^{qT} - (r - q)T) \\neq Se^{-rT} = Ke^{-rT}\n",
    "$$\n",
    "\n",
    "Based on the linear Taylor expansion $e^{-x} \\approx 1 - x$, new approximation formulas for the price of ATM options which satisfy the Put-Call parity can be obtained by replacing $rT$ and $qT$ by $1 - e^{-rT}$ and $1 - e^{-qT}$, respectively. The resulting formulas are\n",
    "\n",
    "$$\n",
    "    C \\approx \\sigma S\\sqrt{\\frac{T}{2\\pi}}\\frac{e^{-qT} + e^{-rT}}{2} + \\frac{S\\ \\left(e^{-qT} - e^{-rT}\\right)}{2} \\\\\n",
    "    P \\approx \\sigma S\\sqrt{\\frac{T}{2\\pi}}\\frac{e^{-qT} + e^{-rT}}{2} - \\frac{S\\ \\left(e^{-qT} - e^{-rT}\\right)}{2}\n",
    "$$\n",
    "\n",
    "The objective in this problem is to\n",
    "\n",
    "1. show that the Put-Call parity is satisfied by the new approximation formulas.\n",
    "2. for an ATM put with $S = 60$, $q = 0.03$, $\\sigma = 0.25$, and $T = 1$, show how well the new approximation behaves by computing the relative approximate error."
   ]
  },
  {
   "cell_type": "markdown",
   "metadata": {},
   "source": [
    "For i:"
   ]
  },
  {
   "cell_type": "markdown",
   "metadata": {},
   "source": [
    "It is easy to see that\n",
    "\n",
    "$$\n",
    "    P - C + Se^{-qT} = -2\\frac{S\\ (e^{-qT} - e^{-rT})}{2} + Se^{-qT} = Ke^{-rT}\n",
    "$$\n",
    "\n",
    "since K = S for ATM options."
   ]
  },
  {
   "cell_type": "markdown",
   "metadata": {},
   "source": [
    "For ii:"
   ]
  },
  {
   "cell_type": "code",
   "execution_count": 24,
   "metadata": {},
   "outputs": [
    {
     "data": {
      "text/plain": [
       "4.8610308369861075"
      ]
     },
     "execution_count": 24,
     "metadata": {},
     "output_type": "execute_result"
    }
   ],
   "source": [
    "P_approx = D1[\"σ\"]D1[\"S\"] * √(D1[\"T\"] / (2π)) * (exp(-q * T) + exp(-r * D1[\"T\"])) / 2 - (D1[\"S\"] * (exp(-q * T) - exp(-r * T))) / 2"
   ]
  },
  {
   "cell_type": "code",
   "execution_count": 55,
   "metadata": {},
   "outputs": [
    {
     "data": {
      "text/plain": [
       "0.0053108834720453565"
      ]
     },
     "execution_count": 55,
     "metadata": {},
     "output_type": "execute_result"
    }
   ],
   "source": [
    "P = black_scholes_approx(t, S, K, T, σ, r, q)[2][2]\n",
    "(P - P_approx) / P"
   ]
  },
  {
   "cell_type": "markdown",
   "metadata": {},
   "source": [
    "Compared to the previous problem, $0.5311\\%$ is a lower approximation error, hence this approximation is more accurate."
   ]
  },
  {
   "cell_type": "markdown",
   "metadata": {},
   "source": [
    "**Problem 14**: Asked to consider an ATM put option with strike $K = 40$ on a non-dividend paying asset with volatility $30\\%$ and assume $r = 0$.\n",
    "\n",
    "Asked to compute the relative approximation error of the approximation\n",
    "\n",
    "$$\n",
    "    P \\approx \\sigma S\\sqrt{\\frac{T}{2\\pi}}\n",
    "$$\n",
    "\n",
    "if the put option expires in $1$, $3$, $5$, $10$, and $20$ years."
   ]
  },
  {
   "cell_type": "markdown",
   "metadata": {},
   "source": [
    "The precision of the approximation formula for ATM options are expected to decrease as the maturity of the option increases, which is indeed the case."
   ]
  },
  {
   "cell_type": "code",
   "execution_count": 36,
   "metadata": {},
   "outputs": [
    {
     "data": {
      "text/html": [
       "<table class=\"data-frame\"><thead><tr><th></th><th>T</th><th>P_approx</th><th>P_BS</th><th>Approximation_Error</th></tr><tr><th></th><th>Int64</th><th>Float64</th><th>Float64</th><th>Float64</th></tr></thead><tbody><p>5 rows × 4 columns</p><tr><th>1</th><td>1</td><td>4.78731</td><td>4.76942</td><td>0.00375107</td></tr><tr><th>2</th><td>3</td><td>8.29186</td><td>8.19951</td><td>0.011263</td></tr><tr><th>3</th><td>5</td><td>10.7047</td><td>10.5074</td><td>0.0187846</td></tr><tr><th>4</th><td>10</td><td>15.1388</td><td>14.5897</td><td>0.0376324</td></tr><tr><th>5</th><td>20</td><td>21.4095</td><td>19.9066</td><td>0.0754966</td></tr></tbody></table>"
      ],
      "text/latex": [
       "\\begin{tabular}{r|cccc}\n",
       "\t& T & P\\_approx & P\\_BS & Approximation\\_Error\\\\\n",
       "\t\\hline\n",
       "\t& Int64 & Float64 & Float64 & Float64\\\\\n",
       "\t\\hline\n",
       "\t1 & 1 & 4.78731 & 4.76942 & 0.00375107 \\\\\n",
       "\t2 & 3 & 8.29186 & 8.19951 & 0.011263 \\\\\n",
       "\t3 & 5 & 10.7047 & 10.5074 & 0.0187846 \\\\\n",
       "\t4 & 10 & 15.1388 & 14.5897 & 0.0376324 \\\\\n",
       "\t5 & 20 & 21.4095 & 19.9066 & 0.0754966 \\\\\n",
       "\\end{tabular}\n"
      ],
      "text/plain": [
       "5×4 DataFrame\n",
       "│ Row │ T     │ P_approx │ P_BS    │ Approximation_Error │\n",
       "│     │ \u001b[90mInt64\u001b[39m │ \u001b[90mFloat64\u001b[39m  │ \u001b[90mFloat64\u001b[39m │ \u001b[90mFloat64\u001b[39m             │\n",
       "├─────┼───────┼──────────┼─────────┼─────────────────────┤\n",
       "│ 1   │ 1     │ 4.78731  │ 4.76942 │ 0.00375107          │\n",
       "│ 2   │ 3     │ 8.29186  │ 8.19951 │ 0.011263            │\n",
       "│ 3   │ 5     │ 10.7047  │ 10.5074 │ 0.0187846           │\n",
       "│ 4   │ 10    │ 15.1388  │ 14.5897 │ 0.0376324           │\n",
       "│ 5   │ 20    │ 21.4095  │ 19.9066 │ 0.0754966           │"
      ]
     },
     "execution_count": 36,
     "metadata": {},
     "output_type": "execute_result"
    }
   ],
   "source": [
    "using DataFrames\n",
    "D2 = Dict(\n",
    "    \"S\" => 40,\n",
    "    \"K\" => 40,\n",
    "    \"σ\" => 0.30,\n",
    "    \"T\" => [1, 3, 5, 10, 20],\n",
    "    \"r\" => 0,\n",
    "    \"q\" => 0,\n",
    "    \"t\" => 0\n",
    ");\n",
    "\n",
    "t = D2[\"t\"]; S = D2[\"S\"]; K = S; σ = D2[\"σ\"]; r = D2[\"r\"]; q = D2[\"q\"]; T = D2[\"T\"];\n",
    "\n",
    "P_approx = D2[\"σ\"] * D2[\"S\"] .* [√(T[I] / 2π) for I in 1:size(T)[1]]\n",
    "P_BS = [black_scholes_approx(t, D2[\"S\"], D2[\"K\"], T[I], D2[\"σ\"], r, q)[2][2] for I in 1:size(T)[1]]\n",
    "\n",
    "approx_err = abs.(P_BS .- P_approx) ./ P_BS\n",
    "df = DataFrames.DataFrame(T = [1, 3, 5, 10, 20], P_approx = P_approx, P_BS = P_BS, Approximation_Error = approx_err)"
   ]
  },
  {
   "cell_type": "markdown",
   "metadata": {},
   "source": [
    "**Problem 15**: Asked to consider an ATM put option with strike $40$ on an asset with volatility $30\\%$ and paying $2\\%$ dividends continuously. Asked to assume that the interest rates are constant at $4.5\\%$. Asked to compute the relative approximate error of the approximation\n",
    "\n",
    "$$\n",
    "    P_{approx1,r\\neq 0, q\\neq 0} = \\sigma S\\sqrt{\\frac{T}{2\\pi}}\\ \\left(1 - \\frac{(r + q)T}{2}\\right) - \\frac{(r - q)T}{2}S\n",
    "$$\n",
    "\n",
    "although, I will take the exercise a step further by comparing to the (more accurate) approximation found in the previous problem,\n",
    "\n",
    "$$\n",
    "    P_{approx2,r\\neq 0, q\\neq 0} = \\sigma S\\sqrt{\\frac{T}{2\\pi}}\\frac{e^{-qT} + e^{-rT}}{2} - \\frac{S\\ (e^{-qT} - e^{-rT})}{2} \\hspace{0em}\n",
    "$$\n",
    "\n",
    "if the put option expires in $1$, $3$, $5$, $10$ and $20$ years. The approximate option values and the corresponding approximation error are given below:"
   ]
  },
  {
   "cell_type": "code",
   "execution_count": 94,
   "metadata": {},
   "outputs": [
    {
     "data": {
      "text/html": [
       "<table class=\"data-frame\"><thead><tr><th></th><th>P_approx1</th><th>P_approx2</th><th>P_BS</th><th>Error1</th><th>Error2</th></tr><tr><th></th><th>Float64</th><th>Float64</th><th>Float64</th><th>Float64</th><th>Float64</th></tr></thead><tbody><p>5 rows × 5 columns</p><tr><th>1</th><td>4.13172</td><td>4.15056</td><td>4.14914</td><td>0.00419875</td><td>-0.000341789</td></tr><tr><th>2</th><td>5.9834</td><td>6.16588</td><td>6.15768</td><td>0.0283027</td><td>-0.00133158</td></tr><tr><th>3</th><td>6.46522</td><td>6.99056</td><td>6.97141</td><td>0.0726093</td><td>-0.00274636</td></tr><tr><th>4</th><td>5.21869</td><td>7.40171</td><td>7.33978</td><td>0.288986</td><td>-0.00843698</td></tr><tr><th>5</th><td>-2.50668</td><td>6.25282</td><td>6.05952</td><td>1.41368</td><td>-0.0319003</td></tr></tbody></table>"
      ],
      "text/latex": [
       "\\begin{tabular}{r|ccccc}\n",
       "\t& P\\_approx1 & P\\_approx2 & P\\_BS & Error1 & Error2\\\\\n",
       "\t\\hline\n",
       "\t& Float64 & Float64 & Float64 & Float64 & Float64\\\\\n",
       "\t\\hline\n",
       "\t1 & 4.13172 & 4.15056 & 4.14914 & 0.00419875 & -0.000341789 \\\\\n",
       "\t2 & 5.9834 & 6.16588 & 6.15768 & 0.0283027 & -0.00133158 \\\\\n",
       "\t3 & 6.46522 & 6.99056 & 6.97141 & 0.0726093 & -0.00274636 \\\\\n",
       "\t4 & 5.21869 & 7.40171 & 7.33978 & 0.288986 & -0.00843698 \\\\\n",
       "\t5 & -2.50668 & 6.25282 & 6.05952 & 1.41368 & -0.0319003 \\\\\n",
       "\\end{tabular}\n"
      ],
      "text/plain": [
       "5×5 DataFrame\n",
       "│ Row │ P_approx1 │ P_approx2 │ P_BS    │ Error1     │ Error2       │\n",
       "│     │ \u001b[90mFloat64\u001b[39m   │ \u001b[90mFloat64\u001b[39m   │ \u001b[90mFloat64\u001b[39m │ \u001b[90mFloat64\u001b[39m    │ \u001b[90mFloat64\u001b[39m      │\n",
       "├─────┼───────────┼───────────┼─────────┼────────────┼──────────────┤\n",
       "│ 1   │ 4.13172   │ 4.15056   │ 4.14914 │ 0.00419875 │ -0.000341789 │\n",
       "│ 2   │ 5.9834    │ 6.16588   │ 6.15768 │ 0.0283027  │ -0.00133158  │\n",
       "│ 3   │ 6.46522   │ 6.99056   │ 6.97141 │ 0.0726093  │ -0.00274636  │\n",
       "│ 4   │ 5.21869   │ 7.40171   │ 7.33978 │ 0.288986   │ -0.00843698  │\n",
       "│ 5   │ -2.50668  │ 6.25282   │ 6.05952 │ 1.41368    │ -0.0319003   │"
      ]
     },
     "execution_count": 94,
     "metadata": {},
     "output_type": "execute_result"
    }
   ],
   "source": [
    "D3 = Dict(\n",
    "    \"S\" => 40,\n",
    "    \"K\" => 40,\n",
    "    \"σ\" => 0.30,\n",
    "    \"T\" => [1, 3, 5, 10, 20],\n",
    "    \"r\" => 0.045,\n",
    "    \"q\" => 0.02,\n",
    "    \"t\" => 0\n",
    ");\n",
    "\n",
    "S = D3[\"S\"]; σ = D3[\"σ\"]; T = D3[\"T\"]; r = D3[\"r\"]; q = D3[\"q\"]; t = D3[\"t\"]\n",
    "\n",
    "P_approx1 = σ * S * sqrt.(T / (2π)) .* (1 .- (r + q)T / 2) .- ((r - q)T / 2)S\n",
    "P_approx2 = σ * S * sqrt.(T / (2π)) .* (exp.(-q * T) + exp.(-r * T)) / 2 - S * (exp.(-q * T) .- exp.(-r * T)) ./ 2\n",
    "\n",
    "P = [black_scholes_approx(t, S, K, T[I], σ, r, q)[2][2] for I in 1:size(T)[1]]; E1 = (P - P_approx1) ./ P; E2 = (P - P_approx2) ./ P\n",
    "\n",
    "using DataFrames; df = DataFrames.DataFrame(P_approx1 = P_approx1, P_approx2 = P_approx2, P_BS = P, Error1 = E1, Error2 = E2)"
   ]
  },
  {
   "cell_type": "markdown",
   "metadata": {},
   "source": [
    "**Problem 16**: A five year bond worth $101$ has duration $1.5$ years and convexity equal to $2.5$. Asked to use both the formula\n",
    "\n",
    "$$\n",
    "    \\frac{\\Delta B}{B} \\approx\\ -D\\Delta y\n",
    "$$\n",
    "\n",
    "which does not include any convexity adjustment, and the formula\n",
    "\n",
    "$$\n",
    "    \\frac{\\Delta B}{B} \\approx\\ -D\\Delta y + \\frac{1}{2}C(\\Delta y)^2\n",
    "$$\n",
    "\n",
    "to find the price of the bond if the yield increases by ten basis points ($10\\ \\text{BPS} \\approx 0.001$), $50\\ \\text{BPS}$, $1\\%$ and $2\\%$, respectively."
   ]
  },
  {
   "cell_type": "markdown",
   "metadata": {},
   "source": [
    "Denoting by $B_{new,D}$ the approximate value given by the top formula for the value of the bond corresponding to the new yield, $\\Delta B = B_{new,D} - B from which it follows that\n",
    "\n",
    "$$\n",
    "    B_{new,D} = B(1 - D\\Delta y).\n",
    "$$\n",
    "\n",
    "Similarly, if $B_{new,D,C}$ is the approximate value for the value of the bond given by the second formula, it follows that\n",
    "\n",
    "$$\n",
    "    B_{new,D,C} = B(1 - D\\Delta y + \\frac{C}{2}(\\Delta y)^2\n",
    "$$\n",
    "\n",
    "If $\\Delta y \\in \\{0.001, 0.005, 0.01, 0.02\\}$ as per the table below, where the last column is the approximate error, relative to the new value of the bond using duration alone, versus using duration and convexity, i.e.,\n",
    "\n",
    "$$\n",
    "    \\frac{|B_{new,D,C} - B_{new,D}|}{B_{new,D,C}}\n",
    "$$"
   ]
  },
  {
   "cell_type": "code",
   "execution_count": 107,
   "metadata": {},
   "outputs": [
    {
     "data": {
      "text/html": [
       "<table class=\"data-frame\"><thead><tr><th></th><th>Δy</th><th>BnewD</th><th>BnewDC</th><th>Difference</th></tr><tr><th></th><th>Float64</th><th>Float64</th><th>Float64</th><th>Float64</th></tr></thead><tbody><p>4 rows × 4 columns</p><tr><th>1</th><td>0.001</td><td>100.849</td><td>100.849</td><td>1.25188e-6</td></tr><tr><th>2</th><td>0.005</td><td>100.243</td><td>100.246</td><td>3.14852e-5</td></tr><tr><th>3</th><td>0.01</td><td>99.485</td><td>99.4976</td><td>0.000126887</td></tr><tr><th>4</th><td>0.02</td><td>97.97</td><td>98.0205</td><td>0.000515198</td></tr></tbody></table>"
      ],
      "text/latex": [
       "\\begin{tabular}{r|cccc}\n",
       "\t& Δy & BnewD & BnewDC & Difference\\\\\n",
       "\t\\hline\n",
       "\t& Float64 & Float64 & Float64 & Float64\\\\\n",
       "\t\\hline\n",
       "\t1 & 0.001 & 100.849 & 100.849 & 1.25188e-6 \\\\\n",
       "\t2 & 0.005 & 100.243 & 100.246 & 3.14852e-5 \\\\\n",
       "\t3 & 0.01 & 99.485 & 99.4976 & 0.000126887 \\\\\n",
       "\t4 & 0.02 & 97.97 & 98.0205 & 0.000515198 \\\\\n",
       "\\end{tabular}\n"
      ],
      "text/plain": [
       "4×4 DataFrame\n",
       "│ Row │ Δy      │ BnewD   │ BnewDC  │ Difference  │\n",
       "│     │ \u001b[90mFloat64\u001b[39m │ \u001b[90mFloat64\u001b[39m │ \u001b[90mFloat64\u001b[39m │ \u001b[90mFloat64\u001b[39m     │\n",
       "├─────┼─────────┼─────────┼─────────┼─────────────┤\n",
       "│ 1   │ 0.001   │ 100.849 │ 100.849 │ 1.25188e-6  │\n",
       "│ 2   │ 0.005   │ 100.243 │ 100.246 │ 3.14852e-5  │\n",
       "│ 3   │ 0.01    │ 99.485  │ 99.4976 │ 0.000126887 │\n",
       "│ 4   │ 0.02    │ 97.97   │ 98.0205 │ 0.000515198 │"
      ]
     },
     "execution_count": 107,
     "metadata": {},
     "output_type": "execute_result"
    }
   ],
   "source": [
    "D4 = Dict(\n",
    "    \"B\" => 101,\n",
    "    \"D\" => 1.5,\n",
    "    \"C\" => 2.5,\n",
    "    \"Δy\" => [0.001, 0.005, 0.01, 0.02],\n",
    ");\n",
    "\n",
    "B = D4[\"B\"]; D = D4[\"D\"]; C = D4[\"C\"]; Δy = D4[\"Δy\"]\n",
    "BnewD = (1 .- D * Δy)B\n",
    "BnewDC = (1 .- D * Δy .+ C * Δy .^ 2 / 2)B\n",
    "Difference = abs.(BnewDC - BnewD) ./ BnewDC\n",
    "\n",
    "using DataFrames; df = DataFrame(Δy = Δy, BnewD = BnewD, BnewDC = BnewDC, Difference = Difference)"
   ]
  },
  {
   "cell_type": "markdown",
   "metadata": {},
   "source": [
    "**Problem 17**: (this is a **parallel shift** and **portfolio immunization** problem) asks to consider a bond portfolio worth $\\$50\\text{mil}$ with DV$01$ equal to $\\$10,000$ and dollar convexity equal to $\\$400\\text{mil}$.\n",
    "\n",
    "I. Assume that the yield curve moves up by fifty basis points. What is the new value of the bond portfolio?\n",
    "\n",
    "II. The following bonds are available for trading:"
   ]
  },
  {
   "cell_type": "code",
   "execution_count": 7,
   "metadata": {},
   "outputs": [
    {
     "data": {
      "text/html": [
       "<table class=\"data-frame\"><thead><tr><th></th><th>_</th><th>Principal</th><th>Value</th><th>Duration</th><th>Convexity</th></tr><tr><th></th><th>String</th><th>Int64</th><th>Int64</th><th>Float64</th><th>Int64</th></tr></thead><tbody><p>2 rows × 5 columns</p><tr><th>1</th><td>Bond 1</td><td>1000</td><td>1100</td><td>2.5</td><td>12</td></tr><tr><th>2</th><td>Bond 2</td><td>100</td><td>106</td><td>3.0</td><td>9</td></tr></tbody></table>"
      ],
      "text/latex": [
       "\\begin{tabular}{r|ccccc}\n",
       "\t& \\_ & Principal & Value & Duration & Convexity\\\\\n",
       "\t\\hline\n",
       "\t& String & Int64 & Int64 & Float64 & Int64\\\\\n",
       "\t\\hline\n",
       "\t1 & Bond 1 & 1000 & 1100 & 2.5 & 12 \\\\\n",
       "\t2 & Bond 2 & 100 & 106 & 3.0 & 9 \\\\\n",
       "\\end{tabular}\n"
      ],
      "text/plain": [
       "2×5 DataFrame\n",
       "│ Row │ _      │ Principal │ Value │ Duration │ Convexity │\n",
       "│     │ \u001b[90mString\u001b[39m │ \u001b[90mInt64\u001b[39m     │ \u001b[90mInt64\u001b[39m │ \u001b[90mFloat64\u001b[39m  │ \u001b[90mInt64\u001b[39m     │\n",
       "├─────┼────────┼───────────┼───────┼──────────┼───────────┤\n",
       "│ 1   │ Bond 1 │ 1000      │ 1100  │ 2.5      │ 12        │\n",
       "│ 2   │ Bond 2 │ 100       │ 106   │ 3.0      │ 9         │"
      ]
     },
     "execution_count": 7,
     "metadata": {},
     "output_type": "execute_result"
    }
   ],
   "source": [
    "txb = [\"Bond 1\", \"Bond 2\"]\n",
    "prc = [1000, 100]\n",
    "val = [1100, 106]\n",
    "dur = [2.5, 3]\n",
    "cvx = [12, 9]\n",
    "\n",
    "using DataFrames; df = DataFrame(_ = txb, Principal = prc, Value = val, Duration = dur, Convexity = cvx)"
   ]
  },
  {
   "cell_type": "markdown",
   "metadata": {},
   "source": [
    "How can the portfolio be immunized?"
   ]
  },
  {
   "cell_type": "markdown",
   "metadata": {},
   "source": [
    "I. For one basis point shift upward of the yield curve, the value of the bond portfolio decreases by an amount equal to its $\\text{DV}01$, so $\\$10,000.$ Thus a fifty basis points upward move of the yield curve will result in a loss of\n",
    "\n",
    "$$\n",
    "    50 \\cdot \\$10,000 = \\$500,000\n",
    "$$"
   ]
  },
  {
   "cell_type": "markdown",
   "metadata": {},
   "source": [
    "in the bond portfolio. The new value of the portfolio will be approximately $\\$50\\text{mil} - \\$500,000 = \\$49.5\\text{mil}$."
   ]
  },
  {
   "cell_type": "markdown",
   "metadata": {},
   "source": [
    "A more precise approach includes a convexity adjustment. Asked to recall that, if the yield curve experiences a small **parallel shift** of size \\delta r, the change \\Delta V in the value of the bond portfolio can be approximated as\n",
    "\n",
    "$$\n",
    "    \\Delta V \\approx -D_{\\$}(V)\\delta r + \\frac{C_{\\$}(V)}{2}(\\delta r)^2\\tag{6.2.9}\n",
    "$$\n",
    "\n",
    "where $D_{\\$}(V)$ and $C_{\\$}(V)$ are the dollar duration and dollar convexity of the portfolio, respectively.\n",
    "\n",
    "The $\\text{DV}01$ of the bond portfolio is equal to the dollar duration of the bond portfolio divided by $10,000$, i.e.,\n",
    "\n",
    "$$\n",
    "    \\text{DV}01(V) = \\frac{D_{\\$}(V)}{10-000}\n",
    "$$"
   ]
  },
  {
   "cell_type": "markdown",
   "metadata": {},
   "source": [
    "Thus, $D_{\\$}(V) = \\text{DV}01(V) \\cdot 10-000 = \\$100\\text{mil}$."
   ]
  },
  {
   "cell_type": "markdown",
   "metadata": {},
   "source": [
    "Using $(6.2.9)$ with $\\delta r = 50\\text{bps} =  0.005$, $D_\\$(V) = \\$100\\text{mil}$, and $C_\\$(V) = \\$400\\text{mil}$, the change in the value of the bond portfolio becomes\n",
    "\n",
    "$$\n",
    "    \\Delta V \\approx -$100\\text{mil}\\cdot 0.005 + \\frac{\\$400\\text{mil}}{2}\\cdot(0.005)^2 \\\\\n",
    "    = -$500-000 + $5-000 \\hspace{3em}\\hspace{1ex} \\\\\n",
    "    = -$495-000.\\hspace{7em}\\hspace{1ex}\n",
    "$$\n",
    "\n",
    "The new value of the bond portfolio is $V_{new} = V_{old} + \\Delta V \\approx \\$50\\text{mil} - \\$495-000 = \\$49-505-000$. (**View discussion**)."
   ]
  },
  {
   "cell_type": "markdown",
   "metadata": {},
   "source": [
    "II. Asked to denote by $B_1$ and $B_2$ the sizes of the positions taken in the two bonds available for trading. The value of the new portfolio is\n",
    "    \n",
    "$$\n",
    "    \\Pi = V + B_1 + B_2.\n",
    "$$\n",
    "\n",
    "Dollar duration and convexity of bond positions:\n",
    "\n",
    "$$\n",
    "    D_\\$(B_1) = B_1D_1 = 2.5B_1; C_\\$(B_1) = B_1C_1 = 12B_1 \\\\\n",
    "    D_\\$(B_2) = B_2D_2 = 3.0B_2; C_\\$(B_2) = B_2C_2 = 09B_2\n",
    "$$"
   ]
  },
  {
   "cell_type": "markdown",
   "metadata": {},
   "source": [
    "Asked to recall that $D_\\$(V) = \\$100\\text{mil}$ and $C_\\$(V) = \\$400\\text{mil}$. The dollar duration and the dollar convexity of the new portfolio are\n",
    "\n",
    "$$\n",
    "    D_\\$(\\Pi) = D_\\$(V) + D_\\$(B_1) + D_\\$(B_2) = \\$100\\text{mil} + 02.5B_1 + 3B_2 \\\\\n",
    "    C_\\$(\\Pi) = C_\\$(V) + C_\\$(B_1) + C_\\$(B_2) = \\$400\\text{mil} + 12.0B_1 + 9B_2\n",
    "$$\n",
    "\n",
    "What is left is solving a linear system for $D_\\$(\\Pi) = 0$ and $C_\\$(\\Pi) = 0$. That linear system is\n",
    "\n",
    "$$\n",
    "    \\begin{cases}\n",
    "        D_\\$(V) = 02.5B_1 + 3B_2 = -\\$100\\text{mil} \\\\\n",
    "        C_\\$(V) = 12.0B_1 + 9B_2 = -\\$400\\text{mil}\n",
    "    \\end{cases}\n",
    "$$"
   ]
  },
  {
   "cell_type": "markdown",
   "metadata": {},
   "source": [
    "Below, initial values $B_0 = [1\\text{mil}, 1\\text{mil}]$ were taken for an initial guess of the prices for $B_1$ and $B_2$."
   ]
  },
  {
   "cell_type": "code",
   "execution_count": 6,
   "metadata": {},
   "outputs": [
    {
     "data": {
      "text/plain": [
       "(2, [-22.222222222222218, -14.81481481481482])"
      ]
     },
     "execution_count": 6,
     "metadata": {},
     "output_type": "execute_result"
    }
   ],
   "source": [
    "B0 = [1, 1]\n",
    "f(B) = 2.5 * B[1] + 3 * B[2] + 100\n",
    "g(B) = 12 * B[1] + 9 * B[2] + 400\n",
    "F = Function[]; push!(F, f); push!(F, g)\n",
    "\n",
    "n, x = approxNewton(B0, F)"
   ]
  },
  {
   "cell_type": "markdown",
   "metadata": {},
   "source": [
    "This was accurate to eight significant figures, as in the book (scale is in the millions). These are the sizes of the bond positions that must be added to the original portfolio in order to immunize it from small changes in the yield curve."
   ]
  },
  {
   "cell_type": "markdown",
   "metadata": {},
   "source": [
    "$\\therefore$ in order to immunize the given portfolio, one would take the following short investment positions"
   ]
  },
  {
   "cell_type": "code",
   "execution_count": 12,
   "metadata": {},
   "outputs": [
    {
     "data": {
      "text/plain": [
       "2-element Array{Float64,1}:\n",
       "  20202.020202020198\n",
       " 139762.40391334734"
      ]
     },
     "execution_count": 12,
     "metadata": {},
     "output_type": "execute_result"
    }
   ],
   "source": [
    "abs.(x ./ val * 1000000)"
   ]
  },
  {
   "cell_type": "markdown",
   "metadata": {},
   "source": [
    "units of Bond $1$ and Bond $2$, respectively."
   ]
  },
  {
   "cell_type": "markdown",
   "metadata": {},
   "source": [
    "**Problem 18**:\n",
    "\n",
    "I. If the current zero rate curve is\n",
    "\n",
    "$$\n",
    "    r_1(0, t) = 0.025 + \\frac{1}{100}\\exp\\left({-\\frac{t}{100}}\\right) + \\frac{t}{100(t + 1)},\n",
    "$$\n",
    "\n",
    "asked to find the yield of the four year semiannual coupon bond with a coupon rate 6\\%. Asked to assume that the interest is compounded continuously and that the face value of the bond is 100.\n",
    "\n",
    "II. If the zero rate have a parallel shift up by $10$, $20$, $50$, $100$ and $200$ basis points, respectively, i.e., if the zero rate curve changes from $r_1(0,t)$ to $r_2(0, t) = r_1(0, t) + dr$, with $dr$ as follows,"
   ]
  },
  {
   "cell_type": "code",
   "execution_count": 13,
   "metadata": {},
   "outputs": [
    {
     "data": {
      "text/plain": [
       "5-element Array{Float64,1}:\n",
       " 0.001\n",
       " 0.002\n",
       " 0.005\n",
       " 0.01\n",
       " 0.02"
      ]
     },
     "execution_count": 13,
     "metadata": {},
     "output_type": "execute_result"
    }
   ],
   "source": [
    "BP = 0.0001\n",
    "dr = [10, 20, 50, 100, 200] * BP"
   ]
  },
  {
   "cell_type": "markdown",
   "metadata": {},
   "source": [
    "by how much does the yield of the bond increase in each case?"
   ]
  },
  {
   "cell_type": "markdown",
   "metadata": {},
   "source": [
    "**Solution**\n",
    "\n",
    "I. The bond provides coupon payments equal to three every six months until $3.5$ years from now, and a final cash flow of $103$ in four years. Below is an attempt to discount the cash flows to the present using the zero rate curve $r_1(0,t)$ and `get_cash_flow` as well as `bond_price_zero_rate` from `a2x.jl`, arriving at a solution for the bond price, $B$."
   ]
  },
  {
   "cell_type": "code",
   "execution_count": 126,
   "metadata": {},
   "outputs": [
    {
     "data": {
      "text/plain": [
       "106.19952411534813"
      ]
     },
     "execution_count": 126,
     "metadata": {},
     "output_type": "execute_result"
    }
   ],
   "source": [
    "Y = 4; n = convert(Int64, Y * 12 / 6); m = 2; T = 12 * 4; F = 100; C = 0.06; t_cash_flow, v_cash_flow = get_cash_flow(n, m, T, F, C)\n",
    "\n",
    "f(x;z = 0) = 0.025 + (1 / F)exp(-x / F) + x / (F * (x + 1)) + z; disc, B = bond_price_zero_rate(n, t_cash_flow, v_cash_flow, f); B"
   ]
  },
  {
   "cell_type": "markdown",
   "metadata": {},
   "source": [
    "Fortunately, for the bond yield, there is a function, `bond_yield`, which was used for an earlier problem. Plugging in the values would return"
   ]
  },
  {
   "cell_type": "code",
   "execution_count": 127,
   "metadata": {},
   "outputs": [
    {
     "data": {
      "text/plain": [
       "0.04251072909468839"
      ]
     },
     "execution_count": 127,
     "metadata": {},
     "output_type": "execute_result"
    }
   ],
   "source": [
    "y = bond_yield(B, n, t_cash_flow, v_cash_flow)"
   ]
  },
  {
   "cell_type": "markdown",
   "metadata": {},
   "source": [
    "or $4.2511\\%$."
   ]
  },
  {
   "cell_type": "markdown",
   "metadata": {},
   "source": [
    "II. Small **parallel shifts** in the zero rate curve of `[0.001, 0.002, 0.005, 0.01, 0.02]` would give the following new bond prices and bond yields."
   ]
  },
  {
   "cell_type": "code",
   "execution_count": 174,
   "metadata": {},
   "outputs": [
    {
     "data": {
      "text/html": [
       "<table class=\"data-frame\"><thead><tr><th></th><th>zero_rate_shift</th><th>new_bond_price</th><th>new_yield</th><th>yield_increase</th></tr><tr><th></th><th>String</th><th>Float64</th><th>Float64</th><th>Float64</th></tr></thead><tbody><p>5 rows × 4 columns</p><tr><th>1</th><td>10bps = 0.001</td><td>105.815</td><td>0.0435105</td><td>0.000999786</td></tr><tr><th>2</th><td>20bps = 0.002</td><td>105.432</td><td>0.0445103</td><td>0.00199957</td></tr><tr><th>3</th><td>50bps = 0.005</td><td>104.292</td><td>0.0475097</td><td>0.00499893</td></tr><tr><th>4</th><td>100bps = 0.01</td><td>102.42</td><td>0.0525086</td><td>0.00999784</td></tr><tr><th>5</th><td>200bps = 0.02</td><td>98.7829</td><td>0.0625064</td><td>0.0199956</td></tr></tbody></table>"
      ],
      "text/latex": [
       "\\begin{tabular}{r|cccc}\n",
       "\t& zero\\_rate\\_shift & new\\_bond\\_price & new\\_yield & yield\\_increase\\\\\n",
       "\t\\hline\n",
       "\t& String & Float64 & Float64 & Float64\\\\\n",
       "\t\\hline\n",
       "\t1 & 10bps = 0.001 & 105.815 & 0.0435105 & 0.000999786 \\\\\n",
       "\t2 & 20bps = 0.002 & 105.432 & 0.0445103 & 0.00199957 \\\\\n",
       "\t3 & 50bps = 0.005 & 104.292 & 0.0475097 & 0.00499893 \\\\\n",
       "\t4 & 100bps = 0.01 & 102.42 & 0.0525086 & 0.00999784 \\\\\n",
       "\t5 & 200bps = 0.02 & 98.7829 & 0.0625064 & 0.0199956 \\\\\n",
       "\\end{tabular}\n"
      ],
      "text/plain": [
       "5×4 DataFrame\n",
       "│ Row │ zero_rate_shift │ new_bond_price │ new_yield │ yield_increase │\n",
       "│     │ \u001b[90mString\u001b[39m          │ \u001b[90mFloat64\u001b[39m        │ \u001b[90mFloat64\u001b[39m   │ \u001b[90mFloat64\u001b[39m        │\n",
       "├─────┼─────────────────┼────────────────┼───────────┼────────────────┤\n",
       "│ 1   │ 10bps = 0.001   │ 105.815        │ 0.0435105 │ 0.000999786    │\n",
       "│ 2   │ 20bps = 0.002   │ 105.432        │ 0.0445103 │ 0.00199957     │\n",
       "│ 3   │ 50bps = 0.005   │ 104.292        │ 0.0475097 │ 0.00499893     │\n",
       "│ 4   │ 100bps = 0.01   │ 102.42         │ 0.0525086 │ 0.00999784     │\n",
       "│ 5   │ 200bps = 0.02   │ 98.7829        │ 0.0625064 │ 0.0199956      │"
      ]
     },
     "execution_count": 174,
     "metadata": {},
     "output_type": "execute_result"
    }
   ],
   "source": [
    "disc = zeros(40); disc = reshape(disc, 8, 5); B = zeros(5)\n",
    "\n",
    "[(disc[:, I], B[I]) = bond_price_zero_rate(n, t_cash_flow, v_cash_flow, f, z = dr[I]) for I in 1:size(dr)[1]]\n",
    "\n",
    "y_new = [bond_yield(B[I], n, t_cash_flow, v_cash_flow) for I in 1:size(dr)[1]]\n",
    "\n",
    "using DataFrames; df = DataFrame(zero_rate_shift = [\"10bps = 0.001\", \"20bps = 0.002\", \"50bps = 0.005\", \"100bps = 0.01\", \"200bps = 0.02\"],\n",
    "                                 new_bond_price = B, new_yield = y_new, yield_increase = y_new .- y)"
   ]
  },
  {
   "cell_type": "markdown",
   "metadata": {},
   "source": [
    "As expected, the increase of the yield of the bond is slightly smaller, but very close to, the parallel shift of the zero rate curve, i.e., $y_2 - y \\approx dr$."
   ]
  }
 ],
 "metadata": {
  "kernelspec": {
   "display_name": "Julia 1.5.3",
   "language": "julia",
   "name": "julia-1.5"
  },
  "language_info": {
   "file_extension": ".jl",
   "mimetype": "application/julia",
   "name": "julia",
   "version": "1.5.3"
  }
 },
 "nbformat": 4,
 "nbformat_minor": 4
}
